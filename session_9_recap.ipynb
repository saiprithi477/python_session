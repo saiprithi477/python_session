{
 "cells": [
  {
   "cell_type": "code",
   "execution_count": 1,
   "id": "18598be3-d14a-4515-9c12-eef5eba75ca3",
   "metadata": {},
   "outputs": [
    {
     "ename": "ModuleNotFoundError",
     "evalue": "No module named 'packagename'",
     "output_type": "error",
     "traceback": [
      "\u001b[1;31m---------------------------------------------------------------------------\u001b[0m",
      "\u001b[1;31mModuleNotFoundError\u001b[0m                       Traceback (most recent call last)",
      "Cell \u001b[1;32mIn[1], line 1\u001b[0m\n\u001b[1;32m----> 1\u001b[0m \u001b[38;5;28;01mimport\u001b[39;00m \u001b[38;5;21;01mpackagename\u001b[39;00m\n\u001b[0;32m      2\u001b[0m \u001b[38;5;28mdir\u001b[39m(packagename)\n\u001b[0;32m      3\u001b[0m help(packagename\u001b[38;5;241m.\u001b[39mmethodname)\n",
      "\u001b[1;31mModuleNotFoundError\u001b[0m: No module named 'packagename'"
     ]
    }
   ],
   "source": [
    "import packagename\n",
    "dir(packagename)\n",
    "help(packagename.methodname)"
   ]
  },
  {
   "cell_type": "code",
   "execution_count": 2,
   "id": "01b50f9d-95b1-4b7a-b94a-b100f4d40da4",
   "metadata": {},
   "outputs": [
    {
     "data": {
      "text/plain": [
       "<bound method Random.randint of <random.Random object at 0x00000213B94B3880>>"
      ]
     },
     "execution_count": 2,
     "metadata": {},
     "output_type": "execute_result"
    }
   ],
   "source": [
    "import random\n",
    "random.randint"
   ]
  },
  {
   "cell_type": "code",
   "execution_count": 3,
   "id": "0e986b07-df69-4c1c-863d-5d45e9ef6edd",
   "metadata": {},
   "outputs": [
    {
     "ename": "AttributeError",
     "evalue": "module 'random' has no attribute 'randintt'",
     "output_type": "error",
     "traceback": [
      "\u001b[1;31m---------------------------------------------------------------------------\u001b[0m",
      "\u001b[1;31mAttributeError\u001b[0m                            Traceback (most recent call last)",
      "Cell \u001b[1;32mIn[3], line 2\u001b[0m\n\u001b[0;32m      1\u001b[0m \u001b[38;5;28;01mimport\u001b[39;00m \u001b[38;5;21;01mrandom\u001b[39;00m\n\u001b[1;32m----> 2\u001b[0m random\u001b[38;5;241m.\u001b[39mrandintt\n",
      "\u001b[1;31mAttributeError\u001b[0m: module 'random' has no attribute 'randintt'"
     ]
    }
   ],
   "source": [
    "import random\n",
    "random.randintt  # attribute errir"
   ]
  },
  {
   "cell_type": "code",
   "execution_count": 4,
   "id": "459ebadc-bde6-44ff-8bf7-74e993e37f55",
   "metadata": {},
   "outputs": [
    {
     "ename": "SyntaxError",
     "evalue": "invalid decimal literal (1021226512.py, line 1)",
     "output_type": "error",
     "traceback": [
      "\u001b[1;36m  Cell \u001b[1;32mIn[4], line 1\u001b[1;36m\u001b[0m\n\u001b[1;33m    import 9ambatch # Module not found error\u001b[0m\n\u001b[1;37m           ^\u001b[0m\n\u001b[1;31mSyntaxError\u001b[0m\u001b[1;31m:\u001b[0m invalid decimal literal\n"
     ]
    }
   ],
   "source": [
    "import 9ambatch # Module not found error"
   ]
  },
  {
   "cell_type": "code",
   "execution_count": 5,
   "id": "51372d57-ef2e-42f0-8779-5f367cefda99",
   "metadata": {},
   "outputs": [],
   "source": [
    "import random\n",
    "random.randint\n",
    "\n",
    "from random import randint\n",
    "\n",
    "from random import randint as virat"
   ]
  },
  {
   "cell_type": "code",
   "execution_count": 15,
   "id": "dea36457-8fe0-4714-8237-ab07cd7e4d87",
   "metadata": {},
   "outputs": [
    {
     "name": "stdout",
     "output_type": "stream",
     "text": [
      "son: hi papa\n",
      "fa : hi beta\n",
      "son: im going to school\n",
      "fa: okay beta, i heared your results came out\n",
      "son: yes papa\n",
      "fa: then what about the result\n",
      "son: lets play a game i will give the marks you tell me the percentege\n",
      "fa: exited\n",
      "Telugu: 98\n",
      "Hindi: 98\n",
      "English: 69\n",
      "Social: 91\n",
      "Science: 93\n",
      "Games 99\n",
      "percentage secure in exam: 91.33333333333333\n",
      "109.6\n"
     ]
    }
   ],
   "source": [
    "# those who are done all the meanwhile do below qn\n",
    "# story between papa and son\n",
    "\n",
    "# son: hi papa\n",
    "# fa : hi beta\n",
    "# son: im going to school\n",
    "# fa: okay beta, i heared your results came out\n",
    "# son: yes papa\n",
    "# fa: then what about the result\n",
    "# son: lets play a game i will give the marks you tell me the perce\n",
    "# fa: exited\n",
    "# Telugu= random\n",
    "# hindi\n",
    "# end\n",
    "# maths\n",
    "# sci\n",
    "# soc\n",
    "# avg\n",
    "# display the avg\n",
    "\n",
    "\n",
    "import random\n",
    "import time\n",
    "\n",
    "print(\"son: hi papa\")\n",
    "time.sleep(2)\n",
    "print(\"fa : hi beta\")\n",
    "time.sleep(2)\n",
    "print(\"son: im going to school\")\n",
    "time.sleep(2)\n",
    "print(\"fa: okay beta, i heared your results came out\")\n",
    "time.sleep(2)\n",
    "print(\"son: yes papa\")\n",
    "time.sleep(2)\n",
    "print(\"fa: then what about the result\")\n",
    "time.sleep(2)\n",
    "print(\"son: lets play a game i will give the marks you tell me the percentege\")\n",
    "time.sleep(2)\n",
    "print(\"fa: exited\")\n",
    "time.sleep(2)\n",
    "\n",
    "Telugu=random.randrange(94,100)\n",
    "print(\"Telugu:\",Telugu)\n",
    "Hindi=random.randrange(72,100)\n",
    "print(\"Hindi:\",Hindi)\n",
    "English=random.randrange(60,100)\n",
    "print(\"English:\",English)\n",
    "Social=random.randrange(72,100)\n",
    "print(\"Social:\",Social)\n",
    "Science=random.randrange(84,100)\n",
    "print(\"Science:\",Science)\n",
    "Games=random.randrange(98,100)\n",
    "print(\"Games\",Games)\n",
    "time.sleep(5)\n",
    "per=(Telugu+Hindi+English+Social+Science+Games)*100/600\n",
    "print(f\"percentage secure in exam:\",per)\n",
    "avg=(Telugu+Hindi+English+Social+Science+Games)/5\n",
    "print(avg)"
   ]
  },
  {
   "cell_type": "code",
   "execution_count": 17,
   "id": "ca5283f5-289d-4b04-8cc9-2ca43d251c80",
   "metadata": {},
   "outputs": [
    {
     "name": "stdin",
     "output_type": "stream",
     "text": [
      "son : i\n",
      "father : l\n",
      "son : o\n",
      "father : ve\n",
      "son : y\n",
      "father : o\n",
      "son : u\n",
      "father : pa\n"
     ]
    },
    {
     "name": "stdout",
     "output_type": "stream",
     "text": [
      "marks got in each subject Telugu:97,Hindi:79,English:68,Sosial:86,Science:89,Games:100\n",
      "Son got 103.8%.\n",
      "Son got 104%.\n",
      "Elapsed time : 25.653645515441895\n"
     ]
    }
   ],
   "source": [
    "# conversation between father and son   time.time program\n",
    "\n",
    "start=time.time()\n",
    "input(\"son :\")\n",
    "input(\"father :\")\n",
    "input(\"son :\")\n",
    "input(\"father :\")\n",
    "input(\"son :\")\n",
    "input(\"father :\")\n",
    "input(\"son :\")\n",
    "input(\"father :\")\n",
    "\n",
    "# providing marks\n",
    "\n",
    "Telugu=random.randint(94,100)\n",
    "Hindi=random.randint(72,100)\n",
    "English=random.randint(60,100)\n",
    "Social=random.randint(72,100)\n",
    "Science=random.randint(84,100)\n",
    "Games=random.randint(98,100)\n",
    "print(f\"marks got in each subject Telugu:{Telugu},Hindi:{Hindi},English:{English},Sosial:{Social},Science:{Science},Games:{Games}\")\n",
    "time.sleep(5)\n",
    "total_marks = 100+100+100+100+100\n",
    "total_marks_got = Telugu+Hindi+English+Social+Science+Games\n",
    "marks_in_percentage = total_marks_got*100/total_marks\n",
    "print(f\"Son got {marks_in_percentage}%.\")\n",
    "print(f\"Son got {math.ceil(marks_in_percentage)}%.\")\n",
    "\n",
    "\n",
    "end = time.time()\n",
    "reqd_time = end - start\n",
    "print(f\"Elapsed time : {reqd_time}\")\n"
   ]
  },
  {
   "cell_type": "code",
   "execution_count": null,
   "id": "1ef2ae7a-01c2-45d9-8446-f00a297171e6",
   "metadata": {},
   "outputs": [],
   "source": []
  }
 ],
 "metadata": {
  "kernelspec": {
   "display_name": "Python 3 (ipykernel)",
   "language": "python",
   "name": "python3"
  },
  "language_info": {
   "codemirror_mode": {
    "name": "ipython",
    "version": 3
   },
   "file_extension": ".py",
   "mimetype": "text/x-python",
   "name": "python",
   "nbconvert_exporter": "python",
   "pygments_lexer": "ipython3",
   "version": "3.12.7"
  }
 },
 "nbformat": 4,
 "nbformat_minor": 5
}
