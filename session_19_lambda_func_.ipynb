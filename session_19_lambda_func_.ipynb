{
 "cells": [
  {
   "cell_type": "markdown",
   "id": "d02ffb2b-b4e5-460c-8e98-0029292a86c8",
   "metadata": {},
   "source": [
    "**Lambda functions**\n",
    "- lambda functions represent functions in a single line\n",
    "- It is simmilar analogy to list comprehension\n",
    "- to reduse the time complexity will go for lambda functions"
   ]
  },
  {
   "cell_type": "markdown",
   "id": "acf6c174-530a-4de6-b349-1c4a7d7dfcce",
   "metadata": {},
   "source": [
    "$pattern-1$: **function with one argument**"
   ]
  },
  {
   "cell_type": "code",
   "execution_count": 1,
   "id": "3bd9c9e8-f133-460d-90b7-619db4ab1f16",
   "metadata": {},
   "outputs": [
    {
     "data": {
      "text/plain": [
       "100"
      ]
     },
     "execution_count": 1,
     "metadata": {},
     "output_type": "execute_result"
    }
   ],
   "source": [
    "def mul(a):\n",
    "    return(a*a)\n",
    "ans=mul(10)\n",
    "ans"
   ]
  },
  {
   "cell_type": "code",
   "execution_count": null,
   "id": "2d31ac7c-c2f9-49dc-b625-9f32873bf906",
   "metadata": {},
   "outputs": [],
   "source": [
    "# syntax\n",
    "# function_name=lambda <argument >:<return output>\n",
    "# in the above \n",
    "# function_name=mul\n",
    "# argument name=a\n",
    "# return output=a*a"
   ]
  },
  {
   "cell_type": "code",
   "execution_count": 3,
   "id": "8c604760-d8ee-4017-b906-2a4436d16743",
   "metadata": {},
   "outputs": [
    {
     "data": {
      "text/plain": [
       "400"
      ]
     },
     "execution_count": 3,
     "metadata": {},
     "output_type": "execute_result"
    }
   ],
   "source": [
    "mul=lambda a:a*a\n",
    "mul(20)"
   ]
  },
  {
   "cell_type": "code",
   "execution_count": 4,
   "id": "ae397ddb-085f-42a3-98b0-af2c839e20a2",
   "metadata": {},
   "outputs": [
    {
     "data": {
      "text/plain": [
       "1000000"
      ]
     },
     "execution_count": 4,
     "metadata": {},
     "output_type": "execute_result"
    }
   ],
   "source": [
    "def cube(a):\n",
    "    return(a*a*a)\n",
    "cube(100)"
   ]
  },
  {
   "cell_type": "code",
   "execution_count": 17,
   "id": "52328d2d-a7c1-44b4-8241-9bc68610b651",
   "metadata": {},
   "outputs": [
    {
     "data": {
      "text/plain": [
       "27"
      ]
     },
     "execution_count": 17,
     "metadata": {},
     "output_type": "execute_result"
    }
   ],
   "source": [
    "cube=lambda a:a*a*a\n",
    "cube(3)"
   ]
  },
  {
   "cell_type": "markdown",
   "id": "ad12fa59-4579-4420-923b-ce556299c92b",
   "metadata": {},
   "source": [
    "$pattern-2$:**function with two arguments**"
   ]
  },
  {
   "cell_type": "code",
   "execution_count": 6,
   "id": "e4bb7cf6-1d62-4483-97a1-b34e9b9287e1",
   "metadata": {},
   "outputs": [
    {
     "data": {
      "text/plain": [
       "5"
      ]
     },
     "execution_count": 6,
     "metadata": {},
     "output_type": "execute_result"
    }
   ],
   "source": [
    "def add(a,b):\n",
    "    return(a+b)\n",
    "add(2,3)"
   ]
  },
  {
   "cell_type": "code",
   "execution_count": null,
   "id": "e8c04528-b178-4cda-bd65-23f85447cdfe",
   "metadata": {},
   "outputs": [],
   "source": [
    "#syntax\n",
    "#function="
   ]
  },
  {
   "cell_type": "code",
   "execution_count": 7,
   "id": "f33f3bea-12b2-4bd3-82bd-859928c26277",
   "metadata": {},
   "outputs": [
    {
     "data": {
      "text/plain": [
       "30"
      ]
     },
     "execution_count": 7,
     "metadata": {},
     "output_type": "execute_result"
    }
   ],
   "source": [
    "add=lambda a,b:a+b\n",
    "add(10,20)"
   ]
  },
  {
   "cell_type": "markdown",
   "id": "a518d6d0-7dab-4766-85e2-e96e95ce55e7",
   "metadata": {},
   "source": [
    "$pattren-3$**three arguments**"
   ]
  },
  {
   "cell_type": "code",
   "execution_count": 9,
   "id": "b66a6c98-3389-41a1-9939-0b577b11e4c5",
   "metadata": {},
   "outputs": [
    {
     "data": {
      "text/plain": [
       "3.0"
      ]
     },
     "execution_count": 9,
     "metadata": {},
     "output_type": "execute_result"
    }
   ],
   "source": [
    "def avg(a,b,c):\n",
    "    return((a+b+c)/3)\n",
    "avg(2,3,4)"
   ]
  },
  {
   "cell_type": "code",
   "execution_count": 8,
   "id": "36e4ab44-2348-4d9a-93f2-6ea3507f9185",
   "metadata": {},
   "outputs": [
    {
     "data": {
      "text/plain": [
       "3.0"
      ]
     },
     "execution_count": 8,
     "metadata": {},
     "output_type": "execute_result"
    }
   ],
   "source": [
    "avg=lambda a,b,c:(a+b+c)/3\n",
    "avg(2,3,4)"
   ]
  },
  {
   "cell_type": "markdown",
   "id": "3764932a-7b1d-4870-b3f1-007e4eb6f746",
   "metadata": {},
   "source": [
    "$patren-4$ **Default arguments**"
   ]
  },
  {
   "cell_type": "code",
   "execution_count": 11,
   "id": "7841f021-b889-43a9-9463-f9915c1f9300",
   "metadata": {},
   "outputs": [
    {
     "data": {
      "text/plain": [
       "(4, 2)"
      ]
     },
     "execution_count": 11,
     "metadata": {},
     "output_type": "execute_result"
    }
   ],
   "source": [
    "def avg(a,b,c=8):\n",
    "    return(round((a+b+c)/3),2)\n",
    "avg(2,3,)"
   ]
  },
  {
   "cell_type": "code",
   "execution_count": 13,
   "id": "84b8e73f-ec3c-42e9-aba1-40f2f13a353a",
   "metadata": {},
   "outputs": [
    {
     "data": {
      "text/plain": [
       "11.67"
      ]
     },
     "execution_count": 13,
     "metadata": {},
     "output_type": "execute_result"
    }
   ],
   "source": [
    "avg=lambda a,b,c=30:round((a+b+c)/3,2)\n",
    "avg(2,3,)"
   ]
  },
  {
   "cell_type": "code",
   "execution_count": 16,
   "id": "5c5f8a67-3e57-4a7e-be18-0051e2907a36",
   "metadata": {},
   "outputs": [
    {
     "data": {
      "text/plain": [
       "(9, 2)"
      ]
     },
     "execution_count": 16,
     "metadata": {},
     "output_type": "execute_result"
    }
   ],
   "source": [
    "def avg(a=9,b=10,c=8):\n",
    "    return(round((a+b+c)/3),2)\n",
    "avg()"
   ]
  },
  {
   "cell_type": "code",
   "execution_count": null,
   "id": "bed180b7-abb1-4a0a-8024-67e2a880cb09",
   "metadata": {},
   "outputs": [],
   "source": [
    "mul=lambda a:a*a\n",
    "mul(3)\n",
    "add=lambda a,b:a+b\n",
    "add(10,20)\n",
    "avg=lambda a,b,c:(a+b+c)/3\n",
    "avg(2,3,4)\n",
    "avg=lambda a,b,c=30:round((a+b+c)/3,2)\n",
    "avg(2,3,)"
   ]
  },
  {
   "cell_type": "markdown",
   "id": "ba74f40f-f618-47a6-8e2f-286dc5d399fb",
   "metadata": {},
   "source": [
    "**pattern-5**"
   ]
  },
  {
   "cell_type": "markdown",
   "id": "8149e982-f181-4004-bb59-96c0f419cea4",
   "metadata": {},
   "source": [
    "- list cases"
   ]
  },
  {
   "cell_type": "code",
   "execution_count": 19,
   "id": "045a94c9-fb8b-469f-87e7-be0afe3bd91b",
   "metadata": {},
   "outputs": [
    {
     "data": {
      "text/plain": [
       "['Hyd', 'Banglure', 'Mumbai', 'Pune']"
      ]
     },
     "execution_count": 19,
     "metadata": {},
     "output_type": "execute_result"
    }
   ],
   "source": [
    "input=['hyd','banglure','mumbai','pune']\n",
    "output=[]\n",
    "for i in input:\n",
    "    output.append(i.capitalize())\n",
    "output\n",
    "##########\n"
   ]
  },
  {
   "cell_type": "code",
   "execution_count": 20,
   "id": "15488f81-4f6f-4ca4-a226-4dae8352c0e4",
   "metadata": {},
   "outputs": [
    {
     "data": {
      "text/plain": [
       "<function __main__.<lambda>(i)>"
      ]
     },
     "execution_count": 20,
     "metadata": {},
     "output_type": "execute_result"
    }
   ],
   "source": [
    "#step-1: lambda <variable>:<output>\n",
    "lambda i:i.capitalize()"
   ]
  },
  {
   "cell_type": "code",
   "execution_count": 21,
   "id": "e6fee458-9d6c-4f05-aa1d-43f9fe5ac27f",
   "metadata": {},
   "outputs": [
    {
     "data": {
      "text/plain": [
       "(<function __main__.<lambda>(i)>, ['hyd', 'banglure', 'mumbai', 'pune'])"
      ]
     },
     "execution_count": 21,
     "metadata": {},
     "output_type": "execute_result"
    }
   ],
   "source": [
    "#step-2 lambda <varible>:<output>,<iterator>\n",
    "lambda i:i.capitalize(),input"
   ]
  },
  {
   "cell_type": "code",
   "execution_count": 22,
   "id": "b811c074-a8e0-4462-bc88-387cbb01b430",
   "metadata": {},
   "outputs": [
    {
     "data": {
      "text/plain": [
       "<map at 0x2ae2a8b0970>"
      ]
     },
     "execution_count": 22,
     "metadata": {},
     "output_type": "execute_result"
    }
   ],
   "source": [
    "#step-3 map(lambda <varible>:<output>,<iterator>)\n",
    "map(lambda i:i.capitalize(),input)"
   ]
  },
  {
   "cell_type": "code",
   "execution_count": 23,
   "id": "b58a3ed2-bea4-490b-8160-87ae92c7a6ec",
   "metadata": {},
   "outputs": [
    {
     "data": {
      "text/plain": [
       "['Hyd', 'Banglure', 'Mumbai', 'Pune']"
      ]
     },
     "execution_count": 23,
     "metadata": {},
     "output_type": "execute_result"
    }
   ],
   "source": [
    "#step-4 list( map(lambda <varible>:<output>,<iterator>))\n",
    "list(map(lambda i:i.capitalize(),input))"
   ]
  },
  {
   "cell_type": "code",
   "execution_count": 25,
   "id": "b4d7daa4-388f-4977-b56d-12b25bf501fd",
   "metadata": {},
   "outputs": [
    {
     "data": {
      "text/plain": [
       "['HYD', 'BANGLURE', 'MUMBAI', 'PUNE']"
      ]
     },
     "execution_count": 25,
     "metadata": {},
     "output_type": "execute_result"
    }
   ],
   "source": [
    "input=['hyd','banglure','mumbai','pune']\n",
    "#output=['HYD','BANGLURE','MUMBAI','PUNE']\n",
    "list(map(lambda i:i.upper(),input))"
   ]
  },
  {
   "cell_type": "code",
   "execution_count": 38,
   "id": "ae53379c-b025-4aff-9f1c-57d8c16a6433",
   "metadata": {},
   "outputs": [
    {
     "data": {
      "text/plain": [
       "[0, 1, 2, 3]"
      ]
     },
     "execution_count": 38,
     "metadata": {},
     "output_type": "execute_result"
    }
   ],
   "source": [
    "input=['hyd','banglure','mumbai','pune']\n",
    "#output=[0,1,2,3]\n",
    "list(map(lambda i:input.index(i),input))"
   ]
  },
  {
   "cell_type": "code",
   "execution_count": 37,
   "id": "1641f324-5f17-4ffd-b155-0eee385ea673",
   "metadata": {},
   "outputs": [
    {
     "data": {
      "text/plain": [
       "['Hello Hoe Are You']"
      ]
     },
     "execution_count": 37,
     "metadata": {},
     "output_type": "execute_result"
    }
   ],
   "source": [
    "input=['hello hoe are you']\n",
    "#output=['Hello How Are You']\n",
    "list(map(lambda i:i.title(),input))"
   ]
  },
  {
   "cell_type": "code",
   "execution_count": 47,
   "id": "d503fa58-6075-4bf4-8cef-7bdff265b2f8",
   "metadata": {},
   "outputs": [
    {
     "ename": "AttributeError",
     "evalue": "'list' object has no attribute 'split'",
     "output_type": "error",
     "traceback": [
      "\u001b[1;31m---------------------------------------------------------------------------\u001b[0m",
      "\u001b[1;31mAttributeError\u001b[0m                            Traceback (most recent call last)",
      "Cell \u001b[1;32mIn[47], line 3\u001b[0m\n\u001b[0;32m      1\u001b[0m \u001b[38;5;28minput\u001b[39m\u001b[38;5;241m=\u001b[39m[\u001b[38;5;124m'\u001b[39m\u001b[38;5;124mhello hoe are you\u001b[39m\u001b[38;5;124m'\u001b[39m]\n\u001b[0;32m      2\u001b[0m \u001b[38;5;66;03m#output=['Hello How Are You']\u001b[39;00m\n\u001b[1;32m----> 3\u001b[0m \u001b[38;5;28mlist\u001b[39m(\u001b[38;5;28mmap\u001b[39m(\u001b[38;5;28;01mlambda\u001b[39;00m i : i\u001b[38;5;241m.\u001b[39mcapitalize(),\u001b[38;5;28minput\u001b[39m\u001b[38;5;241m.\u001b[39msplit()))\n",
      "\u001b[1;31mAttributeError\u001b[0m: 'list' object has no attribute 'split'"
     ]
    }
   ],
   "source": [
    "input=['hello hoe are you']\n",
    "#output=['Hello How Are You']\n",
    "list(map(lambda i : i.capitalize(),input.split()))"
   ]
  },
  {
   "cell_type": "code",
   "execution_count": 44,
   "id": "60acc1b6-db33-4db1-91c4-bec01521206e",
   "metadata": {},
   "outputs": [
    {
     "data": {
      "text/plain": [
       "[False, True, False, True]"
      ]
     },
     "execution_count": 44,
     "metadata": {},
     "output_type": "execute_result"
    }
   ],
   "source": [
    " input=['hyd','ben#galuru','pune','mu#mbai']\n",
    "#     output=[hyd,pune]\n",
    "list(map(lambda i :'#' in i,input))"
   ]
  },
  {
   "cell_type": "markdown",
   "id": "39a35f57-64f7-4002-8ea7-912dde1b2833",
   "metadata": {},
   "source": [
    "**filter**\n",
    "- fillter is apply on lambda functions to retrive the true output\n",
    "- map will just map the function and iterator\n",
    "- when we apply condition map will give True False\n",
    "- filter will use insted of map"
   ]
  },
  {
   "cell_type": "code",
   "execution_count": 45,
   "id": "9e6de213-6219-4c3c-855e-6ab866ddb3c1",
   "metadata": {},
   "outputs": [
    {
     "data": {
      "text/plain": [
       "['ben#galuru', 'mu#mbai']"
      ]
     },
     "execution_count": 45,
     "metadata": {},
     "output_type": "execute_result"
    }
   ],
   "source": [
    " input=['hyd','ben#galuru','pune','mu#mbai']\n",
    "#     output=[hyd,pune]\n",
    "list(filter(lambda i :'#' in i,input))"
   ]
  },
  {
   "cell_type": "code",
   "execution_count": 46,
   "id": "67f8f860-4bb3-406a-aa24-8324eedd9347",
   "metadata": {},
   "outputs": [
    {
     "data": {
      "text/plain": [
       "['hyd', 'pune']"
      ]
     },
     "execution_count": 46,
     "metadata": {},
     "output_type": "execute_result"
    }
   ],
   "source": [
    " input=['hyd','ben#galuru','pune','mu#mbai']\n",
    "#     output=[hyd,pune]\n",
    "list(filter(lambda i :'#' not  in i,input))"
   ]
  },
  {
   "cell_type": "code",
   "execution_count": 18,
   "id": "69bd6fa5-717c-48ea-8ba5-cf5840f6eb1c",
   "metadata": {},
   "outputs": [
    {
     "data": {
      "text/plain": [
       "['Hello', 'How', 'Are', 'You']"
      ]
     },
     "execution_count": 18,
     "metadata": {},
     "output_type": "execute_result"
    }
   ],
   "source": [
    "input='hello how are you'\n",
    "#output=['Hello How Are You']\n",
    "list(map(lambda i : i.capitalize(),input.split()))"
   ]
  },
  {
   "cell_type": "markdown",
   "id": "7db1ba31-6499-4a28-94bd-00085f162b21",
   "metadata": {},
   "source": [
    "**reduce**\n",
    "- reduce will helpful to perform math operations usiong lambda functions\n",
    "- it is a method under a package called: **functools**"
   ]
  },
  {
   "cell_type": "code",
   "execution_count": 2,
   "id": "99671b91-3231-49b9-9c95-a91bce46cee6",
   "metadata": {},
   "outputs": [
    {
     "data": {
      "text/plain": [
       "15"
      ]
     },
     "execution_count": 2,
     "metadata": {},
     "output_type": "execute_result"
    }
   ],
   "source": [
    "list1=[1,2,3,4,5]\n",
    "sum(list1)"
   ]
  },
  {
   "cell_type": "code",
   "execution_count": 6,
   "id": "fe0987d8-c8d6-4e62-b922-fc1343987a64",
   "metadata": {},
   "outputs": [
    {
     "data": {
      "text/plain": [
       "['GenericAlias',\n",
       " 'RLock',\n",
       " 'WRAPPER_ASSIGNMENTS',\n",
       " 'WRAPPER_UPDATES',\n",
       " '_CacheInfo',\n",
       " '_HashedSeq',\n",
       " '_NOT_FOUND',\n",
       " '__all__',\n",
       " '__builtins__',\n",
       " '__cached__',\n",
       " '__doc__',\n",
       " '__file__',\n",
       " '__loader__',\n",
       " '__name__',\n",
       " '__package__',\n",
       " '__spec__',\n",
       " '_c3_merge',\n",
       " '_c3_mro',\n",
       " '_compose_mro',\n",
       " '_convert',\n",
       " '_find_impl',\n",
       " '_ge_from_gt',\n",
       " '_ge_from_le',\n",
       " '_ge_from_lt',\n",
       " '_gt_from_ge',\n",
       " '_gt_from_le',\n",
       " '_gt_from_lt',\n",
       " '_initial_missing',\n",
       " '_le_from_ge',\n",
       " '_le_from_gt',\n",
       " '_le_from_lt',\n",
       " '_lru_cache_wrapper',\n",
       " '_lt_from_ge',\n",
       " '_lt_from_gt',\n",
       " '_lt_from_le',\n",
       " '_make_key',\n",
       " '_unwrap_partial',\n",
       " 'cache',\n",
       " 'cached_property',\n",
       " 'cmp_to_key',\n",
       " 'get_cache_token',\n",
       " 'lru_cache',\n",
       " 'namedtuple',\n",
       " 'partial',\n",
       " 'partialmethod',\n",
       " 'recursive_repr',\n",
       " 'reduce',\n",
       " 'singledispatch',\n",
       " 'singledispatchmethod',\n",
       " 'total_ordering',\n",
       " 'update_wrapper',\n",
       " 'wraps']"
      ]
     },
     "execution_count": 6,
     "metadata": {},
     "output_type": "execute_result"
    }
   ],
   "source": [
    "import functools\n",
    "dir(functools)"
   ]
  },
  {
   "cell_type": "code",
   "execution_count": 12,
   "id": "6e5f8653-0c6e-40c0-b9b4-03a3c6a9a55f",
   "metadata": {},
   "outputs": [
    {
     "data": {
      "text/plain": [
       "<function __main__.<lambda>(summ, i)>"
      ]
     },
     "execution_count": 12,
     "metadata": {},
     "output_type": "execute_result"
    }
   ],
   "source": [
    "list1=[1,2,3,4,5]\n",
    "#summ=200\n",
    "#for i in list1:\n",
    " #   summ=summ+i\n",
    "#print(summ)\n",
    "\n",
    "from functools import reduce\n",
    "lambda summ,i: summ+i\n"
   ]
  },
  {
   "cell_type": "code",
   "execution_count": 13,
   "id": "8d093458-67ca-4e8b-aac0-de96e6c8270e",
   "metadata": {},
   "outputs": [
    {
     "data": {
      "text/plain": [
       "(<function __main__.<lambda>(summ, i)>, [1, 2, 3, 4, 5])"
      ]
     },
     "execution_count": 13,
     "metadata": {},
     "output_type": "execute_result"
    }
   ],
   "source": [
    "lambda summ,i:summ+i,list1 # default 0\n"
   ]
  },
  {
   "cell_type": "code",
   "execution_count": 14,
   "id": "785af661-98e1-40fa-8073-770c68b7fb59",
   "metadata": {},
   "outputs": [
    {
     "data": {
      "text/plain": [
       "15"
      ]
     },
     "execution_count": 14,
     "metadata": {},
     "output_type": "execute_result"
    }
   ],
   "source": [
    "reduce(lambda summ,i:summ+i,list1)"
   ]
  },
  {
   "cell_type": "code",
   "execution_count": 15,
   "id": "8be6977e-12e7-4b94-8f80-540017bec2bb",
   "metadata": {},
   "outputs": [
    {
     "data": {
      "text/plain": [
       "215"
      ]
     },
     "execution_count": 15,
     "metadata": {},
     "output_type": "execute_result"
    }
   ],
   "source": [
    "reduce(lambda summ,i:summ+i,list1,200)"
   ]
  },
  {
   "cell_type": "code",
   "execution_count": null,
   "id": "70074aab-e994-42e9-bfc5-7542f6c2fafd",
   "metadata": {},
   "outputs": [],
   "source": []
  }
 ],
 "metadata": {
  "kernelspec": {
   "display_name": "Python 3 (ipykernel)",
   "language": "python",
   "name": "python3"
  },
  "language_info": {
   "codemirror_mode": {
    "name": "ipython",
    "version": 3
   },
   "file_extension": ".py",
   "mimetype": "text/x-python",
   "name": "python",
   "nbconvert_exporter": "python",
   "pygments_lexer": "ipython3",
   "version": "3.12.7"
  }
 },
 "nbformat": 4,
 "nbformat_minor": 5
}
