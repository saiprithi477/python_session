{
 "cells": [
  {
   "cell_type": "code",
   "execution_count": 5,
   "id": "233c8145-4c01-49b1-9823-7ff266bc5015",
   "metadata": {},
   "outputs": [
    {
     "name": "stdout",
     "output_type": "stream",
     "text": [
      "ramesh age is 20\n",
      "suresh age is 25\n",
      "sathish age is 30\n"
     ]
    }
   ],
   "source": [
    "names=['ramesh','suresh','sathish']\n",
    "age=[20,25,30]\n",
    "for i in range(len(names)):\n",
    "    print(f\"{names[i]} age is {age[i]}\")\n",
    "    "
   ]
  },
  {
   "cell_type": "code",
   "execution_count": 6,
   "id": "3d5ed19a-e7b4-499b-a1ba-2ce82537dd2f",
   "metadata": {},
   "outputs": [
    {
     "name": "stdout",
     "output_type": "stream",
     "text": [
      "ramesh 20\n",
      "ramesh age is 20\n",
      "suresh 25\n",
      "suresh age is 25\n",
      "sathish 30\n",
      "sathish age is 30\n"
     ]
    }
   ],
   "source": [
    "names=['ramesh','suresh','sathish']\n",
    "age=[20,25,30]\n",
    "for i,j in zip(names,age):\n",
    "    print(i,j)\n",
    "    print(f'{i} age is {j}')"
   ]
  },
  {
   "cell_type": "markdown",
   "id": "38d361eb-84c3-4b96-8dcb-6e52af57c1d5",
   "metadata": {},
   "source": [
    "**Dictionary**\n",
    "- in above exampls names and age both are together\n",
    "- when both are together we can pair them\n",
    "- this can happen using Dictionary\n",
    "- Dictionary is calles as **key-values** pair\n",
    "- it represents with curly braces : **{key:value}**\n",
    "- ramesh and 20 years both are pair :{'ramesh':20}"
   ]
  },
  {
   "cell_type": "code",
   "execution_count": 7,
   "id": "09ffb78d-15ba-4f4d-8b5d-e2417fb248da",
   "metadata": {},
   "outputs": [
    {
     "data": {
      "text/plain": [
       "{'Ramesh': 20, 'Sureh': 25, 'Sathish': 30}"
      ]
     },
     "execution_count": 7,
     "metadata": {},
     "output_type": "execute_result"
    }
   ],
   "source": [
    "d1={'Ramesh':20,'Sureh':25,'Sathish':30}\n",
    "d1"
   ]
  },
  {
   "cell_type": "code",
   "execution_count": 8,
   "id": "55824182-a175-4e8c-a42b-c9e4358b2d66",
   "metadata": {},
   "outputs": [
    {
     "data": {
      "text/plain": [
       "{20: 'Ramesh', 25: 'Suresh', 30: 'Sathish'}"
      ]
     },
     "execution_count": 8,
     "metadata": {},
     "output_type": "execute_result"
    }
   ],
   "source": [
    "d2={20:'Ramesh',25:'Suresh',30:'Sathish'}\n",
    "d2"
   ]
  },
  {
   "cell_type": "code",
   "execution_count": 9,
   "id": "f988ca35-a147-4e38-ae6d-740c2e1a2cea",
   "metadata": {},
   "outputs": [
    {
     "data": {
      "text/plain": [
       "[{20: 'Ramesh', 25: 'Suresh', 30: 'Sathish'}]"
      ]
     },
     "execution_count": 9,
     "metadata": {},
     "output_type": "execute_result"
    }
   ],
   "source": [
    "d3=[{20:'Ramesh',25:'Suresh',30:'Sathish'}]\n",
    "d3\n"
   ]
  },
  {
   "cell_type": "code",
   "execution_count": 10,
   "id": "8f288974-9620-463c-94b3-21e97f68343d",
   "metadata": {},
   "outputs": [
    {
     "data": {
      "text/plain": [
       "{20: 'Ramesh', 25: 'Suresh', 30: 'Sathish'}"
      ]
     },
     "execution_count": 10,
     "metadata": {},
     "output_type": "execute_result"
    }
   ],
   "source": [
    "d4=({20:'Ramesh',25:'Suresh',30:'Sathish'})\n",
    "d4\n"
   ]
  },
  {
   "cell_type": "code",
   "execution_count": 11,
   "id": "135d1b47-388d-4ebd-a8c9-940a7da8bb97",
   "metadata": {},
   "outputs": [
    {
     "ename": "SyntaxError",
     "evalue": "invalid syntax (2676584683.py, line 1)",
     "output_type": "error",
     "traceback": [
      "\u001b[1;36m  Cell \u001b[1;32mIn[11], line 1\u001b[1;36m\u001b[0m\n\u001b[1;33m    d4={(20:'Ramesh',25:'Suresh',30:'Sathish')}\u001b[0m\n\u001b[1;37m           ^\u001b[0m\n\u001b[1;31mSyntaxError\u001b[0m\u001b[1;31m:\u001b[0m invalid syntax\n"
     ]
    }
   ],
   "source": [
    "d4={(20:'Ramesh',25:'Suresh',30:'Sathish')}\n",
    "d4"
   ]
  },
  {
   "cell_type": "code",
   "execution_count": 12,
   "id": "75a70617-1e54-43eb-889b-34198e107ae9",
   "metadata": {},
   "outputs": [
    {
     "ename": "SyntaxError",
     "evalue": "invalid syntax (2497325145.py, line 1)",
     "output_type": "error",
     "traceback": [
      "\u001b[1;36m  Cell \u001b[1;32mIn[12], line 1\u001b[1;36m\u001b[0m\n\u001b[1;33m    d3={[20:'Ramesh',25:'Suresh',30:'Sathish']}\u001b[0m\n\u001b[1;37m           ^\u001b[0m\n\u001b[1;31mSyntaxError\u001b[0m\u001b[1;31m:\u001b[0m invalid syntax\n"
     ]
    }
   ],
   "source": [
    "d3={[20:'Ramesh',25:'Suresh',30:'Sathish']}\n",
    "d3\n"
   ]
  },
  {
   "cell_type": "code",
   "execution_count": 17,
   "id": "d1812077-0d93-42b5-9ed1-aa27980d618d",
   "metadata": {},
   "outputs": [
    {
     "data": {
      "text/plain": [
       "{'Ramesh': 25}"
      ]
     },
     "execution_count": 17,
     "metadata": {},
     "output_type": "execute_result"
    }
   ],
   "source": [
    "d4={'Ramesh':20,'Ramesh':25}\n",
    "d4\n",
    "# if both keys are same it will take the latest value\n",
    "# Dictionary kind database"
   ]
  },
  {
   "cell_type": "code",
   "execution_count": 18,
   "id": "5e5afe27-66f8-44dc-9962-49bc98c0f7c1",
   "metadata": {},
   "outputs": [
    {
     "data": {
      "text/plain": [
       "{'Ramesh': 20}"
      ]
     },
     "execution_count": 18,
     "metadata": {},
     "output_type": "execute_result"
    }
   ],
   "source": [
    "d4={'Ramesh':20,'Ramesh':20}\n",
    "d4\n",
    "# dictionary does not allow duplicate"
   ]
  },
  {
   "cell_type": "code",
   "execution_count": 19,
   "id": "f63997e3-6029-4027-9e50-9885972e8211",
   "metadata": {},
   "outputs": [
    {
     "data": {
      "text/plain": [
       "{'Ramesh': 20, 'suresh': 20}"
      ]
     },
     "execution_count": 19,
     "metadata": {},
     "output_type": "execute_result"
    }
   ],
   "source": [
    "d4={'Ramesh':20,'suresh':20}\n",
    "d4\n",
    "# in dictionary keys pays vital rols\n",
    "# keys can not can be duplicate but values can be duplicate"
   ]
  },
  {
   "cell_type": "code",
   "execution_count": 20,
   "id": "d4854197-5fa0-451d-98b0-81b1186693d0",
   "metadata": {},
   "outputs": [
    {
     "data": {
      "text/plain": [
       "{20: 'suresh'}"
      ]
     },
     "execution_count": 20,
     "metadata": {},
     "output_type": "execute_result"
    }
   ],
   "source": [
    "d4={20:'Ramesh',20:'suresh'}\n",
    "d4"
   ]
  },
  {
   "cell_type": "markdown",
   "id": "52d383f9-a994-45c1-974a-b65da5936c51",
   "metadata": {},
   "source": [
    "**list as keys fails becuase list has a mutable behaviour**\n",
    "\n",
    "**tuple as key works beccuase tuples has immutable behaviour**\n",
    "\n",
    "**in dictionary keys are very important**\n",
    "**keys does not chnage so when we apply list is failing**"
   ]
  },
  {
   "cell_type": "code",
   "execution_count": 3,
   "id": "0e0e0532-5e89-4609-a6ee-5adfd074702d",
   "metadata": {},
   "outputs": [
    {
     "data": {
      "text/plain": [
       "{'fruites': {'apple': 20}}"
      ]
     },
     "execution_count": 3,
     "metadata": {},
     "output_type": "execute_result"
    }
   ],
   "source": [
    "d12={'fruites':{'apple':20}} # works\n",
    "d12 # dictionary is immutable"
   ]
  },
  {
   "cell_type": "code",
   "execution_count": 4,
   "id": "73972b17-6635-4967-a9c6-032f88356ac9",
   "metadata": {},
   "outputs": [
    {
     "ename": "TypeError",
     "evalue": "unhashable type: 'dict'",
     "output_type": "error",
     "traceback": [
      "\u001b[1;31m---------------------------------------------------------------------------\u001b[0m",
      "\u001b[1;31mTypeError\u001b[0m                                 Traceback (most recent call last)",
      "Cell \u001b[1;32mIn[4], line 1\u001b[0m\n\u001b[1;32m----> 1\u001b[0m d12\u001b[38;5;241m=\u001b[39m{{\u001b[38;5;124m'\u001b[39m\u001b[38;5;124mapple\u001b[39m\u001b[38;5;124m'\u001b[39m:\u001b[38;5;241m20\u001b[39m}:\u001b[38;5;124m'\u001b[39m\u001b[38;5;124mfruites\u001b[39m\u001b[38;5;124m'\u001b[39m}\n\u001b[0;32m      2\u001b[0m d12\n",
      "\u001b[1;31mTypeError\u001b[0m: unhashable type: 'dict'"
     ]
    }
   ],
   "source": [
    "d12={{'apple':20}:'fruites'}\n",
    "d12   # fail--unhashable type:'dict'"
   ]
  },
  {
   "cell_type": "code",
   "execution_count": 14,
   "id": "d5a931b4-f1f8-4ded-b628-be4bd81f9a8f",
   "metadata": {},
   "outputs": [
    {
     "data": {
      "text/plain": [
       "('Apple', 'Apple', 20)"
      ]
     },
     "execution_count": 14,
     "metadata": {},
     "output_type": "execute_result"
    }
   ],
   "source": [
    "dict1={'Apple':20,'Banana':30,'Cherry':50}\n",
    "dict2={'Apple':20,'apple':30}\n",
    "dict3={20:'Apple',30:'Banana',50:'cherry'}\n",
    "# apply min max sum sorted reversed\n",
    "min(dict1),min(dict2),min(dict3)\n"
   ]
  },
  {
   "cell_type": "code",
   "execution_count": 11,
   "id": "903d3d04-bc64-42ea-a74c-5b8fc6c6532f",
   "metadata": {},
   "outputs": [
    {
     "data": {
      "text/plain": [
       "'Cherry'"
      ]
     },
     "execution_count": 11,
     "metadata": {},
     "output_type": "execute_result"
    }
   ],
   "source": [
    "# min\n",
    "dict1={'Apple':20,'Banana':30,'Cherry':50}\n",
    "max(dict1)"
   ]
  },
  {
   "cell_type": "code",
   "execution_count": 10,
   "id": "07b13851-70bf-4847-83e3-1e4de13d4efd",
   "metadata": {},
   "outputs": [
    {
     "data": {
      "text/plain": [
       "['Apple', 'Banana', 'Cherry']"
      ]
     },
     "execution_count": 10,
     "metadata": {},
     "output_type": "execute_result"
    }
   ],
   "source": [
    "dict1={'Apple':20,'Banana':30,'Cherry':50}\n",
    "sorted(dict1)\n"
   ]
  },
  {
   "cell_type": "code",
   "execution_count": 12,
   "id": "d72730bf-5a94-4342-9620-aba2beb51852",
   "metadata": {},
   "outputs": [
    {
     "data": {
      "text/plain": [
       "['Apple', 'apple']"
      ]
     },
     "execution_count": 12,
     "metadata": {},
     "output_type": "execute_result"
    }
   ],
   "source": [
    "dict2={'Apple':20,'apple':30}\n",
    "sorted(dict2)"
   ]
  },
  {
   "cell_type": "code",
   "execution_count": 9,
   "id": "6d787645-4cd4-4ff6-83c8-52ff66c4bce0",
   "metadata": {},
   "outputs": [
    {
     "data": {
      "text/plain": [
       "[20, 30, 50]"
      ]
     },
     "execution_count": 9,
     "metadata": {},
     "output_type": "execute_result"
    }
   ],
   "source": [
    "dict3={20:'Apple',30:'Banana',50:'cherry'}\n",
    "sorted(dict3)"
   ]
  },
  {
   "cell_type": "code",
   "execution_count": 13,
   "id": "3775748d-d6e5-484e-91df-8521737fee40",
   "metadata": {},
   "outputs": [
    {
     "data": {
      "text/plain": [
       "20"
      ]
     },
     "execution_count": 13,
     "metadata": {},
     "output_type": "execute_result"
    }
   ],
   "source": [
    "dict3={20:'Apple',30:'Banana',50:'cherry'}\n",
    "min(dict3)"
   ]
  },
  {
   "cell_type": "code",
   "execution_count": 15,
   "id": "b031fe16-f352-4e3a-8645-08f6cf30e7d7",
   "metadata": {},
   "outputs": [
    {
     "data": {
      "text/plain": [
       "3"
      ]
     },
     "execution_count": 15,
     "metadata": {},
     "output_type": "execute_result"
    }
   ],
   "source": [
    "dict3={20:'Apple',30:'Banana',50:'cherry'}\n",
    "len(dict3)"
   ]
  },
  {
   "cell_type": "code",
   "execution_count": 16,
   "id": "f12554a1-42e7-490d-a430-62b97d0c5263",
   "metadata": {},
   "outputs": [
    {
     "data": {
      "text/plain": [
       "['Cherry', 'Banana', 'Apple']"
      ]
     },
     "execution_count": 16,
     "metadata": {},
     "output_type": "execute_result"
    }
   ],
   "source": [
    "list(reversed(dict1))"
   ]
  },
  {
   "cell_type": "code",
   "execution_count": 17,
   "id": "a059fdcc-58b7-4928-b61a-ce2b5e78732c",
   "metadata": {},
   "outputs": [
    {
     "data": {
      "text/plain": [
       "True"
      ]
     },
     "execution_count": 17,
     "metadata": {},
     "output_type": "execute_result"
    }
   ],
   "source": [
    "dict1={'Apple':20,'Banana':30,'Cherry':50}\n",
    "'Apple' in dict1"
   ]
  },
  {
   "cell_type": "code",
   "execution_count": 18,
   "id": "d5a4571b-902d-479a-a5c0-e279529402ab",
   "metadata": {},
   "outputs": [
    {
     "data": {
      "text/plain": [
       "False"
      ]
     },
     "execution_count": 18,
     "metadata": {},
     "output_type": "execute_result"
    }
   ],
   "source": [
    "dict1={'Apple':20,'Banana':30,'Cherry':50}\n",
    "20 in dict1"
   ]
  },
  {
   "cell_type": "code",
   "execution_count": 19,
   "id": "a6c62aa0-8a57-42b7-9957-bb65f105be7b",
   "metadata": {},
   "outputs": [
    {
     "ename": "SyntaxError",
     "evalue": "illegal target for annotation (164298949.py, line 2)",
     "output_type": "error",
     "traceback": [
      "\u001b[1;36m  Cell \u001b[1;32mIn[19], line 2\u001b[1;36m\u001b[0m\n\u001b[1;33m    'Apple':20 in dict1\u001b[0m\n\u001b[1;37m    ^\u001b[0m\n\u001b[1;31mSyntaxError\u001b[0m\u001b[1;31m:\u001b[0m illegal target for annotation\n"
     ]
    }
   ],
   "source": [
    "dict1={'Apple':20,'Banana':30,'Cherry':50}\n",
    "'Apple':20 in dict1"
   ]
  },
  {
   "cell_type": "code",
   "execution_count": 20,
   "id": "898c0b4c-6023-41ba-9c33-d2b25d0e72cc",
   "metadata": {},
   "outputs": [
    {
     "data": {
      "text/plain": [
       "True"
      ]
     },
     "execution_count": 20,
     "metadata": {},
     "output_type": "execute_result"
    }
   ],
   "source": [
    "dict1={'Apple':20,'Banana':30,'Cherry':50}\n",
    "'Apple' in dict1\n",
    "'Banana' in dict1\n",
    "'Cherry'in dict1\n",
    "# i in dict1"
   ]
  },
  {
   "cell_type": "code",
   "execution_count": 21,
   "id": "87313a9e-985e-48f2-a682-784d8c616008",
   "metadata": {},
   "outputs": [
    {
     "name": "stdout",
     "output_type": "stream",
     "text": [
      "Apple\n",
      "Banana\n",
      "Cherry\n"
     ]
    }
   ],
   "source": [
    "for i in dict1:\n",
    "    print(i)"
   ]
  },
  {
   "cell_type": "code",
   "execution_count": 22,
   "id": "3bf4da4e-c7f5-4f53-8cac-75fdc4b80266",
   "metadata": {},
   "outputs": [
    {
     "name": "stdout",
     "output_type": "stream",
     "text": [
      "0\n",
      "1\n",
      "2\n"
     ]
    }
   ],
   "source": [
    "for i in range(len(dict1)):\n",
    "    print(i)"
   ]
  },
  {
   "cell_type": "code",
   "execution_count": 23,
   "id": "6a33f377-7016-49c8-9c54-75b455d13008",
   "metadata": {},
   "outputs": [
    {
     "name": "stdout",
     "output_type": "stream",
     "text": [
      "0\n",
      "1\n"
     ]
    }
   ],
   "source": [
    "for i in range(0,2):\n",
    "    print(i)"
   ]
  },
  {
   "cell_type": "markdown",
   "id": "14eb14c2-20d0-4de9-8d49-a993e1924028",
   "metadata": {},
   "source": [
    "**index**"
   ]
  },
  {
   "cell_type": "code",
   "execution_count": 24,
   "id": "00420b90-9cd7-46c0-8ddc-f9f4b8ee543d",
   "metadata": {},
   "outputs": [
    {
     "data": {
      "text/plain": [
       "10"
      ]
     },
     "execution_count": 24,
     "metadata": {},
     "output_type": "execute_result"
    }
   ],
   "source": [
    "l1=[10,20,30]\n",
    "l1[0]"
   ]
  },
  {
   "cell_type": "code",
   "execution_count": 26,
   "id": "11dd74b9-0ba7-4bd4-b74a-dc9482bcd4f2",
   "metadata": {},
   "outputs": [
    {
     "data": {
      "text/plain": [
       "'p'"
      ]
     },
     "execution_count": 26,
     "metadata": {},
     "output_type": "execute_result"
    }
   ],
   "source": [
    "str1='python'\n",
    "str1[0]"
   ]
  },
  {
   "cell_type": "code",
   "execution_count": 27,
   "id": "477926c1-01e8-498a-ab1d-4c60fba7cfb1",
   "metadata": {},
   "outputs": [
    {
     "ename": "KeyError",
     "evalue": "0",
     "output_type": "error",
     "traceback": [
      "\u001b[1;31m---------------------------------------------------------------------------\u001b[0m",
      "\u001b[1;31mKeyError\u001b[0m                                  Traceback (most recent call last)",
      "Cell \u001b[1;32mIn[27], line 2\u001b[0m\n\u001b[0;32m      1\u001b[0m dict1\u001b[38;5;241m=\u001b[39m{\u001b[38;5;124m'\u001b[39m\u001b[38;5;124mApple\u001b[39m\u001b[38;5;124m'\u001b[39m:\u001b[38;5;241m20\u001b[39m,\u001b[38;5;124m'\u001b[39m\u001b[38;5;124mBanana\u001b[39m\u001b[38;5;124m'\u001b[39m:\u001b[38;5;241m30\u001b[39m,\u001b[38;5;124m'\u001b[39m\u001b[38;5;124mCherry\u001b[39m\u001b[38;5;124m'\u001b[39m:\u001b[38;5;241m50\u001b[39m}\n\u001b[1;32m----> 2\u001b[0m dict1[\u001b[38;5;241m0\u001b[39m]\n",
      "\u001b[1;31mKeyError\u001b[0m: 0"
     ]
    }
   ],
   "source": [
    "dict1={'Apple':20,'Banana':30,'Cherry':50}\n",
    "dict1[0] # Apple:20 is key error"
   ]
  },
  {
   "cell_type": "markdown",
   "id": "93baea38-5602-4d1c-820c-be64030e7f00",
   "metadata": {},
   "source": [
    "**hoe to extract the values**\n",
    "- in dictionary we have a concept key:value pair\n",
    "- keys are very important\n",
    "- in order to get the values we need to take keys help"
   ]
  },
  {
   "cell_type": "code",
   "execution_count": 34,
   "id": "f0ae2525-8095-46a9-85d3-0c74847c4469",
   "metadata": {},
   "outputs": [
    {
     "data": {
      "text/plain": [
       "(20, 30, 50)"
      ]
     },
     "execution_count": 34,
     "metadata": {},
     "output_type": "execute_result"
    }
   ],
   "source": [
    "dict1={'Apple':20,'Banana':30,'Cherry':50}\n",
    "dict1['Apple'],dict1['Banana'],dict1['Cherry']"
   ]
  },
  {
   "cell_type": "code",
   "execution_count": 36,
   "id": "eeb707d6-d316-49f0-bc41-ec5c576ba7ce",
   "metadata": {},
   "outputs": [
    {
     "name": "stdout",
     "output_type": "stream",
     "text": [
      "Apple 20\n",
      "Banana 30\n",
      "Cherry 50\n"
     ]
    }
   ],
   "source": [
    "dict1={'Apple':20,'Banana':30,'Cherry':50}\n",
    "for i in dict1:\n",
    "    print(i,dict1[i])"
   ]
  },
  {
   "cell_type": "code",
   "execution_count": 40,
   "id": "afef7537-e874-4272-b5f9-03fe4175d25e",
   "metadata": {},
   "outputs": [
    {
     "name": "stdout",
     "output_type": "stream",
     "text": [
      "ramesh age is 20\n",
      "suresh age is 25\n",
      "sathish age is 30\n"
     ]
    }
   ],
   "source": [
    "#names=['ramesh','suresh','sathish']\n",
    "#age=[20,25,30]\n",
    "names={'ramesh age is':20,'suresh age is':25,'sathish age is':30}\n",
    "for i in names:\n",
    "    print(i,names[i])"
   ]
  },
  {
   "cell_type": "code",
   "execution_count": 42,
   "id": "c896205d-1ea2-4424-911b-ee6834675b2e",
   "metadata": {},
   "outputs": [
    {
     "ename": "SyntaxError",
     "evalue": "invalid syntax (3749541679.py, line 1)",
     "output_type": "error",
     "traceback": [
      "\u001b[1;36m  Cell \u001b[1;32mIn[42], line 1\u001b[1;36m\u001b[0m\n\u001b[1;33m    names1=['ramesh':20,'suresh':25,'sathish':30]\u001b[0m\n\u001b[1;37m                    ^\u001b[0m\n\u001b[1;31mSyntaxError\u001b[0m\u001b[1;31m:\u001b[0m invalid syntax\n"
     ]
    }
   ],
   "source": [
    "names1=['ramesh':20,'suresh':25,'sathish':30]\n",
    "for i in names1:\n",
    "    value=names1[i]\n",
    "    print(f'{i} age is {value}')"
   ]
  },
  {
   "cell_type": "code",
   "execution_count": 43,
   "id": "fd17f8ec-2f26-45eb-85c9-6e647632c9f3",
   "metadata": {},
   "outputs": [
    {
     "data": {
      "text/plain": [
       "'Cherry'"
      ]
     },
     "execution_count": 43,
     "metadata": {},
     "output_type": "execute_result"
    }
   ],
   "source": [
    "d={'Fruites':['Apple','Banana','Cherry']}\n",
    "d['Fruites'][2]"
   ]
  },
  {
   "cell_type": "code",
   "execution_count": 44,
   "id": "0b3a5c20-394c-4ced-854a-608eada7799d",
   "metadata": {},
   "outputs": [
    {
     "data": {
      "text/plain": [
       "1"
      ]
     },
     "execution_count": 44,
     "metadata": {},
     "output_type": "execute_result"
    }
   ],
   "source": [
    "d={'Fruites':{'Apple':['Sweet','sour','green']}}\n",
    "len(d)"
   ]
  },
  {
   "cell_type": "code",
   "execution_count": 45,
   "id": "82b5eef4-a9b2-4491-98b5-28b82ba954a1",
   "metadata": {},
   "outputs": [
    {
     "data": {
      "text/plain": [
       "'green'"
      ]
     },
     "execution_count": 45,
     "metadata": {},
     "output_type": "execute_result"
    }
   ],
   "source": [
    "d['Fruites']['Apple'][2]"
   ]
  },
  {
   "cell_type": "code",
   "execution_count": 46,
   "id": "62150c60-a1b0-440f-a1a7-6d15023b1e91",
   "metadata": {},
   "outputs": [
    {
     "data": {
      "text/plain": [
       "1"
      ]
     },
     "execution_count": 46,
     "metadata": {},
     "output_type": "execute_result"
    }
   ],
   "source": [
    "d={'Fruites':[{'cost':[50]}]}\n",
    "len(d)"
   ]
  },
  {
   "cell_type": "code",
   "execution_count": 47,
   "id": "e68f5ab0-515f-4db0-94c7-a2ab373ed735",
   "metadata": {},
   "outputs": [
    {
     "data": {
      "text/plain": [
       "[{'cost': [50]}]"
      ]
     },
     "execution_count": 47,
     "metadata": {},
     "output_type": "execute_result"
    }
   ],
   "source": [
    "d['Fruites']"
   ]
  },
  {
   "cell_type": "code",
   "execution_count": 53,
   "id": "ee1160d7-12b0-4995-8ad8-2eca25eed778",
   "metadata": {},
   "outputs": [
    {
     "data": {
      "text/plain": [
       "50"
      ]
     },
     "execution_count": 53,
     "metadata": {},
     "output_type": "execute_result"
    }
   ],
   "source": [
    "d['Fruites'][0]['cost'][0]"
   ]
  },
  {
   "cell_type": "code",
   "execution_count": 1,
   "id": "bee87215-d355-4432-bdc7-cfd485473586",
   "metadata": {},
   "outputs": [
    {
     "data": {
      "text/plain": [
       "40"
      ]
     },
     "execution_count": 1,
     "metadata": {},
     "output_type": "execute_result"
    }
   ],
   "source": [
    "d={'Fruites':['Apple'],'cost':[{'1kg':[20,30,40],'2kg':None}]}\n",
    "d['cost'][0]['2kg'] # None\n",
    "d['cost'][0]['1kg'][2]"
   ]
  },
  {
   "cell_type": "code",
   "execution_count": 56,
   "id": "887554e3-9d9f-484c-af69-13ae8e2dbe7e",
   "metadata": {},
   "outputs": [
    {
     "data": {
      "text/plain": [
       "{}"
      ]
     },
     "execution_count": 56,
     "metadata": {},
     "output_type": "execute_result"
    }
   ],
   "source": [
    "d={'Fruites':{'orenge':{'nagpur':{'mh':{'king':{'shivaji':{'shambaji'}}}}}}}\n",
    "len(d)\n",
    "d['Fruites']['orenge']['nagpur']['mh']['king']['shivaji'] ##[0]#['shambaji']\n",
    "len(d['Fruites']['orenge']['nagpur']['mh']['king']['shivaji'])\n",
    "d['Fruites']['orenge']['nagpur']['mh']['king']['shivaji']\n",
    "d.popitem()\n",
    "d"
   ]
  },
  {
   "cell_type": "markdown",
   "id": "395965f2-3e05-47d0-bdb8-253f1bd9a72b",
   "metadata": {},
   "source": [
    "**hoe to create empty dictionary**\n",
    "- Now on words focus on creation of empty list, strings and dictionary\n",
    "- we will take empty list will use apppend operation\n",
    "- we will take empty string will use concatenation\n",
    "- we will take empty dictionary will use key:value pair concept"
   ]
  },
  {
   "cell_type": "code",
   "execution_count": 25,
   "id": "c1d9df7f-e4a7-4780-9dec-e8305aeec1d8",
   "metadata": {},
   "outputs": [
    {
     "data": {
      "text/plain": [
       "[10, 20]"
      ]
     },
     "execution_count": 25,
     "metadata": {},
     "output_type": "execute_result"
    }
   ],
   "source": [
    "#list\n",
    "l=[]\n",
    "l.append(10)\n",
    "l.append(20)\n",
    "l"
   ]
  },
  {
   "cell_type": "code",
   "execution_count": 26,
   "id": "e7bfa314-d47d-4d73-9a83-046f2ea40678",
   "metadata": {},
   "outputs": [
    {
     "data": {
      "text/plain": [
       "'py'"
      ]
     },
     "execution_count": 26,
     "metadata": {},
     "output_type": "execute_result"
    }
   ],
   "source": [
    "#strings\n",
    "s=''\n",
    "s=s+'p'\n",
    "s=s+'y'\n",
    "s"
   ]
  },
  {
   "cell_type": "code",
   "execution_count": 29,
   "id": "acca1dbc-c4ba-477a-b40d-d221f86b2a4c",
   "metadata": {},
   "outputs": [
    {
     "data": {
      "text/plain": [
       "{'ramesh': 20, 'suresh': 30, 'sathish': 40}"
      ]
     },
     "execution_count": 29,
     "metadata": {},
     "output_type": "execute_result"
    }
   ],
   "source": [
    "#dictionary\n",
    "d={}\n",
    "d['ramesh']=20\n",
    "d['suresh']=30\n",
    "d['sathish']=40\n",
    "d"
   ]
  },
  {
   "cell_type": "code",
   "execution_count": 30,
   "id": "5688a096-784e-4a56-bf6f-72dc370e1830",
   "metadata": {},
   "outputs": [
    {
     "data": {
      "text/plain": [
       "{}"
      ]
     },
     "execution_count": 30,
     "metadata": {},
     "output_type": "execute_result"
    }
   ],
   "source": [
    "d={}\n",
    "d['ramesh']=20\n",
    "d['suresh']=30\n",
    "d['sathish']=40\n",
    "#d[key]=value\n",
    "#d[i]=j"
   ]
  },
  {
   "cell_type": "markdown",
   "id": "f82a8d17-7346-4b57-8412-ac401daadb07",
   "metadata": {},
   "source": [
    "**how to convert list to dictionary**"
   ]
  },
  {
   "cell_type": "code",
   "execution_count": 35,
   "id": "4df7aea6-d4c3-4091-b562-7e52006bf250",
   "metadata": {},
   "outputs": [
    {
     "data": {
      "text/plain": [
       "{'ramesh': 20, 'suresh': 25, 'sathish': 30}"
      ]
     },
     "execution_count": 35,
     "metadata": {},
     "output_type": "execute_result"
    }
   ],
   "source": [
    "names=['ramesh','suresh','sathish']#i\n",
    "age=[20,25,30]#j\n",
    "dict={}\n",
    "for i,j in zip(names,age):\n",
    "    dict[i]=j\n",
    "dict\n",
    "    "
   ]
  },
  {
   "cell_type": "markdown",
   "id": "464ccd6d-5351-41a2-b76e-e8463b6c6cf6",
   "metadata": {},
   "source": [
    "**dictionary comprehension**"
   ]
  },
  {
   "cell_type": "markdown",
   "id": "a90476cb-be70-4fdc-9fe1-a01b911ae40b",
   "metadata": {},
   "source": [
    "- for list comprehension we written everything inside list\n",
    "- for dict comprehension we should write everything inside dictionary\n",
    "- list comprehension:[<output> <for loop>]\n",
    "- dictionary comprehension:{i:j_<for loop>} (key:value)"
   ]
  },
  {
   "cell_type": "code",
   "execution_count": 19,
   "id": "c10e154c-09cd-482c-ae4d-4fde74d7ef7b",
   "metadata": {},
   "outputs": [
    {
     "data": {
      "text/plain": [
       "{'ramesh': 20, 'suresh': 25, 'sathish': 30}"
      ]
     },
     "execution_count": 19,
     "metadata": {},
     "output_type": "execute_result"
    }
   ],
   "source": [
    "names=['ramesh','suresh','sathish']#i\n",
    "age=[20,25,30]#j   \n",
    "dict={}\n",
    "{i:j for i,j in zip(names,age)}"
   ]
  },
  {
   "cell_type": "markdown",
   "id": "03db5f74-33c8-4fd4-8a65-53bcdb1c8b9c",
   "metadata": {},
   "source": [
    "**mutable-immutable**\n",
    "- list are mutable\n",
    "- dictionary are also mutable\n",
    "- strings are immutable\n",
    "- tuple are immutable\n",
    "- in dictionary we can change the values using keys"
   ]
  },
  {
   "cell_type": "code",
   "execution_count": 43,
   "id": "fd6abae4-90c5-4493-a594-1423fd1ac8ba",
   "metadata": {},
   "outputs": [
    {
     "data": {
      "text/plain": [
       "{'ramesh': 30, 'suresh': 25, 'sathish': 30}"
      ]
     },
     "execution_count": 43,
     "metadata": {},
     "output_type": "execute_result"
    }
   ],
   "source": [
    "d={'ramesh': 20, 'suresh': 25, 'sathish': 30}\n",
    "d['ramesh']=30\n",
    "d"
   ]
  },
  {
   "cell_type": "markdown",
   "id": "20b32215-9f01-47ec-beb5-f73bd4cf4647",
   "metadata": {},
   "source": [
    "**methods**"
   ]
  },
  {
   "cell_type": "code",
   "execution_count": 45,
   "id": "0a848944-5495-4928-8667-ef16d13038af",
   "metadata": {},
   "outputs": [
    {
     "data": {
      "text/plain": [
       "['__class__',\n",
       " '__class_getitem__',\n",
       " '__contains__',\n",
       " '__delattr__',\n",
       " '__delitem__',\n",
       " '__dir__',\n",
       " '__doc__',\n",
       " '__eq__',\n",
       " '__format__',\n",
       " '__ge__',\n",
       " '__getattribute__',\n",
       " '__getitem__',\n",
       " '__getstate__',\n",
       " '__gt__',\n",
       " '__hash__',\n",
       " '__init__',\n",
       " '__init_subclass__',\n",
       " '__ior__',\n",
       " '__iter__',\n",
       " '__le__',\n",
       " '__len__',\n",
       " '__lt__',\n",
       " '__ne__',\n",
       " '__new__',\n",
       " '__or__',\n",
       " '__reduce__',\n",
       " '__reduce_ex__',\n",
       " '__repr__',\n",
       " '__reversed__',\n",
       " '__ror__',\n",
       " '__setattr__',\n",
       " '__setitem__',\n",
       " '__sizeof__',\n",
       " '__str__',\n",
       " '__subclasshook__',\n",
       " 'clear',\n",
       " 'copy',\n",
       " 'fromkeys',\n",
       " 'get',\n",
       " 'items',\n",
       " 'keys',\n",
       " 'pop',\n",
       " 'popitem',\n",
       " 'setdefault',\n",
       " 'update',\n",
       " 'values']"
      ]
     },
     "execution_count": 45,
     "metadata": {},
     "output_type": "execute_result"
    }
   ],
   "source": [
    "dir({})"
   ]
  },
  {
   "cell_type": "markdown",
   "id": "4b2126d5-b063-41f3-95cc-61d102d04ef4",
   "metadata": {},
   "source": [
    "- clear\n",
    "- copy\n",
    "- keys\n",
    "- values\n",
    "- items"
   ]
  },
  {
   "cell_type": "code",
   "execution_count": 11,
   "id": "c7f43913-1d9a-444b-abfe-4424b52d0d7e",
   "metadata": {},
   "outputs": [
    {
     "name": "stdout",
     "output_type": "stream",
     "text": [
      "{'ramesh': 20, 'suresh': 25, 'sathish': 30}\n",
      "clear dictionary:{}\n"
     ]
    }
   ],
   "source": [
    "#-copy&clear\n",
    "d={'ramesh': 20, 'suresh': 25, 'sathish': 30}\n",
    "copied_d=d.copy()\n",
    "print(f'{copied_d}')\n",
    "d.clear()\n",
    "print(f'clear dictionary:{d}')\n"
   ]
  },
  {
   "cell_type": "markdown",
   "id": "2fc8aed9-a29a-4b48-991a-d6957cec086c",
   "metadata": {},
   "source": [
    "**fromkey**\n",
    "- create a dictionary with different keys but same value\n",
    "- formkeys will take an argument **iterable**\n",
    "- try to provide an iterator i.e string,list,tuple"
   ]
  },
  {
   "cell_type": "code",
   "execution_count": 37,
   "id": "e592bdbe-aa5f-4b75-aa46-b171ff0430c4",
   "metadata": {},
   "outputs": [
    {
     "name": "stdout",
     "output_type": "stream",
     "text": [
      "using fromkey :{'ramesh': 0, 'suresh': 0, 'sathish': 0}\n",
      "only one argument keys:{'ramesh': None, 'suresh': None, 'sathish': None}\n",
      "only one argument keys:{'ramesh': 'not assighned', 'suresh': 'not assighned', 'sathish': 'not assighned'}\n"
     ]
    }
   ],
   "source": [
    "#-fromkey\n",
    "keys=['ramesh', 'suresh', 'sathish']\n",
    "values=0\n",
    "dict1=dict1.fromkeys(keys,values)\n",
    "print(f'using fromkey :{dict1}')\n",
    "dict1=dict1.fromkeys(keys)\n",
    "print(f'only one argument keys:{dict1}')\n",
    "dict2=dict1.fromkeys(keys,'not assighned')\n",
    "print(f'only one argument keys:{dict2}')"
   ]
  },
  {
   "cell_type": "code",
   "execution_count": 43,
   "id": "c1e56873-9f09-43dc-b5d5-b94aea164639",
   "metadata": {},
   "outputs": [
    {
     "data": {
      "text/plain": [
       "{'p': None, 'y': None, 't': None, 'h': None, 'o': None, 'n': None}"
      ]
     },
     "execution_count": 43,
     "metadata": {},
     "output_type": "execute_result"
    }
   ],
   "source": [
    "d={}\n",
    "d.fromkeys('python')\n"
   ]
  },
  {
   "cell_type": "markdown",
   "id": "3ec8773d-d564-4af5-9e01-83ece79bd50c",
   "metadata": {},
   "source": [
    "**get**\n",
    "- get in dictionary ,similarly analogy **list index**"
   ]
  },
  {
   "cell_type": "code",
   "execution_count": 43,
   "id": "b93f6ded-f421-4769-a87e-5f01538751ed",
   "metadata": {},
   "outputs": [
    {
     "name": "stdout",
     "output_type": "stream",
     "text": [
      "Ramesh marks: 40\n",
      "Suresh marks: 60\n",
      "ganesh marks: None\n",
      "ganesh marks: not availble\n"
     ]
    }
   ],
   "source": [
    "#-get  # getting a value\n",
    "marks={'ramesh':40, 'suresh':60, 'sathish':50}\n",
    "print('Ramesh marks:',marks.get('ramesh'))\n",
    "print('Suresh marks:',marks.get('suresh'))\n",
    "print('ganesh marks:',marks.get('ganesh'))\n",
    "print('ganesh marks:',marks.get('ganesh','not availble'))"
   ]
  },
  {
   "cell_type": "code",
   "execution_count": 33,
   "id": "9681b335-bba2-46f2-8eb9-30231305d5ff",
   "metadata": {},
   "outputs": [
    {
     "data": {
      "text/plain": [
       "{'ramesh': 40, 'suresh': 60, 'sathish': 50}"
      ]
     },
     "execution_count": 33,
     "metadata": {},
     "output_type": "execute_result"
    }
   ],
   "source": [
    "marks={'ramesh':40, 'suresh':60, 'sathish':50}\n",
    "marks.get('ramesh')\n",
    "marks"
   ]
  },
  {
   "cell_type": "code",
   "execution_count": 35,
   "id": "120f14d7-317a-40ea-9f34-75bd30d5deac",
   "metadata": {},
   "outputs": [
    {
     "data": {
      "text/plain": [
       "40"
      ]
     },
     "execution_count": 35,
     "metadata": {},
     "output_type": "execute_result"
    }
   ],
   "source": [
    "marks['ramesh'] # key as an index"
   ]
  },
  {
   "cell_type": "markdown",
   "id": "b7d5dfce-8898-462c-88da-5e350e4e6d42",
   "metadata": {},
   "source": [
    "**pop**"
   ]
  },
  {
   "cell_type": "code",
   "execution_count": 48,
   "id": "0fdd646c-9bad-4784-8871-e486b3fffb99",
   "metadata": {},
   "outputs": [
    {
     "name": "stdout",
     "output_type": "stream",
     "text": [
      "Ramesh marks:60\n",
      "updated marks:{'ramesh': 40, 'sathish': 50}\n",
      "trying to remove ganesh marks:key not found\n"
     ]
    }
   ],
   "source": [
    "#pop\n",
    "marks={'ramesh':40, 'suresh':60, 'sathish':50}\n",
    "removed_value=marks.pop('suresh')\n",
    "print(f'Ramesh marks:{removed_value}')\n",
    "print(f'updated marks:{marks}')\n",
    "removed_value=marks.pop('ganesh','key not found')\n",
    "\n",
    "print(f'trying to remove ganesh marks:{removed_value}')"
   ]
  },
  {
   "cell_type": "code",
   "execution_count": 29,
   "id": "d34b4f48-b6f1-4729-9f2c-a09ee8972fc4",
   "metadata": {},
   "outputs": [
    {
     "data": {
      "text/plain": [
       "{'suresh': 60, 'sathish': 50}"
      ]
     },
     "execution_count": 29,
     "metadata": {},
     "output_type": "execute_result"
    }
   ],
   "source": [
    "marks={'ramesh':40, 'suresh':60, 'sathish':50}\n",
    "marks.pop('ramesh')\n",
    "marks"
   ]
  },
  {
   "cell_type": "code",
   "execution_count": 30,
   "id": "55392715-c326-4783-992e-a2597e618f8c",
   "metadata": {},
   "outputs": [
    {
     "data": {
      "text/plain": [
       "['suresh', 'sathish']"
      ]
     },
     "execution_count": 30,
     "metadata": {},
     "output_type": "execute_result"
    }
   ],
   "source": [
    "marks=['ramesh', 'suresh', 'sathish']\n",
    "marks.remove('ramesh')\n",
    "marks"
   ]
  },
  {
   "cell_type": "markdown",
   "id": "461fccff-4742-4992-b21f-0a5c23c006ee",
   "metadata": {},
   "source": [
    "- pop in dictionary ,simmilar anaolgy remove in list"
   ]
  },
  {
   "cell_type": "markdown",
   "id": "2781ad65-7b0d-4457-90c3-20bc4d7f3cbf",
   "metadata": {},
   "source": [
    "**popitem**"
   ]
  },
  {
   "cell_type": "code",
   "execution_count": 52,
   "id": "132c9c87-22c0-48d1-b331-12602570c8e2",
   "metadata": {},
   "outputs": [
    {
     "data": {
      "text/plain": [
       "{}"
      ]
     },
     "execution_count": 52,
     "metadata": {},
     "output_type": "execute_result"
    }
   ],
   "source": [
    "#popitem\n",
    "marks={'ramesh':40, 'suresh':60, 'sathish':50}\n",
    "marks.popitem()\n",
    "marks.popitem()\n",
    "marks.popitem()\n",
    "marks"
   ]
  },
  {
   "cell_type": "code",
   "execution_count": 31,
   "id": "76bf0989-cbca-4aed-8efb-8c8b9ec8c45d",
   "metadata": {},
   "outputs": [
    {
     "data": {
      "text/plain": [
       "['ramesh', 'suresh']"
      ]
     },
     "execution_count": 31,
     "metadata": {},
     "output_type": "execute_result"
    }
   ],
   "source": [
    "marks=['ramesh', 'suresh', 'sathish']\n",
    "marks.pop()\n",
    "marks"
   ]
  },
  {
   "cell_type": "markdown",
   "id": "7b1c18dd-46c0-4f89-b708-089520b44db6",
   "metadata": {},
   "source": [
    "- pop item in dictionary , similar analogy pop in list"
   ]
  },
  {
   "cell_type": "markdown",
   "id": "34849f8d-c859-4f2a-8bdd-40926276e406",
   "metadata": {},
   "source": [
    "**setdefault**\n",
    "\n",
    "- suppose an alredy existed dictionary availble \n",
    "- we can update the dictionary with new key:value pair"
   ]
  },
  {
   "cell_type": "code",
   "execution_count": 72,
   "id": "6f064373-8eae-4a47-a53f-a26a527c0508",
   "metadata": {},
   "outputs": [
    {
     "name": "stdout",
     "output_type": "stream",
     "text": [
      "ramesh marks:40\n",
      "add ganesh marks:{'ramesh': 40, 'suresh': 60, 'sathish': 50, 'ganesh': 75}\n",
      "kirans marks(default none):add_marks\n",
      "final marks list:{'ramesh': 40, 'suresh': 60, 'sathish': 50, 'ganesh': 75, 'kiran': None, 'ramu': 'Absent'}\n"
     ]
    }
   ],
   "source": [
    "#setdefault\n",
    "marks={'ramesh':40, 'suresh':60, 'sathish':50}\n",
    "add_marks=marks.setdefault('ramesh')\n",
    "print(f'ramesh marks:{add_marks}')\n",
    "add_marks=marks.setdefault('ganesh',75)\n",
    "print(f'add ganesh marks:{marks}')\n",
    "add_marks=marks.setdefault('kiran')\n",
    "print(f'kirans marks(default none):{'add_marks'}')\n",
    "add_marks=marks.setdefault('ramu','Absent')\n",
    "print(f'final marks list:{marks}')\n"
   ]
  },
  {
   "cell_type": "markdown",
   "id": "b9628e56-4f74-439d-8a3f-fd20c9d3410f",
   "metadata": {},
   "source": [
    "- **set default** in dictionary ,simmilar analogy **list append**\n",
    "- always remember dictionary is a key:value pair concept\n",
    "- it never involves index operations\n",
    "- thats why  we dont have any index or find methods\n",
    "- we have get method to extract values using key"
   ]
  },
  {
   "cell_type": "markdown",
   "id": "35c9906f-bdd9-4f71-9470-591db0bfe34a",
   "metadata": {},
   "source": [
    "**update**\n",
    "\n",
    "- update is simmilar analogy list extend\n",
    "- take two dictionarys and apply update method\n"
   ]
  },
  {
   "cell_type": "code",
   "execution_count": 76,
   "id": "a0a0e551-c360-4b00-aafe-97c101588b7d",
   "metadata": {},
   "outputs": [
    {
     "name": "stdout",
     "output_type": "stream",
     "text": [
      "updated new marks :{'ramesh': 80, 'suresh': 60, 'sathish': 70}\n",
      "dictionary after adding new key-value pairs:{'ramesh': 80, 'suresh': 60, 'sathish': 70, 'ravi': 90, 'ganesh': 70}\n",
      "dictionary after updating with list of tuples:{'ramesh': 80, 'suresh': 60, 'sathish': 70, 'ravi': 90, 'ganesh': 70, 'depu': 82, 'teja': 92}\n"
     ]
    }
   ],
   "source": [
    "#update\n",
    "marks={'ramesh':40, 'suresh':60, 'sathish':50}\n",
    "new_marks={'ramesh':80,'sathish':70}\n",
    "marks.update(new_marks)\n",
    "print(f'updated new marks :{marks}')\n",
    "marks.update(ravi=90,ganesh=70)\n",
    "print(f'dictionary after adding new key-value pairs:{marks}')\n",
    "marks.update([('depu',82),('teja',92)])\n",
    "print(f'dictionary after updating with list of tuples:{marks}')"
   ]
  },
  {
   "cell_type": "markdown",
   "id": "40cb5f59-b6b6-4d85-9a77-ee7caa85d9d6",
   "metadata": {},
   "source": [
    "**extend-list**"
   ]
  },
  {
   "cell_type": "markdown",
   "id": "578ba289-88e2-40c3-91c9-9cfa782fa034",
   "metadata": {},
   "source": [
    "- update in dictionary ,simillar anaolgy **list extend**"
   ]
  },
  {
   "cell_type": "code",
   "execution_count": 39,
   "id": "b214026e-b696-4b0c-bc91-fc29e19a1aa6",
   "metadata": {},
   "outputs": [
    {
     "data": {
      "text/plain": [
       "['ramesh', 'suresh', 'sathish', '80', '70', '80']"
      ]
     },
     "execution_count": 39,
     "metadata": {},
     "output_type": "execute_result"
    }
   ],
   "source": [
    "marks=['ramesh', 'suresh', 'sathish']\n",
    "new_marks=['80','70','80']\n",
    "marks.extend(new_marks)\n",
    "marks"
   ]
  },
  {
   "cell_type": "markdown",
   "id": "a93dac4c-b848-4de2-89ee-03203611f7c5",
   "metadata": {},
   "source": [
    "**keys**"
   ]
  },
  {
   "cell_type": "code",
   "execution_count": 9,
   "id": "c9097035-3abb-4353-b547-8a3656482b41",
   "metadata": {},
   "outputs": [
    {
     "data": {
      "text/plain": [
       "dict_keys(['ramesh', 'suresh', 'sathish'])"
      ]
     },
     "execution_count": 9,
     "metadata": {},
     "output_type": "execute_result"
    }
   ],
   "source": [
    "marks={'ramesh':40, 'suresh':60, 'sathish':50}\n",
    "keys=d.keys()\n",
    "keys"
   ]
  },
  {
   "cell_type": "code",
   "execution_count": 10,
   "id": "6ab20662-ea47-4cfd-9e00-7c812f9c4f90",
   "metadata": {},
   "outputs": [
    {
     "data": {
      "text/plain": [
       "dict_keys"
      ]
     },
     "execution_count": 10,
     "metadata": {},
     "output_type": "execute_result"
    }
   ],
   "source": [
    "type(keys)"
   ]
  },
  {
   "cell_type": "code",
   "execution_count": 11,
   "id": "96e84b9c-7eb0-48d2-8c07-bdf5fb39bf66",
   "metadata": {},
   "outputs": [
    {
     "ename": "AttributeError",
     "evalue": "'dict_keys' object has no attribute 'count'",
     "output_type": "error",
     "traceback": [
      "\u001b[1;31m---------------------------------------------------------------------------\u001b[0m",
      "\u001b[1;31mAttributeError\u001b[0m                            Traceback (most recent call last)",
      "Cell \u001b[1;32mIn[11], line 1\u001b[0m\n\u001b[1;32m----> 1\u001b[0m keys\u001b[38;5;241m.\u001b[39mcount(\u001b[38;5;124m'\u001b[39m\u001b[38;5;124mramesh\u001b[39m\u001b[38;5;124m'\u001b[39m)\n",
      "\u001b[1;31mAttributeError\u001b[0m: 'dict_keys' object has no attribute 'count'"
     ]
    }
   ],
   "source": [
    "keys.count('ramesh')"
   ]
  },
  {
   "cell_type": "markdown",
   "id": "2494bd1d-719d-464c-9a7c-7e49d1d876dc",
   "metadata": {},
   "source": [
    "**Convert dictionary to list**\n",
    "- in order to convert dictionary to list\n",
    "- first we need to seperate keys and values\n",
    "- then apply list type casting"
   ]
  },
  {
   "cell_type": "code",
   "execution_count": 12,
   "id": "811159b2-86d0-47da-89d9-52e5a4a617af",
   "metadata": {},
   "outputs": [
    {
     "data": {
      "text/plain": [
       "['ramesh', 'suresh', 'sathish']"
      ]
     },
     "execution_count": 12,
     "metadata": {},
     "output_type": "execute_result"
    }
   ],
   "source": [
    "marks={'ramesh':40, 'suresh':60, 'sathish':50}\n",
    "keys=d.keys()\n",
    "keys_list=list(keys)\n",
    "keys_list"
   ]
  },
  {
   "cell_type": "code",
   "execution_count": 18,
   "id": "2909c066-56e7-42c9-abfe-85a14a0d7d03",
   "metadata": {},
   "outputs": [
    {
     "data": {
      "text/plain": [
       "0"
      ]
     },
     "execution_count": 18,
     "metadata": {},
     "output_type": "execute_result"
    }
   ],
   "source": [
    "keys_list.count('ramesh')"
   ]
  },
  {
   "cell_type": "code",
   "execution_count": 13,
   "id": "53b50c24-0f63-4fbb-984f-e08d96da6fb5",
   "metadata": {},
   "outputs": [
    {
     "data": {
      "text/plain": [
       "[40, 60, 50]"
      ]
     },
     "execution_count": 13,
     "metadata": {},
     "output_type": "execute_result"
    }
   ],
   "source": [
    "marks={'ramesh':40, 'suresh':60, 'sathish':50}\n",
    "values=d.values()\n",
    "keys_list=list(values)\n",
    "keys_list\n"
   ]
  },
  {
   "cell_type": "markdown",
   "id": "f5f10503-6983-4043-abf0-9ef63004fc08",
   "metadata": {},
   "source": [
    "- list has count,string has count and tuple also has count\n",
    "- but dict does not have **count**\n",
    "- because dict does not allow **duplicate**\n",
    "- strings has find but list does not have\n"
   ]
  },
  {
   "cell_type": "code",
   "execution_count": null,
   "id": "dfd01b10-a068-46ae-8e5e-ece5a35a29c7",
   "metadata": {},
   "outputs": [],
   "source": [
    "list==string---> using join\n",
    "string==list---> using split\n",
    "list ==dict----> using zip\n",
    "dict===list----> using typecasting"
   ]
  },
  {
   "cell_type": "code",
   "execution_count": 14,
   "id": "e15de21d-6135-4e98-b764-63564004a7ef",
   "metadata": {},
   "outputs": [
    {
     "data": {
      "text/plain": [
       "[('ramesh', 40), ('suresh', 60), ('sathish', 50)]"
      ]
     },
     "execution_count": 14,
     "metadata": {},
     "output_type": "execute_result"
    }
   ],
   "source": [
    "marks={'ramesh':40, 'suresh':60, 'sathish':50}\n",
    "items=d.items()\n",
    "keys_list=list(items)\n",
    "keys_list\n"
   ]
  },
  {
   "cell_type": "code",
   "execution_count": 15,
   "id": "11623c9b-288c-48d5-809e-80719ba3b431",
   "metadata": {},
   "outputs": [
    {
     "data": {
      "text/plain": [
       "(list, dict_keys)"
      ]
     },
     "execution_count": 15,
     "metadata": {},
     "output_type": "execute_result"
    }
   ],
   "source": [
    "type(keys_list),type(keys)"
   ]
  },
  {
   "cell_type": "code",
   "execution_count": 16,
   "id": "f4ba4daa-702e-4643-96a2-b0a7596ed5a6",
   "metadata": {},
   "outputs": [
    {
     "data": {
      "text/plain": [
       "0"
      ]
     },
     "execution_count": 16,
     "metadata": {},
     "output_type": "execute_result"
    }
   ],
   "source": [
    "keys_list.count('ramesh')"
   ]
  },
  {
   "cell_type": "code",
   "execution_count": 17,
   "id": "03fff719-845e-413a-98c3-86edded0bfab",
   "metadata": {},
   "outputs": [
    {
     "data": {
      "text/plain": [
       "0"
      ]
     },
     "execution_count": 17,
     "metadata": {},
     "output_type": "execute_result"
    }
   ],
   "source": [
    "keys_list.count('sathish')"
   ]
  },
  {
   "cell_type": "code",
   "execution_count": null,
   "id": "01e1879f-0b26-49b4-be76-01e2e3bdd560",
   "metadata": {},
   "outputs": [],
   "source": [
    "d={}\n",
    "d['ramesh']=20\n",
    "d['suresh']=30\n",
    "d['sathish']=40\n",
    "#d[key]=value\n",
    "#d[i]=j"
   ]
  },
  {
   "cell_type": "code",
   "execution_count": null,
   "id": "9b206807-148f-4719-883b-a37104cdcbec",
   "metadata": {},
   "outputs": [],
   "source": [
    "\n",
    "names=['ramesh','suresh','sathish']#i\n",
    "age=[20,25,30]#j   \n",
    "dict={}\n",
    "{i:j for i,j in zip(names,age)}"
   ]
  },
  {
   "cell_type": "code",
   "execution_count": 24,
   "id": "f11bc59d-fb1d-4e7a-8fc0-ac631632cf3f",
   "metadata": {},
   "outputs": [
    {
     "data": {
      "text/plain": [
       "{'Fname': ['virat', 'rohit', 'ms'],\n",
       " 'Sname': ['kohili', 'sharma', 'dhoni'],\n",
       " 'Cname': ['rcb', 'mi', 'csk']}"
      ]
     },
     "execution_count": 24,
     "metadata": {},
     "output_type": "execute_result"
    }
   ],
   "source": [
    "# input='virat.kohili@rcb.com;rohit.sharma@mi.com;ms.dhoni@csk.com'\n",
    "# output={'firstname':['virat','rohit','ms'],\n",
    "#         'secondname':['kohil','sharma','dhoni'],\n",
    "#          'cname':['rcb','mi','csk']}\n",
    "input='virat.kohili@rcb.com;rohit.sharma@mi.com;ms.dhoni@csk.com'\n",
    "semi_coln=input.split(';')\n",
    "fname=[]\n",
    "sname=[]\n",
    "cname=[]\n",
    "d={}\n",
    "for i in semi_coln:\n",
    "    first_dot=i.index('.')\n",
    "    second_dot=i.index('.',first_dot+1)\n",
    "    at_the_rate=i.index('@')\n",
    "    fname.append(i[:first_dot])\n",
    "    sname.append(i[first_dot+1:at_the_rate])\n",
    "    cname.append(i[at_the_rate+1:second_dot])\n",
    "d['Fname']=fname\n",
    "d['Sname']=sname\n",
    "d['Cname']=cname\n",
    "d"
   ]
  },
  {
   "cell_type": "code",
   "execution_count": 25,
   "id": "42d91199-fe5b-4b65-8bf2-7ec6981d4d77",
   "metadata": {},
   "outputs": [
    {
     "data": {
      "text/plain": [
       "['__class__',\n",
       " '__class_getitem__',\n",
       " '__contains__',\n",
       " '__delattr__',\n",
       " '__delitem__',\n",
       " '__dir__',\n",
       " '__doc__',\n",
       " '__eq__',\n",
       " '__format__',\n",
       " '__ge__',\n",
       " '__getattribute__',\n",
       " '__getitem__',\n",
       " '__getstate__',\n",
       " '__gt__',\n",
       " '__hash__',\n",
       " '__init__',\n",
       " '__init_subclass__',\n",
       " '__ior__',\n",
       " '__iter__',\n",
       " '__le__',\n",
       " '__len__',\n",
       " '__lt__',\n",
       " '__ne__',\n",
       " '__new__',\n",
       " '__or__',\n",
       " '__reduce__',\n",
       " '__reduce_ex__',\n",
       " '__repr__',\n",
       " '__reversed__',\n",
       " '__ror__',\n",
       " '__setattr__',\n",
       " '__setitem__',\n",
       " '__sizeof__',\n",
       " '__str__',\n",
       " '__subclasshook__',\n",
       " 'clear',\n",
       " 'copy',\n",
       " 'fromkeys',\n",
       " 'get',\n",
       " 'items',\n",
       " 'keys',\n",
       " 'pop',\n",
       " 'popitem',\n",
       " 'setdefault',\n",
       " 'update',\n",
       " 'values']"
      ]
     },
     "execution_count": 25,
     "metadata": {},
     "output_type": "execute_result"
    }
   ],
   "source": [
    "dir(dict)"
   ]
  },
  {
   "cell_type": "code",
   "execution_count": null,
   "id": "312f3538-ab0c-4415-9ca3-fba452c83bb7",
   "metadata": {},
   "outputs": [],
   "source": []
  }
 ],
 "metadata": {
  "kernelspec": {
   "display_name": "Python 3 (ipykernel)",
   "language": "python",
   "name": "python3"
  },
  "language_info": {
   "codemirror_mode": {
    "name": "ipython",
    "version": 3
   },
   "file_extension": ".py",
   "mimetype": "text/x-python",
   "name": "python",
   "nbconvert_exporter": "python",
   "pygments_lexer": "ipython3",
   "version": "3.12.7"
  }
 },
 "nbformat": 4,
 "nbformat_minor": 5
}
