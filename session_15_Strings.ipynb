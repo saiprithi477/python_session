{
 "cells": [
  {
   "cell_type": "markdown",
   "id": "92f572aa-b1f3-45a5-88a5-861f84e73f61",
   "metadata": {},
   "source": [
    "- variables\n",
    "- Data types\n",
    "- Type conversion\n",
    "- print\n",
    "- eval andinput\n",
    "- Basic codes\n",
    "- packages\n",
    "- conditional statements\n",
    "- try and except\n",
    "- functions\n",
    "- for loop\n",
    "- while loop\n",
    "================intermediate python\n",
    "- Strings\n",
    "- Lists\n",
    "- List Comprhension\n",
    "- Tuple  =====self\n",
    "- Sets   ======self\n",
    "- Dictionary\n",
    "- lambda functions\n",
    "- File handling\n",
    "==============oops concept===(ml)\n",
    "- Basic representations\n",
    "- Inbuilt functions\n",
    "    - print\n",
    "    - Type\n",
    "    - Len\n",
    "    - sum\n",
    "    - max\n",
    "    - min\n",
    "    - sorted\n",
    "    - reversed\n",
    "- concatenation\n",
    "- indexing\n",
    "- mutable or immutable concept\n",
    "- slice\n",
    "- methods\n"
   ]
  },
  {
   "cell_type": "markdown",
   "id": "4a27448c-94bb-47ed-89f6-04a722615f76",
   "metadata": {},
   "source": [
    "**Basic Representation**"
   ]
  },
  {
   "cell_type": "code",
   "execution_count": 1,
   "id": "cd8f2263-5cd4-434d-b272-439caa42aa91",
   "metadata": {},
   "outputs": [
    {
     "data": {
      "text/plain": [
       "'python'"
      ]
     },
     "execution_count": 1,
     "metadata": {},
     "output_type": "execute_result"
    }
   ],
   "source": [
    "name='python'\n",
    "name"
   ]
  },
  {
   "cell_type": "code",
   "execution_count": 2,
   "id": "4effb14b-b657-4f00-940b-bad7539532bf",
   "metadata": {},
   "outputs": [
    {
     "name": "stdout",
     "output_type": "stream",
     "text": [
      "python\n"
     ]
    }
   ],
   "source": [
    "print(name) # if we see not able to cotes(' ')"
   ]
  },
  {
   "cell_type": "code",
   "execution_count": 3,
   "id": "c0116aa1-cfec-47f6-8879-3fd91efd37c6",
   "metadata": {},
   "outputs": [
    {
     "data": {
      "text/plain": [
       "'python'"
      ]
     },
     "execution_count": 3,
     "metadata": {},
     "output_type": "execute_result"
    }
   ],
   "source": [
    "name=\"python\"\n",
    "name"
   ]
  },
  {
   "cell_type": "markdown",
   "id": "9cf58fea-a7a5-4f1f-9d4a-21dfaecb2135",
   "metadata": {},
   "source": [
    "- python by defualt gives output in **single quotes**\n",
    "- when we print the output display **without quotes**"
   ]
  },
  {
   "cell_type": "code",
   "execution_count": 5,
   "id": "939bbe9f-c2f8-4408-aa15-8a89e97e226b",
   "metadata": {},
   "outputs": [
    {
     "name": "stdout",
     "output_type": "stream",
     "text": [
      "i love 'python'\n"
     ]
    }
   ],
   "source": [
    "str1=\"i love 'python'\"\n",
    "print(str1)"
   ]
  },
  {
   "cell_type": "code",
   "execution_count": 6,
   "id": "bcade395-33b5-40f4-a02d-b35e1b590d81",
   "metadata": {},
   "outputs": [
    {
     "name": "stdout",
     "output_type": "stream",
     "text": [
      "i love \"python\"\n"
     ]
    }
   ],
   "source": [
    "str2='i love \"python\"'\n",
    "print(str2)"
   ]
  },
  {
   "cell_type": "markdown",
   "id": "9b90602e-6f6d-48cb-a1c2-94b6b419b2e8",
   "metadata": {},
   "source": [
    "**doc string**\n",
    "- triple quotes also called as doc string\n",
    "- triple quotes means the user try to convey some information"
   ]
  },
  {
   "cell_type": "code",
   "execution_count": 7,
   "id": "840f803a-48a2-438d-8df1-d5d1493c09aa",
   "metadata": {},
   "outputs": [
    {
     "data": {
      "text/plain": [
       "str"
      ]
     },
     "execution_count": 7,
     "metadata": {},
     "output_type": "execute_result"
    }
   ],
   "source": [
    "name='python'\n",
    "type(name)"
   ]
  },
  {
   "cell_type": "code",
   "execution_count": null,
   "id": "6592d673-073e-49a5-a0ed-79a7bfb68273",
   "metadata": {},
   "outputs": [],
   "source": [
    "print(<>)\n",
    "type(<>)\n",
    "eval(<>)\n",
    "input(<>)\n",
    "len()\n",
    "summ()\n",
    "max()\n",
    "min()\n",
    "sorted\n",
    "reversed\n"
   ]
  },
  {
   "cell_type": "code",
   "execution_count": 8,
   "id": "1dad4c0c-6b40-4f84-8e07-5e6826546703",
   "metadata": {},
   "outputs": [
    {
     "data": {
      "text/plain": [
       "6"
      ]
     },
     "execution_count": 8,
     "metadata": {},
     "output_type": "execute_result"
    }
   ],
   "source": [
    "name='python'\n",
    "len(name)"
   ]
  },
  {
   "cell_type": "code",
   "execution_count": 15,
   "id": "188567bc-f37e-41e1-a569-5d87f3ea32ec",
   "metadata": {},
   "outputs": [
    {
     "data": {
      "text/plain": [
       "'1'"
      ]
     },
     "execution_count": 15,
     "metadata": {},
     "output_type": "execute_result"
    }
   ],
   "source": [
    "name='123'\n",
    "min(name)"
   ]
  },
  {
   "cell_type": "code",
   "execution_count": 10,
   "id": "7db4609e-deec-4fd8-8ef6-f2af76b6c1f8",
   "metadata": {},
   "outputs": [
    {
     "data": {
      "text/plain": [
       "'9'"
      ]
     },
     "execution_count": 10,
     "metadata": {},
     "output_type": "execute_result"
    }
   ],
   "source": [
    "num='67849'\n",
    "max(num)"
   ]
  },
  {
   "cell_type": "code",
   "execution_count": 11,
   "id": "58ba6e63-f8df-4fef-9f78-5da3f8b9faad",
   "metadata": {},
   "outputs": [
    {
     "data": {
      "text/plain": [
       "['a', 'i', 's']"
      ]
     },
     "execution_count": 11,
     "metadata": {},
     "output_type": "execute_result"
    }
   ],
   "source": [
    "name='sai'\n",
    "sorted(name)"
   ]
  },
  {
   "cell_type": "code",
   "execution_count": 14,
   "id": "dac8d22e-4d8d-438f-a95d-0198a50d8f44",
   "metadata": {},
   "outputs": [
    {
     "data": {
      "text/plain": [
       "<reversed at 0x21b16289030>"
      ]
     },
     "execution_count": 14,
     "metadata": {},
     "output_type": "execute_result"
    }
   ],
   "source": [
    "name='python'\n",
    "reversed(name)"
   ]
  },
  {
   "cell_type": "markdown",
   "id": "d030e155-9844-40d2-a0fe-5cb6f641eef9",
   "metadata": {},
   "source": [
    "**max**"
   ]
  },
  {
   "cell_type": "code",
   "execution_count": 16,
   "id": "3851e5e2-ddf0-4b34-a154-3de7bcbfa9bc",
   "metadata": {},
   "outputs": [
    {
     "data": {
      "text/plain": [
       "'y'"
      ]
     },
     "execution_count": 16,
     "metadata": {},
     "output_type": "execute_result"
    }
   ],
   "source": [
    "name='python'\n",
    "max(name)"
   ]
  },
  {
   "cell_type": "markdown",
   "id": "f7e980a8-84ff-4b8b-b20b-457324df2454",
   "metadata": {},
   "source": [
    "**sorted**\n",
    "- sorted means either ascending or desecending orde\n",
    "- ascending order: small to big\n",
    "- descending order: Big to small"
   ]
  },
  {
   "cell_type": "code",
   "execution_count": 21,
   "id": "bff81e2c-f831-4c24-bcfb-f9f71e8d472b",
   "metadata": {},
   "outputs": [
    {
     "data": {
      "text/plain": [
       "['h', 'n', 'o', 'p', 't', 'y']"
      ]
     },
     "execution_count": 21,
     "metadata": {},
     "output_type": "execute_result"
    }
   ],
   "source": [
    "sorted('python')\n",
    "# by defualt "
   ]
  },
  {
   "cell_type": "code",
   "execution_count": null,
   "id": "c5d2d759-0df0-446c-9cc9-91f3f379cd9f",
   "metadata": {},
   "outputs": [],
   "source": []
  },
  {
   "cell_type": "code",
   "execution_count": 17,
   "id": "b5ef83db-9f24-4933-a588-3921250962a9",
   "metadata": {},
   "outputs": [
    {
     "name": "stdout",
     "output_type": "stream",
     "text": [
      "30\n"
     ]
    }
   ],
   "source": [
    "def add(a,b):\n",
    "    print(a+b)\n",
    "add(a=10,b=20)#==works\n",
    "#---------------\n",
    "\n",
    "def add(a,/,b):\n",
    "    print(a+b)\n",
    "add(a=10,b=20)######fail\n",
    "#--------------\n",
    "def add(a,b):\n",
    "    print(a+b)\n",
    "add(10,b=20)#=====working\n",
    "#------------------\n",
    "def add(a,b):\n",
    "    print(a+b)\n",
    "add(a=10,20)#===fail,not working"
   ]
  },
  {
   "cell_type": "markdown",
   "id": "44b4151d-53f3-4aee-87f8-e7d19ae51a5f",
   "metadata": {},
   "source": [
    "**nate:** \n",
    "- / before dont use argument name\n",
    "- / after you can argument name, that is our wish\n",
    "- (*)indicates no need maintain the oerder of the arguments\n"
   ]
  },
  {
   "cell_type": "code",
   "execution_count": 20,
   "id": "535e11e9-69df-46d9-b38a-3f21de72d384",
   "metadata": {},
   "outputs": [
    {
     "ename": "TypeError",
     "evalue": "sorted expected 1 argument, got 0",
     "output_type": "error",
     "traceback": [
      "\u001b[1;31m---------------------------------------------------------------------------\u001b[0m",
      "\u001b[1;31mTypeError\u001b[0m                                 Traceback (most recent call last)",
      "Cell \u001b[1;32mIn[20], line 1\u001b[0m\n\u001b[1;32m----> 1\u001b[0m \u001b[38;5;28msorted\u001b[39m(iterable\u001b[38;5;241m=\u001b[39m\u001b[38;5;124m'\u001b[39m\u001b[38;5;124mpython\u001b[39m\u001b[38;5;124m'\u001b[39m)\n",
      "\u001b[1;31mTypeError\u001b[0m: sorted expected 1 argument, got 0"
     ]
    }
   ],
   "source": [
    "sorted(iterable='python')"
   ]
  },
  {
   "cell_type": "code",
   "execution_count": 22,
   "id": "73db8760-f514-4ea9-9e29-caf352612c30",
   "metadata": {},
   "outputs": [
    {
     "name": "stdout",
     "output_type": "stream",
     "text": [
      "60\n"
     ]
    }
   ],
   "source": [
    "def add(a,/,*,b,c):\n",
    "    print(a+b+c)\n",
    "add(10,c=20,b=30)"
   ]
  },
  {
   "cell_type": "code",
   "execution_count": 24,
   "id": "d2bb73db-e1cc-450c-9e37-8d3694066253",
   "metadata": {},
   "outputs": [
    {
     "ename": "TypeError",
     "evalue": "add() takes 1 positional argument but 2 were given",
     "output_type": "error",
     "traceback": [
      "\u001b[1;31m---------------------------------------------------------------------------\u001b[0m",
      "\u001b[1;31mTypeError\u001b[0m                                 Traceback (most recent call last)",
      "Cell \u001b[1;32mIn[24], line 1\u001b[0m\n\u001b[1;32m----> 1\u001b[0m add(\u001b[38;5;241m10\u001b[39m,\u001b[38;5;241m20\u001b[39m)\n",
      "\u001b[1;31mTypeError\u001b[0m: add() takes 1 positional argument but 2 were given"
     ]
    }
   ],
   "source": [
    "add(10,20)"
   ]
  },
  {
   "cell_type": "markdown",
   "id": "a5ca7f3a-8e6b-4917-be0c-036f87e4c521",
   "metadata": {},
   "source": [
    "**note:2**\n",
    "\n",
    "(*) indicates provide the argument name\n"
   ]
  },
  {
   "cell_type": "code",
   "execution_count": 25,
   "id": "718daaad-5b2a-4fe1-9ad2-de99203bc1e7",
   "metadata": {},
   "outputs": [
    {
     "data": {
      "text/plain": [
       "['y', 't', 'p', 'o', 'n', 'h']"
      ]
     },
     "execution_count": 25,
     "metadata": {},
     "output_type": "execute_result"
    }
   ],
   "source": [
    "sorted('python',reverse=True)\n",
    "\n",
    "# / before dont use==correct\n",
    "# * after you should use ===wrong"
   ]
  },
  {
   "cell_type": "code",
   "execution_count": null,
   "id": "794a4809-2c50-4dd0-ae48-bea3d4739730",
   "metadata": {},
   "outputs": [],
   "source": [
    "sorted('python') #w  by default result=False\n",
    "\n",
    "sorted(iterable='python') # f\n",
    "\n",
    "sorted('python',reverse=True) # w\n",
    "\n",
    "sorted(iterable='python',reverse=True) # f\n",
    "\n",
    "sorted('python',True) # f\n"
   ]
  },
  {
   "cell_type": "markdown",
   "id": "cd0c366e-5388-4c9c-b62b-26e2f5277592",
   "metadata": {},
   "source": [
    "**reversed**"
   ]
  },
  {
   "cell_type": "code",
   "execution_count": 26,
   "id": "218315d8-f285-4506-89b9-31de8a37962f",
   "metadata": {},
   "outputs": [
    {
     "ename": "TypeError",
     "evalue": "reversed() takes no keyword arguments",
     "output_type": "error",
     "traceback": [
      "\u001b[1;31m---------------------------------------------------------------------------\u001b[0m",
      "\u001b[1;31mTypeError\u001b[0m                                 Traceback (most recent call last)",
      "Cell \u001b[1;32mIn[26], line 1\u001b[0m\n\u001b[1;32m----> 1\u001b[0m \u001b[38;5;28mreversed\u001b[39m(sequence\u001b[38;5;241m=\u001b[39m\u001b[38;5;124m'\u001b[39m\u001b[38;5;124mpreethi\u001b[39m\u001b[38;5;124m'\u001b[39m)\n",
      "\u001b[1;31mTypeError\u001b[0m: reversed() takes no keyword arguments"
     ]
    }
   ],
   "source": [
    "reversed(sequence='preethi')"
   ]
  },
  {
   "cell_type": "code",
   "execution_count": 27,
   "id": "ce0d7b8a-e66e-4f99-8783-c54dc117a688",
   "metadata": {},
   "outputs": [
    {
     "data": {
      "text/plain": [
       "<reversed at 0x21b17bfc6d0>"
      ]
     },
     "execution_count": 27,
     "metadata": {},
     "output_type": "execute_result"
    }
   ],
   "source": [
    "reversed('preethi')"
   ]
  },
  {
   "cell_type": "code",
   "execution_count": 28,
   "id": "58f7e8fb-e561-4cd3-9165-3098ad671df8",
   "metadata": {},
   "outputs": [
    {
     "data": {
      "text/plain": [
       "<reversed at 0x21b17bff9d0>"
      ]
     },
     "execution_count": 28,
     "metadata": {},
     "output_type": "execute_result"
    }
   ],
   "source": [
    "ans=reversed('preethi') # reverse word ans in saved at address we can see the ans by useing for loop\n",
    "ans"
   ]
  },
  {
   "cell_type": "code",
   "execution_count": null,
   "id": "249d9ddc-148d-47c9-bd58-0db89389040f",
   "metadata": {},
   "outputs": [],
   "source": [
    "- answer saved at address memory location\n",
    "- we can see thge ans by using for loop or list\n",
    "- whenevr we see less than greater than symbol answer\n",
    "- try to apply for loop or list"
   ]
  },
  {
   "cell_type": "code",
   "execution_count": 4,
   "id": "d4db29f6-46b2-44f6-ae35-4514f79faa02",
   "metadata": {},
   "outputs": [
    {
     "name": "stdout",
     "output_type": "stream",
     "text": [
      "i h t e e r p "
     ]
    }
   ],
   "source": [
    "ans=reversed('preethi')\n",
    "ans\n",
    "for i in ans:\n",
    "    print(i,end=' ')"
   ]
  },
  {
   "cell_type": "code",
   "execution_count": 34,
   "id": "846642ba-6321-4bac-ad61-dbcde2fee6b8",
   "metadata": {},
   "outputs": [
    {
     "data": {
      "text/plain": [
       "['i', 'h', 't', 'e', 'e', 'r', 'p']"
      ]
     },
     "execution_count": 34,
     "metadata": {},
     "output_type": "execute_result"
    }
   ],
   "source": [
    "ans= reversed('preethi')\n",
    "list(ans)"
   ]
  },
  {
   "cell_type": "markdown",
   "id": "d138d621-1fbe-41c2-8098-2ea1d64f6433",
   "metadata": {},
   "source": [
    "**concatenation**"
   ]
  },
  {
   "cell_type": "code",
   "execution_count": null,
   "id": "9ada32f9-0d1e-4190-9c2a-9b61e4716385",
   "metadata": {},
   "outputs": [],
   "source": [
    "str1='hello'\n",
    "str2='python'\n",
    "str1+str2\n",
    "str1-str2\n",
    "str1*str2\n",
    "str1/str2"
   ]
  },
  {
   "cell_type": "code",
   "execution_count": 36,
   "id": "a9f6db05-1062-480b-b795-e810e2b541a0",
   "metadata": {},
   "outputs": [
    {
     "data": {
      "text/plain": [
       "'hellopython'"
      ]
     },
     "execution_count": 36,
     "metadata": {},
     "output_type": "execute_result"
    }
   ],
   "source": [
    "str1='hello'\n",
    "str2='python'\n",
    "str1+str2\n"
   ]
  },
  {
   "cell_type": "code",
   "execution_count": 37,
   "id": "8bf9a2f7-1b3b-46c8-83d5-5c265e1604de",
   "metadata": {},
   "outputs": [
    {
     "ename": "TypeError",
     "evalue": "unsupported operand type(s) for -: 'str' and 'str'",
     "output_type": "error",
     "traceback": [
      "\u001b[1;31m---------------------------------------------------------------------------\u001b[0m",
      "\u001b[1;31mTypeError\u001b[0m                                 Traceback (most recent call last)",
      "Cell \u001b[1;32mIn[37], line 3\u001b[0m\n\u001b[0;32m      1\u001b[0m str1\u001b[38;5;241m=\u001b[39m\u001b[38;5;124m'\u001b[39m\u001b[38;5;124mhello\u001b[39m\u001b[38;5;124m'\u001b[39m\n\u001b[0;32m      2\u001b[0m str2\u001b[38;5;241m=\u001b[39m\u001b[38;5;124m'\u001b[39m\u001b[38;5;124mpython\u001b[39m\u001b[38;5;124m'\u001b[39m\n\u001b[1;32m----> 3\u001b[0m str1\u001b[38;5;241m-\u001b[39mstr2\n",
      "\u001b[1;31mTypeError\u001b[0m: unsupported operand type(s) for -: 'str' and 'str'"
     ]
    }
   ],
   "source": [
    "str1='hello'\n",
    "str2='python'\n",
    "str1-str2"
   ]
  },
  {
   "cell_type": "code",
   "execution_count": 40,
   "id": "1cd0ad0d-50e3-4a74-8c10-b3c56e1cc729",
   "metadata": {},
   "outputs": [
    {
     "data": {
      "text/plain": [
       "'hellohellohello'"
      ]
     },
     "execution_count": 40,
     "metadata": {},
     "output_type": "execute_result"
    }
   ],
   "source": [
    "str1='hello'\n",
    "str2='python'\n",
    "str1*3  # cont multiply words \n",
    "# multiply the num "
   ]
  },
  {
   "cell_type": "code",
   "execution_count": 45,
   "id": "dddb3a40-d61a-40c8-875c-9bede8f46c99",
   "metadata": {},
   "outputs": [
    {
     "data": {
      "text/plain": [
       "'hello python'"
      ]
     },
     "execution_count": 45,
     "metadata": {},
     "output_type": "execute_result"
    }
   ],
   "source": [
    "\n",
    "\n",
    "str1='hello'\n",
    "str2='python'\n",
    "str1+' '+str2"
   ]
  },
  {
   "cell_type": "code",
   "execution_count": 42,
   "id": "6894c47a-c0b1-45da-962d-d27ac4f4b949",
   "metadata": {},
   "outputs": [
    {
     "data": {
      "text/plain": [
       "'hello  python'"
      ]
     },
     "execution_count": 42,
     "metadata": {},
     "output_type": "execute_result"
    }
   ],
   "source": [
    "str1='hello'\n",
    "str2='  python'\n",
    "str1+str2"
   ]
  },
  {
   "cell_type": "code",
   "execution_count": 43,
   "id": "b0ab3e3a-00fd-4595-ba7d-bed4d6576d6a",
   "metadata": {},
   "outputs": [
    {
     "data": {
      "text/plain": [
       "'hello  python'"
      ]
     },
     "execution_count": 43,
     "metadata": {},
     "output_type": "execute_result"
    }
   ],
   "source": [
    "str1='hello  '\n",
    "str2='python'\n",
    "str1+str2"
   ]
  },
  {
   "cell_type": "markdown",
   "id": "c66d8b8f-e18e-408c-a343-2bd5683d2c60",
   "metadata": {},
   "source": [
    "**index**"
   ]
  },
  {
   "cell_type": "code",
   "execution_count": 1,
   "id": "0f1add7e-4995-4511-85c6-ee8e9ac86a9a",
   "metadata": {},
   "outputs": [
    {
     "data": {
      "text/plain": [
       "'python'"
      ]
     },
     "execution_count": 1,
     "metadata": {},
     "output_type": "execute_result"
    }
   ],
   "source": [
    "str1='python'\n",
    "str1"
   ]
  },
  {
   "cell_type": "code",
   "execution_count": null,
   "id": "f59d1afe-6aa1-4ef2-b4f3-ffe209dbdcbb",
   "metadata": {},
   "outputs": [],
   "source": [
    "-6 -5 -4 -3 -2 -1\n",
    " p  y  t  h  o  n\n",
    " 0  1  2  3  4  5"
   ]
  },
  {
   "cell_type": "markdown",
   "id": "e5a03456-fb68-481e-9118-68ef485ea57c",
   "metadata": {},
   "source": [
    "- access the charecters or elements use square bracket"
   ]
  },
  {
   "cell_type": "code",
   "execution_count": 5,
   "id": "5ca01d71-6118-4d05-a924-4abaab9e9276",
   "metadata": {},
   "outputs": [
    {
     "data": {
      "text/plain": [
       "('p', 'p')"
      ]
     },
     "execution_count": 5,
     "metadata": {},
     "output_type": "execute_result"
    }
   ],
   "source": [
    "str1='python'\n",
    "str1[0],str1[-6]"
   ]
  },
  {
   "cell_type": "code",
   "execution_count": 5,
   "id": "6b0631d9-5ea5-4cb8-8fa3-2fbf306814b6",
   "metadata": {},
   "outputs": [
    {
     "data": {
      "text/plain": [
       "('y', 'y')"
      ]
     },
     "execution_count": 5,
     "metadata": {},
     "output_type": "execute_result"
    }
   ],
   "source": [
    "str1[1],str1[-5]"
   ]
  },
  {
   "cell_type": "code",
   "execution_count": 6,
   "id": "b38f34d7-53f9-45a7-aa77-c3eb8c1ca7e4",
   "metadata": {},
   "outputs": [
    {
     "data": {
      "text/plain": [
       "('t', 't')"
      ]
     },
     "execution_count": 6,
     "metadata": {},
     "output_type": "execute_result"
    }
   ],
   "source": [
    "str1[2],str1[-4]"
   ]
  },
  {
   "cell_type": "code",
   "execution_count": 7,
   "id": "c8a8d7e7-5319-4d36-8d88-4374c4555cb1",
   "metadata": {},
   "outputs": [
    {
     "data": {
      "text/plain": [
       "('h', 'h')"
      ]
     },
     "execution_count": 7,
     "metadata": {},
     "output_type": "execute_result"
    }
   ],
   "source": [
    "str1[3],str1[-3]"
   ]
  },
  {
   "cell_type": "code",
   "execution_count": 8,
   "id": "b4dbd469-4680-4e31-9b2e-f433c5921db2",
   "metadata": {},
   "outputs": [
    {
     "data": {
      "text/plain": [
       "('o', 'o')"
      ]
     },
     "execution_count": 8,
     "metadata": {},
     "output_type": "execute_result"
    }
   ],
   "source": [
    "str1[4],str1[-2]"
   ]
  },
  {
   "cell_type": "code",
   "execution_count": 9,
   "id": "b3c664a8-35b1-4735-97b9-a3cc3edb372d",
   "metadata": {},
   "outputs": [
    {
     "data": {
      "text/plain": [
       "('n', 'n')"
      ]
     },
     "execution_count": 9,
     "metadata": {},
     "output_type": "execute_result"
    }
   ],
   "source": [
    "str1[5],str1[-1]"
   ]
  },
  {
   "cell_type": "code",
   "execution_count": 13,
   "id": "194921c9-f9f8-4849-85a0-306d840cc0e3",
   "metadata": {},
   "outputs": [
    {
     "name": "stdout",
     "output_type": "stream",
     "text": [
      "p\n",
      "y\n",
      "t\n",
      "h\n",
      "o\n",
      "n\n"
     ]
    }
   ],
   "source": [
    "\n",
    "for i in range(0,6):\n",
    "    print(str1[i])"
   ]
  },
  {
   "cell_type": "code",
   "execution_count": 14,
   "id": "3b4023c3-dd34-4883-8350-675aa7aee176",
   "metadata": {},
   "outputs": [
    {
     "name": "stdout",
     "output_type": "stream",
     "text": [
      "h\n",
      "e\n",
      "l\n",
      "l\n",
      "o\n",
      " \n",
      "h\n",
      "o\n",
      "w\n",
      " \n",
      "a\n",
      "r\n",
      "e\n",
      " \n",
      "y\n",
      "o\n",
      "u\n"
     ]
    }
   ],
   "source": [
    "str1='hello how are you'\n",
    "n=len(str1)\n",
    "for i in range(0,n):\n",
    "    print(str1[i])"
   ]
  },
  {
   "cell_type": "code",
   "execution_count": 20,
   "id": "e1f940f2-9c2c-4ffa-a1ad-f8f6ffc63045",
   "metadata": {},
   "outputs": [
    {
     "name": "stdout",
     "output_type": "stream",
     "text": [
      " the positive index  p is 0\n",
      " the positive index  y is 1\n",
      " the positive index  t is 2\n",
      " the positive index  h is 3\n",
      " the positive index  o is 4\n",
      " the positive index  n is 5\n"
     ]
    }
   ],
   "source": [
    "#Q1)\n",
    "# the positive index of p is 0\n",
    "# the positive index of y is 1\n",
    "# the positive index of n is 2\n",
    "\n",
    "str1='python'\n",
    "n=len(str1)\n",
    "for i in range(0,n):\n",
    "    print(f' the positive index  {str1[i]} is {i}')"
   ]
  },
  {
   "cell_type": "code",
   "execution_count": 24,
   "id": "f4ed7edc-ce4e-4c4a-8d52-ca4c8d9b7b29",
   "metadata": {},
   "outputs": [
    {
     "name": "stdout",
     "output_type": "stream",
     "text": [
      "the negative index p is -6\n",
      "the negative index y is -5\n",
      "the negative index t is -4\n",
      "the negative index h is -3\n",
      "the negative index o is -2\n",
      "the negative index n is -1\n"
     ]
    }
   ],
   "source": [
    "#Q2)\n",
    "# the positive index of p is -6\n",
    "# the positive index of y is -5\n",
    "# the positive index of n is -4\n",
    "\n",
    "str2='python'\n",
    "n1=len(str2)\n",
    "for i in range(-6,0):\n",
    "    print(f'the negative index {str2[i]} is {i}')"
   ]
  },
  {
   "cell_type": "code",
   "execution_count": 27,
   "id": "a5165c49-589e-4305-a457-5948e0269604",
   "metadata": {},
   "outputs": [
    {
     "name": "stdout",
     "output_type": "stream",
     "text": [
      "the negative index p is -6\n",
      "the negative index y is -5\n",
      "the negative index t is -4\n",
      "the negative index h is -3\n",
      "the negative index o is -2\n",
      "the negative index n is -1\n",
      "the positive index p is 0\n",
      "the positive index y is 1\n",
      "the positive index t is 2\n",
      "the positive index h is 3\n",
      "the positive index o is 4\n",
      "the positive index n is 5\n"
     ]
    }
   ],
   "source": [
    "#Q3) positive and negative index is -6 for p\n",
    "str3='python'\n",
    "n3=len(str3)\n",
    "for i in range(-n3,0):\n",
    "    print(f'the negative index {str3[i]} is {i}')\n",
    "for i in range(0,n3):\n",
    "    print(f'the positive index {str3[i]} is {i}')"
   ]
  },
  {
   "cell_type": "code",
   "execution_count": 28,
   "id": "af37c6f2-064f-4957-8ca1-d548296c1006",
   "metadata": {},
   "outputs": [
    {
     "name": "stdout",
     "output_type": "stream",
     "text": [
      "0 -6\n",
      "the positive index is 0,negative index is -6for:p\n",
      "1 -5\n",
      "the positive index is 1,negative index is -5for:y\n",
      "2 -4\n",
      "the positive index is 2,negative index is -4for:t\n",
      "3 -3\n",
      "the positive index is 3,negative index is -3for:h\n",
      "4 -2\n",
      "the positive index is 4,negative index is -2for:o\n",
      "5 -1\n",
      "the positive index is 5,negative index is -1for:n\n"
     ]
    }
   ],
   "source": [
    "for i in range(0,6):\n",
    "    print(i,i-6)\n",
    "    print(f'the positive index is {i},negative index is {i-6}for:{str1[i]}')\n",
    "    "
   ]
  },
  {
   "cell_type": "markdown",
   "id": "701f163c-ae3d-477c-9b22-6ae22c32bd6b",
   "metadata": {},
   "source": [
    "**when to use **in** - when to use **range** operator**"
   ]
  },
  {
   "cell_type": "markdown",
   "id": "aaa05219-e5a3-4cbd-808c-34998edcb13b",
   "metadata": {},
   "source": [
    "- **in** operator directly access the elements \n",
    "- **raange** operator access the elements using index or number\n",
    "- any problem statement if you need numbers then go for range\n",
    "- otherwise go for in operator directly"
   ]
  },
  {
   "cell_type": "code",
   "execution_count": 33,
   "id": "8157e6da-074b-4fb5-b5b3-f15d6660b143",
   "metadata": {},
   "outputs": [
    {
     "name": "stdout",
     "output_type": "stream",
     "text": [
      "p\n",
      "y\n",
      "t\n",
      "h\n",
      "o\n",
      "n\n",
      "0 p\n",
      "1 y\n",
      "2 t\n",
      "3 h\n",
      "4 o\n",
      "5 n\n"
     ]
    }
   ],
   "source": [
    "str1='python'\n",
    "for i in str1:\n",
    "    print(i)\n",
    "\n",
    "for i in range(0,6):\n",
    "    print(i,str1[i])"
   ]
  },
  {
   "cell_type": "code",
   "execution_count": 49,
   "id": "5999db31-fe79-4532-a464-44176ff95f91",
   "metadata": {},
   "outputs": [
    {
     "name": "stdout",
     "output_type": "stream",
     "text": [
      "2\n",
      "6\n",
      "10\n"
     ]
    }
   ],
   "source": [
    "# Q4) write a progarm to find the indexes of 'a' in a given string\n",
    "#     str1='ola ola ola'\n",
    "\n",
    "str1='ola ola ola'\n",
    "\n",
    "for i in range(len(str1)):\n",
    "    if str1[i]=='a':\n",
    "        print(i)"
   ]
  },
  {
   "cell_type": "code",
   "execution_count": 52,
   "id": "ddf4e8e4-51e6-4bbf-872e-288a68414ef1",
   "metadata": {},
   "outputs": [
    {
     "name": "stdout",
     "output_type": "stream",
     "text": [
      "2\n",
      "6\n",
      "10\n",
      "the number of a are: 18\n",
      "the number of indexes are: 18\n"
     ]
    }
   ],
   "source": [
    "# Q5) write a program to find the sum of all indexes of 'a' in a given string\n",
    "#    str1='ola ola ola'\n",
    "str1='ola ola ola'\n",
    "summ=0\n",
    "count=0\n",
    "for i in range(len(str1)):\n",
    "    if str1[i]=='a':\n",
    "        print(i)\n",
    "        summ=summ+i\n",
    "        count=count+i\n",
    "print('the number of a are:',summ)\n",
    "print('the number of indexes are:',count)"
   ]
  },
  {
   "cell_type": "code",
   "execution_count": 6,
   "id": "0b68bf99-c75d-40b1-b829-a664ee132cfe",
   "metadata": {},
   "outputs": [
    {
     "name": "stdout",
     "output_type": "stream",
     "text": [
      "the number of a: 3\n"
     ]
    }
   ],
   "source": [
    "# Q6) write a progarm to find the number of 'a' in a given string\n",
    "#    str1='ola ola ola'\n",
    "\n",
    "str1='ola ola ola'\n",
    "count=0\n",
    "for i in range(len(str1)):\n",
    "    if str1[i]=='a':\n",
    "        count=count+1\n",
    "print('the number of a:',count)"
   ]
  },
  {
   "cell_type": "code",
   "execution_count": 60,
   "id": "95f6616d-519b-4e57-8998-28cf369b2631",
   "metadata": {},
   "outputs": [
    {
     "name": "stdout",
     "output_type": "stream",
     "text": [
      "a\n",
      "i\n",
      "o\n",
      "a\n",
      "e\n",
      "o\n",
      "u\n",
      "7\n"
     ]
    }
   ],
   "source": [
    "# Q7) write a progarm to find the vowels and its count in a given string\n",
    "#    str1='hai how are you'\n",
    "\n",
    "str1='hai how are you'\n",
    "s1='aeiou'\n",
    "count=0\n",
    "for i in str1:\n",
    "    if i in s1:\n",
    "        print(i)\n",
    "        count=count+1\n",
    "print(count)"
   ]
  },
  {
   "cell_type": "code",
   "execution_count": 73,
   "id": "8bd8fded-5054-49ef-924d-81656258c198",
   "metadata": {},
   "outputs": [
    {
     "name": "stdout",
     "output_type": "stream",
     "text": [
      "a\n",
      "e\n"
     ]
    }
   ],
   "source": [
    "# Q8) write a progarm to find the vowels which are repaeting then print only \n",
    "#     one time \n",
    "#     example: helleo  \n",
    "#      e is coming two times but we want to print only one time\n",
    "str1='aae'\n",
    "s1=''\n",
    "for i in str1:\n",
    "    if i in 'aeiou' and  i not in s1:\n",
    "        print(i)\n",
    "        s1=s1+i\n",
    "\n",
    "# i=a if a in aeiou True print a\n",
    "# i=a say i already seen"
   ]
  },
  {
   "cell_type": "markdown",
   "id": "8dde6daa-efa8-4671-a7c5-2907052efc0e",
   "metadata": {},
   "source": [
    "**mutable-immutable**"
   ]
  },
  {
   "cell_type": "markdown",
   "id": "8311e2d1-ff95-4646-bdd0-d5eea50a40f9",
   "metadata": {},
   "source": [
    "- mutable means change\n",
    "- immutable means can not change\n",
    "- we can not change the elements using **index operations**\n",
    "- strings are **immutable**\n",
    "- list are **mutable**"
   ]
  },
  {
   "cell_type": "code",
   "execution_count": 69,
   "id": "72493890-be79-43c2-a297-51b351466abd",
   "metadata": {},
   "outputs": [
    {
     "ename": "TypeError",
     "evalue": "'type' object does not support item assignment",
     "output_type": "error",
     "traceback": [
      "\u001b[1;31m---------------------------------------------------------------------------\u001b[0m",
      "\u001b[1;31mTypeError\u001b[0m                                 Traceback (most recent call last)",
      "Cell \u001b[1;32mIn[69], line 2\u001b[0m\n\u001b[0;32m      1\u001b[0m str1\u001b[38;5;241m=\u001b[39m\u001b[38;5;124m'\u001b[39m\u001b[38;5;124mhello\u001b[39m\u001b[38;5;124m'\u001b[39m\n\u001b[1;32m----> 2\u001b[0m \u001b[38;5;28mstr\u001b[39m[\u001b[38;5;241m2\u001b[39m]\u001b[38;5;241m=\u001b[39m\u001b[38;5;124m'\u001b[39m\u001b[38;5;124mL\u001b[39m\u001b[38;5;124m'\u001b[39m\n",
      "\u001b[1;31mTypeError\u001b[0m: 'type' object does not support item assignment"
     ]
    }
   ],
   "source": [
    "str1='hello'\n",
    "str[2]='L'"
   ]
  },
  {
   "cell_type": "code",
   "execution_count": 71,
   "id": "9916e0f4-7f15-41f1-b5ce-3c5c10183235",
   "metadata": {},
   "outputs": [
    {
     "data": {
      "text/plain": [
       "[10, 8, 30]"
      ]
     },
     "execution_count": 71,
     "metadata": {},
     "output_type": "execute_result"
    }
   ],
   "source": [
    "l=[10,20,30]\n",
    "l[1]=8\n",
    "l"
   ]
  },
  {
   "cell_type": "markdown",
   "id": "b0c2f156-e3dd-44ba-8d59-ed484f8a3a71",
   "metadata": {},
   "source": [
    "**slice**\n",
    "- slice means cut into pieces\n",
    "- it has similar analogy with for loop range\n",
    "- in the for loop range we have start, stop, step\n",
    "- range (start,stop,step) str[start:stop:step]"
   ]
  },
  {
   "cell_type": "code",
   "execution_count": null,
   "id": "25fb43bd-14a6-488a-8e9b-38e9af8e6c10",
   "metadata": {},
   "outputs": [],
   "source": [
    "-17-16-15-14-13-12-11-10-9 -8 -7 -6 -5 -4 -3 -2 -1\n",
    " h  e  l  l  o      h  o  w    a  r  e     y  o  u\n",
    "0  1   2  3  4  5   6  7  8 9 10 11 12 13 14 15 16"
   ]
  },
  {
   "cell_type": "markdown",
   "id": "027ae890-0326-4713-80e1-362da586fdc8",
   "metadata": {},
   "source": [
    "$case-1$\n",
    "**star[:stop]**\n",
    "- by default start=0\n",
    "- by default step= positive direction 1\n",
    "- last=stop-1"
   ]
  },
  {
   "cell_type": "code",
   "execution_count": 1,
   "id": "e9249410-8b98-48fd-9b6a-93f134645f1a",
   "metadata": {},
   "outputs": [
    {
     "data": {
      "text/plain": [
       "'hello'"
      ]
     },
     "execution_count": 1,
     "metadata": {},
     "output_type": "execute_result"
    }
   ],
   "source": [
    "str1='hello how are you'\n",
    "str1[:5]\n",
    "# start=0 step=1 stop=5-1=4"
   ]
  },
  {
   "cell_type": "markdown",
   "id": "0c4798e0-6290-4ac5-be88-7df2f46bb88e",
   "metadata": {},
   "source": [
    "$case-2$\n",
    "**star[:start]**\n",
    "- by default start=start value\n",
    "- by default step= positive direction 1\n",
    "- last=stop-1"
   ]
  },
  {
   "cell_type": "code",
   "execution_count": 4,
   "id": "18f5e8d3-9faa-4830-aef0-d6be6f07ad9d",
   "metadata": {},
   "outputs": [
    {
     "data": {
      "text/plain": [
       "' how are you'"
      ]
     },
     "execution_count": 4,
     "metadata": {},
     "output_type": "execute_result"
    }
   ],
   "source": [
    "str1[5:]"
   ]
  },
  {
   "cell_type": "markdown",
   "id": "a817606d-c366-4aa9-8541-9f40e751194a",
   "metadata": {},
   "source": [
    "$case-3$\n",
    "**star[start:stop]**\n",
    "- by default start=start value\n",
    "- by default step= positive direction 1\n",
    "- last=stop-1"
   ]
  },
  {
   "cell_type": "code",
   "execution_count": 7,
   "id": "cfe2aa3d-30c5-4029-af62-a64d3545c9cd",
   "metadata": {},
   "outputs": [
    {
     "data": {
      "text/plain": [
       "'how are yo'"
      ]
     },
     "execution_count": 7,
     "metadata": {},
     "output_type": "execute_result"
    }
   ],
   "source": [
    "# -17-16-15-14-13 -12-11-10-9 -8 -7 -6 -5 -4 -3 -2 -1\n",
    "#  h  e  l  l  o      h  o  w     a  r  e     y  o  u\n",
    "#  0  1  2  3  4  5   6  7  8  9 10 11 12 13 14 15 16\n",
    "\n",
    "\n",
    "str1[6:16]"
   ]
  },
  {
   "cell_type": "code",
   "execution_count": 8,
   "id": "94fcd935-d254-4e84-9fb9-08cd4ee1af80",
   "metadata": {},
   "outputs": [
    {
     "data": {
      "text/plain": [
       "'ow a'"
      ]
     },
     "execution_count": 8,
     "metadata": {},
     "output_type": "execute_result"
    }
   ],
   "source": [
    "str1[-10:11]"
   ]
  },
  {
   "cell_type": "code",
   "execution_count": 9,
   "id": "142c681a-1517-4f10-85ba-83821f0e80f3",
   "metadata": {},
   "outputs": [
    {
     "data": {
      "text/plain": [
       "''"
      ]
     },
     "execution_count": 9,
     "metadata": {},
     "output_type": "execute_result"
    }
   ],
   "source": [
    "str1[-10:1]"
   ]
  },
  {
   "cell_type": "code",
   "execution_count": 10,
   "id": "6ef501ed-6300-4771-80fa-3c15b406fc28",
   "metadata": {},
   "outputs": [
    {
     "data": {
      "text/plain": [
       "'llo how are y'"
      ]
     },
     "execution_count": 10,
     "metadata": {},
     "output_type": "execute_result"
    }
   ],
   "source": [
    "str1[2:-2] # strings are only forword direction it mean +ve direction"
   ]
  },
  {
   "cell_type": "code",
   "execution_count": 11,
   "id": "c01a53ea-8a72-4d19-a85a-f6db8929225c",
   "metadata": {},
   "outputs": [],
   "source": [
    "for i in range(2,-2):  #for loop +ve and -ve sides work\n",
    "    print(i)"
   ]
  },
  {
   "cell_type": "code",
   "execution_count": 12,
   "id": "2e9fa88f-114c-41fd-90f4-2686eb35bbf6",
   "metadata": {},
   "outputs": [
    {
     "data": {
      "text/plain": [
       "'ello how are yo'"
      ]
     },
     "execution_count": 12,
     "metadata": {},
     "output_type": "execute_result"
    }
   ],
   "source": [
    "str1[1:-1]"
   ]
  },
  {
   "cell_type": "code",
   "execution_count": 13,
   "id": "00b0848a-0712-4774-998f-7543ea2e8461",
   "metadata": {},
   "outputs": [
    {
     "data": {
      "text/plain": [
       "''"
      ]
     },
     "execution_count": 13,
     "metadata": {},
     "output_type": "execute_result"
    }
   ],
   "source": [
    "str1[-1:1]"
   ]
  },
  {
   "cell_type": "markdown",
   "id": "a4f3f916-91aa-4bad-bbfb-d27e4aa51add",
   "metadata": {},
   "source": [
    "$case-4$\n",
    "**star[start:stop]**\n",
    "- by default start=start value\n",
    "- if step is positive value\n",
    "    - last=stop-1\n",
    "- if step is negative\n",
    "   - last=stop+1"
   ]
  },
  {
   "cell_type": "code",
   "execution_count": null,
   "id": "0f25405b-ea43-4191-9330-d36334d60da1",
   "metadata": {},
   "outputs": [],
   "source": [
    "# -17-16-15-14-13 -12-11-10-9 -8 -7 -6 -5 -4 -3 -2 -1\n",
    "#  h  e  l  l  o      h  o  w     a  r  e     y  o  u\n",
    "#  0  1  2  3  4  5   6  7  8  9 10 11 12 13 14 15 16"
   ]
  },
  {
   "cell_type": "code",
   "execution_count": 14,
   "id": "70b5f56f-b9a4-4343-914d-0a887fe17721",
   "metadata": {},
   "outputs": [
    {
     "data": {
      "text/plain": [
       "''"
      ]
     },
     "execution_count": 14,
     "metadata": {},
     "output_type": "execute_result"
    }
   ],
   "source": [
    "str1[-2:14:3]"
   ]
  },
  {
   "cell_type": "code",
   "execution_count": 15,
   "id": "b2442187-53b3-4f37-8202-239b2af5fcd8",
   "metadata": {},
   "outputs": [
    {
     "data": {
      "text/plain": [
       "''"
      ]
     },
     "execution_count": 15,
     "metadata": {},
     "output_type": "execute_result"
    }
   ],
   "source": [
    "str1[3:15:-2]"
   ]
  },
  {
   "cell_type": "code",
   "execution_count": 18,
   "id": "f221b729-dbb4-4736-951f-f8bc65345a33",
   "metadata": {},
   "outputs": [
    {
     "data": {
      "text/plain": [
       "'llo how ar'"
      ]
     },
     "execution_count": 18,
     "metadata": {},
     "output_type": "execute_result"
    }
   ],
   "source": [
    "str1[2:-5:1]"
   ]
  },
  {
   "cell_type": "code",
   "execution_count": 20,
   "id": "2ce84824-12fa-4817-a9d9-9a84b488eaf5",
   "metadata": {},
   "outputs": [
    {
     "data": {
      "text/plain": [
       "'wry'"
      ]
     },
     "execution_count": 20,
     "metadata": {},
     "output_type": "execute_result"
    }
   ],
   "source": [
    "str1[8:-1:3]"
   ]
  },
  {
   "cell_type": "code",
   "execution_count": 21,
   "id": "2b130a09-32a9-46a9-9923-dd2ca9b9f044",
   "metadata": {},
   "outputs": [
    {
     "data": {
      "text/plain": [
       "'hello how are you'"
      ]
     },
     "execution_count": 21,
     "metadata": {},
     "output_type": "execute_result"
    }
   ],
   "source": [
    "str1[:]"
   ]
  },
  {
   "cell_type": "code",
   "execution_count": 22,
   "id": "81145351-ff9a-481e-8198-053903dd4449",
   "metadata": {},
   "outputs": [
    {
     "data": {
      "text/plain": [
       "'hello how are you'"
      ]
     },
     "execution_count": 22,
     "metadata": {},
     "output_type": "execute_result"
    }
   ],
   "source": [
    "str1[::]"
   ]
  },
  {
   "cell_type": "code",
   "execution_count": 23,
   "id": "8f35893d-7977-41e3-b7fd-3639fe5d3c4f",
   "metadata": {},
   "outputs": [
    {
     "data": {
      "text/plain": [
       "'uoy era woh olleh'"
      ]
     },
     "execution_count": 23,
     "metadata": {},
     "output_type": "execute_result"
    }
   ],
   "source": [
    "str1[::-1]"
   ]
  },
  {
   "cell_type": "code",
   "execution_count": 24,
   "id": "c7df81d2-308c-4835-b1a8-f9e463e74ef7",
   "metadata": {},
   "outputs": [
    {
     "data": {
      "text/plain": [
       "'llo how are you'"
      ]
     },
     "execution_count": 24,
     "metadata": {},
     "output_type": "execute_result"
    }
   ],
   "source": [
    "str1[2:150]"
   ]
  },
  {
   "cell_type": "markdown",
   "id": "7e4e9757-bbd8-494c-86e6-44ba4beb5eec",
   "metadata": {},
   "source": [
    "## Methods"
   ]
  },
  {
   "cell_type": "code",
   "execution_count": 26,
   "id": "43765a49-16cd-4942-b7ed-9ebcefd42896",
   "metadata": {},
   "outputs": [
    {
     "data": {
      "text/plain": [
       "['__add__',\n",
       " '__class__',\n",
       " '__contains__',\n",
       " '__delattr__',\n",
       " '__dir__',\n",
       " '__doc__',\n",
       " '__eq__',\n",
       " '__format__',\n",
       " '__ge__',\n",
       " '__getattribute__',\n",
       " '__getitem__',\n",
       " '__getnewargs__',\n",
       " '__getstate__',\n",
       " '__gt__',\n",
       " '__hash__',\n",
       " '__init__',\n",
       " '__init_subclass__',\n",
       " '__iter__',\n",
       " '__le__',\n",
       " '__len__',\n",
       " '__lt__',\n",
       " '__mod__',\n",
       " '__mul__',\n",
       " '__ne__',\n",
       " '__new__',\n",
       " '__reduce__',\n",
       " '__reduce_ex__',\n",
       " '__repr__',\n",
       " '__rmod__',\n",
       " '__rmul__',\n",
       " '__setattr__',\n",
       " '__sizeof__',\n",
       " '__str__',\n",
       " '__subclasshook__',\n",
       " 'capitalize',\n",
       " 'casefold',\n",
       " 'center',\n",
       " 'count',\n",
       " 'encode',\n",
       " 'endswith',\n",
       " 'expandtabs',\n",
       " 'find',\n",
       " 'format',\n",
       " 'format_map',\n",
       " 'index',\n",
       " 'isalnum',\n",
       " 'isalpha',\n",
       " 'isascii',\n",
       " 'isdecimal',\n",
       " 'isdigit',\n",
       " 'isidentifier',\n",
       " 'islower',\n",
       " 'isnumeric',\n",
       " 'isprintable',\n",
       " 'isspace',\n",
       " 'istitle',\n",
       " 'isupper',\n",
       " 'join',\n",
       " 'ljust',\n",
       " 'lower',\n",
       " 'lstrip',\n",
       " 'maketrans',\n",
       " 'partition',\n",
       " 'removeprefix',\n",
       " 'removesuffix',\n",
       " 'replace',\n",
       " 'rfind',\n",
       " 'rindex',\n",
       " 'rjust',\n",
       " 'rpartition',\n",
       " 'rsplit',\n",
       " 'rstrip',\n",
       " 'split',\n",
       " 'splitlines',\n",
       " 'startswith',\n",
       " 'strip',\n",
       " 'swapcase',\n",
       " 'title',\n",
       " 'translate',\n",
       " 'upper',\n",
       " 'zfill']"
      ]
     },
     "execution_count": 26,
     "metadata": {},
     "output_type": "execute_result"
    }
   ],
   "source": [
    "dir('calendar')"
   ]
  },
  {
   "cell_type": "code",
   "execution_count": 27,
   "id": "67fae5a7-7a4e-4ff1-846b-b8eded5297a0",
   "metadata": {},
   "outputs": [
    {
     "data": {
      "text/plain": [
       "['__add__',\n",
       " '__class__',\n",
       " '__contains__',\n",
       " '__delattr__',\n",
       " '__dir__',\n",
       " '__doc__',\n",
       " '__eq__',\n",
       " '__format__',\n",
       " '__ge__',\n",
       " '__getattribute__',\n",
       " '__getitem__',\n",
       " '__getnewargs__',\n",
       " '__getstate__',\n",
       " '__gt__',\n",
       " '__hash__',\n",
       " '__init__',\n",
       " '__init_subclass__',\n",
       " '__iter__',\n",
       " '__le__',\n",
       " '__len__',\n",
       " '__lt__',\n",
       " '__mod__',\n",
       " '__mul__',\n",
       " '__ne__',\n",
       " '__new__',\n",
       " '__reduce__',\n",
       " '__reduce_ex__',\n",
       " '__repr__',\n",
       " '__rmod__',\n",
       " '__rmul__',\n",
       " '__setattr__',\n",
       " '__sizeof__',\n",
       " '__str__',\n",
       " '__subclasshook__',\n",
       " 'capitalize',\n",
       " 'casefold',\n",
       " 'center',\n",
       " 'count',\n",
       " 'encode',\n",
       " 'endswith',\n",
       " 'expandtabs',\n",
       " 'find',\n",
       " 'format',\n",
       " 'format_map',\n",
       " 'index',\n",
       " 'isalnum',\n",
       " 'isalpha',\n",
       " 'isascii',\n",
       " 'isdecimal',\n",
       " 'isdigit',\n",
       " 'isidentifier',\n",
       " 'islower',\n",
       " 'isnumeric',\n",
       " 'isprintable',\n",
       " 'isspace',\n",
       " 'istitle',\n",
       " 'isupper',\n",
       " 'join',\n",
       " 'ljust',\n",
       " 'lower',\n",
       " 'lstrip',\n",
       " 'maketrans',\n",
       " 'partition',\n",
       " 'removeprefix',\n",
       " 'removesuffix',\n",
       " 'replace',\n",
       " 'rfind',\n",
       " 'rindex',\n",
       " 'rjust',\n",
       " 'rpartition',\n",
       " 'rsplit',\n",
       " 'rstrip',\n",
       " 'split',\n",
       " 'splitlines',\n",
       " 'startswith',\n",
       " 'strip',\n",
       " 'swapcase',\n",
       " 'title',\n",
       " 'translate',\n",
       " 'upper',\n",
       " 'zfill']"
      ]
     },
     "execution_count": 27,
     "metadata": {},
     "output_type": "execute_result"
    }
   ],
   "source": [
    "name='python'\n",
    "dir(name)"
   ]
  },
  {
   "cell_type": "code",
   "execution_count": 7,
   "id": "35223594-ed6f-42fd-908b-a81de4f9a735",
   "metadata": {},
   "outputs": [
    {
     "data": {
      "text/plain": [
       "['sai']"
      ]
     },
     "execution_count": 7,
     "metadata": {},
     "output_type": "execute_result"
    }
   ],
   "source": [
    "str1='sai'\n",
    "str1.rsplit()"
   ]
  },
  {
   "cell_type": "markdown",
   "id": "31dab4f3-1da4-4673-9497-8629f66415f8",
   "metadata": {},
   "source": [
    "**upper**"
   ]
  },
  {
   "cell_type": "code",
   "execution_count": 29,
   "id": "3cf8b6de-4c37-4680-a0f9-32cb003f9059",
   "metadata": {},
   "outputs": [
    {
     "data": {
      "text/plain": [
       "'WELCOME'"
      ]
     },
     "execution_count": 29,
     "metadata": {},
     "output_type": "execute_result"
    }
   ],
   "source": [
    "str1='welcome'  # it is a package\n",
    "str1.upper()    # function case will come"
   ]
  },
  {
   "cell_type": "code",
   "execution_count": null,
   "id": "d38efd18-c334-4faa-aa35-687a658c2481",
   "metadata": {},
   "outputs": [],
   "source": [
    "import random\n",
    "random.randint"
   ]
  },
  {
   "cell_type": "markdown",
   "id": "be941dbc-93d2-4ca0-a916-d001b3af244a",
   "metadata": {},
   "source": [
    "**lower**"
   ]
  },
  {
   "cell_type": "code",
   "execution_count": 33,
   "id": "6a353110-e984-4870-869f-cc9df7bb7cdf",
   "metadata": {},
   "outputs": [
    {
     "data": {
      "text/plain": [
       "'sai'"
      ]
     },
     "execution_count": 33,
     "metadata": {},
     "output_type": "execute_result"
    }
   ],
   "source": [
    "str2='SAI'\n",
    "str2.lower()"
   ]
  },
  {
   "cell_type": "markdown",
   "id": "81c52054-618c-4986-a3c1-3f24df624222",
   "metadata": {},
   "source": [
    "**title**"
   ]
  },
  {
   "cell_type": "code",
   "execution_count": 41,
   "id": "6ab95cdf-64fc-4ea2-867e-17af6846575d",
   "metadata": {},
   "outputs": [
    {
     "data": {
      "text/plain": [
       "'Hiii  Shreya'"
      ]
     },
     "execution_count": 41,
     "metadata": {},
     "output_type": "execute_result"
    }
   ],
   "source": [
    "str3='hiii  shreya'\n",
    "str3.title()"
   ]
  },
  {
   "cell_type": "markdown",
   "id": "1be54398-53a4-4996-a245-788904d011bc",
   "metadata": {},
   "source": [
    "**capitalize**"
   ]
  },
  {
   "cell_type": "code",
   "execution_count": 42,
   "id": "5c842188-2e25-473e-a860-5a446037dc32",
   "metadata": {},
   "outputs": [
    {
     "data": {
      "text/plain": [
       "'Hiii  shreya'"
      ]
     },
     "execution_count": 42,
     "metadata": {},
     "output_type": "execute_result"
    }
   ],
   "source": [
    "str3.capitalize()"
   ]
  },
  {
   "cell_type": "markdown",
   "id": "7bf71c8b-24f0-44f7-ad15-d6ef6fa5b5f1",
   "metadata": {},
   "source": [
    "**casefold**"
   ]
  },
  {
   "cell_type": "code",
   "execution_count": 45,
   "id": "ff2a5788-91e2-401c-83a3-a1661df1d5d4",
   "metadata": {},
   "outputs": [
    {
     "data": {
      "text/plain": [
       "'hiii  shreya'"
      ]
     },
     "execution_count": 45,
     "metadata": {},
     "output_type": "execute_result"
    }
   ],
   "source": [
    "str3.casefold()"
   ]
  },
  {
   "cell_type": "markdown",
   "id": "0d46e38e-e882-4639-bcf3-1f2891c62d98",
   "metadata": {},
   "source": [
    "**diffrence b/w methods and inbuilt functions**"
   ]
  },
  {
   "cell_type": "code",
   "execution_count": null,
   "id": "e4fbdca4-7790-4ff9-8b5e-2f87b948abf7",
   "metadata": {},
   "outputs": [],
   "source": [
    "###inbuilt\n",
    "len('python')\n",
    "max()\n",
    "min()\n",
    "type()\n"
   ]
  },
  {
   "cell_type": "markdown",
   "id": "9eb20699-c973-4443-bf91-4bc1ced39a79",
   "metadata": {},
   "source": [
    "## center"
   ]
  },
  {
   "cell_type": "code",
   "execution_count": 53,
   "id": "27f53126-0189-45d1-8af0-2e1a4eba7940",
   "metadata": {},
   "outputs": [
    {
     "data": {
      "text/plain": [
       "'****python***'"
      ]
     },
     "execution_count": 53,
     "metadata": {},
     "output_type": "execute_result"
    }
   ],
   "source": [
    "str1='python'\n",
    "str1.center(13,'*')\n",
    "# 3stars + python(6)+4*\n",
    "# 4* +6+3*"
   ]
  },
  {
   "cell_type": "code",
   "execution_count": 54,
   "id": "b5da9bb0-dc28-46a2-954f-fd0082d30317",
   "metadata": {},
   "outputs": [
    {
     "data": {
      "text/plain": [
       "'***python***'"
      ]
     },
     "execution_count": 54,
     "metadata": {},
     "output_type": "execute_result"
    }
   ],
   "source": [
    "str1='python'\n",
    "str1.center(12,'*')\n",
    "# here 12 means the len of string becomes 12 charectors\n",
    "# already 'python' string has 6 charectors\n",
    "# so remaining 6 charectors padd as *\n"
   ]
  },
  {
   "cell_type": "code",
   "execution_count": 57,
   "id": "48f4907c-f7cb-4fd7-aca4-aba81c2ee89c",
   "metadata": {},
   "outputs": [
    {
     "data": {
      "text/plain": [
       "'*****sai preethi******'"
      ]
     },
     "execution_count": 57,
     "metadata": {},
     "output_type": "execute_result"
    }
   ],
   "source": [
    "str1='sai preethi'\n",
    "str1.center(22,'*')"
   ]
  },
  {
   "cell_type": "markdown",
   "id": "49bb2e66-2e5f-48da-a598-ec68e9cf391e",
   "metadata": {},
   "source": [
    "**strip-lstrip-rstrip**\n",
    "\n",
    "- strip will remove the charecters both left and right side\n",
    "- lstrip will remove the charcters on left side\n",
    "- rstip will remove the charecter on right side"
   ]
  },
  {
   "cell_type": "code",
   "execution_count": null,
   "id": "7ef102dc-8312-4421-b6f4-2c16fedd582f",
   "metadata": {},
   "outputs": [],
   "source": [
    "str1='  python  '\n",
    "str2='***python****'\n",
    "str3='   python****'"
   ]
  },
  {
   "cell_type": "code",
   "execution_count": 74,
   "id": "824d1b5c-9ec1-420d-9b5c-58c3ba40c729",
   "metadata": {},
   "outputs": [
    {
     "data": {
      "text/plain": [
       "'python'"
      ]
     },
     "execution_count": 74,
     "metadata": {},
     "output_type": "execute_result"
    }
   ],
   "source": [
    "str1='  python  '\n",
    "str1.strip('').strip()"
   ]
  },
  {
   "cell_type": "code",
   "execution_count": 71,
   "id": "d86fcbeb-d4ed-45b7-9612-69e7883e972f",
   "metadata": {},
   "outputs": [
    {
     "data": {
      "text/plain": [
       "'***python****'"
      ]
     },
     "execution_count": 71,
     "metadata": {},
     "output_type": "execute_result"
    }
   ],
   "source": [
    "str2='***python****'\n",
    "str2.lstrip()"
   ]
  },
  {
   "cell_type": "code",
   "execution_count": 73,
   "id": "82fc81fd-62c2-4baf-960a-23caaab49bb2",
   "metadata": {},
   "outputs": [
    {
     "data": {
      "text/plain": [
       "'python'"
      ]
     },
     "execution_count": 73,
     "metadata": {},
     "output_type": "execute_result"
    }
   ],
   "source": [
    "str3='   python****'\n",
    "str3.strip().rstrip('*')"
   ]
  },
  {
   "cell_type": "code",
   "execution_count": null,
   "id": "1ec0897d-da70-4eac-a09a-5a7d7731a8f0",
   "metadata": {},
   "outputs": [],
   "source": [
    "-starswith\n",
    "-endswith"
   ]
  },
  {
   "cell_type": "code",
   "execution_count": null,
   "id": "eda727e5-6466-4b8c-bb93-4718218f22c5",
   "metadata": {},
   "outputs": [],
   "source": []
  },
  {
   "cell_type": "markdown",
   "id": "8e006b80-0571-4830-9dbf-034acc711621",
   "metadata": {},
   "source": [
    "**count**"
   ]
  },
  {
   "cell_type": "code",
   "execution_count": 10,
   "id": "1f227a5c-513c-430f-8365-d66cbf7d3b46",
   "metadata": {},
   "outputs": [
    {
     "name": "stdout",
     "output_type": "stream",
     "text": [
      "3\n"
     ]
    }
   ],
   "source": [
    "str1='ola ola ola'\n",
    "# in the above string how many 'a' are avilble\n",
    "count=0\n",
    "for i in str1:\n",
    "    if i=='a':\n",
    "        count=count+1\n",
    "print(count)"
   ]
  },
  {
   "cell_type": "markdown",
   "id": "74ac9210-eef9-4463-8579-2a0355fcab3b",
   "metadata": {},
   "source": [
    "**case-1**"
   ]
  },
  {
   "cell_type": "code",
   "execution_count": 11,
   "id": "8211c0ab-4944-48f4-bc3f-9b280972c6d4",
   "metadata": {},
   "outputs": [
    {
     "data": {
      "text/plain": [
       "3"
      ]
     },
     "execution_count": 11,
     "metadata": {},
     "output_type": "execute_result"
    }
   ],
   "source": [
    "str1='ola ola ola'\n",
    "str1.count('a')"
   ]
  },
  {
   "cell_type": "code",
   "execution_count": 12,
   "id": "71bf3cf5-4d8d-4c2c-8690-d1cd009f9931",
   "metadata": {},
   "outputs": [
    {
     "data": {
      "text/plain": [
       "3"
      ]
     },
     "execution_count": 12,
     "metadata": {},
     "output_type": "execute_result"
    }
   ],
   "source": [
    "str1='ola ola ola'\n",
    "str1.count('ola')"
   ]
  },
  {
   "cell_type": "code",
   "execution_count": 13,
   "id": "b278f10f-4f8e-4bad-81cf-63c8325ea192",
   "metadata": {},
   "outputs": [
    {
     "data": {
      "text/plain": [
       "2"
      ]
     },
     "execution_count": 13,
     "metadata": {},
     "output_type": "execute_result"
    }
   ],
   "source": [
    "str1='ola ola ola'\n",
    "str1.count('ola ')"
   ]
  },
  {
   "cell_type": "markdown",
   "id": "ad65e8f2-5895-4320-9171-b85e82687656",
   "metadata": {},
   "source": [
    "**case-2**"
   ]
  },
  {
   "cell_type": "code",
   "execution_count": 14,
   "id": "8e5c6c85-92df-4667-bdb4-2d3c5bc77171",
   "metadata": {},
   "outputs": [
    {
     "data": {
      "text/plain": [
       "3"
      ]
     },
     "execution_count": 14,
     "metadata": {},
     "output_type": "execute_result"
    }
   ],
   "source": [
    "#-11 -10 -9 -8 -7 -6 -5 -4  -3 -2   -1   \n",
    "# o   l  a    o  l  a      o    l    a\n",
    "# 0  1  2  3  4  5  6  7   8    9   10\n",
    "str1.count('a')"
   ]
  },
  {
   "cell_type": "code",
   "execution_count": 15,
   "id": "c721670d-ab48-483d-b256-e9de4201e2f4",
   "metadata": {},
   "outputs": [
    {
     "data": {
      "text/plain": [
       "2"
      ]
     },
     "execution_count": 15,
     "metadata": {},
     "output_type": "execute_result"
    }
   ],
   "source": [
    "str1.count('a',6)"
   ]
  },
  {
   "cell_type": "code",
   "execution_count": 16,
   "id": "7cbec6ed-dce9-4df8-a633-75669bb42975",
   "metadata": {},
   "outputs": [
    {
     "data": {
      "text/plain": [
       "2"
      ]
     },
     "execution_count": 16,
     "metadata": {},
     "output_type": "execute_result"
    }
   ],
   "source": [
    "str1.count('a',-6)"
   ]
  },
  {
   "cell_type": "code",
   "execution_count": 17,
   "id": "361780b9-f5c4-4488-a29a-3b4cfd6a01c3",
   "metadata": {},
   "outputs": [
    {
     "data": {
      "text/plain": [
       "1"
      ]
     },
     "execution_count": 17,
     "metadata": {},
     "output_type": "execute_result"
    }
   ],
   "source": [
    "str1.count('a',7)"
   ]
  },
  {
   "cell_type": "code",
   "execution_count": 19,
   "id": "2f10b915-d968-4256-b984-3ff7debaf5cb",
   "metadata": {},
   "outputs": [
    {
     "data": {
      "text/plain": [
       "1"
      ]
     },
     "execution_count": 19,
     "metadata": {},
     "output_type": "execute_result"
    }
   ],
   "source": [
    "str1.count('a',6,10)"
   ]
  },
  {
   "cell_type": "code",
   "execution_count": 20,
   "id": "90568b40-20de-40b9-a825-4ecf79f2aa89",
   "metadata": {},
   "outputs": [
    {
     "data": {
      "text/plain": [
       "1"
      ]
     },
     "execution_count": 20,
     "metadata": {},
     "output_type": "execute_result"
    }
   ],
   "source": [
    "str1.count('a',2,6)"
   ]
  },
  {
   "cell_type": "code",
   "execution_count": 21,
   "id": "14087984-41bb-4f25-9746-6e23a90af326",
   "metadata": {},
   "outputs": [
    {
     "data": {
      "text/plain": [
       "2"
      ]
     },
     "execution_count": 21,
     "metadata": {},
     "output_type": "execute_result"
    }
   ],
   "source": [
    "str1.count('a',2,-4)"
   ]
  },
  {
   "cell_type": "code",
   "execution_count": 22,
   "id": "8b81179b-dcf6-4449-90a6-6848e250b0dc",
   "metadata": {},
   "outputs": [
    {
     "data": {
      "text/plain": [
       "0"
      ]
     },
     "execution_count": 22,
     "metadata": {},
     "output_type": "execute_result"
    }
   ],
   "source": [
    "str1.count('z')"
   ]
  },
  {
   "cell_type": "markdown",
   "id": "54de5cb9-3d35-4c80-9740-92e6751de46b",
   "metadata": {},
   "source": [
    "**sliding window approach**\n",
    "- fix the slice valu first:**str1[i:i+3]**\n",
    "- then increase the slice by 1:**for i in range(len(str1))**\n",
    "- whenever it is equal to substring:**str1[i:i+3]=='ola'**\n",
    "- then update the count:**count=count+1**"
   ]
  },
  {
   "cell_type": "code",
   "execution_count": 45,
   "id": "80817bdd-a916-45fd-9180-8625c0484189",
   "metadata": {},
   "outputs": [
    {
     "name": "stdout",
     "output_type": "stream",
     "text": [
      "4\n"
     ]
    }
   ],
   "source": [
    "# str1='ola ola ola'\n",
    "# count the number of substring:'ola'\n",
    "# with out using count method\n",
    "str1='ola ola ola ola'\n",
    "count=0\n",
    "# str1[:3]\n",
    "# s[i:i+3]='ola'\n",
    "for i in range(len(str1)):\n",
    "    if str1[i:i+3]=='ola':\n",
    "        count=count+1\n",
    "print(count)"
   ]
  },
  {
   "cell_type": "markdown",
   "id": "d06bb241-a776-427f-ba59-003edd8b0f55",
   "metadata": {},
   "source": [
    "**Replace**"
   ]
  },
  {
   "cell_type": "code",
   "execution_count": 46,
   "id": "6e9fc67c-2382-4efb-a41b-20a816473a72",
   "metadata": {},
   "outputs": [
    {
     "data": {
      "text/plain": [
       "'l'"
      ]
     },
     "execution_count": 46,
     "metadata": {},
     "output_type": "execute_result"
    }
   ],
   "source": [
    "str1='welcome' # weLcome\n",
    "str1[2]=='L' ## give the error"
   ]
  },
  {
   "cell_type": "code",
   "execution_count": 50,
   "id": "04c4cab6-f8dc-48f8-b4c5-cd4a7ea2f06c",
   "metadata": {},
   "outputs": [
    {
     "data": {
      "text/plain": [
       "'weLcome'"
      ]
     },
     "execution_count": 50,
     "metadata": {},
     "output_type": "execute_result"
    }
   ],
   "source": [
    "# by default all the occurence\n",
    "str1='welcome'\n",
    "str1.replace('l','L')"
   ]
  },
  {
   "cell_type": "code",
   "execution_count": 51,
   "id": "cf4522ef-d297-4a95-9c89-38a3953d21d2",
   "metadata": {},
   "outputs": [
    {
     "data": {
      "text/plain": [
       "'welcome'"
      ]
     },
     "execution_count": 51,
     "metadata": {},
     "output_type": "execute_result"
    }
   ],
   "source": [
    "str1='welcome'\n",
    "str1.replace('z','Z') # not giving the error"
   ]
  },
  {
   "cell_type": "code",
   "execution_count": 87,
   "id": "ad94f60f-dd00-4ef3-b7ab-290fa684ce3f",
   "metadata": {},
   "outputs": [
    {
     "data": {
      "text/plain": [
       "'weLLlcome'"
      ]
     },
     "execution_count": 87,
     "metadata": {},
     "output_type": "execute_result"
    }
   ],
   "source": [
    "# here count=1 which indicates replace only one 'l'\n",
    "str1='welllcome'\n",
    "str1.replace('l','L',2)"
   ]
  },
  {
   "cell_type": "code",
   "execution_count": 55,
   "id": "489f9571-56b7-4042-ad87-d5c2e11c64fc",
   "metadata": {},
   "outputs": [
    {
     "data": {
      "text/plain": [
       "'weLLLcome'"
      ]
     },
     "execution_count": 55,
     "metadata": {},
     "output_type": "execute_result"
    }
   ],
   "source": [
    "str1='welllcome'\n",
    "str1.replace('l','L',-1) # change the all occurences"
   ]
  },
  {
   "cell_type": "markdown",
   "id": "44ac9ccd-6879-4ec6-b0f4-ddeb1a46d7c7",
   "metadata": {},
   "source": [
    "- By default it will replace all the occurences\n",
    "- The user can provide count which indicates how many letters can replace\n",
    "- if the sub string not found it will return the original string itself"
   ]
  },
  {
   "cell_type": "code",
   "execution_count": 88,
   "id": "68d9fedb-6889-48cf-89df-3e6dbec26f75",
   "metadata": {},
   "outputs": [
    {
     "data": {
      "text/plain": [
       "'resta$t'"
      ]
     },
     "execution_count": 88,
     "metadata": {},
     "output_type": "execute_result"
    }
   ],
   "source": [
    "str1='restart'\n",
    "str2=str1[0:5] # rest\n",
    "str3=str1[5:]  # art\n",
    "str4=str3.replace('r','$',2)\n",
    "str2+str4"
   ]
  },
  {
   "cell_type": "code",
   "execution_count": 68,
   "id": "60c34881-e933-4c62-8fa6-17c174605827",
   "metadata": {},
   "outputs": [
    {
     "data": {
      "text/plain": [
       "'resta$t'"
      ]
     },
     "execution_count": 68,
     "metadata": {},
     "output_type": "execute_result"
    }
   ],
   "source": [
    "# idea-2\n",
    "str1='restart'\n",
    "str1[::-1].replace('r','$',1)[::-1]"
   ]
  },
  {
   "cell_type": "code",
   "execution_count": 77,
   "id": "be13d269-fce9-4163-a1f9-0d710697ed00",
   "metadata": {},
   "outputs": [
    {
     "data": {
      "text/plain": [
       "'restart $estart'"
      ]
     },
     "execution_count": 77,
     "metadata": {},
     "output_type": "execute_result"
    }
   ],
   "source": [
    "str5='restart restart'\n",
    "str2=str5[0:8] #resta\n",
    "str3=str5[8:] #rt\n",
    "str4=str3.replace('r','$',1)\n",
    "str2+str4"
   ]
  },
  {
   "cell_type": "markdown",
   "id": "9317dfc9-2c89-4560-916d-690ccd32ba2c",
   "metadata": {},
   "source": [
    "**index**"
   ]
  },
  {
   "cell_type": "code",
   "execution_count": 75,
   "id": "8f6dffd6-b9b7-49a8-a20a-dee339419fa1",
   "metadata": {},
   "outputs": [
    {
     "data": {
      "text/plain": [
       "(3, 0)"
      ]
     },
     "execution_count": 75,
     "metadata": {},
     "output_type": "execute_result"
    }
   ],
   "source": [
    "str1='restart restart'\n",
    "str1.index('t'),str1.index('r')\n",
    "# by default first string index will come"
   ]
  },
  {
   "cell_type": "code",
   "execution_count": 78,
   "id": "ef77c09a-010b-4574-9352-2dbad2ed22bc",
   "metadata": {},
   "outputs": [
    {
     "ename": "ValueError",
     "evalue": "substring not found",
     "output_type": "error",
     "traceback": [
      "\u001b[1;31m---------------------------------------------------------------------------\u001b[0m",
      "\u001b[1;31mValueError\u001b[0m                                Traceback (most recent call last)",
      "Cell \u001b[1;32mIn[78], line 2\u001b[0m\n\u001b[0;32m      1\u001b[0m str1\u001b[38;5;241m=\u001b[39m\u001b[38;5;124m'\u001b[39m\u001b[38;5;124mrestart restart\u001b[39m\u001b[38;5;124m'\u001b[39m\n\u001b[1;32m----> 2\u001b[0m str1\u001b[38;5;241m.\u001b[39mindex(\u001b[38;5;124m'\u001b[39m\u001b[38;5;124mz\u001b[39m\u001b[38;5;124m'\u001b[39m)\n",
      "\u001b[1;31mValueError\u001b[0m: substring not found"
     ]
    }
   ],
   "source": [
    "str1='restart restart'\n",
    "str1.index('z')"
   ]
  },
  {
   "cell_type": "code",
   "execution_count": null,
   "id": "5e1f4732-f3b1-4fb7-b07c-6bacd292c450",
   "metadata": {},
   "outputs": [],
   "source": [
    "str1='restart restart'\n",
    "str1.index('r')# 0\n",
    "# second 'r' index is 5 this is i counted \n",
    "# "
   ]
  },
  {
   "cell_type": "code",
   "execution_count": 79,
   "id": "045971dc-9193-4dcb-a4be-e7c7494cbffa",
   "metadata": {},
   "outputs": [
    {
     "data": {
      "text/plain": [
       "0"
      ]
     },
     "execution_count": 79,
     "metadata": {},
     "output_type": "execute_result"
    }
   ],
   "source": [
    "str1='restart'\n",
    "str1.index('r')"
   ]
  },
  {
   "cell_type": "code",
   "execution_count": 80,
   "id": "eb272e7a-a562-4725-8719-e1bdbd855cf7",
   "metadata": {},
   "outputs": [
    {
     "data": {
      "text/plain": [
       "5"
      ]
     },
     "execution_count": 80,
     "metadata": {},
     "output_type": "execute_result"
    }
   ],
   "source": [
    "str1='restart'\n",
    "str1.index('r',1)"
   ]
  },
  {
   "cell_type": "code",
   "execution_count": 82,
   "id": "f0dec6a9-50b5-43ed-9586-5e0c938ee6b3",
   "metadata": {},
   "outputs": [
    {
     "data": {
      "text/plain": [
       "8"
      ]
     },
     "execution_count": 82,
     "metadata": {},
     "output_type": "execute_result"
    }
   ],
   "source": [
    "str1='restart restart'\n",
    "str1.index('r',6)"
   ]
  },
  {
   "cell_type": "code",
   "execution_count": 83,
   "id": "5c76dc25-9452-400b-9476-f8d2385e7c24",
   "metadata": {},
   "outputs": [
    {
     "data": {
      "text/plain": [
       "13"
      ]
     },
     "execution_count": 83,
     "metadata": {},
     "output_type": "execute_result"
    }
   ],
   "source": [
    "str1='restart restart'\n",
    "str1.index('r',9)"
   ]
  },
  {
   "cell_type": "code",
   "execution_count": 84,
   "id": "d17ef40a-0d5a-40ba-95c3-82cf1901d11f",
   "metadata": {},
   "outputs": [
    {
     "name": "stdout",
     "output_type": "stream",
     "text": [
      "0 5 8 13\n"
     ]
    }
   ],
   "source": [
    "str1='restart restart'\n",
    "i1=str1.index('r') # 0\n",
    "i2=str1.index('r',i1+1)# 1=0+1\n",
    "i3=str1.index('r',i2+1)# 6=5+1\n",
    "i4=str1.index('r',i3+1)# 9=8+1\n",
    "print(i1,i2,i3,i4)\n"
   ]
  },
  {
   "cell_type": "code",
   "execution_count": 7,
   "id": "9a91b95d-48bb-4cca-949c-3e7f362b5e2b",
   "metadata": {},
   "outputs": [
    {
     "data": {
      "text/plain": [
       "8"
      ]
     },
     "execution_count": 7,
     "metadata": {},
     "output_type": "execute_result"
    }
   ],
   "source": [
    "                        #  -15-14-13-12-11-10-9-8-7 -6 -5 -4 -3 -2 -1\n",
    "str1='restart restart'  #   r  e  s  t  a  r  t   r  e  s  t  a  r  t\n",
    "str1.find('r',6)       #   0  1  2  3  4  5  6 7 8  9  10 11 12 13 14 "
   ]
  },
  {
   "cell_type": "markdown",
   "id": "9d92c1b1-6bc4-4bcc-95f3-2a235d16ad79",
   "metadata": {},
   "source": [
    "**find**\n",
    "- the difference of index to find is -1"
   ]
  },
  {
   "cell_type": "code",
   "execution_count": 3,
   "id": "f5ca9f6d-3849-4f86-a720-e46caa1d1172",
   "metadata": {},
   "outputs": [
    {
     "name": "stdout",
     "output_type": "stream",
     "text": [
      "33\n",
      "virat kohili@rcb com\n",
      "5 12 5\n",
      "rohit sharma mi.com\n",
      "2 8 2\n",
      "ms dhoni csk.com\n"
     ]
    }
   ],
   "source": [
    "str1='virat.kohili@rcb.com'\n",
    "str2='rohit.sharma@mi.com'\n",
    "str3='ms.dhoni@csk.com'\n",
    "\n",
    "# str4='a.b@c.com'\n",
    "\n",
    "first_dot=str1.index('.')\n",
    "second_dot=str1.index('.',first_dot+1)\n",
    "at_the_rate=str1.index('@')\n",
    "print(first_dot+second_dot+at_the_rate)\n",
    "fname=str1[:first_dot]\n",
    "sname=str1[first_dot+1:second_dot]\n",
    "cname=str1[second_dot+1:]\n",
    "print(fname,sname,cname)\n",
    "#################################\n",
    "b1=str2.index('.')\n",
    "b2=str2.index('@')\n",
    "b3=str2.index('.')\n",
    "print(b1,b2,b3)\n",
    "a1=str2[:b1]\n",
    "a2=str2[b1+1:b2]\n",
    "a3=str2[b2+1:]\n",
    "print(a1,a2,a3)\n",
    "\n",
    "c1=str3.index('.')\n",
    "c2=str3.index('@')\n",
    "c3=str3.index('.')\n",
    "print(c1,c2,c3)\n",
    "m1=str3[:c1]\n",
    "m2=str3[c1+1:c2]\n",
    "m3=str3[c2+1:]\n",
    "print(m1,m2,m3)\n",
    "###################################3"
   ]
  },
  {
   "cell_type": "code",
   "execution_count": 1,
   "id": "9be6d1e6-0271-4c0f-b9c7-6d65ae1d083e",
   "metadata": {},
   "outputs": [
    {
     "name": "stdout",
     "output_type": "stream",
     "text": [
      "5 15 11\n",
      "virat kohli rcb\n"
     ]
    }
   ],
   "source": [
    "str1='virat.kohli@rcb.com'\n",
    "first_dot=str1.index('.')\n",
    "second_dot=str1.index('.',first_dot+1)\n",
    "at_the_rate=str1.index('@')\n",
    "print(first_dot,second_dot,at_the_rate)\n",
    "first_name=str1[:first_dot]\n",
    "second_name=str1[first_dot+1:at_the_rate]\n",
    "cname=str1[at_the_rate+1:second_dot]\n",
    "print(first_name,second_name,cname)"
   ]
  },
  {
   "cell_type": "code",
   "execution_count": null,
   "id": "5e177d63-ee2c-43f0-bc6f-73ff2e382436",
   "metadata": {},
   "outputs": [],
   "source": [
    "str2='rohit.sharma@mi.com'\n"
   ]
  },
  {
   "cell_type": "markdown",
   "id": "fc8dfa4e-72c0-44d0-8a3f-caf713b1aa97",
   "metadata": {},
   "source": [
    "**split**"
   ]
  },
  {
   "cell_type": "markdown",
   "id": "2138f4bc-22cf-4f99-b22e-3f360bb75475",
   "metadata": {},
   "source": [
    "- split is used to convert a string to list of elements\n",
    "- by default it will split based on space"
   ]
  },
  {
   "cell_type": "code",
   "execution_count": 41,
   "id": "b5d70c01-5620-410e-8524-bf5f57bd0928",
   "metadata": {},
   "outputs": [
    {
     "data": {
      "text/plain": [
       "['hai shreya', 'how are you']"
      ]
     },
     "execution_count": 41,
     "metadata": {},
     "output_type": "execute_result"
    }
   ],
   "source": [
    "str1='hai shreya,how are you'\n",
    "str1.split(',')"
   ]
  },
  {
   "cell_type": "code",
   "execution_count": 40,
   "id": "a47f6745-10e8-4f54-993b-c4cfd37c389f",
   "metadata": {},
   "outputs": [
    {
     "data": {
      "text/plain": [
       "['hai shreya,h', 'w are y', 'u']"
      ]
     },
     "execution_count": 40,
     "metadata": {},
     "output_type": "execute_result"
    }
   ],
   "source": [
    "str1='hai shreya,how are you'\n",
    "str1.split('o')"
   ]
  },
  {
   "cell_type": "markdown",
   "id": "c4ec5db6-b015-44ea-a827-490e296b96ff",
   "metadata": {},
   "source": [
    "**join**"
   ]
  },
  {
   "cell_type": "code",
   "execution_count": 42,
   "id": "43296558-f661-4e30-abdd-b5b38ebefe27",
   "metadata": {},
   "outputs": [
    {
     "data": {
      "text/plain": [
       "'hai shreya,how are you'"
      ]
     },
     "execution_count": 42,
     "metadata": {},
     "output_type": "execute_result"
    }
   ],
   "source": [
    "str1='hai shreya,how are you'\n",
    "s=str1.split()\n",
    "s\n",
    "' '.join(s)"
   ]
  },
  {
   "cell_type": "code",
   "execution_count": 5,
   "id": "d3b0bd72-7fcd-41d7-b628-de8f523e806d",
   "metadata": {},
   "outputs": [
    {
     "name": "stdout",
     "output_type": "stream",
     "text": [
      "123456\n"
     ]
    }
   ],
   "source": [
    "str1='the telephone number is 123456'\n",
    "# iterate each letter aply ifit is true then keep in empty string\n",
    "num=''\n",
    "for i in str1:\n",
    "    if i.isdigit():\n",
    "        num=num+i\n",
    "print(num)"
   ]
  },
  {
   "cell_type": "code",
   "execution_count": null,
   "id": "c94dcff2-768a-4c18-bcf6-eb35f8fe4702",
   "metadata": {},
   "outputs": [],
   "source": []
  }
 ],
 "metadata": {
  "kernelspec": {
   "display_name": "Python 3 (ipykernel)",
   "language": "python",
   "name": "python3"
  },
  "language_info": {
   "codemirror_mode": {
    "name": "ipython",
    "version": 3
   },
   "file_extension": ".py",
   "mimetype": "text/x-python",
   "name": "python",
   "nbconvert_exporter": "python",
   "pygments_lexer": "ipython3",
   "version": "3.12.7"
  }
 },
 "nbformat": 4,
 "nbformat_minor": 5
}
