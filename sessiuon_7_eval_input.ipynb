{
 "cells": [
  {
   "cell_type": "code",
   "execution_count": 1,
   "id": "3f7a07b2-d295-41ba-b240-8714d7029d7f",
   "metadata": {},
   "outputs": [
    {
     "ename": "NameError",
     "evalue": "name 'pi' is not defined",
     "output_type": "error",
     "traceback": [
      "\u001b[1;31m---------------------------------------------------------------------------\u001b[0m",
      "\u001b[1;31mNameError\u001b[0m                                 Traceback (most recent call last)",
      "Cell \u001b[1;32mIn[1], line 3\u001b[0m\n\u001b[0;32m      1\u001b[0m \u001b[38;5;66;03m# var: radidus  var: pi=3.14\u001b[39;00m\n\u001b[0;32m      2\u001b[0m \u001b[38;5;66;03m# form# wap take the radidus of a circle calculate area of the circle\u001b[39;00m\n\u001b[1;32m----> 3\u001b[0m uale: pi\u001b[38;5;241m*\u001b[39mradius\u001b[38;5;241m*\u001b[39mradius\n",
      "\u001b[1;31mNameError\u001b[0m: name 'pi' is not defined"
     ]
    }
   ],
   "source": [
    "# var: radidus  var: pi=3.14\n",
    "# form# wap take the radidus of a circle calculate area of the circle\n",
    "uale: pi*radius*radius\n",
    "# print the answers using f string and format\n",
    "\n",
    "# wap take the breadth and height of a right angle triangle\n",
    "# calculate the area\n",
    "# var1: bredath  var2: height\n",
    "# formuale : 0.5*breadth*heigh\n",
    "\n",
    "# wap take the bill amount and tip amount\n",
    "# calculate total bill\n",
    "# var1: bill amount var2: tip amount\n",
    "# formuale\n",
    "\n",
    "# wap take the length and breadth of a rectangle calculate area\n",
    "# var1: length  var2: breadth\n",
    "# formulae: length * breadth"
   ]
  },
  {
   "cell_type": "code",
   "execution_count": 2,
   "id": "b03abcc0-7acb-4766-9b03-be7e18b10a04",
   "metadata": {},
   "outputs": [],
   "source": [
    "# wap take the radidus of a circle calculate area of the circle\n",
    "# var: radidus  var: pi=3.14\n",
    "# formuale: pi*radius*radius\n",
    "# print the answers using f string and format"
   ]
  },
  {
   "cell_type": "code",
   "execution_count": 1,
   "id": "be5f270f-f995-4ad9-b91d-eec335b2ef6b",
   "metadata": {},
   "outputs": [
    {
     "name": "stdout",
     "output_type": "stream",
     "text": [
      "the are of circle is : 1256.0\n"
     ]
    }
   ],
   "source": [
    "radius=20\n",
    "pi=3.14\n",
    "area=pi*radius*radius\n",
    "print(f\"the are of circle is : {area}\")"
   ]
  },
  {
   "cell_type": "code",
   "execution_count": 2,
   "id": "48a6c98d-35f0-4949-9461-9f36872301b4",
   "metadata": {},
   "outputs": [
    {
     "name": "stdout",
     "output_type": "stream",
     "text": [
      "the area of Right angle triangle is : 400.0\n"
     ]
    }
   ],
   "source": [
    "# wap take the breadth and height of a right angle triangle\n",
    "# calculate the area\n",
    "# var1: bredath  var2: height\n",
    "# formuale : 0.5*breadth*heigh\n",
    "\n",
    "breadth=20\n",
    "height=40\n",
    "area=0.5*breadth*height\n",
    "print(f\"the area of Right angle triangle is : {area}\")"
   ]
  },
  {
   "cell_type": "code",
   "execution_count": 3,
   "id": "d3adb6e9-05f1-4daa-a124-25125ae4ffa6",
   "metadata": {},
   "outputs": [
    {
     "data": {
      "text/plain": [
       "1200"
      ]
     },
     "execution_count": 3,
     "metadata": {},
     "output_type": "execute_result"
    }
   ],
   "source": [
    "# wap take the bill amount and tip amount\n",
    "# calculate total bill\n",
    "# var1: bill amount var2: tip amount\n",
    "# formuale\n",
    "bill_amount=1000\n",
    "tip_amount=200\n",
    "total_bill=bill_amount+tip_amount\n",
    "total_bill"
   ]
  },
  {
   "cell_type": "code",
   "execution_count": 4,
   "id": "9a90cfbe-497a-4fc9-99e4-711a4fdd1691",
   "metadata": {},
   "outputs": [
    {
     "name": "stdout",
     "output_type": "stream",
     "text": [
      "the area of rectangle is : 800\n"
     ]
    }
   ],
   "source": [
    "# wap take the length and breadth of a rectangle calculate area\n",
    "# var1: length  var2: breadth\n",
    "# formulae: length * breadth\n",
    "breadth=20\n",
    "height=40\n",
    "area=breadth*height\n",
    "print(f\"the area of rectangle is : {area}\")"
   ]
  },
  {
   "cell_type": "code",
   "execution_count": 5,
   "id": "6ae2bfce-fd81-4229-ad34-6808b96f1413",
   "metadata": {},
   "outputs": [],
   "source": [
    "radius=20\n",
    "pi=3.14\n",
    "\n",
    "breadth=20\n",
    "height=40\n",
    "\n",
    "bill_amount=1000\n",
    "tip_amount=200"
   ]
  },
  {
   "cell_type": "markdown",
   "id": "9094f2a3-835d-4bd5-8aff-318a8d869f64",
   "metadata": {},
   "source": [
    "**input**\n",
    "\n",
    "- in above we provided the value\n",
    "\n",
    "- input is the inbuilt function\n",
    "\n",
    "- using input the user can provide any value"
   ]
  },
  {
   "cell_type": "code",
   "execution_count": 6,
   "id": "03397395-3d56-4b89-a8a9-f2e1986df35e",
   "metadata": {},
   "outputs": [
    {
     "data": {
      "text/plain": [
       "<bound method Kernel.raw_input of <ipykernel.ipkernel.IPythonKernel object at 0x0000016BAA0EF710>>"
      ]
     },
     "execution_count": 6,
     "metadata": {},
     "output_type": "execute_result"
    }
   ],
   "source": [
    "input"
   ]
  },
  {
   "cell_type": "markdown",
   "id": "c58e55a0-d739-43f6-8b07-4cf301c1e04d",
   "metadata": {},
   "source": [
    "**note:whenerver if we see bound method or function which indicates we forgot the brackets**"
   ]
  },
  {
   "cell_type": "code",
   "execution_count": 8,
   "id": "cd17e309-388c-4088-888d-60b661394a3d",
   "metadata": {},
   "outputs": [
    {
     "name": "stdin",
     "output_type": "stream",
     "text": [
      " 100\n"
     ]
    },
    {
     "data": {
      "text/plain": [
       "'100'"
      ]
     },
     "execution_count": 8,
     "metadata": {},
     "output_type": "execute_result"
    }
   ],
   "source": [
    "input()"
   ]
  },
  {
   "cell_type": "code",
   "execution_count": 10,
   "id": "b19a16f9-9e2b-48a9-af29-51efb74b3ac7",
   "metadata": {},
   "outputs": [
    {
     "name": "stdin",
     "output_type": "stream",
     "text": [
      " python\n"
     ]
    },
    {
     "data": {
      "text/plain": [
       "'python'"
      ]
     },
     "execution_count": 10,
     "metadata": {},
     "output_type": "execute_result"
    }
   ],
   "source": [
    "input()"
   ]
  },
  {
   "cell_type": "code",
   "execution_count": 11,
   "id": "629dccae-0c55-49ce-8227-9fdc817229b0",
   "metadata": {},
   "outputs": [
    {
     "data": {
      "text/plain": [
       "int"
      ]
     },
     "execution_count": 11,
     "metadata": {},
     "output_type": "execute_result"
    }
   ],
   "source": [
    "a=100\n",
    "type(a)"
   ]
  },
  {
   "cell_type": "code",
   "execution_count": 12,
   "id": "0b9d7eae-65de-40f6-83b5-6c7b11189bfb",
   "metadata": {},
   "outputs": [
    {
     "name": "stdin",
     "output_type": "stream",
     "text": [
      " 100\n"
     ]
    }
   ],
   "source": [
    "b=input()"
   ]
  },
  {
   "cell_type": "code",
   "execution_count": 13,
   "id": "91f2d231-5761-4a9a-8b2a-099e41cc288f",
   "metadata": {},
   "outputs": [
    {
     "data": {
      "text/plain": [
       "'100'"
      ]
     },
     "execution_count": 13,
     "metadata": {},
     "output_type": "execute_result"
    }
   ],
   "source": [
    "b"
   ]
  },
  {
   "cell_type": "code",
   "execution_count": 14,
   "id": "b6822d89-d3ed-4c04-9114-1bc141e89b6d",
   "metadata": {},
   "outputs": [
    {
     "data": {
      "text/plain": [
       "'python'"
      ]
     },
     "execution_count": 14,
     "metadata": {},
     "output_type": "execute_result"
    }
   ],
   "source": [
    "name=\"python\"\n",
    "name"
   ]
  },
  {
   "cell_type": "code",
   "execution_count": 16,
   "id": "b73fe308-8659-49b2-8870-defbae9db284",
   "metadata": {},
   "outputs": [
    {
     "name": "stdin",
     "output_type": "stream",
     "text": [
      " naresh it\n"
     ]
    }
   ],
   "source": [
    "name=input()"
   ]
  },
  {
   "cell_type": "code",
   "execution_count": 17,
   "id": "19859a8e-9bd8-4387-891c-d85c49869139",
   "metadata": {},
   "outputs": [
    {
     "data": {
      "text/plain": [
       "'naresh it'"
      ]
     },
     "execution_count": 17,
     "metadata": {},
     "output_type": "execute_result"
    }
   ],
   "source": [
    "name\n"
   ]
  },
  {
   "cell_type": "code",
   "execution_count": 18,
   "id": "1caca334-43fd-4661-96bf-9d0fa437c1c7",
   "metadata": {},
   "outputs": [
    {
     "name": "stdin",
     "output_type": "stream",
     "text": [
      " 100\n",
      " 200\n",
      " 300\n"
     ]
    }
   ],
   "source": [
    "n1=input()  # n1='100'\n",
    "n2=input()  # n2= '200'\n",
    "n3=input() # n3='300'"
   ]
  },
  {
   "cell_type": "code",
   "execution_count": 19,
   "id": "0b63b506-e62d-47ff-b544-0bad62fe98cd",
   "metadata": {},
   "outputs": [
    {
     "data": {
      "text/plain": [
       "'300'"
      ]
     },
     "execution_count": 19,
     "metadata": {},
     "output_type": "execute_result"
    }
   ],
   "source": [
    "n1\n",
    "n2\n",
    "n3"
   ]
  },
  {
   "cell_type": "code",
   "execution_count": 20,
   "id": "625ef214-73c2-4456-8012-7f2d8515c2a8",
   "metadata": {},
   "outputs": [
    {
     "data": {
      "text/plain": [
       "('100', '200', '300')"
      ]
     },
     "execution_count": 20,
     "metadata": {},
     "output_type": "execute_result"
    }
   ],
   "source": [
    "n1,n2,n3"
   ]
  },
  {
   "cell_type": "code",
   "execution_count": 22,
   "id": "520392c0-660c-49dc-96bc-63a58cd0ebf2",
   "metadata": {},
   "outputs": [
    {
     "name": "stdin",
     "output_type": "stream",
     "text": [
      "enter the number1: 100\n",
      "enter the number2: 200\n"
     ]
    }
   ],
   "source": [
    "n1=input(\"enter the number1:\")\n",
    "n2=input(\"enter the number2:\")\n",
    "\n",
    "\n",
    "#n1='100'\n",
    "#n2='200'"
   ]
  },
  {
   "cell_type": "code",
   "execution_count": 23,
   "id": "6f3ec210-37b1-4cab-802e-4536de4fa5a8",
   "metadata": {},
   "outputs": [
    {
     "name": "stdin",
     "output_type": "stream",
     "text": [
      "enter the number1: 500\n",
      "enter the number2: 600\n"
     ]
    },
    {
     "data": {
      "text/plain": [
       "'500600'"
      ]
     },
     "execution_count": 23,
     "metadata": {},
     "output_type": "execute_result"
    }
   ],
   "source": [
    "n1=input(\"enter the number1:\") # n1='500'\n",
    "n2=input(\"enter the number2:\") # n2='600'\n",
    "n1+n2 # '500'+'600'='500600'\n"
   ]
  },
  {
   "cell_type": "markdown",
   "id": "1f9da0e8-fedd-4df4-8e26-8ec06d077b10",
   "metadata": {},
   "source": [
    "**input values by default string type**"
   ]
  },
  {
   "cell_type": "code",
   "execution_count": 24,
   "id": "6b0c64fc-fb81-45ab-acb4-2249d42aa587",
   "metadata": {},
   "outputs": [
    {
     "data": {
      "text/plain": [
       "'100200'"
      ]
     },
     "execution_count": 24,
     "metadata": {},
     "output_type": "execute_result"
    }
   ],
   "source": [
    "'100'+'200'"
   ]
  },
  {
   "cell_type": "code",
   "execution_count": 25,
   "id": "0df217a2-515c-4b31-ba40-11e941218822",
   "metadata": {},
   "outputs": [
    {
     "data": {
      "text/plain": [
       "300"
      ]
     },
     "execution_count": 25,
     "metadata": {},
     "output_type": "execute_result"
    }
   ],
   "source": [
    "100+200"
   ]
  },
  {
   "cell_type": "code",
   "execution_count": 26,
   "id": "9b7ce110-cce9-44e9-8faa-99edfc49c48f",
   "metadata": {},
   "outputs": [
    {
     "data": {
      "text/plain": [
       "'appleisfruite'"
      ]
     },
     "execution_count": 26,
     "metadata": {},
     "output_type": "execute_result"
    }
   ],
   "source": [
    "str1='apple'\n",
    "str2='is'\n",
    "str3='fruite'\n",
    "str1+str2+str3"
   ]
  },
  {
   "cell_type": "code",
   "execution_count": 28,
   "id": "08a47c93-63ac-42a9-acb0-d0de3d427a17",
   "metadata": {},
   "outputs": [
    {
     "name": "stdin",
     "output_type": "stream",
     "text": [
      "enter a string1: apple\n",
      "enter a string2:    is\n",
      "enter a string3:     fruit\n"
     ]
    },
    {
     "data": {
      "text/plain": [
       "'apple   is    fruit'"
      ]
     },
     "execution_count": 28,
     "metadata": {},
     "output_type": "execute_result"
    }
   ],
   "source": [
    "str1=input(\"enter a string1:\")\n",
    "str2=input(\"enter a string2:\")\n",
    "str3=input(\"enter a string3:\")\n",
    "str1+str2+str3"
   ]
  },
  {
   "cell_type": "code",
   "execution_count": 29,
   "id": "4f21f9a6-d034-4fbc-8070-35970f8f4010",
   "metadata": {},
   "outputs": [
    {
     "name": "stdin",
     "output_type": "stream",
     "text": [
      "enter the number1: 500\n",
      "enter the number2: 600\n"
     ]
    },
    {
     "data": {
      "text/plain": [
       "1100"
      ]
     },
     "execution_count": 29,
     "metadata": {},
     "output_type": "execute_result"
    }
   ],
   "source": [
    "n1=int(input(\"enter the number1:\")) # n1=int('500')=500\n",
    "n2=int(input(\"enter the number2:\")) # n2=int('600')=600\n",
    "n1+n2 # 500+600=1100"
   ]
  },
  {
   "cell_type": "code",
   "execution_count": 30,
   "id": "bb179cde-6b8e-4488-b4af-bd7e6f86d60d",
   "metadata": {},
   "outputs": [
    {
     "data": {
      "text/plain": [
       "1100"
      ]
     },
     "execution_count": 30,
     "metadata": {},
     "output_type": "execute_result"
    }
   ],
   "source": [
    "\n",
    "n1=int('500')\n",
    "n2=int('600')\n",
    "n1+n2"
   ]
  },
  {
   "cell_type": "code",
   "execution_count": 31,
   "id": "e74a9349-d890-4b73-8f27-db1cf8bf7588",
   "metadata": {},
   "outputs": [
    {
     "name": "stdin",
     "output_type": "stream",
     "text": [
      "enter the number1: 500\n",
      "enter the number2: 600\n"
     ]
    },
    {
     "data": {
      "text/plain": [
       "1100"
      ]
     },
     "execution_count": 31,
     "metadata": {},
     "output_type": "execute_result"
    }
   ],
   "source": [
    "n1=input(\"enter the number1:\") # n1='500'\n",
    "n2=input(\"enter the number2:\") # n2='600'\n",
    "int(n1)+int(n2) # int('500')+int('600')=500+600=1100"
   ]
  },
  {
   "cell_type": "code",
   "execution_count": 32,
   "id": "652783e6-7150-4e1c-803b-c620f2c04d01",
   "metadata": {},
   "outputs": [
    {
     "name": "stdin",
     "output_type": "stream",
     "text": [
      "enter the number1: 500\n",
      "enter the number2: 600\n",
      "enter the number1: 500\n",
      "enter the number2: 600\n"
     ]
    },
    {
     "data": {
      "text/plain": [
       "1100"
      ]
     },
     "execution_count": 32,
     "metadata": {},
     "output_type": "execute_result"
    }
   ],
   "source": [
    "n1=int(input(\"enter the number1:\")) # n1=int('500')=500\n",
    "n2=int(input(\"enter the number2:\")) # n2=int('600')=600\n",
    "n1+n2 # 500+600=1100\n",
    "\n",
    "n1=input(\"enter the number1:\") # n1='500'\n",
    "n2=input(\"enter the number2:\") # n2='600'\n",
    "int(n1)+int(n2) # int('500')+int('600')=500+600=1100"
   ]
  },
  {
   "cell_type": "code",
   "execution_count": 35,
   "id": "11a1afe5-0f55-4d2b-a77e-99bb07fb387c",
   "metadata": {},
   "outputs": [
    {
     "name": "stdin",
     "output_type": "stream",
     "text": [
      "enter the number1: 20.456\n",
      "enter the number2: 67\n"
     ]
    },
    {
     "data": {
      "text/plain": [
       "87.456"
      ]
     },
     "execution_count": 35,
     "metadata": {},
     "output_type": "execute_result"
    }
   ],
   "source": [
    "n1=float(input(\"enter the number1:\")) \n",
    "n2=int(input(\"enter the number2:\")) \n",
    "n1+n2"
   ]
  },
  {
   "cell_type": "markdown",
   "id": "bee4c367-ebb7-452c-ae90-756a3a003126",
   "metadata": {},
   "source": [
    "**eval**"
   ]
  },
  {
   "cell_type": "markdown",
   "id": "6e5ea65b-1d26-4807-92fd-26b0ae231ef9",
   "metadata": {},
   "source": [
    "\n",
    "- eval means evaluate\n",
    "\n",
    "- it is related to math family\n",
    "\n",
    "- which means it works only number represnt as strings\n",
    "\n",
    "- it will not works on english letters\n",
    "\n",
    "- eval will convert the repective data type which is user enter\n",
    "\n",
    "- if user enter 10 in quotes it will convert into 10\n",
    "\n",
    "- if user enter 10.5 in quotes it will conver into 10.5"
   ]
  },
  {
   "cell_type": "code",
   "execution_count": 36,
   "id": "be44831d-ecab-47f0-96e7-b9ea61b33652",
   "metadata": {},
   "outputs": [
    {
     "ename": "ValueError",
     "evalue": "invalid literal for int() with base 10: '10.5'",
     "output_type": "error",
     "traceback": [
      "\u001b[1;31m---------------------------------------------------------------------------\u001b[0m",
      "\u001b[1;31mValueError\u001b[0m                                Traceback (most recent call last)",
      "Cell \u001b[1;32mIn[36], line 2\u001b[0m\n\u001b[0;32m      1\u001b[0m \u001b[38;5;28mint\u001b[39m(\u001b[38;5;124m'\u001b[39m\u001b[38;5;124m10\u001b[39m\u001b[38;5;124m'\u001b[39m)  \u001b[38;5;66;03m# 10\u001b[39;00m\n\u001b[1;32m----> 2\u001b[0m \u001b[38;5;28mint\u001b[39m(\u001b[38;5;124m'\u001b[39m\u001b[38;5;124m10.5\u001b[39m\u001b[38;5;124m'\u001b[39m) \u001b[38;5;66;03m# error\u001b[39;00m\n\u001b[0;32m      4\u001b[0m \u001b[38;5;28mfloat\u001b[39m(\u001b[38;5;124m'\u001b[39m\u001b[38;5;124m10\u001b[39m\u001b[38;5;124m'\u001b[39m) \u001b[38;5;66;03m# 10.0 \u001b[39;00m\n\u001b[0;32m      5\u001b[0m \u001b[38;5;28mfloat\u001b[39m(\u001b[38;5;124m'\u001b[39m\u001b[38;5;124m10.5\u001b[39m\u001b[38;5;124m'\u001b[39m)\n",
      "\u001b[1;31mValueError\u001b[0m: invalid literal for int() with base 10: '10.5'"
     ]
    }
   ],
   "source": [
    "int('10')  # 10\n",
    "int('10.5') # error\n",
    "\n",
    "float('10') # 10.0 \n",
    "float('10.5') # 10.5"
   ]
  },
  {
   "cell_type": "code",
   "execution_count": 37,
   "id": "fb42a7b6-5f37-4b46-8a2b-6058c87726ea",
   "metadata": {},
   "outputs": [
    {
     "data": {
      "text/plain": [
       "(10, 10.5)"
      ]
     },
     "execution_count": 37,
     "metadata": {},
     "output_type": "execute_result"
    }
   ],
   "source": [
    "eval('10'),eval('10.5')"
   ]
  },
  {
   "cell_type": "code",
   "execution_count": 38,
   "id": "0cb43145-1d8d-4e43-a4fb-c1350628a116",
   "metadata": {},
   "outputs": [
    {
     "name": "stdin",
     "output_type": "stream",
     "text": [
      "enter the number1: 10.56\n",
      "enter the number2: 56.89\n"
     ]
    },
    {
     "data": {
      "text/plain": [
       "67.45"
      ]
     },
     "execution_count": 38,
     "metadata": {},
     "output_type": "execute_result"
    }
   ],
   "source": [
    "n1=eval(input(\"enter the number1:\")) \n",
    "n2=eval(input(\"enter the number2:\")) \n",
    "n1+n2 "
   ]
  },
  {
   "cell_type": "code",
   "execution_count": null,
   "id": "ea0324fc-796a-458f-97a9-80f7ef7e0b80",
   "metadata": {},
   "outputs": [],
   "source": [
    "# 1)wap ask the user enter 3 numbers n1,n2,n3 from ketboard\n",
    "# calculate average\n",
    "\n",
    "# 2)wap ask the user enter name age city\n",
    "# print my name is python im 10 years old and came from hyd\n",
    "\n",
    "# 3)wap ask the user to enter radidus of a circle calculate area of the circle\n",
    "# var: radidus  var: pi=3.14\n",
    "# formuale: pi*radius*radius\n",
    "# print the answers using f string and format\n",
    "\n",
    "# 4)wap ask the user enter breadth and height of a right angle triangle\n",
    "# calculate the area\n",
    "# var1: bredath  var2: height\n",
    "# formuale : 0.5*breadth*heigh\n",
    "\n",
    "# 5)wap ask the user the bill amount and tip amount\n",
    "#   calculate total bill\n",
    "#   var1: bill amount var2: tip amount\n",
    "#   formuale\n",
    "\n",
    "# 6)wap ask the user the bill amount and tip percentage\n",
    "#    take tip percentage as 10\n",
    "#   calculate total bill= bill amount+ bill amount*tip per/100\n",
    "#   var1: bill amount var2: tip amount\n",
    "#    formuale\n",
    "\n",
    "# 7)wap ask the length and breadth of a rectangle calculate area\n",
    "#   var1: length  var2: breadth\n",
    "#   formulae: length * breadth\n",
    "\n",
    "# 8) wap ask the user take the radius and calculate volume of sphere\n",
    "#   formulae: pi*r**3(pi*r*r*r)\n",
    "\n",
    "# 9) wap ask the user enter amount in dollars convert into rupees\n",
    "#     1$=85rs\n",
    "\n",
    "# 10)wap ask the user enter weight in kgs convert into pounds\n",
    "#    1kg= 2.2pounds"
   ]
  },
  {
   "cell_type": "markdown",
   "id": "c540e183-a551-4cc6-ab5e-81380029ce0e",
   "metadata": {},
   "source": [
    "- strings or english does not require eval\n",
    "\n",
    "- avg= eval(n1+n2+n3)"
   ]
  },
  {
   "cell_type": "code",
   "execution_count": null,
   "id": "60a97012-e404-486e-86c8-066f667e5166",
   "metadata": {},
   "outputs": [],
   "source": []
  }
 ],
 "metadata": {
  "kernelspec": {
   "display_name": "Python 3 (ipykernel)",
   "language": "python",
   "name": "python3"
  },
  "language_info": {
   "codemirror_mode": {
    "name": "ipython",
    "version": 3
   },
   "file_extension": ".py",
   "mimetype": "text/x-python",
   "name": "python",
   "nbconvert_exporter": "python",
   "pygments_lexer": "ipython3",
   "version": "3.12.7"
  }
 },
 "nbformat": 4,
 "nbformat_minor": 5
}
