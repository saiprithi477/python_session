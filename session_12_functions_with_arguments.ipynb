{
 "cells": [
  {
   "cell_type": "markdown",
   "id": "334c5939-7e45-4932-9509-d6e14c9d5f06",
   "metadata": {},
   "source": [
    "**Functions with arguments**\n",
    "\n",
    "- how many variables are there inside the function\n",
    "\n",
    "- in above addition function 3 variables are there: n1,n2,add\n",
    "    - how many input variable are there\n",
    "\n",
    "- input variables means the variables access the values from user as input\n",
    "      - how many output variables are there\n",
    "\n",
    "- output variables means the variable created becuse of some operations: add\n",
    " - **Dont touch the output variable**\n"
   ]
  },
  {
   "cell_type": "code",
   "execution_count": 3,
   "id": "3b949165-3c25-4286-88b0-a2b8b76bb34b",
   "metadata": {},
   "outputs": [
    {
     "name": "stdout",
     "output_type": "stream",
     "text": [
      "n1: 12\n",
      "n2: 13\n",
      "the addition of12and13 is 25\n"
     ]
    }
   ],
   "source": [
    "def addition1(n1,n2):\n",
    "    print('n1:',n1)\n",
    "    print('n2:',n2)\n",
    "    add=n1+n2\n",
    "    print(f'the addition of{n1}and{n2} is {add}')\n",
    "addition1(12,13)"
   ]
  },
  {
   "cell_type": "code",
   "execution_count": 4,
   "id": "4bca4270-e203-4584-b77d-31fed025f4ed",
   "metadata": {},
   "outputs": [
    {
     "ename": "TypeError",
     "evalue": "addition1() missing 1 required positional argument: 'n2'",
     "output_type": "error",
     "traceback": [
      "\u001b[1;31m---------------------------------------------------------------------------\u001b[0m",
      "\u001b[1;31mTypeError\u001b[0m                                 Traceback (most recent call last)",
      "Cell \u001b[1;32mIn[4], line 1\u001b[0m\n\u001b[1;32m----> 1\u001b[0m addition1(\u001b[38;5;241m500\u001b[39m)\n",
      "\u001b[1;31mTypeError\u001b[0m: addition1() missing 1 required positional argument: 'n2'"
     ]
    }
   ],
   "source": [
    "addition1(500) # user have missing arguments"
   ]
  },
  {
   "cell_type": "markdown",
   "id": "474c06fa-5a2d-4676-8b20-91579e255bd7",
   "metadata": {},
   "source": [
    "- in above function the tip_per is fixed as 20\n",
    "- this is called default arguments\n",
    "- while calling the function no need to provide tip_per again\n",
    "- if you provide again the value wikll be change"
   ]
  },
  {
   "cell_type": "code",
   "execution_count": 1,
   "id": "5dd9d8eb-66a9-4e88-8e01-3f204c5703b5",
   "metadata": {},
   "outputs": [
    {
     "name": "stdout",
     "output_type": "stream",
     "text": [
      "bill_amount: 2000\n",
      "tip_amount: 20\n",
      " the bill amount is 2000 and tip is 20, hence percentage of total bill amount is 2400.0\n",
      "the  bill_amountis 2000 and tip_amount is 20total bill amount is2400.0\n"
     ]
    }
   ],
   "source": [
    "# default argument\n",
    "\n",
    "import math\n",
    "def AMOUNT(bill_amount,tip_amount=20):\n",
    "    try:\n",
    "        print('bill_amount:',bill_amount) \n",
    "        print('tip_amount:',tip_amount)\n",
    "        total=bill_amount+(bill_amount*tip_amount/100)\n",
    "        print(f\" the bill amount is {bill_amount} and tip is {tip_amount}, hence percentage of total bill amount is {total}\")\n",
    "        print(\"the  bill_amountis {} and tip_amount is {}total bill amount is{}\".format(bill_amount,tip_amount,total))\n",
    "    except Exception as e:\n",
    "        print(e)\n",
    "\n",
    "AMOUNT(2000)\n"
   ]
  },
  {
   "cell_type": "code",
   "execution_count": 2,
   "id": "7ace1cf7-9cc2-4782-a9fb-9f178a9aa9ad",
   "metadata": {},
   "outputs": [
    {
     "name": "stdout",
     "output_type": "stream",
     "text": [
      "bill_amount: 2000\n",
      "tip_amount: 30\n",
      " the bill amount is 2000 and tip is 30, hence percentage of total bill amount is 2600.0\n",
      "the  bill_amountis 2000 and tip_amount is 30total bill amount is2600.0\n"
     ]
    }
   ],
   "source": [
    "import math\n",
    "def AMOUNT(bill_amount,tip_amount=20):\n",
    "    try:\n",
    "        print('bill_amount:',bill_amount) \n",
    "        print('tip_amount:',tip_amount)\n",
    "        total=bill_amount+(bill_amount*tip_amount/100)\n",
    "        print(f\" the bill amount is {bill_amount} and tip is {tip_amount}, hence percentage of total bill amount is {total}\")\n",
    "        print(\"the  bill_amountis {} and tip_amount is {}total bill amount is{}\".format(bill_amount,tip_amount,total))\n",
    "    except Exception as e:\n",
    "        print(e)\n",
    "\n",
    "AMOUNT(2000,30)\n",
    "# value will be change\n"
   ]
  },
  {
   "cell_type": "code",
   "execution_count": 4,
   "id": "5d6f54b0-4891-4009-954c-f378d07eadbd",
   "metadata": {},
   "outputs": [
    {
     "name": "stdout",
     "output_type": "stream",
     "text": [
      "n1: 200\n",
      "n2: 300\n",
      "n3: 30\n",
      "thezverage of200,300and30 is: 176.67\n"
     ]
    }
   ],
   "source": [
    "def AVG2(n1,n2,n3=30):\n",
    "    try:\n",
    "        print('n1:',n1)\n",
    "        print('n2:',n2)\n",
    "        print('n3:',n3)\n",
    "        avg=(n1+n2+n3)/3\n",
    "        avg1=round(avg,2)\n",
    "        print(f'thezverage of{n1},{n2}and{n3} is: {avg1}')\n",
    "    except Exception as e:\n",
    "        print(e)\n",
    "AVG2(200,300)"
   ]
  },
  {
   "cell_type": "code",
   "execution_count": 5,
   "id": "a1b4c694-e9b3-42c3-a687-31000d46a3b6",
   "metadata": {},
   "outputs": [
    {
     "ename": "SyntaxError",
     "evalue": "parameter without a default follows parameter with a default (4040189680.py, line 1)",
     "output_type": "error",
     "traceback": [
      "\u001b[1;36m  Cell \u001b[1;32mIn[5], line 1\u001b[1;36m\u001b[0m\n\u001b[1;33m    def AVG2(n1,n2=40,n3):\u001b[0m\n\u001b[1;37m                      ^\u001b[0m\n\u001b[1;31mSyntaxError\u001b[0m\u001b[1;31m:\u001b[0m parameter without a default follows parameter with a default\n"
     ]
    }
   ],
   "source": [
    "def AVG2(n1,n2=40,n3):\n",
    "    try:\n",
    "        print('n1:',n1)\n",
    "        print('n2:',n2)\n",
    "        print('n3:',n3)\n",
    "        avg=(n1+n2+n3)/3\n",
    "        avg1=round(avg,2)\n",
    "        print(f'thezverage of{n1},{n2}and{n3} is: {avg1}')\n",
    "    except Exception as e:\n",
    "        print(e)\n",
    "AVG2(200,300)"
   ]
  },
  {
   "cell_type": "markdown",
   "id": "26773e0e-2596-40b2-8c44-651ad0ed3e0a",
   "metadata": {},
   "source": [
    "**note: Default arguments always at last**"
   ]
  },
  {
   "cell_type": "code",
   "execution_count": 8,
   "id": "1de2c021-0e41-4e9d-aae8-06ede1ca6c97",
   "metadata": {},
   "outputs": [
    {
     "name": "stdout",
     "output_type": "stream",
     "text": [
      "n1: 200\n",
      "n2: 30\n",
      "n3: 300\n",
      "thezverage of200,30and300 is: 176.67\n"
     ]
    }
   ],
   "source": [
    "def AVG2(n1,n3,n2=30):\n",
    "    try:\n",
    "        print('n1:',n1)\n",
    "        print('n2:',n2)\n",
    "        print('n3:',n3)\n",
    "        avg=(n1+n2+n3)/3\n",
    "        avg1=round(avg,2)\n",
    "        print(f'thezverage of{n1},{n2}and{n3} is: {avg1}')\n",
    "    except Exception as e:\n",
    "        print(e)\n",
    "AVG2(200,300)"
   ]
  },
  {
   "cell_type": "code",
   "execution_count": null,
   "id": "dcc29f1f-cfbe-443d-8088-059ec0960878",
   "metadata": {},
   "outputs": [],
   "source": [
    "n1,n2,n3=100 #w\n",
    "n1,n2=100,n3 #f\n",
    "n1=100,n2,n3 #f\n",
    "n1,n2=100,n3=100 #w\n",
    "n1=100,n2,n3=100 #f\n",
    "n1=100,n2=100,n3 #f\n",
    "n1=100,n2=100,n3=100 #"
   ]
  },
  {
   "cell_type": "markdown",
   "id": "65c50ff4-6948-485e-aee0-b642c9afb105",
   "metadata": {},
   "source": [
    "- Function with out arguments\n",
    "\n",
    "- function with arguments\n",
    "\n",
    "- function with default arguments"
   ]
  },
  {
   "cell_type": "code",
   "execution_count": null,
   "id": "0d6502df-20e8-4bbb-bc2b-48a87e3fa720",
   "metadata": {},
   "outputs": [],
   "source": [
    "def tax_cal():\n",
    "    salary=eval(input('enter the salary:'))\n",
    "    tax_par=eval(input('enter the tax:'))\n",
    "    tax_pay=salary*tax_par/100\n",
    "    print(tax_per)\n",
    "tax_cal()\n",
    "\n",
    "print(\"function with arguments\")\n",
    "def tax_cal1(salary,tax_par):\n",
    "    tax_pay=salary*tax_per/100\n",
    "    print(tax_pey)"
   ]
  },
  {
   "cell_type": "markdown",
   "id": "6daf6498-6cbc-4791-b091-6af07ed2c9e8",
   "metadata": {},
   "source": [
    "**analogy with the package**"
   ]
  },
  {
   "cell_type": "code",
   "execution_count": null,
   "id": "9f09f266-ac3d-4af4-8e0a-0b356ccc20ee",
   "metadata": {},
   "outputs": [],
   "source": [
    "random()\n",
    "tax_cal()\n",
    "randint()\n",
    "tax_cal1()"
   ]
  },
  {
   "cell_type": "code",
   "execution_count": 2,
   "id": "ef4b8404-bf24-4211-9696-62af8359ec34",
   "metadata": {},
   "outputs": [
    {
     "data": {
      "text/plain": [
       "(3+0j)"
      ]
     },
     "execution_count": 2,
     "metadata": {},
     "output_type": "execute_result"
    }
   ],
   "source": [
    "complex() #real and imagenary r=0 imag=0 0+0j==0j\n",
    "complex(3,4)# r=3 imag=4  3+4j\n",
    "complex(3)  # r=3 imag=0  3+0j"
   ]
  },
  {
   "cell_type": "code",
   "execution_count": 3,
   "id": "0444a28e-2436-4396-a8fd-93d076c129c8",
   "metadata": {},
   "outputs": [
    {
     "data": {
      "text/plain": [
       "0j"
      ]
     },
     "execution_count": 3,
     "metadata": {},
     "output_type": "execute_result"
    }
   ],
   "source": [
    "complex() #real and imagenary r=0 imag=0 0+0j==0j"
   ]
  },
  {
   "cell_type": "code",
   "execution_count": 4,
   "id": "1392a52b-dcbf-4fc4-82d5-3a1ae701fd8a",
   "metadata": {},
   "outputs": [
    {
     "data": {
      "text/plain": [
       "(3+4j)"
      ]
     },
     "execution_count": 4,
     "metadata": {},
     "output_type": "execute_result"
    }
   ],
   "source": [
    "complex(3,4)# r=3 imag=4  3+4j"
   ]
  },
  {
   "cell_type": "markdown",
   "id": "a935074a-79f1-45df-972f-f6b6a5410053",
   "metadata": {},
   "source": [
    " - now onwords whenever you see any package \n",
    "- always do shift+tab inside the brackets\n",
    "- with or without or default"
   ]
  },
  {
   "cell_type": "code",
   "execution_count": 5,
   "id": "d4c3dab0-120b-43eb-82b3-e18108849ebd",
   "metadata": {},
   "outputs": [
    {
     "name": "stdout",
     "output_type": "stream",
     "text": [
      "a: 100\n",
      "b: 200\n",
      "c: 300\n",
      "the summation of 100,200and 300is :600\n"
     ]
    }
   ],
   "source": [
    "def add(a,b,c):\n",
    "    print('a:',a)\n",
    "    print('b:',b)\n",
    "    print('c:',c)\n",
    "    summ=a+b+c\n",
    "    print(f'the summation of {a},{b}and {c}is :{summ}') # summ is keyword\n",
    "add(100,200,300)"
   ]
  },
  {
   "cell_type": "markdown",
   "id": "3cc2cf72-f9ca-473b-ac9c-562bc1493bf9",
   "metadata": {},
   "source": [
    "**case-1**"
   ]
  },
  {
   "cell_type": "code",
   "execution_count": 6,
   "id": "f0574c73-3903-44df-85d0-4400642539ac",
   "metadata": {},
   "outputs": [
    {
     "name": "stdout",
     "output_type": "stream",
     "text": [
      "a: 100\n",
      "b: 200\n",
      "c: 300\n",
      "the summation of 100,200and 300is :600\n"
     ]
    }
   ],
   "source": [
    "def add(a,b,c=300):\n",
    "    print('a:',a)\n",
    "    print('b:',b)\n",
    "    print('c:',c)\n",
    "    summ=a+b+c\n",
    "    print(f'the summation of {a},{b}and {c}is :{summ}') # summ is keyword\n",
    "add(100,200)"
   ]
  },
  {
   "cell_type": "markdown",
   "id": "7495e16a-0ad9-4395-a9da-f7147abefcb1",
   "metadata": {},
   "source": [
    "**case-2**"
   ]
  },
  {
   "cell_type": "code",
   "execution_count": 7,
   "id": "0aff6220-04c7-4666-a3a6-619d90cd7ffb",
   "metadata": {},
   "outputs": [
    {
     "name": "stdout",
     "output_type": "stream",
     "text": [
      "a: 100\n",
      "b: 200\n",
      "c: 600\n",
      "the summation of 100,200and 600is :900\n"
     ]
    }
   ],
   "source": [
    "def add(a,b,c=400):\n",
    "    print('a:',a)\n",
    "    print('b:',b)\n",
    "    print('c:',c)\n",
    "    summ=a+b+c\n",
    "    print(f'the summation of {a},{b}and {c}is :{summ}') # summ is keyword\n",
    "add(100,200,600)"
   ]
  },
  {
   "cell_type": "markdown",
   "id": "ae2a14a5-4ffe-4708-8aef-595b51fde0d8",
   "metadata": {},
   "source": [
    "- in above case we already provided default vaalue c=400\n",
    "- but while we call the function c value become=600\n",
    "- step-1: Define the function: while define what is the value 400\n",
    "- step-2: cal the function: while call the function what is the value 600\n",
    "- step-3: Running the function: while running what is the value 600"
   ]
  },
  {
   "cell_type": "code",
   "execution_count": 8,
   "id": "fbce11e8-3b61-42f2-a894-33bfd6425b0d",
   "metadata": {},
   "outputs": [
    {
     "name": "stdout",
     "output_type": "stream",
     "text": [
      "a: 100\n",
      "b: 200\n",
      "c: 1000\n",
      "the summation of 100,200and 1000is :1300\n"
     ]
    }
   ],
   "source": [
    "def add(a,b,c=400):    #1st\n",
    "    c=1000       #3rd\n",
    "    print('a:',a)\n",
    "    print('b:',b)\n",
    "    print('c:',c)\n",
    "    summ=a+b+c\n",
    "    print(f'the summation of {a},{b}and {c}is :{summ}') # summ is keyword\n",
    "add(100,200,600) #2nd\n",
    "\n",
    "# while define c=400\n",
    "# while calling c=600\n",
    "# while running c=1000"
   ]
  },
  {
   "cell_type": "code",
   "execution_count": 9,
   "id": "14505af1-0ece-40e8-9f33-e592090554e0",
   "metadata": {},
   "outputs": [
    {
     "name": "stdout",
     "output_type": "stream",
     "text": [
      "a: 100\n",
      "b: 200\n",
      "c: 600\n",
      "the summation of 100,200and 600is :900\n"
     ]
    }
   ],
   "source": [
    "c=3000\n",
    "def add(a,b):    #1stabs\n",
    "    \n",
    "    print('a:',a)\n",
    "    print('b:',b)\n",
    "    print('c:',c)\n",
    "    summ=a+b+c\n",
    "    print(f'the summation of {a},{b}and {c}is :{summ}') # summ is keyword\n",
    "\n",
    "add(100,200) #2nd"
   ]
  },
  {
   "cell_type": "markdown",
   "id": "bff72474-9678-42df-aa9f-00031f2c3c81",
   "metadata": {},
   "source": [
    "** global variable vs local variable**\n",
    "\n",
    "- the variables outside the function is called as **Global variable**\n",
    "    - Global variable can use anywhere\n",
    "    - global variable can  be use inside the functions also outside the functions\n",
    "\n",
    "- the variables inside the function is called as **local variable**\n",
    "   - local variables can be use onlu inside function\n",
    "   - local variables can not be use outside the function\n"
   ]
  },
  {
   "cell_type": "code",
   "execution_count": 10,
   "id": "ff256009-b8fb-42ec-b6e7-b63d9eedb491",
   "metadata": {},
   "outputs": [
    {
     "name": "stdout",
     "output_type": "stream",
     "text": [
      "the summation of 100,200and is :300\n"
     ]
    }
   ],
   "source": [
    "\n",
    "def add(a,b): #1stabs\n",
    "    n1=100\n",
    "    n2=200\n",
    "   \n",
    "    summ=n1+n2\n",
    "    print(f'the summation of {n1},{n2}and is :{summ}') # summ is keyword\n",
    "\n",
    "add(100,200) #2nd"
   ]
  },
  {
   "cell_type": "code",
   "execution_count": 11,
   "id": "18986c7d-054e-4a99-88f1-2aabc2817bca",
   "metadata": {},
   "outputs": [
    {
     "ename": "NameError",
     "evalue": "name 'n1' is not defined",
     "output_type": "error",
     "traceback": [
      "\u001b[1;31m---------------------------------------------------------------------------\u001b[0m",
      "\u001b[1;31mNameError\u001b[0m                                 Traceback (most recent call last)",
      "Cell \u001b[1;32mIn[11], line 1\u001b[0m\n\u001b[1;32m----> 1\u001b[0m n1\n",
      "\u001b[1;31mNameError\u001b[0m: name 'n1' is not defined"
     ]
    }
   ],
   "source": [
    "n1"
   ]
  },
  {
   "cell_type": "code",
   "execution_count": 16,
   "id": "06a335b1-ca5d-4955-b58b-e169b7e8617f",
   "metadata": {},
   "outputs": [
    {
     "name": "stdout",
     "output_type": "stream",
     "text": [
      "the summation of 100,200and is :300\n"
     ]
    }
   ],
   "source": [
    "\n",
    "def addition(): #1stabs \n",
    "    n1=100\n",
    "    n2=200\n",
    "    summ=n1+n2\n",
    "    print(f'the summation of {n1},{n2}and is :{summ}') # summ is keyword\n",
    "\n",
    "addition() #2nd"
   ]
  },
  {
   "cell_type": "code",
   "execution_count": 17,
   "id": "6651216b-224c-4429-bd94-0e5ef6ec1145",
   "metadata": {},
   "outputs": [
    {
     "name": "stdout",
     "output_type": "stream",
     "text": [
      "the summation of 100,200and is :300\n"
     ]
    }
   ],
   "source": [
    "n1=100\n",
    "n2=200\n",
    "\n",
    "def addition(): #1stabs \n",
    "    summ=n1+n2\n",
    "    print(f'the summation of {n1},{n2}and is :{summ}') # summ is keyword\n",
    "\n",
    "addition() #2nd"
   ]
  },
  {
   "cell_type": "markdown",
   "id": "2db8a99b-0f64-4181-9237-5bf0df174df8",
   "metadata": {},
   "source": [
    "**how to conver local variable to global variable**\n",
    "\n",
    "- if we want to use summ variable outside the function\n",
    "- then intialise summ as global also using **global** keyword\n"
   ]
  },
  {
   "cell_type": "code",
   "execution_count": 18,
   "id": "be95befd-3809-4745-8960-79bb5283f053",
   "metadata": {},
   "outputs": [
    {
     "name": "stdout",
     "output_type": "stream",
     "text": [
      "the summation of 100,200and is :300\n"
     ]
    }
   ],
   "source": [
    "n1=100\n",
    "n2=200\n",
    "\n",
    "def addition(): #1stabs  \n",
    "    global summ  # inside the summ to express a global variable\n",
    "    summ=n1+n2\n",
    "    print(f'the summation of {n1},{n2}and is :{summ}') # summ is keyword\n",
    "\n",
    "addition() #2nd"
   ]
  },
  {
   "cell_type": "code",
   "execution_count": 19,
   "id": "a486442b-786b-48f8-b320-b4d4a52f581d",
   "metadata": {},
   "outputs": [
    {
     "data": {
      "text/plain": [
       "300"
      ]
     },
     "execution_count": 19,
     "metadata": {},
     "output_type": "execute_result"
    }
   ],
   "source": [
    "summ"
   ]
  },
  {
   "cell_type": "markdown",
   "id": "9ae4dac5-44e7-4ef4-9cfe-4b3d7a288b0e",
   "metadata": {},
   "source": [
    "**unbound local error**"
   ]
  },
  {
   "cell_type": "markdown",
   "id": "74eba4fc-f4f4-4121-a0f9-0b3091463e86",
   "metadata": {},
   "source": [
    "- in below example s is not intialised\n",
    "- we might think name error will come\n",
    "- but inside function we will get **unbound local error**"
   ]
  },
  {
   "cell_type": "code",
   "execution_count": 20,
   "id": "8a4e6ebe-b5c2-4734-81bb-63bf0815af2b",
   "metadata": {},
   "outputs": [
    {
     "ename": "UnboundLocalError",
     "evalue": "cannot access local variable 's' where it is not associated with a value",
     "output_type": "error",
     "traceback": [
      "\u001b[1;31m---------------------------------------------------------------------------\u001b[0m",
      "\u001b[1;31mUnboundLocalError\u001b[0m                         Traceback (most recent call last)",
      "Cell \u001b[1;32mIn[20], line 7\u001b[0m\n\u001b[0;32m      5\u001b[0m     s\u001b[38;5;241m=\u001b[39ms\u001b[38;5;241m+\u001b[39mn1\n\u001b[0;32m      6\u001b[0m     \u001b[38;5;28mprint\u001b[39m(s)\n\u001b[1;32m----> 7\u001b[0m add1()\n",
      "Cell \u001b[1;32mIn[20], line 5\u001b[0m, in \u001b[0;36madd1\u001b[1;34m()\u001b[0m\n\u001b[0;32m      3\u001b[0m \u001b[38;5;28;01mdef\u001b[39;00m \u001b[38;5;21madd1\u001b[39m():\n\u001b[0;32m      4\u001b[0m     n1\u001b[38;5;241m=\u001b[39m\u001b[38;5;241m100\u001b[39m\n\u001b[1;32m----> 5\u001b[0m     s\u001b[38;5;241m=\u001b[39ms\u001b[38;5;241m+\u001b[39mn1\n\u001b[0;32m      6\u001b[0m     \u001b[38;5;28mprint\u001b[39m(s)\n",
      "\u001b[1;31mUnboundLocalError\u001b[0m: cannot access local variable 's' where it is not associated with a value"
     ]
    }
   ],
   "source": [
    "s=0\n",
    "\n",
    "def add1():\n",
    "    n1=100\n",
    "    s=s+n1\n",
    "    print(s)\n",
    "add1()"
   ]
  },
  {
   "cell_type": "code",
   "execution_count": 21,
   "id": "11194633-47c8-45f4-9662-cb3d53369d67",
   "metadata": {},
   "outputs": [
    {
     "name": "stdout",
     "output_type": "stream",
     "text": [
      "100\n"
     ]
    }
   ],
   "source": [
    "s=0\n",
    "\n",
    "def add1():\n",
    "    global s1\n",
    "    n1=100\n",
    "    s1=s+n1\n",
    "    print(s1)\n",
    "add1()"
   ]
  },
  {
   "cell_type": "code",
   "execution_count": 22,
   "id": "8310ba89-4623-4193-82b0-56fbfd78294c",
   "metadata": {},
   "outputs": [
    {
     "data": {
      "text/plain": [
       "100"
      ]
     },
     "execution_count": 22,
     "metadata": {},
     "output_type": "execute_result"
    }
   ],
   "source": [
    "s1"
   ]
  },
  {
   "cell_type": "code",
   "execution_count": 23,
   "id": "631348ff-cd05-4428-b3a9-a461ddd72b65",
   "metadata": {},
   "outputs": [
    {
     "ename": "NameError",
     "evalue": "name 'summ1' is not defined",
     "output_type": "error",
     "traceback": [
      "\u001b[1;31m---------------------------------------------------------------------------\u001b[0m",
      "\u001b[1;31mNameError\u001b[0m                                 Traceback (most recent call last)",
      "Cell \u001b[1;32mIn[23], line 6\u001b[0m\n\u001b[0;32m      4\u001b[0m     s1\u001b[38;5;241m=\u001b[39msumm1\u001b[38;5;241m+\u001b[39mn1\n\u001b[0;32m      5\u001b[0m     \u001b[38;5;28mprint\u001b[39m(s1)\n\u001b[1;32m----> 6\u001b[0m add1()\n",
      "Cell \u001b[1;32mIn[23], line 4\u001b[0m, in \u001b[0;36madd1\u001b[1;34m()\u001b[0m\n\u001b[0;32m      1\u001b[0m \u001b[38;5;28;01mdef\u001b[39;00m \u001b[38;5;21madd1\u001b[39m():\n\u001b[0;32m      3\u001b[0m     n1\u001b[38;5;241m=\u001b[39m\u001b[38;5;241m100\u001b[39m\n\u001b[1;32m----> 4\u001b[0m     s1\u001b[38;5;241m=\u001b[39msumm1\u001b[38;5;241m+\u001b[39mn1\n\u001b[0;32m      5\u001b[0m     \u001b[38;5;28mprint\u001b[39m(s1)\n",
      "\u001b[1;31mNameError\u001b[0m: name 'summ1' is not defined"
     ]
    }
   ],
   "source": [
    "def add1():\n",
    " \n",
    "    n1=100\n",
    "    s1=summ1+n1\n",
    "    print(s1)\n",
    "add1()"
   ]
  },
  {
   "cell_type": "code",
   "execution_count": 24,
   "id": "a4a57960-a07f-4acf-ac94-22dfe080ee74",
   "metadata": {},
   "outputs": [
    {
     "ename": "UnboundLocalError",
     "evalue": "cannot access local variable 'summ1' where it is not associated with a value",
     "output_type": "error",
     "traceback": [
      "\u001b[1;31m---------------------------------------------------------------------------\u001b[0m",
      "\u001b[1;31mUnboundLocalError\u001b[0m                         Traceback (most recent call last)",
      "Cell \u001b[1;32mIn[24], line 6\u001b[0m\n\u001b[0;32m      4\u001b[0m     summ1\u001b[38;5;241m=\u001b[39msumm1\u001b[38;5;241m+\u001b[39mn1\n\u001b[0;32m      5\u001b[0m     \u001b[38;5;28mprint\u001b[39m(s1)\n\u001b[1;32m----> 6\u001b[0m add1()\n",
      "Cell \u001b[1;32mIn[24], line 4\u001b[0m, in \u001b[0;36madd1\u001b[1;34m()\u001b[0m\n\u001b[0;32m      1\u001b[0m \u001b[38;5;28;01mdef\u001b[39;00m \u001b[38;5;21madd1\u001b[39m():\n\u001b[0;32m      3\u001b[0m     n1\u001b[38;5;241m=\u001b[39m\u001b[38;5;241m100\u001b[39m\n\u001b[1;32m----> 4\u001b[0m     summ1\u001b[38;5;241m=\u001b[39msumm1\u001b[38;5;241m+\u001b[39mn1\n\u001b[0;32m      5\u001b[0m     \u001b[38;5;28mprint\u001b[39m(s1)\n",
      "\u001b[1;31mUnboundLocalError\u001b[0m: cannot access local variable 'summ1' where it is not associated with a value"
     ]
    }
   ],
   "source": [
    "def add1():\n",
    " \n",
    "    n1=100\n",
    "    summ1=summ1+n1\n",
    "    print(s1)\n",
    "add1()"
   ]
  },
  {
   "cell_type": "code",
   "execution_count": null,
   "id": "f74b013b-ae81-4e2c-8abc-15a72e241481",
   "metadata": {},
   "outputs": [],
   "source": [
    "def add1():\n",
    " \n",
    "    n1=100\n",
    "    summ1=summ1+n1\n",
    "    print(s1)\n",
    "add1() #name error\n",
    "#############################################\n",
    "def add1():\n",
    " \n",
    "    n1=100\n",
    "    summ1=summ1+n1\n",
    "    print(s1)\n",
    "add1()\n",
    "#################################################\n",
    "def add1():\n",
    " \n",
    "    n1=100\n",
    "    summ1=summ1+n1\n",
    "    print(s1)\n",
    "add1()"
   ]
  },
  {
   "cell_type": "code",
   "execution_count": 26,
   "id": "b27e9594-dae5-41fa-816a-f30acee4ee1e",
   "metadata": {},
   "outputs": [
    {
     "name": "stdout",
     "output_type": "stream",
     "text": [
      "200\n"
     ]
    }
   ],
   "source": [
    "def add3():\n",
    " \n",
    "    n1=100\n",
    "    summ2=100\n",
    "    summ2=summ2+n1\n",
    "    print(summ2)\n",
    "add3()"
   ]
  },
  {
   "cell_type": "code",
   "execution_count": 30,
   "id": "746c46fd-d7c2-4e29-b35f-694e4e14f7a6",
   "metadata": {},
   "outputs": [
    {
     "name": "stdout",
     "output_type": "stream",
     "text": [
      "69 23.0\n"
     ]
    }
   ],
   "source": [
    "def avg(a,b,c):\n",
    "    ADD=a+b+c\n",
    "    AVG1=ADD/3\n",
    "    print(ADD,AVG1)\n",
    "avg(10,20,39)"
   ]
  },
  {
   "cell_type": "code",
   "execution_count": 32,
   "id": "f47d342c-3a4f-4fb0-b2cb-ed1c74b6d178",
   "metadata": {},
   "outputs": [
    {
     "name": "stdout",
     "output_type": "stream",
     "text": [
      "69 23.0\n"
     ]
    }
   ],
   "source": [
    "def avg(a,b,c):\n",
    "    global ADD,AVG1\n",
    "    ADD=a+b+c\n",
    "    AVG1=ADD/3\n",
    "    print(ADD,AVG1)\n",
    "avg(10,20,39)"
   ]
  },
  {
   "cell_type": "code",
   "execution_count": 33,
   "id": "a555e0f9-80ee-43b9-9e6f-3b589dc77a20",
   "metadata": {},
   "outputs": [
    {
     "data": {
      "text/plain": [
       "69"
      ]
     },
     "execution_count": 33,
     "metadata": {},
     "output_type": "execute_result"
    }
   ],
   "source": [
    "ADD"
   ]
  },
  {
   "cell_type": "code",
   "execution_count": 35,
   "id": "ef7584f3-511f-41d9-8cc1-2484659622b3",
   "metadata": {},
   "outputs": [
    {
     "data": {
      "text/plain": [
       "23.0"
      ]
     },
     "execution_count": 35,
     "metadata": {},
     "output_type": "execute_result"
    }
   ],
   "source": [
    "AVG1"
   ]
  },
  {
   "cell_type": "code",
   "execution_count": 1,
   "id": "e4ee9b95-540d-470c-9e71-82d312b2c359",
   "metadata": {},
   "outputs": [
    {
     "name": "stdout",
     "output_type": "stream",
     "text": [
      "20\n",
      "10\n"
     ]
    }
   ],
   "source": [
    "a=10\n",
    "b=20\n",
    "a,b=b,a\n",
    "print(a)\n",
    "print(b)"
   ]
  },
  {
   "cell_type": "code",
   "execution_count": 12,
   "id": "ac9943ff-a308-415f-8b37-ae6d20b66cc3",
   "metadata": {},
   "outputs": [
    {
     "name": "stdout",
     "output_type": "stream",
     "text": [
      "evan num\n"
     ]
    }
   ],
   "source": [
    "# wap ask the user \n",
    "\n",
    "def num1(numm=10):\n",
    "    global num1\n",
    "    if numm % 2 == 0:\n",
    "        print('evan num')\n",
    "    else:\n",
    "        print('odd num')\n",
    "value=num1(10)        "
   ]
  },
  {
   "cell_type": "markdown",
   "id": "38b05164-7dc2-4bb2-8427-c7aaf26c2629",
   "metadata": {},
   "source": [
    "**parameters vs variable**"
   ]
  },
  {
   "cell_type": "markdown",
   "id": "ca18aba6-0e8c-4d33-afea-463a86b8a23e",
   "metadata": {},
   "source": [
    "- parameter also called as Arguments\n",
    "- this is always inside the function brackets\n",
    "- variables either outside the function or inside the function"
   ]
  },
  {
   "cell_type": "markdown",
   "id": "935ee346-e36f-4115-a6e5-2b6338bc0360",
   "metadata": {},
   "source": [
    "**return statement**\n",
    "\n",
    "- return means function is giving something\n",
    "- we know that local variables can not use outside the function\n",
    "- in order to use local variables outside the function, we have two methods\n",
    "   - global\n",
    "   - return"
   ]
  },
  {
   "cell_type": "code",
   "execution_count": 22,
   "id": "283ca6c7-6ec7-4301-b202-ace6e67f30f9",
   "metadata": {},
   "outputs": [],
   "source": [
    "def add():\n",
    "    a=10\n",
    "    b=20\n",
    "    c=a+b\n",
    "    return(a,c)\n",
    "c=add()"
   ]
  },
  {
   "cell_type": "code",
   "execution_count": 23,
   "id": "a4682e28-8298-4004-8fc5-be5ef6a67da7",
   "metadata": {},
   "outputs": [
    {
     "data": {
      "text/plain": [
       "(10, 30)"
      ]
     },
     "execution_count": 23,
     "metadata": {},
     "output_type": "execute_result"
    }
   ],
   "source": [
    "c"
   ]
  },
  {
   "cell_type": "code",
   "execution_count": 15,
   "id": "caa3b39e-bf72-4719-b2e1-7258a6a81d94",
   "metadata": {},
   "outputs": [],
   "source": [
    "value=10,20\n"
   ]
  },
  {
   "cell_type": "code",
   "execution_count": 16,
   "id": "ce9ed772-fa6c-44bb-880e-d2ffe700ae75",
   "metadata": {},
   "outputs": [
    {
     "data": {
      "text/plain": [
       "(10, 20)"
      ]
     },
     "execution_count": 16,
     "metadata": {},
     "output_type": "execute_result"
    }
   ],
   "source": [
    "value"
   ]
  },
  {
   "cell_type": "code",
   "execution_count": 17,
   "id": "70a87754-492c-4893-ac53-2b74618b7621",
   "metadata": {},
   "outputs": [],
   "source": [
    "value1,value2=10,20"
   ]
  },
  {
   "cell_type": "code",
   "execution_count": 20,
   "id": "027b40c3-da42-4249-b1fc-56a720cee037",
   "metadata": {},
   "outputs": [
    {
     "data": {
      "text/plain": [
       "(10, 20)"
      ]
     },
     "execution_count": 20,
     "metadata": {},
     "output_type": "execute_result"
    }
   ],
   "source": [
    "value1,value2"
   ]
  },
  {
   "cell_type": "code",
   "execution_count": 21,
   "id": "49fa6a2a-5b3b-4dbd-b0fa-efb6713e6813",
   "metadata": {},
   "outputs": [
    {
     "ename": "TypeError",
     "evalue": "cannot unpack non-iterable int object",
     "output_type": "error",
     "traceback": [
      "\u001b[1;31m---------------------------------------------------------------------------\u001b[0m",
      "\u001b[1;31mTypeError\u001b[0m                                 Traceback (most recent call last)",
      "Cell \u001b[1;32mIn[21], line 1\u001b[0m\n\u001b[1;32m----> 1\u001b[0m value1,value2\u001b[38;5;241m=\u001b[39m\u001b[38;5;241m10\u001b[39m\n",
      "\u001b[1;31mTypeError\u001b[0m: cannot unpack non-iterable int object"
     ]
    }
   ],
   "source": [
    "value1,value2=10\n"
   ]
  },
  {
   "cell_type": "code",
   "execution_count": 26,
   "id": "73935b82-df4a-4846-ab89-f15fe75e088e",
   "metadata": {},
   "outputs": [],
   "source": [
    "def avg(a,b,c):\n",
    "    summ=a+b+c\n",
    "    avg1=summ/3\n",
    "    return(summ,avg1)\n",
    "summ,avg1=avg(10,20,30)"
   ]
  },
  {
   "cell_type": "code",
   "execution_count": 27,
   "id": "ca1f6c82-a036-4203-bb05-a975f2cce6a9",
   "metadata": {},
   "outputs": [
    {
     "data": {
      "text/plain": [
       "(60, 20.0)"
      ]
     },
     "execution_count": 27,
     "metadata": {},
     "output_type": "execute_result"
    }
   ],
   "source": [
    "summ,avg1"
   ]
  },
  {
   "cell_type": "code",
   "execution_count": 37,
   "id": "68e0189d-8746-4239-98ec-c2d5e9156b65",
   "metadata": {},
   "outputs": [
    {
     "name": "stdin",
     "output_type": "stream",
     "text": [
      "enter any number: 15\n"
     ]
    }
   ],
   "source": [
    "\n",
    "def num2():\n",
    "    numm=eval(input('enter any number:'))\n",
    "   \n",
    "    if numm % 2 == 0:\n",
    "        return(numm)\n",
    "    else:   \n",
    "        return(numm)\n",
    "       \n",
    "numm=num2()        "
   ]
  },
  {
   "cell_type": "code",
   "execution_count": 38,
   "id": "7a10269d-f43b-4db8-b2d9-213025d1e459",
   "metadata": {},
   "outputs": [
    {
     "data": {
      "text/plain": [
       "15"
      ]
     },
     "execution_count": 38,
     "metadata": {},
     "output_type": "execute_result"
    }
   ],
   "source": [
    "numm"
   ]
  },
  {
   "cell_type": "code",
   "execution_count": 47,
   "id": "fe9f9f3f-7cda-4283-9617-d85aba9be38e",
   "metadata": {},
   "outputs": [
    {
     "name": "stdin",
     "output_type": "stream",
     "text": [
      "enter the num: 12\n"
     ]
    },
    {
     "name": "stdout",
     "output_type": "stream",
     "text": [
      "12is even\n",
      "22\n"
     ]
    }
   ],
   "source": [
    "def even_odd():\n",
    "    num2=eval(input('enter the num:'))\n",
    "    if num2%2==0:\n",
    "        val=10\n",
    "        print(f'{num2}is even')\n",
    "        return(num2+10)\n",
    "    else:\n",
    "        val=20\n",
    "        print(f'{num2}is odd')\n",
    "        return(num2+10)\n",
    "output=even_odd()\n",
    "print(output)"
   ]
  },
  {
   "cell_type": "markdown",
   "id": "ebf56238-7b2d-44d0-880a-3a594502b074",
   "metadata": {},
   "source": [
    "**function in function**"
   ]
  },
  {
   "cell_type": "code",
   "execution_count": 41,
   "id": "ab547987-fdde-4676-886b-2892f981da07",
   "metadata": {},
   "outputs": [
    {
     "name": "stdout",
     "output_type": "stream",
     "text": [
      "good morning\n",
      "good nyt\n"
     ]
    }
   ],
   "source": [
    "def greet1():\n",
    "    print('good morning')\n",
    "def greet2():\n",
    "    print('good nyt')\n",
    "\n",
    "greet1()\n",
    "greet2()"
   ]
  },
  {
   "cell_type": "code",
   "execution_count": 42,
   "id": "52ec3144-1b4b-4c7f-ad98-627866480033",
   "metadata": {},
   "outputs": [
    {
     "name": "stdout",
     "output_type": "stream",
     "text": [
      "good nyt\n",
      "good morning\n"
     ]
    }
   ],
   "source": [
    "def greet1():\n",
    "    print('good morning')\n",
    "def greet2():\n",
    "    print('good nyt')\n",
    "    greet1()\n",
    "greet2()"
   ]
  },
  {
   "cell_type": "code",
   "execution_count": 44,
   "id": "51a1ebef-ff69-45ab-b758-9af47bff7475",
   "metadata": {},
   "outputs": [
    {
     "name": "stdout",
     "output_type": "stream",
     "text": [
      "good morning\n",
      "good nyt\n"
     ]
    }
   ],
   "source": [
    "def greet11():\n",
    "    print('good morning')\n",
    "    greet22()\n",
    "def greet22():\n",
    "    print('good nyt')\n",
    "greet11()\n"
   ]
  },
  {
   "cell_type": "code",
   "execution_count": 49,
   "id": "f2bd4001-22de-4ea2-b1f3-7e41a5a7d709",
   "metadata": {},
   "outputs": [
    {
     "name": "stdout",
     "output_type": "stream",
     "text": [
      "good morning\n",
      "good nyt\n"
     ]
    }
   ],
   "source": [
    "def greet1():\n",
    "    print('good morning')\n",
    "    greet2()\n",
    "greet1()\n",
    "\n",
    "zzzzzzzzzzzzzzzzzzzzzzzzzzzzzzzzz"
   ]
  },
  {
   "cell_type": "code",
   "execution_count": null,
   "id": "3a9c943b-4a0b-4411-97a8-586122e65a9f",
   "metadata": {},
   "outputs": [],
   "source": [
    "def greet11():\n",
    "    print('good morning')\n",
    "    greet22()\n",
    "def greet22():\n",
    "    print('good nyt')\n",
    "greet11() #infinet loop\n"
   ]
  },
  {
   "cell_type": "code",
   "execution_count": null,
   "id": "e4a95a89-8253-4052-9112-7619ec2963ee",
   "metadata": {},
   "outputs": [],
   "source": [
    "0def greet3():\n",
    "    print('good afyternoon')\n",
    "    greet3()"
   ]
  },
  {
   "cell_type": "code",
   "execution_count": 51,
   "id": "635bc971-ba71-42c6-8785-41fae6b8b903",
   "metadata": {},
   "outputs": [
    {
     "data": {
      "text/plain": [
       "(5, (4, (3, (2, (1, 0)))))"
      ]
     },
     "execution_count": 51,
     "metadata": {},
     "output_type": "execute_result"
    }
   ],
   "source": [
    "def add(n):\n",
    "    if n==0:\n",
    "        return(0)\n",
    "    else:\n",
    "        return(n,add(n-1))\n",
    "add(5)"
   ]
  },
  {
   "cell_type": "code",
   "execution_count": 61,
   "id": "f66e41c9-fa7f-4f1f-bff4-4cda3e713c17",
   "metadata": {},
   "outputs": [
    {
     "name": "stdin",
     "output_type": "stream",
     "text": [
      "enter b/w 1 to 4 2\n"
     ]
    },
    {
     "data": {
      "text/plain": [
       "-1"
      ]
     },
     "execution_count": 61,
     "metadata": {},
     "output_type": "execute_result"
    }
   ],
   "source": [
    "# Q1) factorial recurtion 5!=5*4*3*2*1*\n",
    "# Q2) calculator\n",
    "# 1: create 4 functions\n",
    "# def add(a,b):\n",
    "#   return(a+b)\n",
    "# def mul\n",
    "# def div\n",
    "# def sub\n",
    "# print('enter 1 for add 2 sub soon')\n",
    "\n",
    "def add():\n",
    "    a=12\n",
    "    b=13\n",
    "    return(a+b)\n",
    "add()\n",
    "\n",
    "def mul():\n",
    "    a=12\n",
    "    b=13\n",
    "    return(a*b)\n",
    "mul()\n",
    "\n",
    "def div():\n",
    "    a=12\n",
    "    b=13\n",
    "    return(a/b)\n",
    "div()\n",
    "\n",
    "def sub():\n",
    "    a=12\n",
    "    b=13\n",
    "    return(a-b)\n",
    "sub()\n",
    "def main():\n",
    "    option=eval(input('enter b/w 1 to 4'))\n",
    "    if option==1:\n",
    "        a=12\n",
    "        b=13\n",
    "        return(a+b)\n",
    "    elif option==2:\n",
    "        a=12\n",
    "        b=13\n",
    "        return(a-b)\n",
    "    elif option==3:\n",
    "        a=12\n",
    "        b=13\n",
    "        return(a*b)\n",
    "    elif option==4:\n",
    "        a=12\n",
    "        b=13\n",
    "        return(a/b)\n",
    "\n",
    "main()        "
   ]
  },
  {
   "cell_type": "code",
   "execution_count": 60,
   "id": "2e6326e9-1f8c-4455-a237-798871db8cd3",
   "metadata": {},
   "outputs": [
    {
     "data": {
      "text/plain": [
       "120"
      ]
     },
     "execution_count": 60,
     "metadata": {},
     "output_type": "execute_result"
    }
   ],
   "source": [
    "# Q1) factorial recurtion 5!=5*4*3*2*1*\n",
    "\n",
    "def fact(n1):\n",
    "    if n1==0:\n",
    "        return(1)\n",
    "    else:\n",
    "        return(n1*fact(n1-1))\n",
    "fact(5)\n"
   ]
  },
  {
   "cell_type": "code",
   "execution_count": 62,
   "id": "94bd0021-32f9-4d69-a121-35bbaf5aa3dc",
   "metadata": {},
   "outputs": [
    {
     "name": "stdin",
     "output_type": "stream",
     "text": [
      "enter b/w 1 to 4 3\n"
     ]
    },
    {
     "name": "stdout",
     "output_type": "stream",
     "text": [
      "multiplication of  a,b is: 156\n"
     ]
    },
    {
     "data": {
      "text/plain": [
       "156"
      ]
     },
     "execution_count": 62,
     "metadata": {},
     "output_type": "execute_result"
    }
   ],
   "source": [
    "# diffrent type code\n",
    "def main():\n",
    "    option=eval(input('enter b/w 1 to 4'))\n",
    "    if option==1:\n",
    "        a=12\n",
    "        b=13\n",
    "        print('addition of  a,b is:',a+b)\n",
    "        return(a+b)\n",
    "    elif option==2:\n",
    "        a=12\n",
    "        b=13\n",
    "        print('subtraction of  a,b is:',a-b)\n",
    "        return(a-b)\n",
    "    elif option==3:\n",
    "        a=12\n",
    "        b=13\n",
    "        print('multiplication of  a,b is:',a*b)\n",
    "        return(a*b)\n",
    "    elif option==4:\n",
    "        a=12\n",
    "        b=13\n",
    "        print('division of  a,b is:',a/b)\n",
    "        return(a/b)\n",
    "\n",
    "main()         "
   ]
  },
  {
   "cell_type": "code",
   "execution_count": null,
   "id": "65d45641-cac6-437c-87c6-2852088ede74",
   "metadata": {},
   "outputs": [],
   "source": []
  }
 ],
 "metadata": {
  "kernelspec": {
   "display_name": "Python 3 (ipykernel)",
   "language": "python",
   "name": "python3"
  },
  "language_info": {
   "codemirror_mode": {
    "name": "ipython",
    "version": 3
   },
   "file_extension": ".py",
   "mimetype": "text/x-python",
   "name": "python",
   "nbconvert_exporter": "python",
   "pygments_lexer": "ipython3",
   "version": "3.12.7"
  }
 },
 "nbformat": 4,
 "nbformat_minor": 5
}
