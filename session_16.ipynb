{
 "cells": [
  {
   "cell_type": "code",
   "execution_count": 113,
   "id": "69f86c47-8726-4a6c-b858-dba91d424fda",
   "metadata": {},
   "outputs": [
    {
     "name": "stdin",
     "output_type": "stream",
     "text": [
      "Enter a number 1:  34#4\n",
      "Enter a number 2:  34#3\n"
     ]
    },
    {
     "name": "stdout",
     "output_type": "stream",
     "text": [
      "Both the numbers 34 and 34 are equal\n"
     ]
    }
   ],
   "source": [
    "# sandeep \n",
    "# how to find a greaterts number\n",
    "try:\n",
    "    num1 = eval(input(\"Enter a number 1: \"))\n",
    "    num2 = eval(input(\"Enter a number 2: \"))\n",
    "\n",
    "    if num1 == num2:\n",
    "        print(f\"Both the numbers {num1} and {num2} are equal\")\n",
    "    elif num1 > num2:\n",
    "        print(f\"{num1} is greater than {num2}\")\n",
    "    elif num1 < num2:\n",
    "        print(f\"{num1} is lesser than {num2}\")\n",
    "\n",
    "except Exception as e:\n",
    "    print(f\"You have encountered with an exception: {e}\")"
   ]
  },
  {
   "cell_type": "code",
   "execution_count": 114,
   "id": "3273d454-3780-4a89-98a6-f367b87eba20",
   "metadata": {},
   "outputs": [
    {
     "name": "stdout",
     "output_type": "stream",
     "text": [
      "123456\n"
     ]
    }
   ],
   "source": [
    "str1='the telephone number is 123456'\n",
    "# i want 123456\n",
    "# idea: split karo\n",
    "# then when you split ==== list \n",
    "\n",
    "# iterate each letter apply isdigit if it is\n",
    "# true then then keep in empty string\n",
    "num=''\n",
    "for i in str1:\n",
    "    if i.isdigit():\n",
    "        num=num+i\n",
    "print(num)"
   ]
  },
  {
   "cell_type": "markdown",
   "id": "1b0a9f0e-a25d-4cf6-a1f4-e93d3cf88abb",
   "metadata": {},
   "source": [
    "- Baisc representations\n",
    "\n",
    "- inbuilt functions\n",
    "\n",
    "    - type\n",
    "\n",
    "    - print\n",
    "\n",
    "    - min\n",
    "\n",
    "    - max\n",
    "\n",
    "    - len\n",
    "\n",
    "    - sum\n",
    "\n",
    "    - reveresd\n",
    "\n",
    "    - sorted\n",
    "\n",
    "- concatenation\n",
    "\n",
    "- index\n",
    "\n",
    "- in\n",
    "\n",
    "- difference between index and in\n",
    "\n",
    "- mutable vs immutable\n",
    "\n",
    "- slice\n",
    "\n",
    "- Methods"
   ]
  },
  {
   "cell_type": "markdown",
   "id": "6e555270-dd1d-4122-9537-899b698a19ec",
   "metadata": {},
   "source": [
    "**basic representation**"
   ]
  },
  {
   "cell_type": "markdown",
   "id": "49ddf8b5-cf02-4b24-9e1c-2b1d32624303",
   "metadata": {},
   "source": [
    "- strings elements is in quotes\n",
    "- list elements is in square brackets"
   ]
  },
  {
   "cell_type": "code",
   "execution_count": 1,
   "id": "b6901808-45eb-451e-a9d7-c2379626c6e5",
   "metadata": {},
   "outputs": [
    {
     "data": {
      "text/plain": [
       "[1, 2, 3, 4]"
      ]
     },
     "execution_count": 1,
     "metadata": {},
     "output_type": "execute_result"
    }
   ],
   "source": [
    "list1=[1,2,3,4]\n",
    "list1"
   ]
  },
  {
   "cell_type": "code",
   "execution_count": 2,
   "id": "93339f1e-4dd5-44e7-b124-595add2dc57f",
   "metadata": {},
   "outputs": [
    {
     "data": {
      "text/plain": [
       "list"
      ]
     },
     "execution_count": 2,
     "metadata": {},
     "output_type": "execute_result"
    }
   ],
   "source": [
    "type(list1)\n",
    "#we willl say list== type also list"
   ]
  },
  {
   "cell_type": "code",
   "execution_count": 3,
   "id": "0cbe87ff-d1cf-4508-a073-e8efee52af2c",
   "metadata": {},
   "outputs": [
    {
     "data": {
      "text/plain": [
       "['A', 'B', 'C']"
      ]
     },
     "execution_count": 3,
     "metadata": {},
     "output_type": "execute_result"
    }
   ],
   "source": [
    "list2=['A','B','C']\n",
    "list2"
   ]
  },
  {
   "cell_type": "code",
   "execution_count": 4,
   "id": "4ef40c5c-fc82-4d84-a422-fe1aea7bac3f",
   "metadata": {},
   "outputs": [
    {
     "data": {
      "text/plain": [
       "[1, 2, 3, 'A', 'B', 'C']"
      ]
     },
     "execution_count": 4,
     "metadata": {},
     "output_type": "execute_result"
    }
   ],
   "source": [
    "list3=[1,2,3,'A','B','C']\n",
    "list3"
   ]
  },
  {
   "cell_type": "code",
   "execution_count": 5,
   "id": "831d4222-95c8-4115-8717-71d670aeafad",
   "metadata": {},
   "outputs": [
    {
     "data": {
      "text/plain": [
       "[0.4, 'SAI', 12]"
      ]
     },
     "execution_count": 5,
     "metadata": {},
     "output_type": "execute_result"
    }
   ],
   "source": [
    "list4=[0.4,'SAI',12]\n",
    "list4"
   ]
  },
  {
   "cell_type": "code",
   "execution_count": 6,
   "id": "e3dc7bd1-4f93-45e0-b66b-cf07bc5279b3",
   "metadata": {},
   "outputs": [
    {
     "data": {
      "text/plain": [
       "['h=9', 134]"
      ]
     },
     "execution_count": 6,
     "metadata": {},
     "output_type": "execute_result"
    }
   ],
   "source": [
    "list5=['h=9',134]\n",
    "list5"
   ]
  },
  {
   "cell_type": "code",
   "execution_count": 9,
   "id": "5bf50acd-7a25-44e2-beee-0d93c85a0ff5",
   "metadata": {},
   "outputs": [
    {
     "data": {
      "text/plain": [
       "[True, False]"
      ]
     },
     "execution_count": 9,
     "metadata": {},
     "output_type": "execute_result"
    }
   ],
   "source": [
    "list6=[True,False]\n",
    "list6"
   ]
  },
  {
   "cell_type": "code",
   "execution_count": 10,
   "id": "3d99d526-7a2a-4521-bc11-2e28d9a26f35",
   "metadata": {},
   "outputs": [
    {
     "data": {
      "text/plain": [
       "[10, 10, 10]"
      ]
     },
     "execution_count": 10,
     "metadata": {},
     "output_type": "execute_result"
    }
   ],
   "source": [
    "list7=[10,10,10]\n",
    "list7"
   ]
  },
  {
   "cell_type": "code",
   "execution_count": 11,
   "id": "9081995b-4195-44e4-ba1a-01a6efba6e34",
   "metadata": {},
   "outputs": [
    {
     "data": {
      "text/plain": [
       "[10, 20, ['ap', 'le']]"
      ]
     },
     "execution_count": 11,
     "metadata": {},
     "output_type": "execute_result"
    }
   ],
   "source": [
    "list8=[10,20,['ap','le']]\n",
    "list8"
   ]
  },
  {
   "cell_type": "code",
   "execution_count": 22,
   "id": "0837b75d-7686-4bd1-ba45-54b26706d73f",
   "metadata": {},
   "outputs": [
    {
     "data": {
      "text/plain": [
       "5"
      ]
     },
     "execution_count": 22,
     "metadata": {},
     "output_type": "execute_result"
    }
   ],
   "source": [
    "list1=[10,20,2,5,75]\n",
    "list2=['Apple','apple','Cherry','banana']\n",
    "list3=[10,20,2,5,75,'Apple','apple','Cherry','banana']\n",
    "len(list1)"
   ]
  },
  {
   "cell_type": "code",
   "execution_count": 23,
   "id": "df22da6b-9729-4c53-8a53-e7a5689b2a5b",
   "metadata": {},
   "outputs": [
    {
     "data": {
      "text/plain": [
       "75"
      ]
     },
     "execution_count": 23,
     "metadata": {},
     "output_type": "execute_result"
    }
   ],
   "source": [
    "max(list1)"
   ]
  },
  {
   "cell_type": "code",
   "execution_count": 24,
   "id": "00efe150-2ec8-4fc7-8eb3-4c097c4e4e94",
   "metadata": {},
   "outputs": [
    {
     "data": {
      "text/plain": [
       "2"
      ]
     },
     "execution_count": 24,
     "metadata": {},
     "output_type": "execute_result"
    }
   ],
   "source": [
    "min(list1)"
   ]
  },
  {
   "cell_type": "code",
   "execution_count": 26,
   "id": "72a7ff5f-c66c-4bc6-b9fe-0854fbe0294e",
   "metadata": {},
   "outputs": [
    {
     "data": {
      "text/plain": [
       "4"
      ]
     },
     "execution_count": 26,
     "metadata": {},
     "output_type": "execute_result"
    }
   ],
   "source": [
    "len(list2)"
   ]
  },
  {
   "cell_type": "code",
   "execution_count": 27,
   "id": "7dea9a24-29be-4583-9c9f-9a623068ac58",
   "metadata": {},
   "outputs": [
    {
     "data": {
      "text/plain": [
       "'banana'"
      ]
     },
     "execution_count": 27,
     "metadata": {},
     "output_type": "execute_result"
    }
   ],
   "source": [
    "max(list2)"
   ]
  },
  {
   "cell_type": "code",
   "execution_count": 28,
   "id": "02943319-d318-4fd0-8a02-2caf705b0eed",
   "metadata": {},
   "outputs": [
    {
     "data": {
      "text/plain": [
       "'Apple'"
      ]
     },
     "execution_count": 28,
     "metadata": {},
     "output_type": "execute_result"
    }
   ],
   "source": [
    "min(list2)"
   ]
  },
  {
   "cell_type": "code",
   "execution_count": 30,
   "id": "bdea608e-f3c9-4733-8aef-7aa92a8fbf06",
   "metadata": {},
   "outputs": [
    {
     "data": {
      "text/plain": [
       "112"
      ]
     },
     "execution_count": 30,
     "metadata": {},
     "output_type": "execute_result"
    }
   ],
   "source": [
    "sum(list1)"
   ]
  },
  {
   "cell_type": "code",
   "execution_count": 32,
   "id": "bfc3fb32-df1f-4843-a407-f85531804939",
   "metadata": {},
   "outputs": [
    {
     "ename": "TypeError",
     "evalue": "'<' not supported between instances of 'str' and 'int'",
     "output_type": "error",
     "traceback": [
      "\u001b[1;31m---------------------------------------------------------------------------\u001b[0m",
      "\u001b[1;31mTypeError\u001b[0m                                 Traceback (most recent call last)",
      "Cell \u001b[1;32mIn[32], line 1\u001b[0m\n\u001b[1;32m----> 1\u001b[0m \u001b[38;5;28msorted\u001b[39m(list3)\n",
      "\u001b[1;31mTypeError\u001b[0m: '<' not supported between instances of 'str' and 'int'"
     ]
    }
   ],
   "source": [
    "sorted(list3) # there is str and int "
   ]
  },
  {
   "cell_type": "code",
   "execution_count": 33,
   "id": "ddffea8c-bfb7-4994-a19a-2ad53fb5873b",
   "metadata": {},
   "outputs": [
    {
     "data": {
      "text/plain": [
       "[2, 5, 10, 20, 75]"
      ]
     },
     "execution_count": 33,
     "metadata": {},
     "output_type": "execute_result"
    }
   ],
   "source": [
    "sorted(list1)"
   ]
  },
  {
   "cell_type": "code",
   "execution_count": 34,
   "id": "dca14e4a-2c37-4d8a-9d3e-264cfc1cd494",
   "metadata": {},
   "outputs": [
    {
     "data": {
      "text/plain": [
       "['Apple', 'Cherry', 'apple', 'banana']"
      ]
     },
     "execution_count": 34,
     "metadata": {},
     "output_type": "execute_result"
    }
   ],
   "source": [
    "sorted(list2)"
   ]
  },
  {
   "cell_type": "code",
   "execution_count": 36,
   "id": "28c13b07-fbbe-4afd-b1fc-f0b4756e45a7",
   "metadata": {},
   "outputs": [
    {
     "ename": "TypeError",
     "evalue": "'>' not supported between instances of 'str' and 'int'",
     "output_type": "error",
     "traceback": [
      "\u001b[1;31m---------------------------------------------------------------------------\u001b[0m",
      "\u001b[1;31mTypeError\u001b[0m                                 Traceback (most recent call last)",
      "Cell \u001b[1;32mIn[36], line 1\u001b[0m\n\u001b[1;32m----> 1\u001b[0m \u001b[38;5;28mmax\u001b[39m(list3)\n",
      "\u001b[1;31mTypeError\u001b[0m: '>' not supported between instances of 'str' and 'int'"
     ]
    }
   ],
   "source": [
    "max(list3)"
   ]
  },
  {
   "cell_type": "code",
   "execution_count": 37,
   "id": "dca18e5e-8fc3-4dfb-9324-8a2e425ff8d5",
   "metadata": {},
   "outputs": [
    {
     "ename": "TypeError",
     "evalue": "unsupported operand type(s) for +: 'int' and 'str'",
     "output_type": "error",
     "traceback": [
      "\u001b[1;31m---------------------------------------------------------------------------\u001b[0m",
      "\u001b[1;31mTypeError\u001b[0m                                 Traceback (most recent call last)",
      "Cell \u001b[1;32mIn[37], line 1\u001b[0m\n\u001b[1;32m----> 1\u001b[0m \u001b[38;5;28msum\u001b[39m(list2)\n",
      "\u001b[1;31mTypeError\u001b[0m: unsupported operand type(s) for +: 'int' and 'str'"
     ]
    }
   ],
   "source": [
    "sum(list2)"
   ]
  },
  {
   "cell_type": "code",
   "execution_count": 39,
   "id": "6ffa64e0-8f1a-49ee-89a7-0fce658db3bb",
   "metadata": {},
   "outputs": [
    {
     "ename": "TypeError",
     "evalue": "'<' not supported between instances of 'str' and 'int'",
     "output_type": "error",
     "traceback": [
      "\u001b[1;31m---------------------------------------------------------------------------\u001b[0m",
      "\u001b[1;31mTypeError\u001b[0m                                 Traceback (most recent call last)",
      "Cell \u001b[1;32mIn[39], line 1\u001b[0m\n\u001b[1;32m----> 1\u001b[0m \u001b[38;5;28mmin\u001b[39m(list3)\n",
      "\u001b[1;31mTypeError\u001b[0m: '<' not supported between instances of 'str' and 'int'"
     ]
    }
   ],
   "source": [
    "min(list3)"
   ]
  },
  {
   "cell_type": "code",
   "execution_count": 40,
   "id": "0b93efe1-ce22-4425-b5d2-81ad16dc1fcb",
   "metadata": {},
   "outputs": [
    {
     "ename": "TypeError",
     "evalue": "'<' not supported between instances of 'str' and 'int'",
     "output_type": "error",
     "traceback": [
      "\u001b[1;31m---------------------------------------------------------------------------\u001b[0m",
      "\u001b[1;31mTypeError\u001b[0m                                 Traceback (most recent call last)",
      "Cell \u001b[1;32mIn[40], line 1\u001b[0m\n\u001b[1;32m----> 1\u001b[0m \u001b[38;5;28msorted\u001b[39m(list3)\n",
      "\u001b[1;31mTypeError\u001b[0m: '<' not supported between instances of 'str' and 'int'"
     ]
    }
   ],
   "source": [
    "sorted(list3)"
   ]
  },
  {
   "cell_type": "code",
   "execution_count": 42,
   "id": "05fd1925-eac8-4048-8af8-07d1ec3394c5",
   "metadata": {},
   "outputs": [
    {
     "data": {
      "text/plain": [
       "9"
      ]
     },
     "execution_count": 42,
     "metadata": {},
     "output_type": "execute_result"
    }
   ],
   "source": [
    "len(list3)"
   ]
  },
  {
   "cell_type": "code",
   "execution_count": 44,
   "id": "a0d4c328-fe04-470d-91dc-9d6fd8276744",
   "metadata": {},
   "outputs": [
    {
     "data": {
      "text/plain": [
       "<list_reverseiterator at 0x27d2fe1be80>"
      ]
     },
     "execution_count": 44,
     "metadata": {},
     "output_type": "execute_result"
    }
   ],
   "source": [
    "reversed(list3)"
   ]
  },
  {
   "cell_type": "code",
   "execution_count": 47,
   "id": "e6b1bc17-8e46-47de-9202-8f44dff2de2f",
   "metadata": {},
   "outputs": [
    {
     "ename": "TypeError",
     "evalue": "'list' object is not callable",
     "output_type": "error",
     "traceback": [
      "\u001b[1;31m---------------------------------------------------------------------------\u001b[0m",
      "\u001b[1;31mTypeError\u001b[0m                                 Traceback (most recent call last)",
      "Cell \u001b[1;32mIn[47], line 1\u001b[0m\n\u001b[1;32m----> 1\u001b[0m \u001b[38;5;28mlist\u001b[39m(\u001b[38;5;28mreversed\u001b[39m(list3))\n",
      "\u001b[1;31mTypeError\u001b[0m: 'list' object is not callable"
     ]
    }
   ],
   "source": [
    "list(reversed(list3))"
   ]
  },
  {
   "cell_type": "code",
   "execution_count": 125,
   "id": "3ef5a643-a203-42da-b0f1-02b91cb9368c",
   "metadata": {},
   "outputs": [
    {
     "data": {
      "text/plain": [
       "<list_reverseiterator at 0x27d2ffa0a60>"
      ]
     },
     "execution_count": 125,
     "metadata": {},
     "output_type": "execute_result"
    }
   ],
   "source": [
    "reversed(list1)"
   ]
  },
  {
   "cell_type": "code",
   "execution_count": 1,
   "id": "a5819cf6-ff01-4eb3-9f0e-e4851abb3810",
   "metadata": {},
   "outputs": [
    {
     "data": {
      "text/plain": [
       "[75, 5, 2, 20, 10]"
      ]
     },
     "execution_count": 1,
     "metadata": {},
     "output_type": "execute_result"
    }
   ],
   "source": [
    "# method-1 : apply list\n",
    "list1=[10,20,2,5,75]\n",
    "list(reversed(list1))"
   ]
  },
  {
   "cell_type": "code",
   "execution_count": 131,
   "id": "a4338872-22eb-49d4-b322-fc53e26e3de4",
   "metadata": {},
   "outputs": [
    {
     "name": "stdout",
     "output_type": "stream",
     "text": [
      "75\n",
      "5\n",
      "2\n",
      "20\n",
      "10\n"
     ]
    }
   ],
   "source": [
    "# method-2: iterate through for loop\n",
    "for i in reversed(list1):\n",
    "    print(i)"
   ]
  },
  {
   "cell_type": "code",
   "execution_count": 2,
   "id": "ee038e76-08d0-4922-a54e-7fd810ec8413",
   "metadata": {},
   "outputs": [
    {
     "data": {
      "text/plain": [
       "([2, 5, 10, 20, 75], [75, 20, 10, 5, 2])"
      ]
     },
     "execution_count": 2,
     "metadata": {},
     "output_type": "execute_result"
    }
   ],
   "source": [
    "sorted(list1),sorted(list1,reverse=True)"
   ]
  },
  {
   "cell_type": "code",
   "execution_count": null,
   "id": "61af7d7c-733c-4adc-b2ad-ce0de6b4528e",
   "metadata": {},
   "outputs": [],
   "source": [
    "# list1=[10,20,2,5,75]\n",
    "# in the interview sort the list without sorted function\n",
    "# find the max value without max function\n",
    "# find the min value without min fun\n",
    "# reverse the elements without reverse fun\n",
    "# sum the elements without using sum function\n",
    "# find the second min second max\n"
   ]
  },
  {
   "cell_type": "markdown",
   "id": "c8f93e73-6c4f-41a8-858f-349e8f11446f",
   "metadata": {},
   "source": [
    "**concatenation**"
   ]
  },
  {
   "cell_type": "code",
   "execution_count": 48,
   "id": "d7ac7213-ac89-44cb-ae6d-7b7308e32388",
   "metadata": {},
   "outputs": [
    {
     "data": {
      "text/plain": [
       "[1, 2, 3, 4, 'A', 'B', 'C', 'D']"
      ]
     },
     "execution_count": 48,
     "metadata": {},
     "output_type": "execute_result"
    }
   ],
   "source": [
    "list1=[1,2,3,4]\n",
    "list2=['A','B','C','D']\n",
    "list1+list2"
   ]
  },
  {
   "cell_type": "code",
   "execution_count": 49,
   "id": "10d0cf9d-dbf2-454a-8c07-8800660139d2",
   "metadata": {},
   "outputs": [
    {
     "data": {
      "text/plain": [
       "[1, 2, 3, 4, 1, 2, 3, 4]"
      ]
     },
     "execution_count": 49,
     "metadata": {},
     "output_type": "execute_result"
    }
   ],
   "source": [
    "list1*2"
   ]
  },
  {
   "cell_type": "code",
   "execution_count": 50,
   "id": "5fbfb0cb-1b2b-442b-8e44-7c44034dfd1e",
   "metadata": {},
   "outputs": [
    {
     "data": {
      "text/plain": [
       "['A', 'B', 'C', 'D', 'A', 'B', 'C', 'D']"
      ]
     },
     "execution_count": 50,
     "metadata": {},
     "output_type": "execute_result"
    }
   ],
   "source": [
    "list2*2\n"
   ]
  },
  {
   "cell_type": "code",
   "execution_count": 51,
   "id": "fd2008a6-927f-4bbb-b81b-a0b37fbacbce",
   "metadata": {},
   "outputs": [
    {
     "name": "stdout",
     "output_type": "stream",
     "text": [
      "[1, 2, 3, 4, 'A', 'B', 'C', 'D']\n"
     ]
    }
   ],
   "source": [
    "print(list1+list2)"
   ]
  },
  {
   "cell_type": "code",
   "execution_count": 52,
   "id": "e6e97006-87a9-42ae-b136-818a573cdec5",
   "metadata": {},
   "outputs": [
    {
     "ename": "TypeError",
     "evalue": "can't multiply sequence by non-int of type 'list'",
     "output_type": "error",
     "traceback": [
      "\u001b[1;31m---------------------------------------------------------------------------\u001b[0m",
      "\u001b[1;31mTypeError\u001b[0m                                 Traceback (most recent call last)",
      "Cell \u001b[1;32mIn[52], line 1\u001b[0m\n\u001b[1;32m----> 1\u001b[0m list1\u001b[38;5;241m*\u001b[39mlist1\n",
      "\u001b[1;31mTypeError\u001b[0m: can't multiply sequence by non-int of type 'list'"
     ]
    }
   ],
   "source": [
    "list1*list1"
   ]
  },
  {
   "cell_type": "code",
   "execution_count": 53,
   "id": "f05ec41c-c1c5-4d93-98fa-5df4ba197f1d",
   "metadata": {},
   "outputs": [
    {
     "ename": "TypeError",
     "evalue": "unsupported operand type(s) for -: 'list' and 'list'",
     "output_type": "error",
     "traceback": [
      "\u001b[1;31m---------------------------------------------------------------------------\u001b[0m",
      "\u001b[1;31mTypeError\u001b[0m                                 Traceback (most recent call last)",
      "Cell \u001b[1;32mIn[53], line 1\u001b[0m\n\u001b[1;32m----> 1\u001b[0m list1\u001b[38;5;241m-\u001b[39mlist1\n",
      "\u001b[1;31mTypeError\u001b[0m: unsupported operand type(s) for -: 'list' and 'list'"
     ]
    }
   ],
   "source": [
    "list1-list1"
   ]
  },
  {
   "cell_type": "code",
   "execution_count": 54,
   "id": "2a2b60d7-2ae9-47d1-b899-9b833f7635ea",
   "metadata": {},
   "outputs": [
    {
     "ename": "TypeError",
     "evalue": "unsupported operand type(s) for /: 'list' and 'list'",
     "output_type": "error",
     "traceback": [
      "\u001b[1;31m---------------------------------------------------------------------------\u001b[0m",
      "\u001b[1;31mTypeError\u001b[0m                                 Traceback (most recent call last)",
      "Cell \u001b[1;32mIn[54], line 1\u001b[0m\n\u001b[1;32m----> 1\u001b[0m list1\u001b[38;5;241m/\u001b[39mlist1\n",
      "\u001b[1;31mTypeError\u001b[0m: unsupported operand type(s) for /: 'list' and 'list'"
     ]
    }
   ],
   "source": [
    "list1/list1"
   ]
  },
  {
   "cell_type": "markdown",
   "id": "81673e00-e8c9-4a2c-8aab-c4b05814207d",
   "metadata": {},
   "source": [
    "**index**"
   ]
  },
  {
   "cell_type": "code",
   "execution_count": 56,
   "id": "14b9e264-23cc-4588-898e-010539ce3e48",
   "metadata": {},
   "outputs": [
    {
     "data": {
      "text/plain": [
       "(10, 10)"
      ]
     },
     "execution_count": 56,
     "metadata": {},
     "output_type": "execute_result"
    }
   ],
   "source": [
    "# -6 -5 -4 -3 -2 -1\n",
    "# 10 20 30 A  B  C\n",
    "# 0 1  2   3  4  5\n",
    "list1=[10,20,30,'A','B','C']\n",
    "\n",
    "list1[0],list1[-6]"
   ]
  },
  {
   "cell_type": "code",
   "execution_count": 60,
   "id": "071dbd68-7c46-4404-a6a7-7a850c6e378d",
   "metadata": {},
   "outputs": [],
   "source": []
  },
  {
   "cell_type": "code",
   "execution_count": 111,
   "id": "2a23d66a-6784-42c9-9b5a-cedaf1744592",
   "metadata": {},
   "outputs": [
    {
     "name": "stdout",
     "output_type": "stream",
     "text": [
      "the positive index 10 is 0\n",
      "the positive index 20 is 1\n",
      "the positive index 30 is 2\n",
      "the positive index A is 3\n",
      "the positive index B is 4\n",
      "the positive index C is 5\n",
      "the negative index 10 is -6\n",
      "the negative index 20 is -5\n",
      "the negative index 30 is -4\n",
      "the negative index A is -3\n",
      "the negative index B is -2\n",
      "the negative index C is -1\n"
     ]
    }
   ],
   "source": [
    "list1=[10,20,30,'A','B','C']\n",
    "n3=len(list1)\n",
    "for i in range(0,n3):\n",
    "    print(f'the positive index {list1[i]} is {i}')\n",
    "    \n",
    "for i in range(-n3,0):\n",
    "    print(f'the negative index {list1[i]} is {i}')\n"
   ]
  },
  {
   "cell_type": "code",
   "execution_count": 67,
   "id": "ec6029e6-075f-4a9c-a8fc-30cca3ee0b1b",
   "metadata": {},
   "outputs": [
    {
     "data": {
      "text/plain": [
       "1"
      ]
     },
     "execution_count": 67,
     "metadata": {},
     "output_type": "execute_result"
    }
   ],
   "source": [
    "list1=[[10]]\n",
    "len(list1)"
   ]
  },
  {
   "cell_type": "code",
   "execution_count": 68,
   "id": "9f44806e-29b9-41c4-838d-c0b84f9db35e",
   "metadata": {},
   "outputs": [
    {
     "data": {
      "text/plain": [
       "(1, 2)"
      ]
     },
     "execution_count": 68,
     "metadata": {},
     "output_type": "execute_result"
    }
   ],
   "source": [
    "list1=[[10]] #  one package \n",
    "list2=[10,20]\n",
    "len(list1),len(list2)"
   ]
  },
  {
   "cell_type": "code",
   "execution_count": 70,
   "id": "bb1dfb91-370f-4542-a759-cbefc00ca0ce",
   "metadata": {},
   "outputs": [
    {
     "data": {
      "text/plain": [
       "[10]"
      ]
     },
     "execution_count": 70,
     "metadata": {},
     "output_type": "execute_result"
    }
   ],
   "source": [
    "list1[0]"
   ]
  },
  {
   "cell_type": "code",
   "execution_count": 71,
   "id": "15fa925a-4001-484d-9d22-ebc5a3cc95ef",
   "metadata": {},
   "outputs": [
    {
     "data": {
      "text/plain": [
       "10"
      ]
     },
     "execution_count": 71,
     "metadata": {},
     "output_type": "execute_result"
    }
   ],
   "source": [
    "list1[0][0]"
   ]
  },
  {
   "cell_type": "code",
   "execution_count": 75,
   "id": "347483da-7e65-48bf-a47a-52ecfcb54c97",
   "metadata": {},
   "outputs": [
    {
     "data": {
      "text/plain": [
       "2"
      ]
     },
     "execution_count": 75,
     "metadata": {},
     "output_type": "execute_result"
    }
   ],
   "source": [
    "list1=[10,[20]]\n",
    "len(list1)"
   ]
  },
  {
   "cell_type": "code",
   "execution_count": 74,
   "id": "68ee56e2-f78e-4cdc-a8ae-c0cac2d37af1",
   "metadata": {},
   "outputs": [
    {
     "data": {
      "text/plain": [
       "20"
      ]
     },
     "execution_count": 74,
     "metadata": {},
     "output_type": "execute_result"
    }
   ],
   "source": [
    "list1=[10,[20]]\n",
    "list1[1][0]"
   ]
  },
  {
   "cell_type": "code",
   "execution_count": 78,
   "id": "4106752a-2c7b-47f4-badb-317e40961545",
   "metadata": {},
   "outputs": [
    {
     "data": {
      "text/plain": [
       "5"
      ]
     },
     "execution_count": 78,
     "metadata": {},
     "output_type": "execute_result"
    }
   ],
   "source": [
    "list1=[10,20,30,'A',['banana','cherry']]\n",
    "len(list1)"
   ]
  },
  {
   "cell_type": "code",
   "execution_count": 80,
   "id": "2e563c58-4207-4e90-92a6-3906524efc04",
   "metadata": {},
   "outputs": [
    {
     "data": {
      "text/plain": [
       "['banana', 'cherry']"
      ]
     },
     "execution_count": 80,
     "metadata": {},
     "output_type": "execute_result"
    }
   ],
   "source": [
    "list1[4]"
   ]
  },
  {
   "cell_type": "code",
   "execution_count": 82,
   "id": "527c4095-dae6-414d-9a88-6e21d7138ba6",
   "metadata": {},
   "outputs": [
    {
     "data": {
      "text/plain": [
       "'cherry'"
      ]
     },
     "execution_count": 82,
     "metadata": {},
     "output_type": "execute_result"
    }
   ],
   "source": [
    "list1[4][1]"
   ]
  },
  {
   "cell_type": "code",
   "execution_count": 84,
   "id": "c0cd5cec-9c77-4a6f-ad62-dd758849b8c2",
   "metadata": {},
   "outputs": [
    {
     "data": {
      "text/plain": [
       "['A', ['Apple', 'B', ['Banana'], 'C', ['Cherry']]]"
      ]
     },
     "execution_count": 84,
     "metadata": {},
     "output_type": "execute_result"
    }
   ],
   "source": [
    "list1=['A',['Apple','B',['Banana'],'C',['Cherry']]]\n",
    "list1"
   ]
  },
  {
   "cell_type": "code",
   "execution_count": 85,
   "id": "c87487c2-6594-4903-a6e3-2ae2656cf4f4",
   "metadata": {},
   "outputs": [
    {
     "data": {
      "text/plain": [
       "2"
      ]
     },
     "execution_count": 85,
     "metadata": {},
     "output_type": "execute_result"
    }
   ],
   "source": [
    "len(list1)"
   ]
  },
  {
   "cell_type": "code",
   "execution_count": 91,
   "id": "93c5125c-0e36-4f14-96e0-c34e4d7d5f96",
   "metadata": {},
   "outputs": [
    {
     "data": {
      "text/plain": [
       "'Cherry'"
      ]
     },
     "execution_count": 91,
     "metadata": {},
     "output_type": "execute_result"
    }
   ],
   "source": [
    "list1[1][4][0]"
   ]
  },
  {
   "cell_type": "code",
   "execution_count": 93,
   "id": "c923608a-f00e-4240-aeb7-353aedc8cfd0",
   "metadata": {},
   "outputs": [
    {
     "data": {
      "text/plain": [
       "2"
      ]
     },
     "execution_count": 93,
     "metadata": {},
     "output_type": "execute_result"
    }
   ],
   "source": [
    "list1=['A',['Apple','B',['Banana','C',['Cherry','D',['Dragon fruite']]]]]\n",
    "len(list1)"
   ]
  },
  {
   "cell_type": "code",
   "execution_count": 94,
   "id": "054ce86d-57b6-4d2e-ae54-6821a61e1d15",
   "metadata": {},
   "outputs": [
    {
     "data": {
      "text/plain": [
       "['Apple', 'B', ['Banana', 'C', ['Cherry', 'D', ['Dragon fruite']]]]"
      ]
     },
     "execution_count": 94,
     "metadata": {},
     "output_type": "execute_result"
    }
   ],
   "source": [
    "list1[1]"
   ]
  },
  {
   "cell_type": "code",
   "execution_count": 95,
   "id": "eee40744-117d-49f7-a7a6-c23d805dbf3e",
   "metadata": {},
   "outputs": [
    {
     "data": {
      "text/plain": [
       "3"
      ]
     },
     "execution_count": 95,
     "metadata": {},
     "output_type": "execute_result"
    }
   ],
   "source": [
    "len(list1[1])"
   ]
  },
  {
   "cell_type": "code",
   "execution_count": 96,
   "id": "a2d0d318-4285-44f4-a3f8-09d359fe05a2",
   "metadata": {},
   "outputs": [
    {
     "data": {
      "text/plain": [
       "['Banana', 'C', ['Cherry', 'D', ['Dragon fruite']]]"
      ]
     },
     "execution_count": 96,
     "metadata": {},
     "output_type": "execute_result"
    }
   ],
   "source": [
    "list1[1][2]"
   ]
  },
  {
   "cell_type": "code",
   "execution_count": 97,
   "id": "e3f312ab-6dae-4a58-bf90-abc8b5e489a2",
   "metadata": {},
   "outputs": [
    {
     "data": {
      "text/plain": [
       "3"
      ]
     },
     "execution_count": 97,
     "metadata": {},
     "output_type": "execute_result"
    }
   ],
   "source": [
    "len(list1[1][2])"
   ]
  },
  {
   "cell_type": "code",
   "execution_count": 98,
   "id": "ec407d30-ade3-4e2a-81fe-4b2d307876c6",
   "metadata": {},
   "outputs": [
    {
     "data": {
      "text/plain": [
       "['Cherry', 'D', ['Dragon fruite']]"
      ]
     },
     "execution_count": 98,
     "metadata": {},
     "output_type": "execute_result"
    }
   ],
   "source": [
    "list1[1][2][2]"
   ]
  },
  {
   "cell_type": "code",
   "execution_count": 99,
   "id": "ca969538-643c-4f9d-9b87-2b70cefd5bc7",
   "metadata": {},
   "outputs": [
    {
     "data": {
      "text/plain": [
       "3"
      ]
     },
     "execution_count": 99,
     "metadata": {},
     "output_type": "execute_result"
    }
   ],
   "source": [
    "len(list1[1][2][2])"
   ]
  },
  {
   "cell_type": "code",
   "execution_count": 100,
   "id": "bba748f4-8b49-41f8-af1b-49a2467d36e3",
   "metadata": {},
   "outputs": [
    {
     "data": {
      "text/plain": [
       "['Dragon fruite']"
      ]
     },
     "execution_count": 100,
     "metadata": {},
     "output_type": "execute_result"
    }
   ],
   "source": [
    "list1[1][2][2][2]"
   ]
  },
  {
   "cell_type": "code",
   "execution_count": 101,
   "id": "7b00a16b-0144-4452-8b29-3f8286a0eecb",
   "metadata": {},
   "outputs": [
    {
     "data": {
      "text/plain": [
       "'Dragon fruite'"
      ]
     },
     "execution_count": 101,
     "metadata": {},
     "output_type": "execute_result"
    }
   ],
   "source": [
    "list1[1][2][2][2][0]"
   ]
  },
  {
   "cell_type": "code",
   "execution_count": 102,
   "id": "a34d909e-994a-4970-8783-709c87d32fd8",
   "metadata": {},
   "outputs": [
    {
     "data": {
      "text/plain": [
       "['Kashmir', ['India', ['Criket', ['Bat']]]]"
      ]
     },
     "execution_count": 102,
     "metadata": {},
     "output_type": "execute_result"
    }
   ],
   "source": [
    "list1=['Apple',['Kashmir',['India',['Criket',['Bat']]]]]\n",
    "list1[1]"
   ]
  },
  {
   "cell_type": "code",
   "execution_count": 107,
   "id": "5259429a-01ca-4068-842e-f7214ecc7e71",
   "metadata": {},
   "outputs": [
    {
     "data": {
      "text/plain": [
       "'Bat'"
      ]
     },
     "execution_count": 107,
     "metadata": {},
     "output_type": "execute_result"
    }
   ],
   "source": [
    "list1[1][1][1][1][0]"
   ]
  },
  {
   "cell_type": "code",
   "execution_count": 109,
   "id": "f173855d-8187-4cbb-a22d-1bbd09349e04",
   "metadata": {},
   "outputs": [
    {
     "data": {
      "text/plain": [
       "'apple'"
      ]
     },
     "execution_count": 109,
     "metadata": {},
     "output_type": "execute_result"
    }
   ],
   "source": [
    "list1=[[[[[[[['apple']]]]]]]]\n",
    "list1[0][0][0][0][0][0][0][0]"
   ]
  },
  {
   "cell_type": "markdown",
   "id": "f4fe43bc-87b4-4302-a8a5-d0e414da50f2",
   "metadata": {},
   "source": [
    "**in**"
   ]
  },
  {
   "cell_type": "code",
   "execution_count": null,
   "id": "bab1170e-00a5-4e68-8985-d7f7cd6fd450",
   "metadata": {},
   "outputs": [],
   "source": []
  },
  {
   "cell_type": "markdown",
   "id": "7f416b68-08dd-40e2-b297-3cf4e51ccdd5",
   "metadata": {},
   "source": [
    "**range vs in**"
   ]
  },
  {
   "cell_type": "markdown",
   "id": "64bfc5ab-7f5a-4cb2-9f2d-6b088f69e127",
   "metadata": {},
   "source": [
    "- when we have use with index then go for range\n",
    "- when we have use with only element go for in"
   ]
  },
  {
   "cell_type": "markdown",
   "id": "bc0c1126-26e7-4e9a-bca0-4cc7d2c85f87",
   "metadata": {},
   "source": [
    "**mutable vs immutable**"
   ]
  },
  {
   "cell_type": "code",
   "execution_count": 3,
   "id": "0f1ab4e0-ebf7-423d-bfbc-f8df9f3809e4",
   "metadata": {},
   "outputs": [
    {
     "data": {
      "text/plain": [
       "[20, 2, 3]"
      ]
     },
     "execution_count": 3,
     "metadata": {},
     "output_type": "execute_result"
    }
   ],
   "source": [
    "list1=[1,2,3]\n",
    "list1[0]=20\n",
    "list1"
   ]
  },
  {
   "cell_type": "markdown",
   "id": "93bdbcb3-2464-4992-a8b3-7bd08d458341",
   "metadata": {},
   "source": [
    "**list are mutable**"
   ]
  },
  {
   "cell_type": "code",
   "execution_count": 4,
   "id": "73fd1fb5-76b0-41da-a595-b8cfa2e62d31",
   "metadata": {},
   "outputs": [
    {
     "ename": "NameError",
     "evalue": "name 'p' is not defined",
     "output_type": "error",
     "traceback": [
      "\u001b[1;31m---------------------------------------------------------------------------\u001b[0m",
      "\u001b[1;31mNameError\u001b[0m                                 Traceback (most recent call last)",
      "Cell \u001b[1;32mIn[4], line 2\u001b[0m\n\u001b[0;32m      1\u001b[0m list1\u001b[38;5;241m=\u001b[39m[\u001b[38;5;124m'\u001b[39m\u001b[38;5;124ms\u001b[39m\u001b[38;5;124m'\u001b[39m,\u001b[38;5;124m'\u001b[39m\u001b[38;5;124ma\u001b[39m\u001b[38;5;124m'\u001b[39m,\u001b[38;5;124m'\u001b[39m\u001b[38;5;124mi\u001b[39m\u001b[38;5;124m'\u001b[39m]\n\u001b[1;32m----> 2\u001b[0m list1[\u001b[38;5;241m0\u001b[39m]\u001b[38;5;241m=\u001b[39mp\n\u001b[0;32m      3\u001b[0m list1\n",
      "\u001b[1;31mNameError\u001b[0m: name 'p' is not defined"
     ]
    }
   ],
   "source": [
    "list1=['s','a','i']\n",
    "list1[0]=p\n",
    "list1"
   ]
  },
  {
   "cell_type": "markdown",
   "id": "b76df6ef-4912-4b00-be55-5fb5bd77a65a",
   "metadata": {},
   "source": [
    "**slice**"
   ]
  },
  {
   "cell_type": "code",
   "execution_count": null,
   "id": "feab104f-3b3d-44e0-bd7c-b40e1de44a53",
   "metadata": {},
   "outputs": [],
   "source": [
    "l1=[10,20,30,40,50,'A','B','C','D','E','apple','banana']\n",
    "l1[:]\n",
    "l1[::]\n",
    "l1[::-1]\n",
    "l1[2:10:2]\n",
    "l1[2:10:-2]\n",
    "l1[2:-10:2]\n",
    "l1[-2:10:2]\n",
    "l1[2:-10:-2]\n",
    "l1[-2:10:-2]\n",
    "l1[-2:-10:2]\n",
    "l1[-2:-10:-2]\n",
    "l1[10:2:2]\n",
    "l1[10:2:-2]\n",
    "l1[10:-2:2]\n",
    "l1[-10:2:-2]\n",
    "l1[-10:-2:-2]"
   ]
  },
  {
   "cell_type": "code",
   "execution_count": 5,
   "id": "93b49371-b355-494b-99e6-a3769e7c909c",
   "metadata": {},
   "outputs": [
    {
     "ename": "NameError",
     "evalue": "name 'l1' is not defined",
     "output_type": "error",
     "traceback": [
      "\u001b[1;31m---------------------------------------------------------------------------\u001b[0m",
      "\u001b[1;31mNameError\u001b[0m                                 Traceback (most recent call last)",
      "Cell \u001b[1;32mIn[5], line 1\u001b[0m\n\u001b[1;32m----> 1\u001b[0m l1[:]\n",
      "\u001b[1;31mNameError\u001b[0m: name 'l1' is not defined"
     ]
    }
   ],
   "source": [
    "l1[:]"
   ]
  },
  {
   "cell_type": "code",
   "execution_count": 6,
   "id": "ecb13437-1d7d-46dc-bf18-8d434db81db1",
   "metadata": {},
   "outputs": [
    {
     "ename": "NameError",
     "evalue": "name 'l1' is not defined",
     "output_type": "error",
     "traceback": [
      "\u001b[1;31m---------------------------------------------------------------------------\u001b[0m",
      "\u001b[1;31mNameError\u001b[0m                                 Traceback (most recent call last)",
      "Cell \u001b[1;32mIn[6], line 1\u001b[0m\n\u001b[1;32m----> 1\u001b[0m l1[::]\n",
      "\u001b[1;31mNameError\u001b[0m: name 'l1' is not defined"
     ]
    }
   ],
   "source": [
    "l1[::]"
   ]
  },
  {
   "cell_type": "markdown",
   "id": "57af3582-5355-4ce8-b52e-c27b8bd635f1",
   "metadata": {},
   "source": [
    "**methods**"
   ]
  },
  {
   "cell_type": "code",
   "execution_count": null,
   "id": "c8824911-b1fe-40c7-8806-5ca6364a9a9d",
   "metadata": {},
   "outputs": [],
   "source": [
    "- if we wants to know the strings method"
   ]
  },
  {
   "cell_type": "code",
   "execution_count": 8,
   "id": "dd639e97-7c90-4462-af54-bd9551ba0d96",
   "metadata": {},
   "outputs": [
    {
     "data": {
      "text/plain": [
       "['In',\n",
       " 'Out',\n",
       " '_',\n",
       " '_3',\n",
       " '__',\n",
       " '___',\n",
       " '__builtin__',\n",
       " '__builtins__',\n",
       " '__doc__',\n",
       " '__loader__',\n",
       " '__name__',\n",
       " '__package__',\n",
       " '__session__',\n",
       " '__spec__',\n",
       " '_dh',\n",
       " '_i',\n",
       " '_i1',\n",
       " '_i2',\n",
       " '_i3',\n",
       " '_i4',\n",
       " '_i5',\n",
       " '_i6',\n",
       " '_i7',\n",
       " '_i8',\n",
       " '_ih',\n",
       " '_ii',\n",
       " '_iii',\n",
       " '_oh',\n",
       " 'exit',\n",
       " 'get_ipython',\n",
       " 'list1',\n",
       " 'open',\n",
       " 'quit']"
      ]
     },
     "execution_count": 8,
     "metadata": {},
     "output_type": "execute_result"
    }
   ],
   "source": [
    "dir()"
   ]
  },
  {
   "cell_type": "code",
   "execution_count": 13,
   "id": "921022a1-84c3-41ed-a739-8dbb62bb22b5",
   "metadata": {},
   "outputs": [
    {
     "name": "stdout",
     "output_type": "stream",
     "text": [
      "a1 before the printing i should see the output [1, 2, 3, 's', 'a', 'i']\n",
      "a1 is clear []\n"
     ]
    }
   ],
   "source": [
    "#clear\n",
    "a1=[1,2,3,'s','a','i']\n",
    "print('a1 before the printing i should see the output',a1)\n",
    "a1.clear()\n",
    "print('a1 is clear',a1)"
   ]
  },
  {
   "cell_type": "code",
   "execution_count": 16,
   "id": "2c7f0b4c-87eb-4ddd-8f39-cadc0f523d46",
   "metadata": {},
   "outputs": [
    {
     "name": "stdout",
     "output_type": "stream",
     "text": [
      "[]\n",
      "[1, 2, 3, 's', 'a', 'i']\n"
     ]
    }
   ],
   "source": [
    "#copy\n",
    "a1=[1,2,3,'s','a','i']\n",
    "a2=a1.copy()\n",
    "a1.clear()\n",
    "print(a1)\n",
    "print(a2)"
   ]
  },
  {
   "cell_type": "code",
   "execution_count": 17,
   "id": "01e9e8e5-cc2d-45f3-a1a6-de6feb8cc2b1",
   "metadata": {},
   "outputs": [
    {
     "data": {
      "text/plain": [
       "[1, 2, 3, 's', 'a', 'i']"
      ]
     },
     "execution_count": 17,
     "metadata": {},
     "output_type": "execute_result"
    }
   ],
   "source": [
    "a11=[1,2,3,'s','a','i']\n",
    "a22=a11.copy()\n",
    "a22"
   ]
  },
  {
   "cell_type": "code",
   "execution_count": 21,
   "id": "5124bfb2-98e5-462f-bcb7-48a5cdd898aa",
   "metadata": {},
   "outputs": [
    {
     "data": {
      "text/plain": [
       "2"
      ]
     },
     "execution_count": 21,
     "metadata": {},
     "output_type": "execute_result"
    }
   ],
   "source": [
    "#count\n",
    "a1=[1,2,3,'s','a','i',3]\n",
    "a1.count(3)"
   ]
  },
  {
   "cell_type": "code",
   "execution_count": 23,
   "id": "c0081d77-fd4d-4d21-b956-2d1d9dd7357d",
   "metadata": {},
   "outputs": [
    {
     "data": {
      "text/plain": [
       "3"
      ]
     },
     "execution_count": 23,
     "metadata": {},
     "output_type": "execute_result"
    }
   ],
   "source": [
    "str1='ola ola ola'\n",
    "str1.count('l')"
   ]
  },
  {
   "cell_type": "markdown",
   "id": "aff2790d-b4c1-4928-934c-6c916433b988",
   "metadata": {},
   "source": [
    "**append**"
   ]
  },
  {
   "cell_type": "markdown",
   "id": "cbfb8d1b-45a5-4146-8b18-3d5d1fd8a5f0",
   "metadata": {},
   "source": [
    "- append is very very important method in the entire list\n",
    "- in our life we will use this method very very frequently\n",
    "- append means adding an element at last"
   ]
  },
  {
   "cell_type": "code",
   "execution_count": 25,
   "id": "a0d19358-c4e1-4bf2-bc9e-16e84e6cbd0e",
   "metadata": {},
   "outputs": [
    {
     "data": {
      "text/plain": [
       "[10, 20, 30, 'apple', 'apple']"
      ]
     },
     "execution_count": 25,
     "metadata": {},
     "output_type": "execute_result"
    }
   ],
   "source": [
    "# case-1\n",
    "l1=[10,20,30]\n",
    "l1.append('apple')\n",
    "l1"
   ]
  },
  {
   "cell_type": "code",
   "execution_count": 28,
   "id": "d9f5ba22-f253-40e5-83fe-feeee3595910",
   "metadata": {},
   "outputs": [
    {
     "data": {
      "text/plain": [
       "[10, 20, 30, 'sai', 'prithi']"
      ]
     },
     "execution_count": 28,
     "metadata": {},
     "output_type": "execute_result"
    }
   ],
   "source": [
    "#case-2\n",
    "l1=[10,20,30]\n",
    "l1.append('sai')\n",
    "l1.append('prithi')\n",
    "l1"
   ]
  },
  {
   "cell_type": "markdown",
   "id": "9e1f0890-92d3-4161-b521-a095a36f6db5",
   "metadata": {},
   "source": [
    "- **always recall if you see anywhare multiple values means most of the timewe will keep those values in a list**"
   ]
  },
  {
   "cell_type": "code",
   "execution_count": 34,
   "id": "f8a8aaf6-fd42-40ae-a7e3-97a17099651b",
   "metadata": {},
   "outputs": [
    {
     "ename": "TypeError",
     "evalue": "list.append() takes exactly one argument (2 given)",
     "output_type": "error",
     "traceback": [
      "\u001b[1;31m---------------------------------------------------------------------------\u001b[0m",
      "\u001b[1;31mTypeError\u001b[0m                                 Traceback (most recent call last)",
      "Cell \u001b[1;32mIn[34], line 3\u001b[0m\n\u001b[0;32m      1\u001b[0m \u001b[38;5;66;03m###\u001b[39;00m\n\u001b[0;32m      2\u001b[0m l1\u001b[38;5;241m=\u001b[39m[\u001b[38;5;241m10\u001b[39m,\u001b[38;5;241m20\u001b[39m,\u001b[38;5;241m30\u001b[39m]\n\u001b[1;32m----> 3\u001b[0m l1\u001b[38;5;241m.\u001b[39mappend(\u001b[38;5;124m'\u001b[39m\u001b[38;5;124mapple\u001b[39m\u001b[38;5;124m'\u001b[39m,\u001b[38;5;124m'\u001b[39m\u001b[38;5;124mbanana\u001b[39m\u001b[38;5;124m'\u001b[39m)\n\u001b[0;32m      4\u001b[0m l1\n",
      "\u001b[1;31mTypeError\u001b[0m: list.append() takes exactly one argument (2 given)"
     ]
    }
   ],
   "source": [
    "###\n",
    "l1=[10,20,30]\n",
    "l1.append('apple','banana')\n",
    "l1"
   ]
  },
  {
   "cell_type": "code",
   "execution_count": 30,
   "id": "1b7e5514-d60e-4c6a-8651-bcd9a1022f0b",
   "metadata": {},
   "outputs": [
    {
     "data": {
      "text/plain": [
       "[10, 20, 30, ['apple', 'banana']]"
      ]
     },
     "execution_count": 30,
     "metadata": {},
     "output_type": "execute_result"
    }
   ],
   "source": [
    "# case-3\n",
    "l1=[10,20,30]\n",
    "l1.append(['apple','banana'])\n",
    "l1"
   ]
  },
  {
   "cell_type": "code",
   "execution_count": 33,
   "id": "02c54a8d-5579-4a75-8b30-a212abe3c704",
   "metadata": {},
   "outputs": [
    {
     "data": {
      "text/plain": [
       "[10, 20, 30, ['apple', 'banana']]"
      ]
     },
     "execution_count": 33,
     "metadata": {},
     "output_type": "execute_result"
    }
   ],
   "source": [
    "l1=[10,20,30]\n",
    "l1.append('apple')\n",
    "l1\n",
    "\n",
    "l1=[10,20,30]\n",
    "l1.append('sai')\n",
    "l1.append('prithi')\n",
    "l1\n",
    "\n",
    "# case-3\n",
    "l1=[10,20,30]\n",
    "l1.append(['apple','banana'])\n",
    "l1"
   ]
  },
  {
   "cell_type": "markdown",
   "id": "a5cb4c4a-38c9-484e-b627-c4e7e983ce60",
   "metadata": {},
   "source": [
    "**append method is used to store the outputs**"
   ]
  },
  {
   "cell_type": "code",
   "execution_count": 41,
   "id": "04cc66bb-2588-4f13-8af7-627e6c77b276",
   "metadata": {},
   "outputs": [
    {
     "data": {
      "text/plain": [
       "[1, 2, 3, 4, 5]"
      ]
     },
     "execution_count": 41,
     "metadata": {},
     "output_type": "execute_result"
    }
   ],
   "source": [
    "# for example i want to append a number from 1 to 5\n",
    "\n",
    "l1=[]                  # empty list\n",
    "for i in range(1,6):  # manam list lo valuse ivakunda output e list valuse kavali anapudu\n",
    "    l1.append(i)      # adding the list of elements\n",
    "l1\n"
   ]
  },
  {
   "cell_type": "code",
   "execution_count": 42,
   "id": "d594c710-85fe-4fb9-8b5f-b8e7a445b148",
   "metadata": {},
   "outputs": [
    {
     "name": "stdout",
     "output_type": "stream",
     "text": [
      "63\n",
      "88\n",
      "91\n"
     ]
    }
   ],
   "source": [
    "#Q1) write a program ask the user enter 3 random numbers and\n",
    "# perform the square of the numbers, save those squares in a list\n",
    "import random\n",
    "for i in range(3):\n",
    "    num=random.randint(1,100)\n",
    "    print(num)"
   ]
  },
  {
   "cell_type": "code",
   "execution_count": 43,
   "id": "82f0a2f6-b8f7-4665-8fe2-4a73aa8996a4",
   "metadata": {},
   "outputs": [
    {
     "data": {
      "text/plain": [
       "[68, 63, 37]"
      ]
     },
     "execution_count": 43,
     "metadata": {},
     "output_type": "execute_result"
    }
   ],
   "source": [
    "import random\n",
    "l=[]\n",
    "for i in range(3):\n",
    "    num=random.randint(1,100)\n",
    "    l.append(num)\n",
    "l"
   ]
  },
  {
   "cell_type": "code",
   "execution_count": 44,
   "id": "d968c1e9-4814-4be4-aaa1-83a723d62bd4",
   "metadata": {},
   "outputs": [
    {
     "data": {
      "text/plain": [
       "['70:4900', '98:9604', '90:8100']"
      ]
     },
     "execution_count": 44,
     "metadata": {},
     "output_type": "execute_result"
    }
   ],
   "source": [
    "import random\n",
    "l=[]\n",
    "for i in range(3):\n",
    "    num=random.randint(1,100)\n",
    "    l.append(f'{num}:{num*num}')\n",
    "l"
   ]
  },
  {
   "cell_type": "code",
   "execution_count": 68,
   "id": "50015972-0528-4ca8-be73-7ddef856450a",
   "metadata": {},
   "outputs": [
    {
     "name": "stdout",
     "output_type": "stream",
     "text": [
      "even num: [10, 12]\n",
      "odd num: [47, 53, 27]\n"
     ]
    }
   ],
   "source": [
    "#Q2) i already have a list of numbers\n",
    "l=[10,47,53,12,27]\n",
    "\n",
    "l1=[]\n",
    "l2=[]\n",
    "for i in l:\n",
    "    if i % 2 ==0:\n",
    "        l1.append(i)\n",
    "    else:\n",
    "        l2.append(i)\n",
    "print(f'even num:',l1)\n",
    "print(f'odd num:',l2)"
   ]
  },
  {
   "cell_type": "code",
   "execution_count": 1,
   "id": "03b7d91f-edec-4e12-8afe-5521f63d8d0b",
   "metadata": {},
   "outputs": [
    {
     "data": {
      "text/plain": [
       "['__add__',\n",
       " '__class__',\n",
       " '__class_getitem__',\n",
       " '__contains__',\n",
       " '__delattr__',\n",
       " '__delitem__',\n",
       " '__dir__',\n",
       " '__doc__',\n",
       " '__eq__',\n",
       " '__format__',\n",
       " '__ge__',\n",
       " '__getattribute__',\n",
       " '__getitem__',\n",
       " '__getstate__',\n",
       " '__gt__',\n",
       " '__hash__',\n",
       " '__iadd__',\n",
       " '__imul__',\n",
       " '__init__',\n",
       " '__init_subclass__',\n",
       " '__iter__',\n",
       " '__le__',\n",
       " '__len__',\n",
       " '__lt__',\n",
       " '__mul__',\n",
       " '__ne__',\n",
       " '__new__',\n",
       " '__reduce__',\n",
       " '__reduce_ex__',\n",
       " '__repr__',\n",
       " '__reversed__',\n",
       " '__rmul__',\n",
       " '__setattr__',\n",
       " '__setitem__',\n",
       " '__sizeof__',\n",
       " '__str__',\n",
       " '__subclasshook__',\n",
       " 'append',\n",
       " 'clear',\n",
       " 'copy',\n",
       " 'count',\n",
       " 'extend',\n",
       " 'index',\n",
       " 'insert',\n",
       " 'pop',\n",
       " 'remove',\n",
       " 'reverse',\n",
       " 'sort']"
      ]
     },
     "execution_count": 1,
     "metadata": {},
     "output_type": "execute_result"
    }
   ],
   "source": [
    "dir(list)"
   ]
  },
  {
   "cell_type": "markdown",
   "id": "3144c066-8ff8-4216-b8b4-269d4e1dcc74",
   "metadata": {},
   "source": [
    "**extend**"
   ]
  },
  {
   "cell_type": "code",
   "execution_count": 6,
   "id": "ba67b0cf-df76-4036-bdda-0a9c92190941",
   "metadata": {},
   "outputs": [
    {
     "data": {
      "text/plain": [
       "[1, 2, 3, 4, 5, 'A', 'B', 'C', 'D']"
      ]
     },
     "execution_count": 6,
     "metadata": {},
     "output_type": "execute_result"
    }
   ],
   "source": [
    "l1=[1,2,3,4,5]\n",
    "l2=['A','B','C','D',]\n",
    "l1.extend(l2)\n",
    "l1"
   ]
  },
  {
   "cell_type": "code",
   "execution_count": 7,
   "id": "bea5f89e-4e9c-469e-9d5d-8ee4178f8fdd",
   "metadata": {},
   "outputs": [
    {
     "data": {
      "text/plain": [
       "['A', 'B', 'C', 'D', 1, 2, 3, 4, 5]"
      ]
     },
     "execution_count": 7,
     "metadata": {},
     "output_type": "execute_result"
    }
   ],
   "source": [
    "l1=[1,2,3,4,5]\n",
    "l2=['A','B','C','D',]\n",
    "l1.extend(l2)\n",
    "l1"
   ]
  },
  {
   "cell_type": "code",
   "execution_count": 8,
   "id": "2cc6887c-2be5-464f-b4d0-b57c45d937a8",
   "metadata": {},
   "outputs": [
    {
     "name": "stdout",
     "output_type": "stream",
     "text": [
      "[1, 2, 3, 4, 5, 'A', 'B', 'C', 'D']\n",
      "[1, 2, 3, 4, 5]\n",
      "['A', 'B', 'C', 'D']\n",
      "l1 will be overwrite if we use extend\n",
      "[1, 2, 3, 4, 5, 'A', 'B', 'C', 'D']\n"
     ]
    }
   ],
   "source": [
    "l1=[1,2,3,4,5]\n",
    "l2=['A','B','C','D',]\n",
    "print(l1+l2)\n",
    "print(l1)\n",
    "print(l2)\n",
    "print('l1 will be overwrite if we use extend')\n",
    "l1.extend(l2)# concatination\n",
    "print(l1)"
   ]
  },
  {
   "cell_type": "markdown",
   "id": "69ddca7c-b6f1-41ec-ab90-4baedbcf319f",
   "metadata": {},
   "source": [
    "**index**"
   ]
  },
  {
   "cell_type": "markdown",
   "id": "c334f901-a46f-4bad-a7a3-102ebb8ce76b",
   "metadata": {},
   "source": [
    "- strings we have index and find\n",
    "- but in list we have only index"
   ]
  },
  {
   "cell_type": "code",
   "execution_count": 11,
   "id": "f2ebf288-5633-4b81-9317-5537bcdb772b",
   "metadata": {},
   "outputs": [
    {
     "name": "stdout",
     "output_type": "stream",
     "text": [
      "6\n"
     ]
    }
   ],
   "source": [
    "l1=[10,20,30,40,'apple','banana',40,50]\n",
    "i1=l1.index(40)\n",
    "print(l1.index(40,i1+1))"
   ]
  },
  {
   "cell_type": "markdown",
   "id": "609c65a0-ae68-4a4d-a850-fc8388f41d00",
   "metadata": {},
   "source": [
    "**insert**"
   ]
  },
  {
   "cell_type": "code",
   "execution_count": 17,
   "id": "7e2677be-acfc-40af-968f-3eed1a57b4ea",
   "metadata": {},
   "outputs": [
    {
     "data": {
      "text/plain": [
       "[10, 20, 30, 40, 50, 'apple', 100, 'banana', 40, 50]"
      ]
     },
     "execution_count": 17,
     "metadata": {},
     "output_type": "execute_result"
    }
   ],
   "source": [
    "l1=[10,20,30,40,50,'apple','banana',40,50]\n",
    "id=l1.index('apple')\n",
    "l1.insert(id+1,100)\n",
    "l1"
   ]
  },
  {
   "cell_type": "code",
   "execution_count": 18,
   "id": "e4bfdefc-4fc2-4e4f-966a-c6594434aeca",
   "metadata": {},
   "outputs": [
    {
     "data": {
      "text/plain": [
       "[10, 20, 30, 40, 50, 'apple', 'banana', 40, 50, 100]"
      ]
     },
     "execution_count": 18,
     "metadata": {},
     "output_type": "execute_result"
    }
   ],
   "source": [
    "l1=[10,20,30,40,50,'apple','banana',40,50]\n",
    "l1.append(100)\n",
    "l1"
   ]
  },
  {
   "cell_type": "markdown",
   "id": "d96e0453-218e-4a84-bdcf-fd0bd18d1efa",
   "metadata": {},
   "source": [
    "**pop vs remove**"
   ]
  },
  {
   "cell_type": "code",
   "execution_count": 19,
   "id": "6bbb40e8-93aa-48ad-a487-40679c15de20",
   "metadata": {},
   "outputs": [
    {
     "data": {
      "text/plain": [
       "50"
      ]
     },
     "execution_count": 19,
     "metadata": {},
     "output_type": "execute_result"
    }
   ],
   "source": [
    "l1=[10,20,30,40,50,'apple','banana',40,50]\n",
    "l1.pop()"
   ]
  },
  {
   "cell_type": "code",
   "execution_count": 21,
   "id": "951f6b5d-eeec-4705-98b5-e252d4603a8d",
   "metadata": {},
   "outputs": [
    {
     "data": {
      "text/plain": [
       "[10, 20, 30, 40, 50, 'banana', 40, 50]"
      ]
     },
     "execution_count": 21,
     "metadata": {},
     "output_type": "execute_result"
    }
   ],
   "source": [
    "l1=[10,20,30,40,50,'apple','banana',40,50]\n",
    "l1.pop(5)\n",
    "l1"
   ]
  },
  {
   "cell_type": "code",
   "execution_count": 22,
   "id": "d96fe655-ba45-4904-91ae-344de3fe06b5",
   "metadata": {},
   "outputs": [
    {
     "data": {
      "text/plain": [
       "[10, 20, 30, 40, 50, 'banana', 40, 50]"
      ]
     },
     "execution_count": 22,
     "metadata": {},
     "output_type": "execute_result"
    }
   ],
   "source": [
    "l1=[10,20,30,40,50,'apple','banana',40,50]\n",
    "l1.remove('apple')\n",
    "l1"
   ]
  },
  {
   "cell_type": "code",
   "execution_count": 23,
   "id": "a7b1c995-fc1d-4252-9d9d-a128b9b5a21f",
   "metadata": {},
   "outputs": [
    {
     "data": {
      "text/plain": [
       "[10, 20, 30, 50, 'apple', 'banana', 40, 50]"
      ]
     },
     "execution_count": 23,
     "metadata": {},
     "output_type": "execute_result"
    }
   ],
   "source": [
    "l1=[10,20,30,40,50,'apple','banana',40,50]\n",
    "l1.remove(40)\n",
    "l1"
   ]
  },
  {
   "cell_type": "code",
   "execution_count": 27,
   "id": "bf89bc66-6c93-42c9-b6fd-2835aafde6fc",
   "metadata": {},
   "outputs": [
    {
     "data": {
      "text/plain": [
       "[10, 20, 30, 40, 50, 'banana', 40, 50]"
      ]
     },
     "execution_count": 27,
     "metadata": {},
     "output_type": "execute_result"
    }
   ],
   "source": [
    "l1=[10,20,30,40,50,'apple','banana',40,50]\n",
    "del(l1[5])\n",
    "l1"
   ]
  },
  {
   "cell_type": "markdown",
   "id": "68f1b097-446e-4f68-b187-79ad19e97b1d",
   "metadata": {},
   "source": [
    "- if we want delete any element\n",
    "- pop:based on index\n",
    "- remove:based on value\n",
    "- del is an inbuilt function"
   ]
  },
  {
   "cell_type": "code",
   "execution_count": 30,
   "id": "80f21363-e1d7-4130-bf64-bf8b9db5b72b",
   "metadata": {},
   "outputs": [
    {
     "name": "stdout",
     "output_type": "stream",
     "text": [
      "[10, 20, 30, 40, 50, 'apple', 'banana', 40, 50]\n"
     ]
    },
    {
     "ename": "NameError",
     "evalue": "name 'l1' is not defined",
     "output_type": "error",
     "traceback": [
      "\u001b[1;31m---------------------------------------------------------------------------\u001b[0m",
      "\u001b[1;31mNameError\u001b[0m                                 Traceback (most recent call last)",
      "Cell \u001b[1;32mIn[30], line 4\u001b[0m\n\u001b[0;32m      2\u001b[0m \u001b[38;5;28mprint\u001b[39m(l1)\n\u001b[0;32m      3\u001b[0m \u001b[38;5;28;01mdel\u001b[39;00m(l1)\n\u001b[1;32m----> 4\u001b[0m l1\n",
      "\u001b[1;31mNameError\u001b[0m: name 'l1' is not defined"
     ]
    }
   ],
   "source": [
    "l1=[10,20,30,40,50,'apple','banana',40,50]\n",
    "print(l1) # this is not error this the output there is l1 deleted\n",
    "del(l1)\n",
    "l1"
   ]
  },
  {
   "cell_type": "code",
   "execution_count": 2,
   "id": "761c0ab9-da16-4d53-9fdf-f8158dd32b69",
   "metadata": {},
   "outputs": [
    {
     "data": {
      "text/plain": [
       "[10, 20, 30, 40, 50, 'banana', 'cherry', 40, 50]"
      ]
     },
     "execution_count": 2,
     "metadata": {},
     "output_type": "execute_result"
    }
   ],
   "source": [
    "l1=[10,20,30,40,50,'apple','banana','cherry',40,50]\n",
    "del l1[5] # del(l1[5])\n",
    "l1"
   ]
  },
  {
   "cell_type": "markdown",
   "id": "760ed71d-5890-45c8-bfb9-58d581edb669",
   "metadata": {},
   "source": [
    "**reverse-reversed**"
   ]
  },
  {
   "cell_type": "markdown",
   "id": "fe15540a-aabe-47e3-8686-47fa7590aa99",
   "metadata": {},
   "source": [
    "- reverse is a method\n",
    "- reversed is an inbuilt function"
   ]
  },
  {
   "cell_type": "code",
   "execution_count": 3,
   "id": "4347f5e6-b95e-41a2-895b-a30a4f896013",
   "metadata": {},
   "outputs": [
    {
     "data": {
      "text/plain": [
       "[50, 40, 30, 20, 10]"
      ]
     },
     "execution_count": 3,
     "metadata": {},
     "output_type": "execute_result"
    }
   ],
   "source": [
    "l1=[10,20,30,40,50]\n",
    "l1.reverse()\n",
    "l1"
   ]
  },
  {
   "cell_type": "markdown",
   "id": "1ddefd34-3ecc-42e7-a476-be4653a1d37d",
   "metadata": {},
   "source": [
    "**in place**"
   ]
  },
  {
   "cell_type": "markdown",
   "id": "2cefb746-462a-4263-b565-26007c7a5915",
   "metadata": {},
   "source": [
    "- when we perfrom the operations some times the values will not overrite \n",
    "- if we see inplace word or inplace=True\n",
    "- this indicates the output will be overwrite in corresponding variable\n"
   ]
  },
  {
   "cell_type": "code",
   "execution_count": 5,
   "id": "1a80b7d7-7c9a-463b-a6f0-3685dea73e91",
   "metadata": {},
   "outputs": [
    {
     "name": "stdout",
     "output_type": "stream",
     "text": [
      "[10, 20, 30, 40, 50]\n"
     ]
    }
   ],
   "source": [
    "l1=[10,20,30,40,50]\n",
    "reversed(l1)\n",
    "print(l1)"
   ]
  },
  {
   "cell_type": "markdown",
   "id": "8968007e-4bfb-472f-ae79-772e643ee39e",
   "metadata": {},
   "source": [
    "**sort-sorted**"
   ]
  },
  {
   "cell_type": "code",
   "execution_count": 6,
   "id": "6965e2d8-8ece-48df-8fb6-690466b12afd",
   "metadata": {},
   "outputs": [
    {
     "data": {
      "text/plain": [
       "[10, 20, 30, 40, 50]"
      ]
     },
     "execution_count": 6,
     "metadata": {},
     "output_type": "execute_result"
    }
   ],
   "source": [
    "l1=[10,20,30,40,50]\n",
    "l1.sort()\n",
    "l1"
   ]
  },
  {
   "cell_type": "code",
   "execution_count": 7,
   "id": "d8b958ff-740b-4578-acb6-59a41f0fe105",
   "metadata": {},
   "outputs": [
    {
     "data": {
      "text/plain": [
       "[10, 20, 30, 40, 50]"
      ]
     },
     "execution_count": 7,
     "metadata": {},
     "output_type": "execute_result"
    }
   ],
   "source": [
    "l1=[20,10,40,50,30]\n",
    "sorted(l1)"
   ]
  },
  {
   "cell_type": "code",
   "execution_count": 8,
   "id": "25e9e0b8-4369-4d38-8496-f74eb54c300d",
   "metadata": {},
   "outputs": [
    {
     "data": {
      "text/plain": [
       "['h', 'n', 'o', 'p', 't', 'y']"
      ]
     },
     "execution_count": 8,
     "metadata": {},
     "output_type": "execute_result"
    }
   ],
   "source": [
    "str1='python'\n",
    "sorted(str1) #strings list\n"
   ]
  },
  {
   "cell_type": "code",
   "execution_count": null,
   "id": "d2aab9e3-f1b1-4f89-b95e-df84167475a1",
   "metadata": {},
   "outputs": [],
   "source": [
    "str1.sort() # it is not avialble"
   ]
  },
  {
   "cell_type": "markdown",
   "id": "a8bde63b-63f6-4138-8cd4-b38b9b441a22",
   "metadata": {},
   "source": [
    "- inbuilt functions applicable for any datatype\n",
    "- but methods works wrt data types\n",
    "- clear\n",
    "- count\n",
    "- append/extend/insert\n",
    "- pop/remove/del\n",
    "- index\n",
    "- reverse/reversed\n",
    "- sort/sorted"
   ]
  },
  {
   "cell_type": "code",
   "execution_count": 9,
   "id": "5e8d23e0-e2b4-4484-8543-da5f147e943c",
   "metadata": {},
   "outputs": [
    {
     "data": {
      "text/plain": [
       "['In',\n",
       " 'Out',\n",
       " '_',\n",
       " '_1',\n",
       " '_2',\n",
       " '_3',\n",
       " '_4',\n",
       " '_6',\n",
       " '_7',\n",
       " '_8',\n",
       " '__',\n",
       " '___',\n",
       " '__builtin__',\n",
       " '__builtins__',\n",
       " '__doc__',\n",
       " '__loader__',\n",
       " '__name__',\n",
       " '__package__',\n",
       " '__session__',\n",
       " '__spec__',\n",
       " '_dh',\n",
       " '_i',\n",
       " '_i1',\n",
       " '_i2',\n",
       " '_i3',\n",
       " '_i4',\n",
       " '_i5',\n",
       " '_i6',\n",
       " '_i7',\n",
       " '_i8',\n",
       " '_i9',\n",
       " '_ih',\n",
       " '_ii',\n",
       " '_iii',\n",
       " '_oh',\n",
       " 'exit',\n",
       " 'get_ipython',\n",
       " 'l1',\n",
       " 'open',\n",
       " 'quit',\n",
       " 'str1']"
      ]
     },
     "execution_count": 9,
     "metadata": {},
     "output_type": "execute_result"
    }
   ],
   "source": [
    "dir()"
   ]
  },
  {
   "cell_type": "code",
   "execution_count": 11,
   "id": "f91eea39-6710-4379-99e3-d614191224e5",
   "metadata": {},
   "outputs": [
    {
     "name": "stdout",
     "output_type": "stream",
     "text": [
      "True\n",
      "True\n",
      "True\n"
     ]
    }
   ],
   "source": [
    "#case1\n",
    "s1='2'\n",
    "print(s1.isdecimal())\n",
    "print(s1.isdigit())\n",
    "print(s1.isnumeric())\n"
   ]
  },
  {
   "cell_type": "code",
   "execution_count": null,
   "id": "9ab99f39-903d-4321-a895-cbe7d3b62430",
   "metadata": {},
   "outputs": [],
   "source": []
  }
 ],
 "metadata": {
  "kernelspec": {
   "display_name": "Python 3 (ipykernel)",
   "language": "python",
   "name": "python3"
  },
  "language_info": {
   "codemirror_mode": {
    "name": "ipython",
    "version": 3
   },
   "file_extension": ".py",
   "mimetype": "text/x-python",
   "name": "python",
   "nbconvert_exporter": "python",
   "pygments_lexer": "ipython3",
   "version": "3.12.7"
  }
 },
 "nbformat": 4,
 "nbformat_minor": 5
}
