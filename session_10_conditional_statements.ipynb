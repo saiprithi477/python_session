{
 "cells": [
  {
   "cell_type": "markdown",
   "id": "460dc7ce-d310-4324-aeb9-bbe8fd6959b9",
   "metadata": {},
   "source": [
    "## conditional statements\n",
    "\n"
   ]
  },
  {
   "cell_type": "markdown",
   "id": "3ba47836-a7d8-40ad-a62d-0c3a683ac6bc",
   "metadata": {},
   "source": [
    "- conditional statements are used execute the code based on some condition\n",
    "\n",
    "- assume a statement\n",
    "\n",
    "   - if rain comes i will stay at hostel\n",
    "   - if rain comes i will stay at hostel otherwise i will go to play cricket\n",
    "   - if rain comes i will say hostel otherwise i will go to ground if omkar sir call i will go to Naresh IT\n",
    "\n",
    "- if rain comes i will stay at hostel else otherwise i will go to play cricket\n",
    "   - if\n",
    "   - if-else\n",
    "   - if-elif-else\n"
   ]
  },
  {
   "cell_type": "markdown",
   "id": "b44baa13-ff6b-4ea5-b762-010ed0e01083",
   "metadata": {},
   "source": [
    "# case 1: if"
   ]
  },
  {
   "cell_type": "code",
   "execution_count": null,
   "id": "08c81ae1-d8a3-4487-89ac-4e65f8c9fc82",
   "metadata": {},
   "outputs": [],
   "source": [
    "if <condition>:  # indentation gap\n",
    "    # write your code here\n",
    "\n",
    "# whebnever the condition is True\n",
    "# then python will go inside the if area then the lines will be execute\n",
    "    "
   ]
  },
  {
   "cell_type": "code",
   "execution_count": 1,
   "id": "0c8eb57c-f09c-43e0-bdfd-bef9c748d5b1",
   "metadata": {},
   "outputs": [
    {
     "name": "stdout",
     "output_type": "stream",
     "text": [
      "True\n",
      "False\n",
      "False\n",
      "False\n",
      "True\n",
      "True\n",
      "False\n"
     ]
    }
   ],
   "source": [
    "num=10 # assignment 10 is a value stored in a variable name\n",
    "print(num==10)#t      # condition check num value equal to 10 or not\n",
    "print(num==100)#f\n",
    "print(num>10)#f\n",
    "print(num<10)#f\n",
    "print(num>=10)#t\n",
    "print(num<=10)#T\n",
    "print(num!=10)#F"
   ]
  },
  {
   "cell_type": "code",
   "execution_count": 4,
   "id": "5170e67b-6f18-42eb-aa62-cc564d7ee4b9",
   "metadata": {},
   "outputs": [
    {
     "name": "stdout",
     "output_type": "stream",
     "text": [
      "heelo\n"
     ]
    }
   ],
   "source": [
    "if 100>10:\n",
    "   print('heelo')\n",
    "# step=1:100>10 true\n",
    "# step-2:hello"
   ]
  },
  {
   "cell_type": "markdown",
   "id": "874983b1-d10a-4874-9679-b555c6099941",
   "metadata": {},
   "source": [
    "**mistake-1**\n",
    "\n",
    "\n",
    "**indentation error**\n",
    "\n",
    "- whenever a line starts with keyword at last : will be there\n",
    "\n",
    "- whenever: there then we have indentation(gap)"
   ]
  },
  {
   "cell_type": "code",
   "execution_count": 15,
   "id": "2bf1b5bc-849e-454e-a9e1-26dab6304ea5",
   "metadata": {},
   "outputs": [],
   "source": [
    "if 100<10:   \n",
    "    print('hello')"
   ]
  },
  {
   "cell_type": "markdown",
   "id": "eb97b0ac-65b5-4b0e-886d-3fab84092ab5",
   "metadata": {},
   "source": [
    "**mistake-2**\n"
   ]
  },
  {
   "cell_type": "code",
   "execution_count": 9,
   "id": "48efd4e3-daa0-4ab3-9b04-d21a976c4b3f",
   "metadata": {},
   "outputs": [
    {
     "ename": "SyntaxError",
     "evalue": "expected ':' (1984733435.py, line 1)",
     "output_type": "error",
     "traceback": [
      "\u001b[1;36m  Cell \u001b[1;32mIn[9], line 1\u001b[1;36m\u001b[0m\n\u001b[1;33m    if 100>1\u001b[0m\n\u001b[1;37m            ^\u001b[0m\n\u001b[1;31mSyntaxError\u001b[0m\u001b[1;31m:\u001b[0m expected ':'\n"
     ]
    }
   ],
   "source": [
    "if 100>1\n",
    "    print('hello')   # there is colom(:)missing"
   ]
  },
  {
   "cell_type": "code",
   "execution_count": 16,
   "id": "0431ec13-a87c-42d6-a9e3-425ebf570ac6",
   "metadata": {},
   "outputs": [],
   "source": [
    "if 100<10:\n",
    "    print('hello')\n",
    "\n",
    "# step-1: 100<10 false"
   ]
  },
  {
   "cell_type": "code",
   "execution_count": 17,
   "id": "62cce3b3-d42b-44dc-bd0e-8503335c7044",
   "metadata": {},
   "outputs": [
    {
     "data": {
      "text/plain": [
       "True"
      ]
     },
     "execution_count": 17,
     "metadata": {},
     "output_type": "execute_result"
    }
   ],
   "source": [
    "100>10"
   ]
  },
  {
   "cell_type": "code",
   "execution_count": 19,
   "id": "72b5563a-b8ed-4a13-8e5a-33ff5b26ac5e",
   "metadata": {},
   "outputs": [
    {
     "name": "stdout",
     "output_type": "stream",
     "text": [
      "hello\n"
     ]
    }
   ],
   "source": [
    "if True:\n",
    "    print('hello')"
   ]
  },
  {
   "cell_type": "code",
   "execution_count": 20,
   "id": "34164471-4eaa-49d0-a416-53d31686bb49",
   "metadata": {},
   "outputs": [],
   "source": [
    "if False:\n",
    "    print('hi')"
   ]
  },
  {
   "cell_type": "code",
   "execution_count": 21,
   "id": "dd2c3b8b-6e2a-4d6a-b8a5-51d508bc33ef",
   "metadata": {},
   "outputs": [
    {
     "name": "stdout",
     "output_type": "stream",
     "text": [
      "hi\n"
     ]
    }
   ],
   "source": [
    "if bool(100):\n",
    "    print('hi')"
   ]
  },
  {
   "cell_type": "code",
   "execution_count": 25,
   "id": "5b7bde65-7e42-4d07-8981-4434f6025dbf",
   "metadata": {},
   "outputs": [
    {
     "name": "stdout",
     "output_type": "stream",
     "text": [
      "hello\n",
      "hi\n",
      "im with condition bye\n",
      "im with out condition bye\n"
     ]
    }
   ],
   "source": [
    "if 100>10:\n",
    "    print('hello')\n",
    "    print('hi')     #if 100<10 check\n",
    "    print('im with condition bye')\n",
    "#############################\n",
    "print('im with out condition bye')    "
   ]
  },
  {
   "cell_type": "code",
   "execution_count": 29,
   "id": "a363a042-0ae8-4c15-a5f5-b9331a11b12b",
   "metadata": {},
   "outputs": [
    {
     "name": "stdout",
     "output_type": "stream",
     "text": [
      "im with out condition bye\n"
     ]
    }
   ],
   "source": [
    "if 100<10:\n",
    "    print('hello')\n",
    "    print('hi')     #if 100<10 check\n",
    "    print('im with condition bye')\n",
    "#############################\n",
    "print('im with out condition bye')"
   ]
  },
  {
   "cell_type": "code",
   "execution_count": 26,
   "id": "90ee62bc-348a-4d68-815d-73e2eca9742b",
   "metadata": {},
   "outputs": [
    {
     "data": {
      "text/plain": [
       "True"
      ]
     },
     "execution_count": 26,
     "metadata": {},
     "output_type": "execute_result"
    }
   ],
   "source": [
    "100>10 #True\n",
    "True  "
   ]
  },
  {
   "cell_type": "code",
   "execution_count": null,
   "id": "d7cab058-80df-4f8a-8659-bc0bc9cbea97",
   "metadata": {},
   "outputs": [],
   "source": []
  },
  {
   "cell_type": "code",
   "execution_count": 27,
   "id": "e424ebed-71c3-4845-9f06-d4c6ac32e53a",
   "metadata": {},
   "outputs": [
    {
     "name": "stdout",
     "output_type": "stream",
     "text": [
      "1\n",
      "2\n",
      "hello\n",
      "hi\n",
      "im with condition bye\n",
      "im with out condition bye\n"
     ]
    }
   ],
   "source": [
    "print(1)\n",
    "print(2)\n",
    "if 100>10:\n",
    "    print('hello')\n",
    "    print('hi')     #if 100<10 check\n",
    "    print('im with condition bye')\n",
    "#############################\n",
    "print('im with out condition bye')   "
   ]
  },
  {
   "cell_type": "code",
   "execution_count": null,
   "id": "200ecbdc-508c-444a-b2f2-35c4c4630a3f",
   "metadata": {},
   "outputs": [],
   "source": []
  },
  {
   "cell_type": "code",
   "execution_count": 1,
   "id": "c7fb27f9-b998-4be8-a16e-db771ac60388",
   "metadata": {},
   "outputs": [
    {
     "ename": "SyntaxError",
     "evalue": "invalid syntax (3601526529.py, line 1)",
     "output_type": "error",
     "traceback": [
      "\u001b[1;36m  Cell \u001b[1;32mIn[1], line 1\u001b[1;36m\u001b[0m\n\u001b[1;33m    if<con>:\u001b[0m\n\u001b[1;37m      ^\u001b[0m\n\u001b[1;31mSyntaxError\u001b[0m\u001b[1;31m:\u001b[0m invalid syntax\n"
     ]
    }
   ],
   "source": [
    "if<con>:\n",
    "    <write our code here>\n",
    "    "
   ]
  },
  {
   "cell_type": "markdown",
   "id": "c294f49a-6137-4f07-b77f-d222030800ea",
   "metadata": {},
   "source": [
    "**case-2: if-else**"
   ]
  },
  {
   "cell_type": "markdown",
   "id": "3d4efa49-2864-4b84-92f4-fe58bb42486e",
   "metadata": {},
   "source": [
    "- if condition is True then if statements will execute\n",
    "\n",
    "- if condition is False then else statement will ececute\n",
    "\n",
    "- one condition two outputs\n",
    "\n",
    "- if needs condition but not else"
   ]
  },
  {
   "cell_type": "code",
   "execution_count": null,
   "id": "3a2436b2-e230-4cc2-9d1a-451571e8cf4b",
   "metadata": {},
   "outputs": [],
   "source": [
    "# syntax\n",
    "if <condition>:\n",
    "    <write your code here>\n",
    "else:\n",
    "    <write your code here>"
   ]
  },
  {
   "cell_type": "code",
   "execution_count": 2,
   "id": "3de805ed-664f-4286-b9e3-5edaba913918",
   "metadata": {},
   "outputs": [
    {
     "name": "stdout",
     "output_type": "stream",
     "text": [
      "heello\n"
     ]
    }
   ],
   "source": [
    "print('heello')"
   ]
  },
  {
   "cell_type": "code",
   "execution_count": null,
   "id": "8e188086-9247-46f2-8db2-f2fcf61ab68c",
   "metadata": {},
   "outputs": [],
   "source": [
    "friend='yes'\n",
    "\n"
   ]
  },
  {
   "cell_type": "code",
   "execution_count": 3,
   "id": "65371e91-2e26-458c-aa2b-f9d5670cb5a8",
   "metadata": {},
   "outputs": [
    {
     "name": "stdout",
     "output_type": "stream",
     "text": [
      "positive\n"
     ]
    }
   ],
   "source": [
    "if 100>0:\n",
    "    print('positive')\n",
    "else:\n",
    "    print('negative')"
   ]
  },
  {
   "cell_type": "code",
   "execution_count": null,
   "id": "97041597-7de5-4583-96f4-8ce21d141f6b",
   "metadata": {},
   "outputs": [],
   "source": [
    "n=100\n",
    "if 100>0:\n",
    "    print('positive')\n",
    "else:\n",
    "    print('negative')\n",
    "    "
   ]
  },
  {
   "cell_type": "code",
   "execution_count": 5,
   "id": "416b5949-2016-4491-92a5-ce2f69ff3b54",
   "metadata": {},
   "outputs": [
    {
     "name": "stdout",
     "output_type": "stream",
     "text": [
      "80 is a positive\n"
     ]
    }
   ],
   "source": [
    "\n",
    "#n=10\n",
    "#n=eval(input('enter the num'))\n",
    "import random\n",
    "n=random.randint(-100,100)\n",
    "if n>0:\n",
    "    print(f'{n} is a positive')\n",
    "else:\n",
    "    print(f'{n} is a negative')"
   ]
  },
  {
   "cell_type": "code",
   "execution_count": 6,
   "id": "a8e78e24-b7ed-4ccc-9f1a-2a8cbda30ed2",
   "metadata": {},
   "outputs": [
    {
     "name": "stdout",
     "output_type": "stream",
     "text": [
      "hello\n",
      "positive number\n",
      "conditionion is False \n",
      "bye\n"
     ]
    }
   ],
   "source": [
    "print('hello')\n",
    "if 100>0:\n",
    "    print('positive number')\n",
    "    print('conditionion is False ')\n",
    "else:\n",
    "    print('negative number')\n",
    "    print('condition is False')\n",
    "print('bye')"
   ]
  },
  {
   "cell_type": "code",
   "execution_count": 7,
   "id": "4b740dd7-03a0-477e-b26a-3be7834da50e",
   "metadata": {},
   "outputs": [
    {
     "ename": "SyntaxError",
     "evalue": "invalid syntax (1992859653.py, line 6)",
     "output_type": "error",
     "traceback": [
      "\u001b[1;36m  Cell \u001b[1;32mIn[7], line 6\u001b[1;36m\u001b[0m\n\u001b[1;33m    else:\u001b[0m\n\u001b[1;37m    ^\u001b[0m\n\u001b[1;31mSyntaxError\u001b[0m\u001b[1;31m:\u001b[0m invalid syntax\n"
     ]
    }
   ],
   "source": [
    "print('hello')\n",
    "if 100>0:\n",
    "    print('positive number')\n",
    "    print('conditionion is False ')\n",
    "print('why you are in middile')    \n",
    "else:\n",
    "    print('negative number')\n",
    "    print('condition is False')\n",
    "print('bye')\n",
    "# if-else should come together"
   ]
  },
  {
   "cell_type": "code",
   "execution_count": 9,
   "id": "a96850f1-57dc-4cb5-9444-11c54a349c30",
   "metadata": {},
   "outputs": [
    {
     "name": "stdin",
     "output_type": "stream",
     "text": [
      "enter the value 34\n",
      "enter the second value 12\n"
     ]
    },
    {
     "name": "stdout",
     "output_type": "stream",
     "text": [
      "n1 is the greatest number \n"
     ]
    }
   ],
   "source": [
    "# wap ask the user enter two numbers\n",
    "# find the greatest number\n",
    "\n",
    "# idea\n",
    "# n1=eval(input())\n",
    "\n",
    "\n",
    "n1=eval(input('enter the value'))\n",
    "n2=eval(input('enter the second value'))\n",
    "if (n1>n2):\n",
    "   print('n1 is the greatest number ')\n",
    "else:\n",
    "    print('n2 is the greatest number')"
   ]
  },
  {
   "cell_type": "code",
   "execution_count": null,
   "id": "cfec2668-ac45-4923-bb7d-95cef8230463",
   "metadata": {},
   "outputs": [],
   "source": []
  },
  {
   "cell_type": "code",
   "execution_count": 10,
   "id": "ae27b934-743a-425c-bf71-b20944f2681c",
   "metadata": {},
   "outputs": [
    {
     "name": "stdin",
     "output_type": "stream",
     "text": [
      "enter the value 23\n",
      "enter the second value 24\n"
     ]
    },
    {
     "name": "stdout",
     "output_type": "stream",
     "text": [
      "n2:24 is the greatest number\n"
     ]
    }
   ],
   "source": [
    "# wap ask the user enter two numbers\n",
    "# find the greatest number\n",
    "\n",
    "# idea\n",
    "# n1=eval(input())\n",
    "\n",
    "import random\n",
    "n2=random.randint(1,100)\n",
    "n1=random.randint(1,100)\n",
    "n1=eval(input('enter the value'))\n",
    "n2=eval(input('enter the second value'))\n",
    "if (n1>n2):\n",
    "   print(f\"n1:{n1} is the greatest number\")\n",
    "else:\n",
    "    print(f\"n2:{n2} is the greatest number\")"
   ]
  },
  {
   "cell_type": "code",
   "execution_count": 25,
   "id": "19c83c69-0a23-45e9-a835-0ef2a6a1b201",
   "metadata": {},
   "outputs": [
    {
     "name": "stdin",
     "output_type": "stream",
     "text": [
      "enter the distance 34\n",
      "enter the charge: 24\n"
     ]
    },
    {
     "name": "stdout",
     "output_type": "stream",
     "text": [
      "total charge: 816\n"
     ]
    }
   ],
   "source": [
    "# wap ask the user enter distance\n",
    "# if distance greater than 25km\n",
    "# then ask the charge per km\n",
    "# then caluculate total charge\n",
    "# otherwise print free ride\n",
    "\n",
    "dist=eval(input('enter the distance'))\n",
    "\n",
    "if (dist>25):\n",
    "    charge=eval(input('enter the charge:'))\n",
    "    total_charge=dist*charge\n",
    "    print('total charge:',total_charge)\n",
    "else:\n",
    "    print('free ride')"
   ]
  },
  {
   "cell_type": "code",
   "execution_count": null,
   "id": "1560fd40-c3f4-4b93-b137-2544c1aaeeaa",
   "metadata": {},
   "outputs": [],
   "source": []
  },
  {
   "cell_type": "code",
   "execution_count": 25,
   "id": "631f44dd-d426-4a71-b7ea-75e8815a8b13",
   "metadata": {},
   "outputs": [
    {
     "name": "stdin",
     "output_type": "stream",
     "text": [
      "enter the distance 34\n",
      "enter the charge: 24\n"
     ]
    },
    {
     "name": "stdout",
     "output_type": "stream",
     "text": [
      "total charge: 816\n"
     ]
    }
   ],
   "source": [
    "# wap ask the user enter distance\n",
    "# enter the free_dist(assume that 25k)\n",
    "# if distance greater than 25km\n",
    "# then ask the charge per km\n",
    "# then caluculate total charge\n",
    "# otherwise print free ride\n",
    "\n",
    "dist=eval(input('enter the distance in km:'))\n",
    "free_dist=eval(input('enter the free_dist in km:'))\n",
    "\n",
    "\n",
    "if (dist>free_dist):\n",
    "    charge=eval(input('enter the charge per km:'))\n",
    "    actual_dis=dist-free_dist\n",
    "    print(f\"the actual distance covered is {actual_dist}km\")\n",
    "    total_charge=\n",
    "    print('total charge:',total_charge)\n",
    "else:\n",
    "    print('free ride')"
   ]
  },
  {
   "cell_type": "code",
   "execution_count": 29,
   "id": "bf270d2e-993a-4890-a47c-0001b5a66527",
   "metadata": {},
   "outputs": [
    {
     "name": "stdin",
     "output_type": "stream",
     "text": [
      "enter the number between 1 to 10: 8\n"
     ]
    },
    {
     "name": "stdout",
     "output_type": "stream",
     "text": [
      "double lucky lost\n"
     ]
    }
   ],
   "source": [
    "# wap ask the user enter a number from keybord n1\n",
    "# ask the user get a random number between 1,10 n2\n",
    "# if n1 equal to n2 print you own\n",
    "# other wise print u lost\n",
    "import random\n",
    "n1=eval(input(\"enter the number between 1 to 10:\"))\n",
    "n2=random.randint(1,10)\n",
    "if n1==n2:\n",
    "    print('lukcy won')\n",
    "else:\n",
    "    print('double lucky lost')\n",
    "    \n",
    "\n"
   ]
  },
  {
   "cell_type": "code",
   "execution_count": null,
   "id": "54fef917-1648-412b-b722-55f999440e26",
   "metadata": {},
   "outputs": [],
   "source": []
  },
  {
   "cell_type": "code",
   "execution_count": null,
   "id": "014b0979-b12f-4c3d-b81f-d6186e40820d",
   "metadata": {},
   "outputs": [],
   "source": []
  }
 ],
 "metadata": {
  "kernelspec": {
   "display_name": "Python 3 (ipykernel)",
   "language": "python",
   "name": "python3"
  },
  "language_info": {
   "codemirror_mode": {
    "name": "ipython",
    "version": 3
   },
   "file_extension": ".py",
   "mimetype": "text/x-python",
   "name": "python",
   "nbconvert_exporter": "python",
   "pygments_lexer": "ipython3",
   "version": "3.12.7"
  }
 },
 "nbformat": 4,
 "nbformat_minor": 5
}
