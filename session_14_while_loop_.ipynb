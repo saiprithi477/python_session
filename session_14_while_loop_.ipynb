{
 "cells": [
  {
   "cell_type": "markdown",
   "id": "0f7b9b8d-dc5e-46d8-baae-9af7d4c73cf3",
   "metadata": {},
   "source": [
    "## While loop"
   ]
  },
  {
   "cell_type": "markdown",
   "id": "ff3b9ea3-9cc6-4896-8675-973085b3ec5f",
   "metadata": {},
   "source": [
    "- intialization to start\n",
    "\n",
    "- increment or decrement\n",
    "\n",
    "- condition to stop"
   ]
  },
  {
   "cell_type": "code",
   "execution_count": null,
   "id": "887d762c-5c4f-4545-b26c-fc43de15f3cf",
   "metadata": {},
   "outputs": [],
   "source": [
    "for i in range(1,10) \n",
    "in a single line we have start=1 increment +1  stop 10-1=9"
   ]
  },
  {
   "cell_type": "code",
   "execution_count": null,
   "id": "5cb7091e-3a1f-4875-8431-d6d5cef645d1",
   "metadata": {},
   "outputs": [],
   "source": [
    "<intialization>\n",
    "\n",
    "while <condition>:\n",
    "    #======python\n",
    "\n",
    "    increment/decrement"
   ]
  },
  {
   "cell_type": "code",
   "execution_count": 1,
   "id": "be9073b6-4656-43d7-8a13-e33ae7a14538",
   "metadata": {},
   "outputs": [
    {
     "name": "stdout",
     "output_type": "stream",
     "text": [
      "1 2 3 4 5 6 7 8 9 "
     ]
    }
   ],
   "source": [
    "for i in range(1,10):\n",
    "    print(i,end=' ')"
   ]
  },
  {
   "cell_type": "code",
   "execution_count": null,
   "id": "f1a64ac6-166e-436a-8aa4-321725dc8a38",
   "metadata": {},
   "outputs": [],
   "source": [
    "#for i in range(1,10) ===== > 3lines \n",
    "\n",
    "i=1\n",
    "while <con>:\n",
    "    i=i+1\n",
    "\n",
    "Rule:1\n",
    "tell me the condition that become True \n",
    "then only i can enter inside the while loop\n",
    "\n",
    "Rule:2 \n",
    "  valid condition\n",
    "i<10  True  yes \n",
    "i<11  True  No\n",
    "i<12\n",
    "i<"
   ]
  },
  {
   "cell_type": "code",
   "execution_count": null,
   "id": "489a7d2e-4f03-468c-8345-97f08b7ef156",
   "metadata": {},
   "outputs": [],
   "source": [
    "# for i in range(1,10):\n",
    "#     print(i,end=' ')\n",
    "\n",
    "i=1\n",
    "while i<3:\n",
    "    print(i,end=' ')\n",
    "    i=i+1\n",
    "\n",
    "# step-1: i=1  while 1<3  True  print(1) i=1+1=2\n",
    "# step-2: i=2  while 2<3  True  print(2) i=2+1=3\n",
    "# step-3: i=3  while 3<3  False"
   ]
  },
  {
   "cell_type": "code",
   "execution_count": null,
   "id": "73c54d36-7be7-4557-8221-7654ac0ac569",
   "metadata": {},
   "outputs": [],
   "source": [
    "# Q1) print 1 to 10\n",
    "# Q2) print 10 to 1\n",
    "# Q3) print -1 to -10\n",
    "# Q4) print -10 to -1\n",
    "\n",
    "# write intialization first\n",
    "# dont write condition now\n",
    "# write increment or decrement\n",
    "# then think about condition"
   ]
  },
  {
   "cell_type": "code",
   "execution_count": 2,
   "id": "e3755434-dafd-4e8f-b2ee-21f736d4baa1",
   "metadata": {},
   "outputs": [
    {
     "name": "stdout",
     "output_type": "stream",
     "text": [
      "10\n",
      "9\n",
      "8\n",
      "7\n",
      "6\n",
      "5\n",
      "4\n",
      "3\n",
      "2\n",
      "1\n"
     ]
    }
   ],
   "source": [
    "i=10\n",
    "while i>=1:   # 0r i>0\n",
    "    print(i)\n",
    "    i=i-1   "
   ]
  },
  {
   "cell_type": "code",
   "execution_count": 3,
   "id": "8015f923-be3c-49c5-b4ed-427453838184",
   "metadata": {},
   "outputs": [
    {
     "name": "stdout",
     "output_type": "stream",
     "text": [
      "10\n",
      "9\n",
      "8\n",
      "7\n",
      "6\n",
      "5\n",
      "4\n",
      "3\n",
      "2\n",
      "1\n"
     ]
    }
   ],
   "source": [
    "i=10\n",
    "while True:\n",
    "    print(i)\n",
    "    i=i-1 \n",
    "    if i==0:\n",
    "        break"
   ]
  },
  {
   "cell_type": "code",
   "execution_count": 5,
   "id": "85ebaddc-16a7-47b5-9df7-1f061996f4b0",
   "metadata": {},
   "outputs": [
    {
     "name": "stdout",
     "output_type": "stream",
     "text": [
      "10\n",
      "9\n",
      "8\n",
      "7\n",
      "6\n",
      "5\n",
      "4\n",
      "3\n",
      "2\n",
      "1\n"
     ]
    }
   ],
   "source": [
    "#i=10\n",
    "#while i>=1:   \n",
    " #   print(i)\n",
    "  #  i=i-1   \n",
    "\n",
    "i=10\n",
    "while True:\n",
    "    print(i)\n",
    "    i=i-1 \n",
    "    if i==0:\n",
    "        break"
   ]
  },
  {
   "cell_type": "code",
   "execution_count": 6,
   "id": "2a3c4049-20a2-4e6f-afa6-2cdb8dc2963a",
   "metadata": {},
   "outputs": [
    {
     "name": "stdin",
     "output_type": "stream",
     "text": [
      " 4\n"
     ]
    },
    {
     "name": "stdout",
     "output_type": "stream",
     "text": [
      "fail\n"
     ]
    },
    {
     "name": "stdin",
     "output_type": "stream",
     "text": [
      " 4\n"
     ]
    },
    {
     "name": "stdout",
     "output_type": "stream",
     "text": [
      "fail\n"
     ]
    },
    {
     "name": "stdin",
     "output_type": "stream",
     "text": [
      " 4\n"
     ]
    },
    {
     "name": "stdout",
     "output_type": "stream",
     "text": [
      "won\n"
     ]
    }
   ],
   "source": [
    "import random\n",
    "while True:\n",
    "    num1=random.randint(1,10)\n",
    "    num2=eval(input())\n",
    "    if num1==num2:\n",
    "        print('won')\n",
    "        break\n",
    "    else:\n",
    "        print('fail')"
   ]
  },
  {
   "cell_type": "code",
   "execution_count": 8,
   "id": "f81675ee-91e4-4479-8b5a-b93a7a758ae6",
   "metadata": {},
   "outputs": [
    {
     "name": "stdin",
     "output_type": "stream",
     "text": [
      " 4\n"
     ]
    },
    {
     "name": "stdout",
     "output_type": "stream",
     "text": [
      "fail\n"
     ]
    },
    {
     "name": "stdin",
     "output_type": "stream",
     "text": [
      " 4\n"
     ]
    },
    {
     "name": "stdout",
     "output_type": "stream",
     "text": [
      "fail\n"
     ]
    },
    {
     "name": "stdin",
     "output_type": "stream",
     "text": [
      " 4\n"
     ]
    },
    {
     "name": "stdout",
     "output_type": "stream",
     "text": [
      "fail\n"
     ]
    }
   ],
   "source": [
    "import random\n",
    "i=1\n",
    "while i<=3:\n",
    "    num1=random.randint(1,10)\n",
    "    num2=eval(input())\n",
    "    if num1==num2:\n",
    "        print('won')\n",
    "        break\n",
    "    else:\n",
    "        print('fail')\n",
    "    i=i+1"
   ]
  },
  {
   "cell_type": "code",
   "execution_count": null,
   "id": "7d20a35f-89b0-4fbe-ae0d-dbcf65d3db52",
   "metadata": {},
   "outputs": [],
   "source": [
    "# go to lab\n",
    "# complete all for loop qns using while loop\n",
    "# i con in"
   ]
  }
 ],
 "metadata": {
  "kernelspec": {
   "display_name": "Python 3 (ipykernel)",
   "language": "python",
   "name": "python3"
  },
  "language_info": {
   "codemirror_mode": {
    "name": "ipython",
    "version": 3
   },
   "file_extension": ".py",
   "mimetype": "text/x-python",
   "name": "python",
   "nbconvert_exporter": "python",
   "pygments_lexer": "ipython3",
   "version": "3.12.7"
  }
 },
 "nbformat": 4,
 "nbformat_minor": 5
}
