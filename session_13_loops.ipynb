{
 "cells": [
  {
   "cell_type": "markdown",
   "id": "6c19eef6-d48f-4643-8cf9-afeaf3bdc0df",
   "metadata": {},
   "source": [
    "**Loops**\n",
    "\n",
    "- Loops are used to iterate the code multiple times\n",
    "- functions are used to reuse the code Block\n",
    "- that code block can be repeted multiple times\n",
    "- whenever you are doing same task multiple times then think about loop\n",
    "- we have two loops\n",
    "   - for loop\n",
    "   - while loop\n",
    "- Any loop we need three things\n",
    "   - Intialization(start point)\n",
    "   - increment or decrement\n",
    "   - Condition to stop"
   ]
  },
  {
   "cell_type": "markdown",
   "id": "082b9eb9-4f43-4ff7-972a-6286bb764d7c",
   "metadata": {},
   "source": [
    "**For loop**"
   ]
  },
  {
   "cell_type": "code",
   "execution_count": null,
   "id": "52e07c7d-d50e-4f0b-ae9d-71f7d58cf1ff",
   "metadata": {},
   "outputs": [],
   "source": [
    "for <variable> in range(<number>):\n",
    "    <write your code here>"
   ]
  },
  {
   "cell_type": "code",
   "execution_count": 1,
   "id": "2ae0a955-f025-4376-93a5-86b851656591",
   "metadata": {},
   "outputs": [
    {
     "name": "stdout",
     "output_type": "stream",
     "text": [
      "0\n",
      "1\n",
      "2\n",
      "3\n",
      "4\n"
     ]
    }
   ],
   "source": [
    "for i  in range(5): # vartical\n",
    "    print(i) "
   ]
  },
  {
   "cell_type": "code",
   "execution_count": 3,
   "id": "2cee48e8-b14a-4bf7-861c-d5cb6b78b33e",
   "metadata": {},
   "outputs": [
    {
     "name": "stdout",
     "output_type": "stream",
     "text": [
      "0 1 2 3 4 "
     ]
    }
   ],
   "source": [
    "for i in range(5):\n",
    "    print(i,end=' ') #horizental"
   ]
  },
  {
   "cell_type": "markdown",
   "id": "47d5413a-4853-45a2-bda0-e64d8e68408b",
   "metadata": {},
   "source": [
    "**case-1:range(stop)**\n",
    "\n",
    "- satrt=0: python index always starts with zero\n",
    "- increment by 1\n",
    "- last=stop-1"
   ]
  },
  {
   "cell_type": "code",
   "execution_count": 4,
   "id": "5501716d-cdd8-414f-9eda-a6e68a312d8c",
   "metadata": {},
   "outputs": [
    {
     "name": "stdout",
     "output_type": "stream",
     "text": [
      "0 1 2 3 4 5 6 7 8 9 "
     ]
    }
   ],
   "source": [
    "for i in range(10):\n",
    "    print(i,end=' ') \n"
   ]
  },
  {
   "cell_type": "code",
   "execution_count": 5,
   "id": "6fd808bb-c07e-423e-b75a-948d5075f90b",
   "metadata": {},
   "outputs": [
    {
     "name": "stdout",
     "output_type": "stream",
     "text": [
      "good morning\n",
      "good morning\n",
      "good morning\n"
     ]
    }
   ],
   "source": [
    "print('good morning')\n",
    "print('good morning')\n",
    "print('good morning')"
   ]
  },
  {
   "cell_type": "code",
   "execution_count": 6,
   "id": "a493cc20-aaa4-45ef-9460-dfb9d04990c0",
   "metadata": {},
   "outputs": [
    {
     "name": "stdout",
     "output_type": "stream",
     "text": [
      "good morning\n",
      "good morning\n",
      "good morning\n"
     ]
    }
   ],
   "source": [
    "for anything in range(3):\n",
    "    print('good morning')"
   ]
  },
  {
   "cell_type": "markdown",
   "id": "e83ccfd8-cb7e-47cf-8e24-76d564f02a37",
   "metadata": {},
   "source": [
    "**case-2:range(start,stop)**\n",
    "\n",
    "- suppose I want to start my loop with a particular number\n",
    "- then add start also inside range\n",
    "-start=start\n",
    "-increment by 1\n",
    "- last=stop-1\n",
    "#range(10,20)\n",
    "- start=10,increment by1,last=20-1=19"
   ]
  },
  {
   "cell_type": "code",
   "execution_count": 7,
   "id": "da74c37b-bc97-4105-a937-31065b64050a",
   "metadata": {},
   "outputs": [
    {
     "name": "stdout",
     "output_type": "stream",
     "text": [
      "10 11 12 13 14 15 16 17 18 19 "
     ]
    }
   ],
   "source": [
    "for i in range(10,20):\n",
    "    print(i,end=' ')"
   ]
  },
  {
   "cell_type": "code",
   "execution_count": 1,
   "id": "7c355711-9e8e-4771-a2ac-7b995b11d5e4",
   "metadata": {},
   "outputs": [
    {
     "name": "stdout",
     "output_type": "stream",
     "text": [
      "the square of 1is:1\n",
      "the square of 2is:4\n",
      "the square of 3is:9\n",
      "the square of 4is:16\n",
      "the square of 5is:25\n"
     ]
    }
   ],
   "source": [
    "#Q1) wap ask the user print the square first 5 number\n",
    "# square of 1 is 1\n",
    "# square of 2 is 4\n",
    "# so on\n",
    "\n",
    "for i in range(1,6):\n",
    "    print(f\"the square of {i}is:{i*i}\")"
   ]
  },
  {
   "cell_type": "code",
   "execution_count": 10,
   "id": "2df7827b-d6b0-4e67-94e9-3a1ece020a5d",
   "metadata": {},
   "outputs": [
    {
     "name": "stdin",
     "output_type": "stream",
     "text": [
      "enter the number 12\n"
     ]
    },
    {
     "name": "stdout",
     "output_type": "stream",
     "text": [
      "the promt should 12square oth number:144\n"
     ]
    },
    {
     "name": "stdin",
     "output_type": "stream",
     "text": [
      "enter the number 1\n"
     ]
    },
    {
     "name": "stdout",
     "output_type": "stream",
     "text": [
      "the promt should 1square oth number:1\n"
     ]
    },
    {
     "name": "stdin",
     "output_type": "stream",
     "text": [
      "enter the number 3\n"
     ]
    },
    {
     "name": "stdout",
     "output_type": "stream",
     "text": [
      "the promt should 3square oth number:9\n"
     ]
    },
    {
     "name": "stdin",
     "output_type": "stream",
     "text": [
      "enter the number 4\n"
     ]
    },
    {
     "name": "stdout",
     "output_type": "stream",
     "text": [
      "the promt should 4square oth number:16\n"
     ]
    }
   ],
   "source": [
    "#Q2) wap ask the user enter a number the prompt should happen 5 ties\n",
    "# and print the square of the number\n",
    "\n",
    "for i in range(1,5):\n",
    "    num=eval(input('enter the number'))\n",
    "    print(f\"the promt should {num}square oth number:{num*num}\")\n"
   ]
  },
  {
   "cell_type": "code",
   "execution_count": 13,
   "id": "38f39016-035c-487f-9137-0711dca954da",
   "metadata": {},
   "outputs": [
    {
     "name": "stdin",
     "output_type": "stream",
     "text": [
      "enter the number 1\n"
     ]
    },
    {
     "name": "stdout",
     "output_type": "stream",
     "text": [
      "the promt should 1square oth number:1\n"
     ]
    },
    {
     "name": "stdin",
     "output_type": "stream",
     "text": [
      "enter the number 2\n"
     ]
    },
    {
     "name": "stdout",
     "output_type": "stream",
     "text": [
      "the promt should 2square oth number:4\n"
     ]
    },
    {
     "name": "stdin",
     "output_type": "stream",
     "text": [
      "enter the number 3\n"
     ]
    },
    {
     "name": "stdout",
     "output_type": "stream",
     "text": [
      "the promt should 3square oth number:9\n"
     ]
    },
    {
     "name": "stdin",
     "output_type": "stream",
     "text": [
      "enter the number 4\n"
     ]
    },
    {
     "name": "stdout",
     "output_type": "stream",
     "text": [
      "the promt should 4square oth number:16\n"
     ]
    }
   ],
   "source": [
    "def square():\n",
    "        num=eval(input('enter the number'))\n",
    "        print(f\"the promt should {num}square oth number:{num*num}\")\n",
    "for i in range(1,5):\n",
    "     square()\n",
    "        "
   ]
  },
  {
   "cell_type": "markdown",
   "id": "f69dfd97-f6c1-4d14-aa2b-8b8bcd53d232",
   "metadata": {},
   "source": [
    "**case-3:range(start,stop,step)**\n",
    "\n",
    "- start=start only\n",
    "- step:\n",
    "     - look about step sign is it positive or negative\n",
    "     - positive means increment\n",
    "          - last:stop-1\n",
    "     - negative means decrement\n",
    "          - last:stop+1\n",
    "     "
   ]
  },
  {
   "cell_type": "code",
   "execution_count": 14,
   "id": "e93221d0-cf30-4c15-b683-2472197158b7",
   "metadata": {},
   "outputs": [
    {
     "name": "stdout",
     "output_type": "stream",
     "text": [
      "3 5 7 9 11 13 15 17 19 "
     ]
    }
   ],
   "source": [
    "# exm-1: range(3,20,2)\n",
    "# start=3\n",
    "# step=+2 increment\n",
    "# last = 20-1=19\n",
    "for i in range(3,20,2):\n",
    "    print(i,end=' ')"
   ]
  },
  {
   "cell_type": "code",
   "execution_count": 15,
   "id": "281cd4d4-88e6-4901-8153-f0ba2821cef8",
   "metadata": {},
   "outputs": [],
   "source": [
    "# exm-2: range(3,20,-2)\n",
    "# start=3\n",
    "# step=-2 decrement\n",
    "# last = 20-1=19\n",
    "for i in range(3,20,-2):\n",
    "    print(i,end=' ')"
   ]
  },
  {
   "cell_type": "code",
   "execution_count": 16,
   "id": "6c7ae676-21b5-4ccc-9157-e626d97256f1",
   "metadata": {},
   "outputs": [
    {
     "name": "stdout",
     "output_type": "stream",
     "text": [
      "3 1 -1 -3 -5 -7 -9 -11 -13 -15 -17 -19 "
     ]
    }
   ],
   "source": [
    "# exm-2: range(3,-20,-2)\n",
    "# start=3\n",
    "# step=-2 decrement\n",
    "# last = -20+1=-19\n",
    "for i in range(3,-20,-2):\n",
    "    print(i,end=' ')"
   ]
  },
  {
   "cell_type": "code",
   "execution_count": 29,
   "id": "44c8d94f-a65e-4dd5-8859-c1ffb1e0c5ed",
   "metadata": {},
   "outputs": [
    {
     "name": "stdout",
     "output_type": "stream",
     "text": [
      "-3 -5 -7 -9 -11 -13 -15 -17 -19 "
     ]
    }
   ],
   "source": [
    "# exm-2: range(-3,20,-2)\n",
    "# start=-3\n",
    "# step=-2 decrement\n",
    "# last = -20+1=-19\n",
    "for i in range(-3,-20,-2):\n",
    "    print(i,end=' ')"
   ]
  },
  {
   "cell_type": "code",
   "execution_count": 2,
   "id": "6a7eff2a-fcbd-456c-b0b7-9cb46eb926b2",
   "metadata": {},
   "outputs": [
    {
     "name": "stdout",
     "output_type": "stream",
     "text": [
      "20 10 0 -10 "
     ]
    }
   ],
   "source": [
    "#Q3)\n",
    "for i in range(20,-20,-10):\n",
    "    print(i,end=' ')\n"
   ]
  },
  {
   "cell_type": "code",
   "execution_count": 3,
   "id": "46bad546-8b16-480a-ba70-d2a3de08df25",
   "metadata": {},
   "outputs": [
    {
     "name": "stdin",
     "output_type": "stream",
     "text": [
      "enter the table number: 7\n"
     ]
    },
    {
     "name": "stdout",
     "output_type": "stream",
     "text": [
      "7\n",
      "14\n",
      "21\n",
      "28\n",
      "35\n",
      "42\n",
      "49\n",
      "56\n",
      "63\n",
      "70\n"
     ]
    }
   ],
   "source": [
    "#q-4) print the 7th table              (only equal to)\n",
    "# 7*1=7\n",
    "# 7*2=14\n",
    "num=eval(input(\"enter the table number:\"))\n",
    "for i in range(1,11):\n",
    "    print(num*i)"
   ]
  },
  {
   "cell_type": "code",
   "execution_count": 4,
   "id": "8d5223f3-2903-43d9-94c5-493ba4cfa864",
   "metadata": {},
   "outputs": [
    {
     "name": "stdin",
     "output_type": "stream",
     "text": [
      "enter the table number: 7\n"
     ]
    },
    {
     "name": "stdout",
     "output_type": "stream",
     "text": [
      "7x1=7\n",
      "7x2=14\n",
      "7x3=21\n",
      "7x4=28\n",
      "7x5=35\n",
      "7x6=42\n",
      "7x7=49\n",
      "7x8=56\n",
      "7x9=63\n",
      "7x10=70\n"
     ]
    }
   ],
   "source": [
    "#Q4)\n",
    "num=eval(input(\"enter the table number:\"))  # (7th table)\n",
    "for i in range(1,11):\n",
    "    print(f\"{num}x{i}={num*i}\")"
   ]
  },
  {
   "cell_type": "code",
   "execution_count": 11,
   "id": "026307f0-ab2f-4389-98be-d3cff976feae",
   "metadata": {},
   "outputs": [
    {
     "name": "stdin",
     "output_type": "stream",
     "text": [
      "which number divisiors you want: 75\n"
     ]
    },
    {
     "name": "stdout",
     "output_type": "stream",
     "text": [
      "1 is a numbver of divis0r:75\n",
      "3 is a numbver of divis0r:75\n",
      "5 is a numbver of divis0r:75\n",
      "15 is a numbver of divis0r:75\n",
      "25 is a numbver of divis0r:75\n",
      "75 is a numbver of divis0r:75\n"
     ]
    }
   ],
   "source": [
    "#Q5) find number of divisors of 75\n",
    "# if you divide 75 with any number the reminder\n",
    "# 75%1==0\n",
    "# 75%2==0\n",
    "\n",
    "\n",
    "num=eval(input(\"which number divisiors you want:\"))\n",
    "\n",
    "for i in range(1,num+1):\n",
    "    if num%i==0:\n",
    "        print(f\"{i} is a numbver of divis0r:{num}\")\n",
    "    "
   ]
  },
  {
   "cell_type": "code",
   "execution_count": null,
   "id": "1c39f1cc-d6de-4462-b341-fd0e6976f0f3",
   "metadata": {},
   "outputs": [],
   "source": [
    "# Q6) sum of first 10 natural numbers\n",
    "# natural: starts from 1 \n",
    "# 1+2+3+4+5+6+7+8+9+10=55\n",
    "# n(n+1)/2\n",
    "# 0+1=1\n",
    "#1+2=2"
   ]
  },
  {
   "cell_type": "markdown",
   "id": "80019663-2077-4000-810b-cb18b1051c7a",
   "metadata": {},
   "source": [
    "**summation wrapper**\n",
    "- starting we instilise the sum value=0\n",
    "- inside loop we will add a simple lone: summ=summ+i\n",
    "- summ=0\n",
    "-  for loop\n",
    "  - summ=summ+i"
   ]
  },
  {
   "cell_type": "code",
   "execution_count": 20,
   "id": "93779634-e43e-4a62-9fbb-b2d1b8d78f0a",
   "metadata": {},
   "outputs": [
    {
     "name": "stdout",
     "output_type": "stream",
     "text": [
      "1\n",
      "3\n",
      "6\n",
      "10\n",
      "15\n",
      "21\n",
      "28\n",
      "36\n",
      "45\n",
      "55\n"
     ]
    }
   ],
   "source": [
    "summ=0\n",
    "for i in range(1,11):\n",
    "    summ=summ+i\n",
    "    print(summ)"
   ]
  },
  {
   "cell_type": "code",
   "execution_count": 13,
   "id": "99dcdf83-0f53-4108-bc27-6de928f417df",
   "metadata": {},
   "outputs": [
    {
     "name": "stdout",
     "output_type": "stream",
     "text": [
      "55\n"
     ]
    }
   ],
   "source": [
    "summ=0\n",
    "for i in range(1,11):\n",
    "    summ=summ+i\n",
    "print(summ)"
   ]
  },
  {
   "cell_type": "code",
   "execution_count": 14,
   "id": "468792dc-74c5-4aab-a3e5-c35b7e8cc096",
   "metadata": {},
   "outputs": [
    {
     "name": "stdout",
     "output_type": "stream",
     "text": [
      "0\n",
      "1\n",
      "2\n",
      "3\n"
     ]
    }
   ],
   "source": [
    "for val in range(4):\n",
    "    print(val)"
   ]
  },
  {
   "cell_type": "code",
   "execution_count": 15,
   "id": "7121f598-34a8-43b8-b1f1-d4a047b79f15",
   "metadata": {},
   "outputs": [
    {
     "data": {
      "text/plain": [
       "3"
      ]
     },
     "execution_count": 15,
     "metadata": {},
     "output_type": "execute_result"
    }
   ],
   "source": [
    "val"
   ]
  },
  {
   "cell_type": "code",
   "execution_count": 21,
   "id": "1097c333-71c9-4522-a6c4-7ee6837af99a",
   "metadata": {},
   "outputs": [
    {
     "name": "stdin",
     "output_type": "stream",
     "text": [
      "enter the num: 75\n"
     ]
    },
    {
     "name": "stdout",
     "output_type": "stream",
     "text": [
      "1\n",
      "3\n",
      "5\n",
      "15\n",
      "25\n",
      "75\n",
      "124\n"
     ]
    }
   ],
   "source": [
    "# Q7) find the sum of divisors of 75\n",
    "# 75: 1,3,5,15,25,75\n",
    "#   1+3+5+15+25+75\n",
    "summ=0\n",
    "num=eval(input(\"enter the num:\"))\n",
    "\n",
    "for i in range(1,76):\n",
    "    if 75%i==0:\n",
    "        print(i)\n",
    "        summ=summ+i\n",
    "print(summ)"
   ]
  },
  {
   "cell_type": "markdown",
   "id": "68e9019a-4783-499f-88d4-e38437550824",
   "metadata": {},
   "source": [
    "**counter wraper**\n",
    "\n",
    "- counter means counting the success ones\n",
    "- count=0\n",
    "- for loop\n",
    "   - count=count+1"
   ]
  },
  {
   "cell_type": "code",
   "execution_count": 5,
   "id": "d8ec9dc7-d8bd-420f-86a5-2e8272aaf332",
   "metadata": {},
   "outputs": [
    {
     "name": "stdin",
     "output_type": "stream",
     "text": [
      "enter the num: 75\n"
     ]
    },
    {
     "name": "stdout",
     "output_type": "stream",
     "text": [
      "1\n",
      "3\n",
      "5\n",
      "15\n",
      "25\n",
      "75\n",
      "the number of divisore: 6\n"
     ]
    }
   ],
   "source": [
    "# Q8) find the number of divisors of 75\n",
    "\n",
    "num=eval(input('enter the num:'))\n",
    "count=0\n",
    "for i in range(1,76):\n",
    "    if num%i==0:\n",
    "        print(i)\n",
    "        count=count+1\n",
    "print(\"the number of divisore:\",count)"
   ]
  },
  {
   "cell_type": "code",
   "execution_count": 30,
   "id": "87c8b723-9930-4ca7-9dde-a0e8208b3727",
   "metadata": {},
   "outputs": [
    {
     "name": "stdout",
     "output_type": "stream",
     "text": [
      "100 is an even\n",
      "100 is an even\n",
      "37 is an odd\n",
      "52 is an even\n",
      "51 is an odd\n",
      "3\n",
      "252\n",
      "2\n",
      "88\n"
     ]
    }
   ],
   "source": [
    "# Q9)\n",
    "\n",
    "# ask the get 5 random numbers\n",
    "# means you need a get a random number inside for loop\n",
    "# the loop should run 5 times\n",
    "# now perform the even and odd opeation\n",
    "# 1) even count #2) sum of even numbers 3) odd count 4) sum of add numbers\n",
    "import random\n",
    "even_count=0\n",
    "odd_count=0\n",
    "summ_even=0\n",
    "summ_odd=0\n",
    "for i in range(5):\n",
    "    num=random.randint(1,100)\n",
    "    if num%2==0:\n",
    "        print(f\"{num} is an even\")\n",
    "        even_count=even_count+1\n",
    "        summ_even=summ_even+num\n",
    "    else:\n",
    "        print(f\"{num} is an odd\")\n",
    "        odd_count=odd_count+1\n",
    "        summ_odd=summ_odd+num\n",
    "print( even_count)\n",
    "print(summ_even)\n",
    "print(odd_count)\n",
    "print(summ_odd)"
   ]
  },
  {
   "cell_type": "code",
   "execution_count": 31,
   "id": "3f32e96a-2d80-4c09-85ee-a388663027eb",
   "metadata": {},
   "outputs": [
    {
     "name": "stdout",
     "output_type": "stream",
     "text": [
      "14 is an even\n",
      "36 is an even\n",
      "89 is an odd\n",
      "68 is an even\n",
      "40 is an even\n"
     ]
    }
   ],
   "source": [
    "import random\n",
    "even_count=0\n",
    "for i in range(5):\n",
    "    num=random.randint(1,100)\n",
    "    if num%2==0:\n",
    "        print(f\"{num} is an even\")\n",
    "    else:\n",
    "        print(f\"{num} is an odd\")"
   ]
  },
  {
   "cell_type": "code",
   "execution_count": 32,
   "id": "c55714f0-2e19-46be-b191-9d8124bf2890",
   "metadata": {},
   "outputs": [
    {
     "name": "stdin",
     "output_type": "stream",
     "text": [
      "enter the num 17\n"
     ]
    },
    {
     "name": "stdout",
     "output_type": "stream",
     "text": [
      "better the next time\n"
     ]
    },
    {
     "name": "stdin",
     "output_type": "stream",
     "text": [
      "enter the num 43\n"
     ]
    },
    {
     "name": "stdout",
     "output_type": "stream",
     "text": [
      "better the next time\n"
     ]
    },
    {
     "name": "stdin",
     "output_type": "stream",
     "text": [
      "enter the num 2\n"
     ]
    },
    {
     "name": "stdout",
     "output_type": "stream",
     "text": [
      "better the next time\n"
     ]
    }
   ],
   "source": [
    "# Q10) Game program\n",
    "# user enter one num\n",
    "# another number will generate randomly\n",
    "# if both numbers are equal then you won\n",
    "# otherwise you lost\n",
    "# i want to give 3 chances\n",
    "\n",
    "# for loop\n",
    "#   num1=random\n",
    "#   num2= user keybaord\n",
    "#   if num1==num2\n",
    "#     print won\n",
    "#  else\n",
    "#    print fail\n",
    "for i in range(3):\n",
    "    n1=random.randint(1,10)\n",
    "    n2=eval(input('enter the num'))\n",
    "    if n1==n2:\n",
    "        print('you won')\n",
    "        break\n",
    "    else:\n",
    "        print('better the next time')"
   ]
  },
  {
   "cell_type": "code",
   "execution_count": 39,
   "id": "5b64fcc6-e673-43c1-96a2-d6050e8083ed",
   "metadata": {},
   "outputs": [
    {
     "name": "stdin",
     "output_type": "stream",
     "text": [
      "enter the num(1-10): 3\n"
     ]
    },
    {
     "name": "stdout",
     "output_type": "stream",
     "text": [
      "better the next time\n",
      "how many chances you left:1\n"
     ]
    },
    {
     "name": "stdin",
     "output_type": "stream",
     "text": [
      "enter the num(1-10): 5\n"
     ]
    },
    {
     "name": "stdout",
     "output_type": "stream",
     "text": [
      "better the next time\n",
      "how many chances you left:0\n"
     ]
    }
   ],
   "source": [
    "# case-1 we apply the break ===completed\n",
    "# case-2 whenever the user enter the wrong answ\n",
    "#         better luck next time\n",
    "#      how many chances you are left\n",
    "\n",
    "# case-3 if you l0st all the chance it should print try after 24 hours,\n",
    "# dont give time.sleep\n",
    "############################\n",
    "#case-2)\n",
    "for i in range(1,3):\n",
    "    n1=random.randint(1,10)\n",
    "    n2=eval(input('enter the num(1-10):'))\n",
    "    if n1==n2:\n",
    "        print('you won')\n",
    "        break\n",
    "    else:\n",
    "        print('better the next time')\n",
    "        print(f'how many chances you left:{2-i}')"
   ]
  },
  {
   "cell_type": "code",
   "execution_count": 43,
   "id": "e69fde3f-e2c6-4963-b791-99d9ba538cbb",
   "metadata": {},
   "outputs": [
    {
     "name": "stdout",
     "output_type": "stream",
     "text": [
      "you have 3 chances\n"
     ]
    },
    {
     "name": "stdin",
     "output_type": "stream",
     "text": [
      "enter the num(1-10): 3\n"
     ]
    },
    {
     "name": "stdout",
     "output_type": "stream",
     "text": [
      "better the next time\n",
      "remaining you have 2 chances\n"
     ]
    },
    {
     "name": "stdin",
     "output_type": "stream",
     "text": [
      "enter the num(1-10): 4\n"
     ]
    },
    {
     "name": "stdout",
     "output_type": "stream",
     "text": [
      "better the next time\n",
      "remaining you have 1 chances\n"
     ]
    },
    {
     "name": "stdin",
     "output_type": "stream",
     "text": [
      "enter the num(1-10): 8\n"
     ]
    },
    {
     "name": "stdout",
     "output_type": "stream",
     "text": [
      "better the next time\n",
      "remaining you have 0 chances\n",
      "please try after 24 hours\n"
     ]
    }
   ],
   "source": [
    "#case-3)\n",
    "import random\n",
    "count=3\n",
    "print('you have 3 chances')\n",
    "for i in range(1,4):\n",
    "    n3=random.randint(1,10)\n",
    "    n4=eval(input('enter the num(1-10):'))\n",
    "    if n3==n4:\n",
    "        print('you won')\n",
    "        break\n",
    "    else:\n",
    "        print('better the next time')\n",
    "        count=count-1\n",
    "        print(f'remaining you have {count} chances')\n",
    "print(\"please try after 24 hours\")\n",
    "        "
   ]
  },
  {
   "cell_type": "markdown",
   "id": "d1bc8529-32d1-44be-ae19-47b3e3abc66f",
   "metadata": {},
   "source": [
    "**in**"
   ]
  },
  {
   "cell_type": "markdown",
   "id": "d132329e-4cb9-43c3-9d23-1759229ecd7d",
   "metadata": {},
   "source": [
    "- in for loop we have range and in operators\n",
    "\n",
    "- range is math related word, whenever we use range it expects a number inside range\n",
    "\n",
    "- in operator expects a string "
   ]
  },
  {
   "cell_type": "code",
   "execution_count": 1,
   "id": "d777bca1-5011-4822-8471-7913e18c39f3",
   "metadata": {},
   "outputs": [
    {
     "name": "stdout",
     "output_type": "stream",
     "text": [
      "0 1 2 3 4 5 6 7 8 9 "
     ]
    }
   ],
   "source": [
    "for i in range(10):\n",
    "    print(i,end=' ')"
   ]
  },
  {
   "cell_type": "code",
   "execution_count": 2,
   "id": "be9c0333-32b5-4654-a806-16149d0a6c54",
   "metadata": {},
   "outputs": [
    {
     "ename": "TypeError",
     "evalue": "'str' object cannot be interpreted as an integer",
     "output_type": "error",
     "traceback": [
      "\u001b[1;31m---------------------------------------------------------------------------\u001b[0m",
      "\u001b[1;31mTypeError\u001b[0m                                 Traceback (most recent call last)",
      "Cell \u001b[1;32mIn[2], line 1\u001b[0m\n\u001b[1;32m----> 1\u001b[0m \u001b[38;5;28;01mfor\u001b[39;00m i \u001b[38;5;129;01min\u001b[39;00m \u001b[38;5;28mrange\u001b[39m(\u001b[38;5;124m'\u001b[39m\u001b[38;5;124mpython\u001b[39m\u001b[38;5;124m'\u001b[39m):\n\u001b[0;32m      2\u001b[0m     \u001b[38;5;28mprint\u001b[39m(i,end\u001b[38;5;241m=\u001b[39m\u001b[38;5;124m'\u001b[39m\u001b[38;5;124m \u001b[39m\u001b[38;5;124m'\u001b[39m)\n",
      "\u001b[1;31mTypeError\u001b[0m: 'str' object cannot be interpreted as an integer"
     ]
    }
   ],
   "source": [
    "for i in range('python'):\n",
    "    print(i,end=' ')"
   ]
  },
  {
   "cell_type": "code",
   "execution_count": 3,
   "id": "7fc9d8e2-7aa5-4261-9458-b6d2545638fc",
   "metadata": {},
   "outputs": [
    {
     "name": "stdout",
     "output_type": "stream",
     "text": [
      "p y t h o n "
     ]
    }
   ],
   "source": [
    "for i in 'python':\n",
    "    print(i,end=' ')"
   ]
  },
  {
   "cell_type": "code",
   "execution_count": 4,
   "id": "f3ec2cee-78b5-4889-b1e3-7f28ecaa4ecf",
   "metadata": {},
   "outputs": [
    {
     "data": {
      "text/plain": [
       "True"
      ]
     },
     "execution_count": 4,
     "metadata": {},
     "output_type": "execute_result"
    }
   ],
   "source": [
    "'p' in 'python'\n",
    "\n",
    "'y' in 'python'\n",
    "\n",
    "'t' in 'python'\n",
    "\n",
    "'h' in 'python'\n",
    "\n",
    "'o' in 'python'\n",
    "\n",
    "'n' in 'python'\n",
    "\n",
    "i in 'python'"
   ]
  },
  {
   "cell_type": "code",
   "execution_count": null,
   "id": "149eb07d-2a75-4b47-a6a6-fbf3735cf570",
   "metadata": {},
   "outputs": [],
   "source": [
    "'A'=='a'  # F  sense\n",
    "'A'>'a'   # T  make double sense\n",
    "'A'<'a'   # F"
   ]
  },
  {
   "cell_type": "markdown",
   "id": "a2653b19-1bbd-4e26-ad51-2bfd0fe36b05",
   "metadata": {},
   "source": [
    "**ASCII**\n",
    "\n",
    "- AMERICAN STANDARD CODE FOR INFORMATION INTERCHANGE"
   ]
  },
  {
   "cell_type": "code",
   "execution_count": 5,
   "id": "b47c8457-d703-4c3e-a686-90efb26d02f1",
   "metadata": {},
   "outputs": [
    {
     "data": {
      "text/plain": [
       "False"
      ]
     },
     "execution_count": 5,
     "metadata": {},
     "output_type": "execute_result"
    }
   ],
   "source": [
    "#'A' ==== 65\n",
    "#'a' ==== 97\n",
    "\n",
    "'A'>'a'   # 65>97 "
   ]
  },
  {
   "cell_type": "markdown",
   "id": "02fb6760-c8ab-4045-b4c7-4f775e79f038",
   "metadata": {},
   "source": [
    "- How to convert char to number\n",
    "\n",
    "- How to convert number to char"
   ]
  },
  {
   "cell_type": "markdown",
   "id": "a6b394fc-c873-431e-a2fb-1d6ff8a50fd6",
   "metadata": {},
   "source": [
    "**char-ord**"
   ]
  },
  {
   "cell_type": "code",
   "execution_count": 6,
   "id": "836310b5-ff78-4fa8-bc10-27eb85ed3689",
   "metadata": {},
   "outputs": [
    {
     "data": {
      "text/plain": [
       "65"
      ]
     },
     "execution_count": 6,
     "metadata": {},
     "output_type": "execute_result"
    }
   ],
   "source": [
    "ord('A')"
   ]
  },
  {
   "cell_type": "code",
   "execution_count": 7,
   "id": "47df1d1f-d75d-4a56-b70f-a2628159e002",
   "metadata": {},
   "outputs": [
    {
     "data": {
      "text/plain": [
       "'A'"
      ]
     },
     "execution_count": 7,
     "metadata": {},
     "output_type": "execute_result"
    }
   ],
   "source": [
    "chr(65)"
   ]
  },
  {
   "cell_type": "markdown",
   "id": "034040c3-789e-4bf6-9d56-df7086e72f1c",
   "metadata": {},
   "source": [
    "- so **ord** converting char to number\n",
    "\n",
    "- **chr** converting number to char"
   ]
  },
  {
   "cell_type": "code",
   "execution_count": 8,
   "id": "691c1b39-ba4b-4ad0-a4ee-fcfc29face3e",
   "metadata": {},
   "outputs": [
    {
     "data": {
      "text/plain": [
       "110"
      ]
     },
     "execution_count": 8,
     "metadata": {},
     "output_type": "execute_result"
    }
   ],
   "source": [
    "# wap ask the user get the ASCII number A to Z\n",
    "# print: A:65\n",
    "#        B:66\n",
    "ord('A')\n",
    "ord('B')\n",
    "\n",
    "ord(i)\n",
    "\n",
    "# i will pass the letter you tell me number\n",
    "# you are doing i will pass the number and give letter to you"
   ]
  },
  {
   "cell_type": "code",
   "execution_count": 9,
   "id": "6e328061-f3ea-4dd1-adef-c7bccb8fd496",
   "metadata": {},
   "outputs": [
    {
     "name": "stdout",
     "output_type": "stream",
     "text": [
      "65:A\n",
      "66:B\n",
      "67:C\n",
      "68:D\n",
      "69:E\n",
      "70:F\n",
      "71:G\n",
      "72:H\n",
      "73:I\n",
      "74:J\n",
      "75:K\n",
      "76:L\n",
      "77:M\n",
      "78:N\n",
      "79:O\n",
      "80:P\n",
      "81:Q\n",
      "82:R\n",
      "83:S\n",
      "84:T\n",
      "85:U\n",
      "86:V\n",
      "87:W\n",
      "88:X\n",
      "89:Y\n",
      "90:Z\n",
      "91:[\n",
      "92:\\\n",
      "93:]\n",
      "94:^\n",
      "95:_\n",
      "96:`\n"
     ]
    }
   ],
   "source": [
    "for i in range(65,97):\n",
    "    print(f'{i}:{chr(i)}')"
   ]
  },
  {
   "cell_type": "code",
   "execution_count": 10,
   "id": "8e5b35e4-f267-4780-832c-95112a7c7ce5",
   "metadata": {},
   "outputs": [
    {
     "name": "stdout",
     "output_type": "stream",
     "text": [
      "A:65\n",
      "B:66\n",
      "C:67\n",
      "D:68\n",
      "E:69\n",
      "F:70\n",
      "G:71\n",
      "H:72\n",
      "I:73\n",
      "J:74\n",
      "K:75\n",
      "L:76\n",
      "M:77\n",
      "N:78\n",
      "O:79\n",
      "P:80\n",
      "Q:81\n",
      "R:82\n",
      "S:83\n",
      "T:84\n",
      "U:85\n",
      "V:86\n",
      "W:87\n",
      "X:88\n",
      "Y:89\n",
      "Z:90\n"
     ]
    }
   ],
   "source": [
    "for i in 'ABCDEFGHIJKLMNOPQRSTUVWXYZ':\n",
    "    print(f'{i}:{ord(i)}')"
   ]
  },
  {
   "cell_type": "markdown",
   "id": "0973dc13-626a-478c-9a5c-acd172a3f0ab",
   "metadata": {},
   "source": [
    "**package: string**"
   ]
  },
  {
   "cell_type": "code",
   "execution_count": 11,
   "id": "28b95f0d-18b5-450a-bef1-b52ef949bef3",
   "metadata": {},
   "outputs": [
    {
     "ename": "SyntaxError",
     "evalue": "invalid syntax (3350155305.py, line 1)",
     "output_type": "error",
     "traceback": [
      "\u001b[1;36m  Cell \u001b[1;32mIn[11], line 1\u001b[1;36m\u001b[0m\n\u001b[1;33m    import <packagename>\u001b[0m\n\u001b[1;37m           ^\u001b[0m\n\u001b[1;31mSyntaxError\u001b[0m\u001b[1;31m:\u001b[0m invalid syntax\n"
     ]
    }
   ],
   "source": [
    "import <packagename>\n",
    "dir(<packagename>)\n",
    "in that A TO Z will be given by one method tell me that"
   ]
  },
  {
   "cell_type": "code",
   "execution_count": 12,
   "id": "26c0d987-1d8a-48a0-a588-d4a68797e005",
   "metadata": {},
   "outputs": [
    {
     "data": {
      "text/plain": [
       "['Formatter',\n",
       " 'Template',\n",
       " '_ChainMap',\n",
       " '__all__',\n",
       " '__builtins__',\n",
       " '__cached__',\n",
       " '__doc__',\n",
       " '__file__',\n",
       " '__loader__',\n",
       " '__name__',\n",
       " '__package__',\n",
       " '__spec__',\n",
       " '_re',\n",
       " '_sentinel_dict',\n",
       " '_string',\n",
       " 'ascii_letters',\n",
       " 'ascii_lowercase',\n",
       " 'ascii_uppercase',\n",
       " 'capwords',\n",
       " 'digits',\n",
       " 'hexdigits',\n",
       " 'octdigits',\n",
       " 'printable',\n",
       " 'punctuation',\n",
       " 'whitespace']"
      ]
     },
     "execution_count": 12,
     "metadata": {},
     "output_type": "execute_result"
    }
   ],
   "source": [
    "import string\n",
    "dir(string)"
   ]
  },
  {
   "cell_type": "code",
   "execution_count": 13,
   "id": "420982ab-f023-47c1-a738-fd2d7047e05c",
   "metadata": {},
   "outputs": [
    {
     "data": {
      "text/plain": [
       "'abcdefghijklmnopqrstuvwxyzABCDEFGHIJKLMNOPQRSTUVWXYZ'"
      ]
     },
     "execution_count": 13,
     "metadata": {},
     "output_type": "execute_result"
    }
   ],
   "source": [
    "string.ascii_letters"
   ]
  },
  {
   "cell_type": "code",
   "execution_count": 14,
   "id": "f43f3093-cfe7-4548-b107-1f5597dd1cae",
   "metadata": {},
   "outputs": [
    {
     "data": {
      "text/plain": [
       "'abcdefghijklmnopqrstuvwxyz'"
      ]
     },
     "execution_count": 14,
     "metadata": {},
     "output_type": "execute_result"
    }
   ],
   "source": [
    "string.ascii_lowercase"
   ]
  },
  {
   "cell_type": "code",
   "execution_count": 15,
   "id": "43378205-9569-41c0-bcb5-f212e3b8bf47",
   "metadata": {},
   "outputs": [
    {
     "data": {
      "text/plain": [
       "'ABCDEFGHIJKLMNOPQRSTUVWXYZ'"
      ]
     },
     "execution_count": 15,
     "metadata": {},
     "output_type": "execute_result"
    }
   ],
   "source": [
    "string.ascii_uppercase"
   ]
  },
  {
   "cell_type": "code",
   "execution_count": 16,
   "id": "46c6457b-275e-4d90-be17-3cf3604a7650",
   "metadata": {},
   "outputs": [
    {
     "data": {
      "text/plain": [
       "'!\"#$%&\\'()*+,-./:;<=>?@[\\\\]^_`{|}~'"
      ]
     },
     "execution_count": 16,
     "metadata": {},
     "output_type": "execute_result"
    }
   ],
   "source": [
    "string.punctuation"
   ]
  },
  {
   "cell_type": "code",
   "execution_count": 17,
   "id": "001bf8e0-6837-433d-b887-778e0360cb1b",
   "metadata": {},
   "outputs": [
    {
     "name": "stdout",
     "output_type": "stream",
     "text": [
      "A:65 B:66 C:67 D:68 E:69 F:70 G:71 H:72 I:73 J:74 K:75 L:76 M:77 N:78 O:79 P:80 Q:81 R:82 S:83 T:84 U:85 V:86 W:87 X:88 Y:89 Z:90 "
     ]
    }
   ],
   "source": [
    "for i in string.ascii_uppercase:\n",
    "    print(f'{i}:{ord(i)}',end=' ')"
   ]
  },
  {
   "cell_type": "code",
   "execution_count": 18,
   "id": "ab63db02-efd0-4017-9b76-14aec27c39cf",
   "metadata": {},
   "outputs": [
    {
     "name": "stdout",
     "output_type": "stream",
     "text": [
      "a:97 b:98 c:99 d:100 e:101 f:102 g:103 h:104 i:105 j:106 k:107 l:108 m:109 n:110 o:111 p:112 q:113 r:114 s:115 t:116 u:117 v:118 w:119 x:120 y:121 z:122 "
     ]
    }
   ],
   "source": [
    "for i in string.ascii_lowercase:\n",
    "    print(f'{i}:{ord(i)}',end=' ')"
   ]
  },
  {
   "cell_type": "code",
   "execution_count": 19,
   "id": "7dbb3a2a-32df-46db-8950-e7166b04033d",
   "metadata": {},
   "outputs": [
    {
     "name": "stdout",
     "output_type": "stream",
     "text": [
      "!:33 \":34 #:35 $:36 %:37 &:38 ':39 (:40 ):41 *:42 +:43 ,:44 -:45 .:46 /:47 ::58 ;:59 <:60 =:61 >:62 ?:63 @:64 [:91 \\:92 ]:93 ^:94 _:95 `:96 {:123 |:124 }:125 ~:126 "
     ]
    }
   ],
   "source": [
    "for i in string.punctuation:\n",
    "    print(f'{i}:{ord(i)}',end=' ')"
   ]
  },
  {
   "cell_type": "code",
   "execution_count": 20,
   "id": "a1fd1963-1a1a-4d2c-93bd-b658dddd0108",
   "metadata": {},
   "outputs": [
    {
     "data": {
      "text/plain": [
       "range(33, 127)"
      ]
     },
     "execution_count": 20,
     "metadata": {},
     "output_type": "execute_result"
    }
   ],
   "source": [
    "range(33,127)"
   ]
  },
  {
   "cell_type": "code",
   "execution_count": 21,
   "id": "ca41fc57-7f2c-41e6-834e-845cf5dd2ade",
   "metadata": {},
   "outputs": [
    {
     "name": "stdout",
     "output_type": "stream",
     "text": [
      "33:! 34:\" 35:# 36:$ 37:% 38:& 39:' 40:( 41:) 42:* 43:+ 44:, 45:- 46:. 47:/ 48:0 49:1 50:2 51:3 52:4 53:5 54:6 55:7 56:8 57:9 58:: 59:; 60:< 61:= 62:> 63:? 64:@ 65:A 66:B 67:C 68:D 69:E 70:F 71:G 72:H 73:I 74:J 75:K 76:L 77:M 78:N 79:O 80:P 81:Q 82:R 83:S 84:T 85:U 86:V 87:W 88:X 89:Y 90:Z 91:[ 92:\\ 93:] 94:^ 95:_ 96:` 97:a 98:b 99:c 100:d 101:e 102:f 103:g 104:h 105:i 106:j 107:k 108:l 109:m 110:n 111:o 112:p 113:q 114:r 115:s 116:t 117:u 118:v 119:w 120:x 121:y 122:z 123:{ 124:| 125:} 126:~ "
     ]
    }
   ],
   "source": [
    "for i in range(33,127):\n",
    "    print(f'{i}:{chr(i)}',end=' ')"
   ]
  },
  {
   "cell_type": "code",
   "execution_count": 22,
   "id": "d31813e0-d09a-4716-bd9a-9370e2430bb9",
   "metadata": {},
   "outputs": [
    {
     "name": "stdout",
     "output_type": "stream",
     "text": [
      "1:\u0001 2:\u0002 3:\u0003 4:\u0004 5:\u0005 6:\u0006 7:\u0007 8 9:\t 10:\n",
      " 14:\u000e 15:\u000f 16:\u0010 17:\u0011 18:\u0012 19:\u0013 20:\u0014 21:\u0015 22:\u0016 23:\u0017 24:\u0018 25:\u0019 26:\u001a 27:\u001b 28:\u001c",
      " 29:\u001d",
      " 30:\u001e",
      " 31:\u001f 32:  33:! "
     ]
    }
   ],
   "source": [
    "for i in range(1,34):\n",
    "    print(f'{i}:{chr(i)}',end=' ')"
   ]
  },
  {
   "cell_type": "code",
   "execution_count": 23,
   "id": "2ee7ce04-ffce-4cb0-a5f2-fa7b93b4604a",
   "metadata": {},
   "outputs": [
    {
     "name": "stdout",
     "output_type": "stream",
     "text": [
      "127: 128: 129: 130: 131: 132: 133:",
      " 134: 135: 136: 137: 138: 139: 140: 141: 142: 143: 144: 145: 146: 147: 148: 149: 150: 151: 152: 153: 154: 155: 156: 157: 158: 159: 160:  161:¡ 162:¢ 163:£ 164:¤ 165:¥ 166:¦ 167:§ 168:¨ 169:© 170:ª 171:« 172:¬ 173:­ 174:® 175:¯ 176:° 177:± 178:² 179:³ 180:´ 181:µ 182:¶ 183:· 184:¸ 185:¹ 186:º 187:» 188:¼ 189:½ 190:¾ 191:¿ 192:À 193:Á 194:Â 195:Ã 196:Ä 197:Å 198:Æ 199:Ç 200:È 201:É 202:Ê 203:Ë 204:Ì 205:Í 206:Î 207:Ï 208:Ð 209:Ñ 210:Ò 211:Ó 212:Ô 213:Õ 214:Ö 215:× 216:Ø 217:Ù 218:Ú 219:Û 220:Ü 221:Ý 222:Þ 223:ß 224:à 225:á 226:â 227:ã 228:ä 229:å 230:æ 231:ç 232:è 233:é 234:ê 235:ë 236:ì 237:í 238:î 239:ï 240:ð 241:ñ 242:ò 243:ó 244:ô 245:õ 246:ö 247:÷ 248:ø 249:ù "
     ]
    }
   ],
   "source": [
    "for i in range(127,250):\n",
    "    print(f'{i}:{chr(i)}',end=' ')"
   ]
  },
  {
   "cell_type": "code",
   "execution_count": 24,
   "id": "6c9210d0-57e5-4997-9813-9fac57a98cef",
   "metadata": {},
   "outputs": [
    {
     "name": "stdout",
     "output_type": "stream",
     "text": [
      "1632:٠ 1633:١ 1634:٢ 1635:٣ 1636:٤ 1637:٥ 1638:٦ 1639:٧ 1640:٨ 1641:٩ 1642:٪ 1643:٫ 1644:٬ 1645:٭ 1646:ٮ 1647:ٯ 1648:ٰ 1649:ٱ 1650:ٲ 1651:ٳ 1652:ٴ 1653:ٵ 1654:ٶ 1655:ٷ 1656:ٸ 1657:ٹ 1658:ٺ 1659:ٻ 1660:ټ 1661:ٽ 1662:پ 1663:ٿ 1664:ڀ 1665:ځ 1666:ڂ 1667:ڃ 1668:ڄ 1669:څ 1670:چ 1671:ڇ 1672:ڈ 1673:ډ 1674:ڊ 1675:ڋ 1676:ڌ 1677:ڍ 1678:ڎ 1679:ڏ 1680:ڐ 1681:ڑ 1682:ڒ 1683:ړ 1684:ڔ 1685:ڕ 1686:ږ 1687:ڗ 1688:ژ 1689:ڙ 1690:ښ 1691:ڛ 1692:ڜ 1693:ڝ 1694:ڞ 1695:ڟ 1696:ڠ 1697:ڡ 1698:ڢ 1699:ڣ "
     ]
    }
   ],
   "source": [
    "for i in range(1632,1700):\n",
    "    print(f'{i}:{chr(i)}',end=' ')"
   ]
  },
  {
   "cell_type": "code",
   "execution_count": 25,
   "id": "508cfbfd-1535-4328-9a88-1b3253ede33c",
   "metadata": {},
   "outputs": [
    {
     "name": "stdout",
     "output_type": "stream",
     "text": [
      "2308:ऄ 2309:अ 2310:आ 2311:इ 2312:ई 2313:उ 2314:ऊ 2315:ऋ 2316:ऌ 2317:ऍ 2318:ऎ 2319:ए 2320:ऐ 2321:ऑ 2322:ऒ 2323:ओ 2324:औ 2325:क 2326:ख 2327:ग 2328:घ 2329:ङ 2330:च 2331:छ 2332:ज 2333:झ 2334:ञ 2335:ट 2336:ठ 2337:ड 2338:ढ 2339:ण 2340:त 2341:थ 2342:द 2343:ध 2344:न 2345:ऩ 2346:प 2347:फ 2348:ब 2349:भ 2350:म 2351:य 2352:र 2353:ऱ 2354:ल 2355:ळ 2356:ऴ 2357:व 2358:श 2359:ष 2360:स 2361:ह 2362:ऺ 2363:ऻ 2364:़ 2365:ऽ 2366:ा 2367:ि 2368:ी 2369:ु 2370:ू 2371:ृ 2372:ॄ 2373:ॅ 2374:ॆ 2375:े 2376:ै 2377:ॉ 2378:ॊ 2379:ो 2380:ौ 2381:् 2382:ॎ 2383:ॏ 2384:ॐ 2385:॑ 2386:॒ 2387:॓ 2388:॔ 2389:ॕ 2390:ॖ 2391:ॗ 2392:क़ 2393:ख़ 2394:ग़ 2395:ज़ 2396:ड़ 2397:ढ़ 2398:फ़ 2399:य़ "
     ]
    }
   ],
   "source": [
    "for i in range(2308,2400):\n",
    "    print(f'{i}:{chr(i)}',end=' ')"
   ]
  },
  {
   "cell_type": "code",
   "execution_count": null,
   "id": "b4c9ea35-b0b4-4aba-8fe3-095965db283b",
   "metadata": {},
   "outputs": [],
   "source": []
  }
 ],
 "metadata": {
  "kernelspec": {
   "display_name": "Python 3 (ipykernel)",
   "language": "python",
   "name": "python3"
  },
  "language_info": {
   "codemirror_mode": {
    "name": "ipython",
    "version": 3
   },
   "file_extension": ".py",
   "mimetype": "text/x-python",
   "name": "python",
   "nbconvert_exporter": "python",
   "pygments_lexer": "ipython3",
   "version": "3.12.7"
  }
 },
 "nbformat": 4,
 "nbformat_minor": 5
}
