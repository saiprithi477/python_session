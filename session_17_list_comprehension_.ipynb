{
 "cells": [
  {
   "cell_type": "markdown",
   "id": "6de769d9-8e9a-4522-b3f7-31dc61944eba",
   "metadata": {},
   "source": [
    "## List comprehension\n",
    "- list comprehension a way to write list operations in a single line\n",
    "- when we apply for loop and if-else conditional statements then the code complation becomes slow\n",
    "- which means it takes much time\n",
    "- in order to avoid the time complexity we will use list comprehension \n",
    "- List comprehension is a single line code"
   ]
  },
  {
   "cell_type": "code",
   "execution_count": null,
   "id": "4b74791a-7c71-4c25-98aa-fa5af514e80f",
   "metadata": {},
   "outputs": [],
   "source": []
  },
  {
   "cell_type": "markdown",
   "id": "30d337f6-84ad-4e8a-9210-c0378222a226",
   "metadata": {},
   "source": [
    "**case-1:only for loop**"
   ]
  },
  {
   "cell_type": "code",
   "execution_count": 1,
   "id": "db43e033-4463-4c17-a470-af6756f905b1",
   "metadata": {},
   "outputs": [
    {
     "data": {
      "text/plain": [
       "[0, 1, 2, 3, 4, 5, 6, 7, 8, 9]"
      ]
     },
     "execution_count": 1,
     "metadata": {},
     "output_type": "execute_result"
    }
   ],
   "source": [
    "list1=[]\n",
    "for i in range(10):\n",
    "    list1.append(i)\n",
    "list1"
   ]
  },
  {
   "cell_type": "code",
   "execution_count": null,
   "id": "502bf10d-9fc4-4588-9472-60d586fc02c8",
   "metadata": {},
   "outputs": [],
   "source": [
    "list1=[<code should wriite here>]\n",
    "# inside code no need of append \n",
    "list1=[<output var><for loop>]"
   ]
  },
  {
   "cell_type": "code",
   "execution_count": 2,
   "id": "d6a96500-082a-4aa8-b0d7-eff89b76a780",
   "metadata": {},
   "outputs": [
    {
     "data": {
      "text/plain": [
       "[0, 1, 2, 3, 4, 5, 6, 7, 8, 9]"
      ]
     },
     "execution_count": 2,
     "metadata": {},
     "output_type": "execute_result"
    }
   ],
   "source": [
    "list1=[i for i in range(10)]\n",
    "list1"
   ]
  },
  {
   "cell_type": "code",
   "execution_count": 1,
   "id": "ee869269-309e-4b5b-98d3-1ec0e3b9cc32",
   "metadata": {},
   "outputs": [
    {
     "data": {
      "text/plain": [
       "['Hyd', 'Bengaluru', 'Pune', 'Mumbai']"
      ]
     },
     "execution_count": 1,
     "metadata": {},
     "output_type": "execute_result"
    }
   ],
   "source": [
    "# Q1) input=['hyd','bengaluru','pune','mumbai']\n",
    "#     output=['Hyd','Bengaluru','Pune','Mumbai']\n",
    "\n",
    "input=['hyd','bengaluru','pune','mumbai']\n",
    "output = [i.capitalize() for i in input]\n",
    "output\n",
    "\n",
    "    "
   ]
  },
  {
   "cell_type": "code",
   "execution_count": 2,
   "id": "76262cd2-95f1-4fc9-9854-6bea2199d38e",
   "metadata": {},
   "outputs": [
    {
     "data": {
      "text/plain": [
       "['HYD', 'BENGALURU', 'PUNE', 'MUMBAI']"
      ]
     },
     "execution_count": 2,
     "metadata": {},
     "output_type": "execute_result"
    }
   ],
   "source": [
    "# Q2) input=['hyd','bengaluru','pune','mumbai']\n",
    "#     output=['HYD','BENGALURU','PUNE','MUMBAI']\n",
    "input=['hyd','bengaluru','pune','mumbai']\n",
    "output=[i.upper() for i in input]\n",
    "output"
   ]
  },
  {
   "cell_type": "code",
   "execution_count": 3,
   "id": "a2d5d63a-6fbc-47de-9ce4-45a34a682920",
   "metadata": {},
   "outputs": [
    {
     "data": {
      "text/plain": [
       "[0, 10, 20, 30]"
      ]
     },
     "execution_count": 3,
     "metadata": {},
     "output_type": "execute_result"
    }
   ],
   "source": [
    "#Q3) input=['hyd','bengaluru','pune','mumbai']\n",
    " # multiply the indexes with 10\n",
    "\n",
    "   # for i in input:\n",
    "   # print(input.index(i)*10)\n",
    "output=[input.index(i)*10 for i in input]\n",
    "output"
   ]
  },
  {
   "cell_type": "code",
   "execution_count": 3,
   "id": "9871a806-8017-4869-9167-41f3ae616f59",
   "metadata": {},
   "outputs": [
    {
     "data": {
      "text/plain": [
       "60"
      ]
     },
     "execution_count": 3,
     "metadata": {},
     "output_type": "execute_result"
    }
   ],
   "source": [
    "#Q4)input=['hyd','bengaluru','pune','mumbai']\n",
    "\n",
    "input=['hyd','bengaluru','pune','mumbai']\n",
    "output=[input.index(i)*10 for i in input]\n",
    "sum(output)"
   ]
  },
  {
   "cell_type": "code",
   "execution_count": 4,
   "id": "c40af2ea-356a-45a4-b9a5-a659f3114202",
   "metadata": {},
   "outputs": [
    {
     "name": "stdout",
     "output_type": "stream",
     "text": [
      "55\n"
     ]
    }
   ],
   "source": [
    "summ=0\n",
    "for i in range(1,11):\n",
    "    summ=summ+i\n",
    "print(summ)"
   ]
  },
  {
   "cell_type": "code",
   "execution_count": null,
   "id": "ce49208d-5a85-4df7-9637-3f1f1bd8d524",
   "metadata": {},
   "outputs": [],
   "source": []
  },
  {
   "cell_type": "markdown",
   "id": "bf0c5672-6cb4-4878-8941-678253755691",
   "metadata": {},
   "source": [
    "**walrus operator**"
   ]
  },
  {
   "cell_type": "code",
   "execution_count": 8,
   "id": "15f0bc7b-17bd-453b-80ff-a5a02b2d25e7",
   "metadata": {},
   "outputs": [
    {
     "ename": "SyntaxError",
     "evalue": "invalid syntax. Maybe you meant '==' or ':=' instead of '='? (2663275567.py, line 1)",
     "output_type": "error",
     "traceback": [
      "\u001b[1;36m  Cell \u001b[1;32mIn[8], line 1\u001b[1;36m\u001b[0m\n\u001b[1;33m    [summ=summ+i for i in range(1,11)]\u001b[0m\n\u001b[1;37m     ^\u001b[0m\n\u001b[1;31mSyntaxError\u001b[0m\u001b[1;31m:\u001b[0m invalid syntax. Maybe you meant '==' or ':=' instead of '='?\n"
     ]
    }
   ],
   "source": [
    "[summ=summ+i for i in range(1,11)]"
   ]
  },
  {
   "cell_type": "code",
   "execution_count": 9,
   "id": "53edd3d8-c2fb-424a-a141-a62c171fc6f0",
   "metadata": {},
   "outputs": [
    {
     "data": {
      "text/plain": [
       "[1, 3, 6, 10, 15, 21, 28, 36, 45, 55]"
      ]
     },
     "execution_count": 9,
     "metadata": {},
     "output_type": "execute_result"
    }
   ],
   "source": [
    "summ=0\n",
    "[summ:=summ+i for i in range(1,11)]  # (:) is nothing but warlus operator"
   ]
  },
  {
   "cell_type": "markdown",
   "id": "559005f4-49e7-4af3-bbcc-6658e750bf67",
   "metadata": {},
   "source": [
    "- := is nothing but warlus operator"
   ]
  },
  {
   "cell_type": "code",
   "execution_count": 10,
   "id": "2187f0f5-62d3-4430-92ed-0972f3379b2a",
   "metadata": {},
   "outputs": [
    {
     "data": {
      "text/plain": [
       "55"
      ]
     },
     "execution_count": 10,
     "metadata": {},
     "output_type": "execute_result"
    }
   ],
   "source": [
    "summ=0\n",
    "[summ:=summ+i for i in range(1,11)][-1]"
   ]
  },
  {
   "cell_type": "markdown",
   "id": "4fbcd097-9109-4a6c-9954-d38e08baab40",
   "metadata": {},
   "source": [
    "**case-2) for loop and if**"
   ]
  },
  {
   "cell_type": "code",
   "execution_count": 11,
   "id": "6538c259-ca48-4bee-bd00-4e61226d45f2",
   "metadata": {},
   "outputs": [
    {
     "name": "stdout",
     "output_type": "stream",
     "text": [
      "even:2\n",
      "even:4\n",
      "even:6\n",
      "even:8\n"
     ]
    }
   ],
   "source": [
    "# even number\n",
    "for i in range(1,10):\n",
    "    if i%2==0:\n",
    "        print(f'even:{i}')\n"
   ]
  },
  {
   "cell_type": "code",
   "execution_count": 12,
   "id": "b8a2d72d-7ea7-413b-a499-354ad56db7af",
   "metadata": {},
   "outputs": [
    {
     "data": {
      "text/plain": [
       "['even:2', 'even:4', 'even:6', 'even:8']"
      ]
     },
     "execution_count": 12,
     "metadata": {},
     "output_type": "execute_result"
    }
   ],
   "source": [
    "even_list=[]\n",
    "for i in range(1,10):\n",
    "    if i%2==0:\n",
    "        even_list.append(f'even:{i}')\n",
    "even_list"
   ]
  },
  {
   "cell_type": "code",
   "execution_count": 17,
   "id": "a6d561c4-80aa-429f-9c4c-bf949001190a",
   "metadata": {},
   "outputs": [
    {
     "data": {
      "text/plain": [
       "['even:2', 'even:4', 'even:6', 'even:8']"
      ]
     },
     "execution_count": 17,
     "metadata": {},
     "output_type": "execute_result"
    }
   ],
   "source": [
    "\n",
    "even_list=[f'even:{i}' for i in range(1,10) if i%2==0]\n",
    "even_list"
   ]
  },
  {
   "cell_type": "code",
   "execution_count": null,
   "id": "fe559cb2-b6f6-4f31-99d0-8e680c731c5c",
   "metadata": {},
   "outputs": [],
   "source": [
    "# Q6) input=['hyd','ben#galuru','pune','mu#mbai']\n",
    "#     output=[hyd,pune]\n",
    "input=['hyd','ben#galuru','pune','mu#mbai']\n",
    "output = []\n",
    "for i in input:\n",
    "    if '#' not in i:\n",
    "        output.append(i)\n",
    "print(output)"
   ]
  },
  {
   "cell_type": "code",
   "execution_count": 1,
   "id": "cf36bca2-a75e-42b5-8ca3-96dc3e23e17b",
   "metadata": {},
   "outputs": [
    {
     "data": {
      "text/plain": [
       "['hyd', 'pune']"
      ]
     },
     "execution_count": 1,
     "metadata": {},
     "output_type": "execute_result"
    }
   ],
   "source": [
    "input=['hyd','ben#galuru','pune','mu#mbai']\n",
    "output=[i for i in input if '#' not in i]\n",
    "output"
   ]
  },
  {
   "cell_type": "code",
   "execution_count": 5,
   "id": "33f964e0-c065-42af-b88b-b308ecfed86a",
   "metadata": {},
   "outputs": [
    {
     "data": {
      "text/plain": [
       "['ben#galuru', 'mu#mbai']"
      ]
     },
     "execution_count": 5,
     "metadata": {},
     "output_type": "execute_result"
    }
   ],
   "source": [
    "input=['hyd','ben#galuru','pune','mu#mbai']\n",
    "output = [i for i in input if '#' in i]\n",
    "output"
   ]
  },
  {
   "cell_type": "code",
   "execution_count": 8,
   "id": "60b06f7f-ef0c-44fe-83e9-5ef6bf1fbbe1",
   "metadata": {},
   "outputs": [
    {
     "data": {
      "text/plain": [
       "['not even:1',\n",
       " 'even:2',\n",
       " 'not even:3',\n",
       " 'even:4',\n",
       " 'not even:5',\n",
       " 'even:6',\n",
       " 'not even:7',\n",
       " 'even:8',\n",
       " 'not even:9']"
      ]
     },
     "execution_count": 8,
     "metadata": {},
     "output_type": "execute_result"
    }
   ],
   "source": [
    "even_list=[]\n",
    "for i in range(1,10):\n",
    "    if i%2==0:\n",
    "        even_list.append(f'even:{i}')\n",
    "    else:\n",
    "        even_list.append(f'not even:{i}')\n",
    "even_list"
   ]
  },
  {
   "cell_type": "code",
   "execution_count": 10,
   "id": "31f2f187-036f-4d1d-917f-ba00812c6a2b",
   "metadata": {},
   "outputs": [
    {
     "data": {
      "text/plain": [
       "['not even:1',\n",
       " 'even:2',\n",
       " 'not even:3',\n",
       " 'even:4',\n",
       " 'not even:5',\n",
       " 'even:6',\n",
       " 'not even:7',\n",
       " 'even:8',\n",
       " 'not even:9']"
      ]
     },
     "execution_count": 10,
     "metadata": {},
     "output_type": "execute_result"
    }
   ],
   "source": [
    "even_list=[f'even:{i}' if i%2==0 else f'not even:{i}' for i in range(1,10)]\n",
    "even_list\n"
   ]
  },
  {
   "cell_type": "markdown",
   "id": "36768073-ada4-42cb-8255-29d285be3aed",
   "metadata": {},
   "source": [
    "**case-4: for-if-elif-else**\n",
    "- in list comprehension we dont have **elif** representatoion\n",
    "- elif also represent as ***else+if**\n",
    "- in elif\n",
    "- else elif_output elif_condition"
   ]
  },
  {
   "cell_type": "markdown",
   "id": "734446bd-a0ea-452d-8ea7-d3aff9f6d4d5",
   "metadata": {},
   "source": [
    "case-4: for-if-elif-else:\n",
    "[<if out><if cond>else<elif out><elif con>else<else out><for loop>]\n",
    "** note**: instead of elif term write if"
   ]
  },
  {
   "cell_type": "code",
   "execution_count": 1,
   "id": "be1a852e-60b1-4748-a771-2ee1aefc9dec",
   "metadata": {},
   "outputs": [
    {
     "name": "stdout",
     "output_type": "stream",
     "text": [
      "40 c grade\n"
     ]
    }
   ],
   "source": [
    "# 85 a grade 60-85 b grade less than 60 c grade\n",
    "for i in range(40,100):\n",
    "    if i>85:\n",
    "        print(f'{i} a grade')\n",
    "    elif i>60:\n",
    "        print(f'{i} b grade')\n",
    "    else:\n",
    "        print(f'{i} c grade')\n",
    "        break\n"
   ]
  },
  {
   "cell_type": "code",
   "execution_count": null,
   "id": "06fd9c86-abb6-4451-8203-f8da2844775d",
   "metadata": {},
   "outputs": [],
   "source": [
    "\n",
    "l=[45,55,65,75,85,95]\n",
    "for i in l:\n",
    "    if i>85:\n",
    "        print(f'{i} a grade')\n",
    "    elif i>60:\n",
    "        print(f'{i} b grade')\n",
    "    else:\n",
    "        print(f'{i} c grade')\n"
   ]
  },
  {
   "cell_type": "code",
   "execution_count": null,
   "id": "dfb86905-3a33-4307-9dcc-07f83e4d8d27",
   "metadata": {},
   "outputs": [],
   "source": [
    "case-4: for-if-elif-else:\n",
    "[<if out><if cond>else<elif out><elif con>else<else out><for loop>]\n",
    "** note**: instead of elif term write if\n",
    "\n",
    "\n",
    "case-1 for loop: [<output> <for loop>]\n",
    "case-2: for-if: [<output> <for loop> <if condi>]\n",
    "case-3: for-if-else: [<if out> <if cond> else <else out> <for loop>]\n",
    "case-4: for-if-elif-else:\n",
    "\n",
    "[<if out> <if cond> else <elif out> <elif cond> else <else out> <for loop>]"
   ]
  },
  {
   "cell_type": "code",
   "execution_count": 1,
   "id": "a01b8ccf-14cf-4f26-b710-1d79ba478060",
   "metadata": {},
   "outputs": [
    {
     "name": "stdout",
     "output_type": "stream",
     "text": [
      "['45: c grade', '55: c grade', '65: b grade', '75: b grade', '85: b grade', '95: a grade']\n"
     ]
    }
   ],
   "source": [
    "#l=[45,55,65,75,85,95]\n",
    "#output=[f'{i}: a grade'if i>85 else  f'{i}: b grade' if i>60 else  f'{i}: c grade' for i in l]\n",
    "#print(output)"
   ]
  },
  {
   "cell_type": "code",
   "execution_count": 9,
   "id": "493d50a8-47c7-47e9-88ad-6050005594f7",
   "metadata": {},
   "outputs": [
    {
     "name": "stdout",
     "output_type": "stream",
     "text": [
      "45not passed\n",
      "76 passed\n",
      "89 passed\n",
      "53 passed\n",
      "67 passed\n",
      "90 passed\n",
      "82 passed\n",
      "49not passed\n",
      "33not passed\n",
      "99 passed\n"
     ]
    }
   ],
   "source": [
    "# list of student marks in python marks=[45,76,89,53,67,90,82,49,33,99]\n",
    "#who passed(marks>=50)\n",
    "#caluclate all studet grades for all students(A:85+,B:70-84,C:50-69,F:<50)\n",
    "#add 5 grace,marks to students who failed(<50)\n",
    "marks=[45,76,89,53,67,90,82,49,33,99]\n",
    "for i in marks:\n",
    "    if i>=50:\n",
    "        print(f'{i} passed')\n",
    "    else:\n",
    "        print(f'{i}not passed')"
   ]
  },
  {
   "cell_type": "code",
   "execution_count": 21,
   "id": "77e578c4-7596-4174-8b03-a72d59f03b4a",
   "metadata": {},
   "outputs": [
    {
     "name": "stdout",
     "output_type": "stream",
     "text": [
      "[76, 89, 53, 67, 90, 82, 99]\n"
     ]
    }
   ],
   "source": [
    "marks=[45,76,89,53,67,90,82,49,33,99]\n",
    "output=[ i for i in marks if i>=50 ]\n",
    "print(output)"
   ]
  },
  {
   "cell_type": "code",
   "execution_count": 24,
   "id": "f4dfa9a4-c02e-49c6-b28c-03847322a9c1",
   "metadata": {},
   "outputs": [
    {
     "name": "stdout",
     "output_type": "stream",
     "text": [
      "45 F grade\n",
      "76 B grade\n",
      "89 A grade\n",
      "53 C grade\n",
      "67 C grade\n",
      "90 A grade\n",
      "82 B grade\n",
      "49 F grade\n",
      "33 F grade\n",
      "99 A grade\n"
     ]
    }
   ],
   "source": [
    "# grades(A:85+,B:70-84,C:50-69,F:<50)\n",
    "marks=[45,76,89,53,67,90,82,49,33,99]\n",
    "for i in marks:\n",
    "    if i>=85:\n",
    "        print(f'{i} A grade')\n",
    "    elif i>=70:\n",
    "        print(f'{i} B grade')\n",
    "    elif i >=50:\n",
    "        print(f'{i} C grade')\n",
    "    else:\n",
    "        print(f'{i} F grade')\n",
    "        \n",
    "        "
   ]
  },
  {
   "cell_type": "code",
   "execution_count": 26,
   "id": "6aaabf8e-2f70-4034-96fa-642411539390",
   "metadata": {},
   "outputs": [
    {
     "name": "stdout",
     "output_type": "stream",
     "text": [
      "['45 F grade', '76: B grade', '89: A grade', '53: C grade', '67: C grade', '90: A grade', '82: B grade', '49 F grade', '33 F grade', '99: A grade']\n"
     ]
    }
   ],
   "source": [
    "marks=[45,76,89,53,67,90,82,49,33,99]\n",
    "output=[f'{i}: A grade' if i>=85 else f'{i}: B grade' if i>=70\n",
    "        else f'{i}: C grade' if i>=50 \n",
    "        else f'{i} F grade' for i in marks]\n",
    "print(output)"
   ]
  },
  {
   "cell_type": "code",
   "execution_count": 27,
   "id": "b7ac9aaa-a230-4ae5-a48f-99cea11cc1b7",
   "metadata": {},
   "outputs": [
    {
     "name": "stdout",
     "output_type": "stream",
     "text": [
      "50\n",
      "54\n",
      "38\n"
     ]
    }
   ],
   "source": [
    "for i in marks:\n",
    "    if i<50:\n",
    "        print(i+5)"
   ]
  },
  {
   "cell_type": "code",
   "execution_count": 29,
   "id": "0195cf76-a15f-469a-9f0b-c2f4b67abd8f",
   "metadata": {},
   "outputs": [
    {
     "data": {
      "text/plain": [
       "[50, 54, 38]"
      ]
     },
     "execution_count": 29,
     "metadata": {},
     "output_type": "execute_result"
    }
   ],
   "source": [
    "output=[i+5 for i in marks if i<50]\n",
    "output"
   ]
  },
  {
   "cell_type": "code",
   "execution_count": 30,
   "id": "f7af815f-3cb3-44a9-b37f-c96ade719ed5",
   "metadata": {},
   "outputs": [
    {
     "data": {
      "text/plain": [
       "[45, 76, 89, 53, 67, 90, 82, 49, 33, 99]"
      ]
     },
     "execution_count": 30,
     "metadata": {},
     "output_type": "execute_result"
    }
   ],
   "source": [
    "# Q4) top 5\n",
    "marks\n",
    "# without using sorted or sort all the values"
   ]
  },
  {
   "cell_type": "code",
   "execution_count": 32,
   "id": "0c8e8a1f-5e51-431d-a0d2-6f19cf89824a",
   "metadata": {},
   "outputs": [
    {
     "ename": "SyntaxError",
     "evalue": "did you forget parentheses around the comprehension target? (3462541534.py, line 2)",
     "output_type": "error",
     "traceback": [
      "\u001b[1;36m  Cell \u001b[1;32mIn[32], line 2\u001b[1;36m\u001b[0m\n\u001b[1;33m    top_3=[max_val:=max(marks),marks.remove(max_val)for i in range(3)]\u001b[0m\n\u001b[1;37m           ^\u001b[0m\n\u001b[1;31mSyntaxError\u001b[0m\u001b[1;31m:\u001b[0m did you forget parentheses around the comprehension target?\n"
     ]
    }
   ],
   "source": [
    "marks=[45,76,89,53,67,90,82,49,33,99]\n",
    "top_3=[max_val:=max(marks),marks.remove(max_val)for i in range(3)]\n",
    "top_3"
   ]
  },
  {
   "cell_type": "code",
   "execution_count": 33,
   "id": "d9deaf42-1c14-40d6-8db5-cfe4168845b5",
   "metadata": {},
   "outputs": [
    {
     "name": "stdout",
     "output_type": "stream",
     "text": [
      "99\n",
      "90\n",
      "89\n"
     ]
    }
   ],
   "source": [
    "marks=[45,76,89,53,67,90,82,49,33,99]\n",
    "max_val=max(marks)\n",
    "for i in range(3):\n",
    "    max_val=max(marks)\n",
    "    print(max_val)\n",
    "    marks.remove(max_val)"
   ]
  },
  {
   "cell_type": "code",
   "execution_count": 34,
   "id": "76cdc139-a1b7-4aa2-a081-aa913e956d7c",
   "metadata": {},
   "outputs": [
    {
     "data": {
      "text/plain": [
       "68.3"
      ]
     },
     "execution_count": 34,
     "metadata": {},
     "output_type": "execute_result"
    }
   ],
   "source": [
    "#find avg marks\n",
    "marks=[45,76,89,53,67,90,82,49,33,99]\n",
    "summ=0\n",
    "[summ:=summ+i for i in marks]\n",
    "summ/len(marks)"
   ]
  },
  {
   "cell_type": "markdown",
   "id": "12c0a90e-277f-4e3e-895d-d8e8f8e58897",
   "metadata": {},
   "source": [
    "**distance b/w two points**"
   ]
  },
  {
   "cell_type": "code",
   "execution_count": 49,
   "id": "bca4669f-a82f-4326-a566-b71840ba7453",
   "metadata": {},
   "outputs": [
    {
     "data": {
      "text/plain": [
       "22.360679774997898"
      ]
     },
     "execution_count": 49,
     "metadata": {},
     "output_type": "execute_result"
    }
   ],
   "source": [
    "import math\n",
    "l1=[10,20]\n",
    "l2=[20,40]\n",
    "# find the distance b/w l2 with all other points from l1\n",
    "# which is the max distance give me that \n",
    "d1=l2[0]-l1[0]\n",
    "d1_square=math.pow(d1,2)\n",
    "d1_square\n",
    "d2=l2[1]-l1[1]\n",
    "d2_square=math.pow(d2,2)\n",
    "d2_square\n",
    "summ=d1_square+d2_square\n",
    "math.sqrt(summ)"
   ]
  },
  {
   "cell_type": "code",
   "execution_count": 64,
   "id": "55db9d9d-8400-40b3-8ff5-074700374cbb",
   "metadata": {},
   "outputs": [
    {
     "data": {
      "text/plain": [
       "22.360679774997898"
      ]
     },
     "execution_count": 64,
     "metadata": {},
     "output_type": "execute_result"
    }
   ],
   "source": [
    "math.sqrt(math.pow(l2[0]-l1[0],2)+math.pow(l2[1]-l1[1],2))\n"
   ]
  },
  {
   "cell_type": "code",
   "execution_count": null,
   "id": "ffa0965f-348c-4545-a8bb-4a3dad9a212c",
   "metadata": {},
   "outputs": [],
   "source": []
  }
 ],
 "metadata": {
  "kernelspec": {
   "display_name": "Python 3 (ipykernel)",
   "language": "python",
   "name": "python3"
  },
  "language_info": {
   "codemirror_mode": {
    "name": "ipython",
    "version": 3
   },
   "file_extension": ".py",
   "mimetype": "text/x-python",
   "name": "python",
   "nbconvert_exporter": "python",
   "pygments_lexer": "ipython3",
   "version": "3.12.7"
  }
 },
 "nbformat": 4,
 "nbformat_minor": 5
}
